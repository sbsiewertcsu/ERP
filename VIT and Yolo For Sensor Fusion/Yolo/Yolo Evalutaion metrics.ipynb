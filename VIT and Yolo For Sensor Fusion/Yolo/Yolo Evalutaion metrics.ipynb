{
  "nbformat": 4,
  "nbformat_minor": 0,
  "metadata": {
    "colab": {
      "provenance": [],
      "gpuType": "V100"
    },
    "kernelspec": {
      "name": "python3",
      "display_name": "Python 3"
    },
    "language_info": {
      "name": "python"
    },
    "accelerator": "GPU"
  },
  "cells": [
    {
      "cell_type": "code",
      "source": [
        "validation_path='/content/drive/MyDrive/balanced dataset/validationT'"
      ],
      "metadata": {
        "id": "_vD7n-BR34_B"
      },
      "execution_count": null,
      "outputs": []
    },
    {
      "cell_type": "code",
      "execution_count": null,
      "metadata": {
        "colab": {
          "base_uri": "https://localhost:8080/"
        },
        "id": "HL9FR_3L0go5",
        "outputId": "d1504fe4-a635-41f0-95aa-56bcaa8034ee"
      },
      "outputs": [
        {
          "output_type": "stream",
          "name": "stdout",
          "text": [
            "[Errno 2] No such file or directory: '/content/drive/MyDrive/balanced dataset'\n",
            "/content\n"
          ]
        }
      ],
      "source": [
        "%cd /content/drive/MyDrive/balanced dataset\n"
      ]
    },
    {
      "cell_type": "code",
      "source": [
        "!pwd"
      ],
      "metadata": {
        "colab": {
          "base_uri": "https://localhost:8080/"
        },
        "id": "-C4aQTJ-4Hp_",
        "outputId": "46836d8d-5a65-4583-e334-5639ceed9fca"
      },
      "execution_count": null,
      "outputs": [
        {
          "output_type": "stream",
          "name": "stdout",
          "text": [
            "/content\n"
          ]
        }
      ]
    },
    {
      "cell_type": "code",
      "source": [
        "import matplotlib.pyplot as plt\n",
        "import torch\n",
        "import torchvision\n",
        "from torchvision import transforms\n",
        "import matplotlib.pyplot as plt\n",
        "\n",
        "from PIL import Image\n",
        "\n",
        "from torch import nn\n",
        "from torchvision import transforms\n",
        "device = \"cuda\" if torch.cuda.is_available() else \"cpu\"\n",
        "device"
      ],
      "metadata": {
        "colab": {
          "base_uri": "https://localhost:8080/",
          "height": 36
        },
        "id": "fVJzCxjA5LN9",
        "outputId": "9c780975-0339-46b1-e8bc-22dcebc56f58"
      },
      "execution_count": null,
      "outputs": [
        {
          "output_type": "execute_result",
          "data": {
            "text/plain": [
              "'cuda'"
            ],
            "application/vnd.google.colaboratory.intrinsic+json": {
              "type": "string"
            }
          },
          "metadata": {},
          "execution_count": 7
        }
      ]
    },
    {
      "cell_type": "code",
      "source": [
        "import os\n",
        "import glob\n",
        "import torch\n",
        "from torchvision import transforms\n",
        "from PIL import Image\n",
        "\n",
        "def get_image_files(directory):\n",
        "    # Define supported image extensions\n",
        "    image_extensions = ['*.jpg', '*.jpeg', '*.png', '*.gif', '*.bmp']\n",
        "\n",
        "    # Initialize list to store image file paths\n",
        "    image_files = []\n",
        "\n",
        "    # Iterate through each image extension and search for files\n",
        "    for ext in image_extensions:\n",
        "        # Use glob to find files with the current extension\n",
        "        image_files.extend(glob.glob(os.path.join(directory, ext)))\n",
        "\n",
        "    return image_files\n",
        "\n",
        "def predict_class(model, image_path, class_names, image_size=(224, 224), transform=None, device='cuda'):\n",
        "    # Load the image\n",
        "    img = Image.open(image_path)\n",
        "\n",
        "    # Define transformation if not provided\n",
        "    if transform is None:\n",
        "        transform = transforms.Compose([\n",
        "            transforms.Resize(image_size),\n",
        "            transforms.ToTensor(),\n",
        "            transforms.Normalize(mean=[0.485, 0.456, 0.406], std=[0.229, 0.224, 0.225]),\n",
        "        ])\n",
        "\n",
        "    # Ensure model is on the correct device\n",
        "    model.to(device)\n",
        "\n",
        "    # Set model to evaluation mode\n",
        "    model.eval()\n",
        "\n",
        "    with torch.inference_mode():\n",
        "        # Transform and add an extra dimension to image\n",
        "        transformed_image = transform(img).unsqueeze(dim=0).to(device)\n",
        "\n",
        "        # Make prediction\n",
        "        prediction = model(transformed_image)\n",
        "\n",
        "        # Get predicted class\n",
        "        predicted_class_index = torch.argmax(prediction, dim=1).item()\n",
        "        predicted_class = class_names[predicted_class_index]\n",
        "\n",
        "    return predicted_class\n"
      ],
      "metadata": {
        "id": "IOu7XtyaBv2F"
      },
      "execution_count": null,
      "outputs": []
    },
    {
      "cell_type": "code",
      "source": [],
      "metadata": {
        "id": "z1Rrq9quBvrQ"
      },
      "execution_count": null,
      "outputs": []
    },
    {
      "cell_type": "code",
      "source": [
        "!pip install ultralytics"
      ],
      "metadata": {
        "colab": {
          "base_uri": "https://localhost:8080/"
        },
        "id": "L_P5LvTGCMtM",
        "outputId": "e5651af9-d802-419a-9dfd-34bce29e5fb2"
      },
      "execution_count": null,
      "outputs": [
        {
          "output_type": "stream",
          "name": "stdout",
          "text": [
            "Collecting ultralytics\n",
            "  Downloading ultralytics-8.1.35-py3-none-any.whl (723 kB)\n",
            "\u001b[?25l     \u001b[90m━━━━━━━━━━━━━━━━━━━━━━━━━━━━━━━━━━━━━━━━\u001b[0m \u001b[32m0.0/723.1 kB\u001b[0m \u001b[31m?\u001b[0m eta \u001b[36m-:--:--\u001b[0m\r\u001b[2K     \u001b[91m━━━━━━\u001b[0m\u001b[90m╺\u001b[0m\u001b[90m━━━━━━━━━━━━━━━━━━━━━━━━━━━━━━━━━\u001b[0m \u001b[32m112.6/723.1 kB\u001b[0m \u001b[31m3.1 MB/s\u001b[0m eta \u001b[36m0:00:01\u001b[0m\r\u001b[2K     \u001b[91m━━━━━━━━━━━━━━━━━━━━━━━━━━━━━\u001b[0m\u001b[90m╺\u001b[0m\u001b[90m━━━━━━━━━━\u001b[0m \u001b[32m532.5/723.1 kB\u001b[0m \u001b[31m7.6 MB/s\u001b[0m eta \u001b[36m0:00:01\u001b[0m\r\u001b[2K     \u001b[91m━━━━━━━━━━━━━━━━━━━━━━━━━━━━━━━━━━━━━━━\u001b[0m\u001b[91m╸\u001b[0m \u001b[32m716.8/723.1 kB\u001b[0m \u001b[31m8.4 MB/s\u001b[0m eta \u001b[36m0:00:01\u001b[0m\r\u001b[2K     \u001b[90m━━━━━━━━━━━━━━━━━━━━━━━━━━━━━━━━━━━━━━━━\u001b[0m \u001b[32m723.1/723.1 kB\u001b[0m \u001b[31m6.6 MB/s\u001b[0m eta \u001b[36m0:00:00\u001b[0m\n",
            "\u001b[?25hRequirement already satisfied: matplotlib>=3.3.0 in /usr/local/lib/python3.10/dist-packages (from ultralytics) (3.7.1)\n",
            "Requirement already satisfied: opencv-python>=4.6.0 in /usr/local/lib/python3.10/dist-packages (from ultralytics) (4.8.0.76)\n",
            "Requirement already satisfied: pillow>=7.1.2 in /usr/local/lib/python3.10/dist-packages (from ultralytics) (9.4.0)\n",
            "Requirement already satisfied: pyyaml>=5.3.1 in /usr/local/lib/python3.10/dist-packages (from ultralytics) (6.0.1)\n",
            "Requirement already satisfied: requests>=2.23.0 in /usr/local/lib/python3.10/dist-packages (from ultralytics) (2.31.0)\n",
            "Requirement already satisfied: scipy>=1.4.1 in /usr/local/lib/python3.10/dist-packages (from ultralytics) (1.11.4)\n",
            "Requirement already satisfied: torch>=1.8.0 in /usr/local/lib/python3.10/dist-packages (from ultralytics) (2.2.1+cu121)\n",
            "Requirement already satisfied: torchvision>=0.9.0 in /usr/local/lib/python3.10/dist-packages (from ultralytics) (0.17.1+cu121)\n",
            "Requirement already satisfied: tqdm>=4.64.0 in /usr/local/lib/python3.10/dist-packages (from ultralytics) (4.66.2)\n",
            "Requirement already satisfied: psutil in /usr/local/lib/python3.10/dist-packages (from ultralytics) (5.9.5)\n",
            "Requirement already satisfied: py-cpuinfo in /usr/local/lib/python3.10/dist-packages (from ultralytics) (9.0.0)\n",
            "Collecting thop>=0.1.1 (from ultralytics)\n",
            "  Downloading thop-0.1.1.post2209072238-py3-none-any.whl (15 kB)\n",
            "Requirement already satisfied: pandas>=1.1.4 in /usr/local/lib/python3.10/dist-packages (from ultralytics) (1.5.3)\n",
            "Requirement already satisfied: seaborn>=0.11.0 in /usr/local/lib/python3.10/dist-packages (from ultralytics) (0.13.1)\n",
            "Requirement already satisfied: contourpy>=1.0.1 in /usr/local/lib/python3.10/dist-packages (from matplotlib>=3.3.0->ultralytics) (1.2.0)\n",
            "Requirement already satisfied: cycler>=0.10 in /usr/local/lib/python3.10/dist-packages (from matplotlib>=3.3.0->ultralytics) (0.12.1)\n",
            "Requirement already satisfied: fonttools>=4.22.0 in /usr/local/lib/python3.10/dist-packages (from matplotlib>=3.3.0->ultralytics) (4.50.0)\n",
            "Requirement already satisfied: kiwisolver>=1.0.1 in /usr/local/lib/python3.10/dist-packages (from matplotlib>=3.3.0->ultralytics) (1.4.5)\n",
            "Requirement already satisfied: numpy>=1.20 in /usr/local/lib/python3.10/dist-packages (from matplotlib>=3.3.0->ultralytics) (1.25.2)\n",
            "Requirement already satisfied: packaging>=20.0 in /usr/local/lib/python3.10/dist-packages (from matplotlib>=3.3.0->ultralytics) (24.0)\n",
            "Requirement already satisfied: pyparsing>=2.3.1 in /usr/local/lib/python3.10/dist-packages (from matplotlib>=3.3.0->ultralytics) (3.1.2)\n",
            "Requirement already satisfied: python-dateutil>=2.7 in /usr/local/lib/python3.10/dist-packages (from matplotlib>=3.3.0->ultralytics) (2.8.2)\n",
            "Requirement already satisfied: pytz>=2020.1 in /usr/local/lib/python3.10/dist-packages (from pandas>=1.1.4->ultralytics) (2023.4)\n",
            "Requirement already satisfied: charset-normalizer<4,>=2 in /usr/local/lib/python3.10/dist-packages (from requests>=2.23.0->ultralytics) (3.3.2)\n",
            "Requirement already satisfied: idna<4,>=2.5 in /usr/local/lib/python3.10/dist-packages (from requests>=2.23.0->ultralytics) (3.6)\n",
            "Requirement already satisfied: urllib3<3,>=1.21.1 in /usr/local/lib/python3.10/dist-packages (from requests>=2.23.0->ultralytics) (2.0.7)\n",
            "Requirement already satisfied: certifi>=2017.4.17 in /usr/local/lib/python3.10/dist-packages (from requests>=2.23.0->ultralytics) (2024.2.2)\n",
            "Requirement already satisfied: filelock in /usr/local/lib/python3.10/dist-packages (from torch>=1.8.0->ultralytics) (3.13.3)\n",
            "Requirement already satisfied: typing-extensions>=4.8.0 in /usr/local/lib/python3.10/dist-packages (from torch>=1.8.0->ultralytics) (4.10.0)\n",
            "Requirement already satisfied: sympy in /usr/local/lib/python3.10/dist-packages (from torch>=1.8.0->ultralytics) (1.12)\n",
            "Requirement already satisfied: networkx in /usr/local/lib/python3.10/dist-packages (from torch>=1.8.0->ultralytics) (3.2.1)\n",
            "Requirement already satisfied: jinja2 in /usr/local/lib/python3.10/dist-packages (from torch>=1.8.0->ultralytics) (3.1.3)\n",
            "Requirement already satisfied: fsspec in /usr/local/lib/python3.10/dist-packages (from torch>=1.8.0->ultralytics) (2023.6.0)\n",
            "Collecting nvidia-cuda-nvrtc-cu12==12.1.105 (from torch>=1.8.0->ultralytics)\n",
            "  Downloading nvidia_cuda_nvrtc_cu12-12.1.105-py3-none-manylinux1_x86_64.whl (23.7 MB)\n",
            "\u001b[2K     \u001b[90m━━━━━━━━━━━━━━━━━━━━━━━━━━━━━━━━━━━━━━━━\u001b[0m \u001b[32m23.7/23.7 MB\u001b[0m \u001b[31m41.2 MB/s\u001b[0m eta \u001b[36m0:00:00\u001b[0m\n",
            "\u001b[?25hCollecting nvidia-cuda-runtime-cu12==12.1.105 (from torch>=1.8.0->ultralytics)\n",
            "  Downloading nvidia_cuda_runtime_cu12-12.1.105-py3-none-manylinux1_x86_64.whl (823 kB)\n",
            "\u001b[2K     \u001b[90m━━━━━━━━━━━━━━━━━━━━━━━━━━━━━━━━━━━━━━━━\u001b[0m \u001b[32m823.6/823.6 kB\u001b[0m \u001b[31m60.0 MB/s\u001b[0m eta \u001b[36m0:00:00\u001b[0m\n",
            "\u001b[?25hCollecting nvidia-cuda-cupti-cu12==12.1.105 (from torch>=1.8.0->ultralytics)\n",
            "  Downloading nvidia_cuda_cupti_cu12-12.1.105-py3-none-manylinux1_x86_64.whl (14.1 MB)\n",
            "\u001b[2K     \u001b[90m━━━━━━━━━━━━━━━━━━━━━━━━━━━━━━━━━━━━━━━━\u001b[0m \u001b[32m14.1/14.1 MB\u001b[0m \u001b[31m73.5 MB/s\u001b[0m eta \u001b[36m0:00:00\u001b[0m\n",
            "\u001b[?25hCollecting nvidia-cudnn-cu12==8.9.2.26 (from torch>=1.8.0->ultralytics)\n",
            "  Downloading nvidia_cudnn_cu12-8.9.2.26-py3-none-manylinux1_x86_64.whl (731.7 MB)\n",
            "\u001b[2K     \u001b[90m━━━━━━━━━━━━━━━━━━━━━━━━━━━━━━━━━━━━━━━━\u001b[0m \u001b[32m731.7/731.7 MB\u001b[0m \u001b[31m949.3 kB/s\u001b[0m eta \u001b[36m0:00:00\u001b[0m\n",
            "\u001b[?25hCollecting nvidia-cublas-cu12==12.1.3.1 (from torch>=1.8.0->ultralytics)\n",
            "  Downloading nvidia_cublas_cu12-12.1.3.1-py3-none-manylinux1_x86_64.whl (410.6 MB)\n",
            "\u001b[2K     \u001b[90m━━━━━━━━━━━━━━━━━━━━━━━━━━━━━━━━━━━━━━━━\u001b[0m \u001b[32m410.6/410.6 MB\u001b[0m \u001b[31m3.1 MB/s\u001b[0m eta \u001b[36m0:00:00\u001b[0m\n",
            "\u001b[?25hCollecting nvidia-cufft-cu12==11.0.2.54 (from torch>=1.8.0->ultralytics)\n",
            "  Downloading nvidia_cufft_cu12-11.0.2.54-py3-none-manylinux1_x86_64.whl (121.6 MB)\n",
            "\u001b[2K     \u001b[90m━━━━━━━━━━━━━━━━━━━━━━━━━━━━━━━━━━━━━━━━\u001b[0m \u001b[32m121.6/121.6 MB\u001b[0m \u001b[31m6.6 MB/s\u001b[0m eta \u001b[36m0:00:00\u001b[0m\n",
            "\u001b[?25hCollecting nvidia-curand-cu12==10.3.2.106 (from torch>=1.8.0->ultralytics)\n",
            "  Downloading nvidia_curand_cu12-10.3.2.106-py3-none-manylinux1_x86_64.whl (56.5 MB)\n",
            "\u001b[2K     \u001b[90m━━━━━━━━━━━━━━━━━━━━━━━━━━━━━━━━━━━━━━━━\u001b[0m \u001b[32m56.5/56.5 MB\u001b[0m \u001b[31m9.7 MB/s\u001b[0m eta \u001b[36m0:00:00\u001b[0m\n",
            "\u001b[?25hCollecting nvidia-cusolver-cu12==11.4.5.107 (from torch>=1.8.0->ultralytics)\n",
            "  Downloading nvidia_cusolver_cu12-11.4.5.107-py3-none-manylinux1_x86_64.whl (124.2 MB)\n",
            "\u001b[2K     \u001b[90m━━━━━━━━━━━━━━━━━━━━━━━━━━━━━━━━━━━━━━━━\u001b[0m \u001b[32m124.2/124.2 MB\u001b[0m \u001b[31m9.8 MB/s\u001b[0m eta \u001b[36m0:00:00\u001b[0m\n",
            "\u001b[?25hCollecting nvidia-cusparse-cu12==12.1.0.106 (from torch>=1.8.0->ultralytics)\n",
            "  Downloading nvidia_cusparse_cu12-12.1.0.106-py3-none-manylinux1_x86_64.whl (196.0 MB)\n",
            "\u001b[2K     \u001b[90m━━━━━━━━━━━━━━━━━━━━━━━━━━━━━━━━━━━━━━━━\u001b[0m \u001b[32m196.0/196.0 MB\u001b[0m \u001b[31m7.5 MB/s\u001b[0m eta \u001b[36m0:00:00\u001b[0m\n",
            "\u001b[?25hCollecting nvidia-nccl-cu12==2.19.3 (from torch>=1.8.0->ultralytics)\n",
            "  Downloading nvidia_nccl_cu12-2.19.3-py3-none-manylinux1_x86_64.whl (166.0 MB)\n",
            "\u001b[2K     \u001b[90m━━━━━━━━━━━━━━━━━━━━━━━━━━━━━━━━━━━━━━━━\u001b[0m \u001b[32m166.0/166.0 MB\u001b[0m \u001b[31m2.2 MB/s\u001b[0m eta \u001b[36m0:00:00\u001b[0m\n",
            "\u001b[?25hCollecting nvidia-nvtx-cu12==12.1.105 (from torch>=1.8.0->ultralytics)\n",
            "  Downloading nvidia_nvtx_cu12-12.1.105-py3-none-manylinux1_x86_64.whl (99 kB)\n",
            "\u001b[2K     \u001b[90m━━━━━━━━━━━━━━━━━━━━━━━━━━━━━━━━━━━━━━━━\u001b[0m \u001b[32m99.1/99.1 kB\u001b[0m \u001b[31m12.2 MB/s\u001b[0m eta \u001b[36m0:00:00\u001b[0m\n",
            "\u001b[?25hRequirement already satisfied: triton==2.2.0 in /usr/local/lib/python3.10/dist-packages (from torch>=1.8.0->ultralytics) (2.2.0)\n",
            "Collecting nvidia-nvjitlink-cu12 (from nvidia-cusolver-cu12==11.4.5.107->torch>=1.8.0->ultralytics)\n",
            "  Downloading nvidia_nvjitlink_cu12-12.4.99-py3-none-manylinux2014_x86_64.whl (21.1 MB)\n",
            "\u001b[2K     \u001b[90m━━━━━━━━━━━━━━━━━━━━━━━━━━━━━━━━━━━━━━━━\u001b[0m \u001b[32m21.1/21.1 MB\u001b[0m \u001b[31m46.2 MB/s\u001b[0m eta \u001b[36m0:00:00\u001b[0m\n",
            "\u001b[?25hRequirement already satisfied: six>=1.5 in /usr/local/lib/python3.10/dist-packages (from python-dateutil>=2.7->matplotlib>=3.3.0->ultralytics) (1.16.0)\n",
            "Requirement already satisfied: MarkupSafe>=2.0 in /usr/local/lib/python3.10/dist-packages (from jinja2->torch>=1.8.0->ultralytics) (2.1.5)\n",
            "Requirement already satisfied: mpmath>=0.19 in /usr/local/lib/python3.10/dist-packages (from sympy->torch>=1.8.0->ultralytics) (1.3.0)\n",
            "Installing collected packages: nvidia-nvtx-cu12, nvidia-nvjitlink-cu12, nvidia-nccl-cu12, nvidia-curand-cu12, nvidia-cufft-cu12, nvidia-cuda-runtime-cu12, nvidia-cuda-nvrtc-cu12, nvidia-cuda-cupti-cu12, nvidia-cublas-cu12, nvidia-cusparse-cu12, nvidia-cudnn-cu12, nvidia-cusolver-cu12, thop, ultralytics\n",
            "Successfully installed nvidia-cublas-cu12-12.1.3.1 nvidia-cuda-cupti-cu12-12.1.105 nvidia-cuda-nvrtc-cu12-12.1.105 nvidia-cuda-runtime-cu12-12.1.105 nvidia-cudnn-cu12-8.9.2.26 nvidia-cufft-cu12-11.0.2.54 nvidia-curand-cu12-10.3.2.106 nvidia-cusolver-cu12-11.4.5.107 nvidia-cusparse-cu12-12.1.0.106 nvidia-nccl-cu12-2.19.3 nvidia-nvjitlink-cu12-12.4.99 nvidia-nvtx-cu12-12.1.105 thop-0.1.1.post2209072238 ultralytics-8.1.35\n"
          ]
        }
      ]
    },
    {
      "cell_type": "code",
      "source": [
        "!unzip /content/drive/MyDrive/YoloCustonTraining/combineNewImg.zip -d /content/YoloModel"
      ],
      "metadata": {
        "colab": {
          "base_uri": "https://localhost:8080/"
        },
        "id": "1bndV1EVFd3P",
        "outputId": "47d33a79-3b7d-4bc0-8d21-b2030c5c7337"
      },
      "execution_count": null,
      "outputs": [
        {
          "output_type": "stream",
          "name": "stdout",
          "text": [
            "Archive:  /content/drive/MyDrive/YoloCustonTraining/combineNewImg.zip\n",
            "   creating: /content/YoloModel/content/runs/detect/train/\n",
            "  inflating: /content/YoloModel/content/runs/detect/train/train_batch2.jpg  \n",
            "  inflating: /content/YoloModel/content/runs/detect/train/labels_correlogram.jpg  \n",
            "  inflating: /content/YoloModel/content/runs/detect/train/P_curve.png  \n",
            "  inflating: /content/YoloModel/content/runs/detect/train/F1_curve.png  \n",
            "  inflating: /content/YoloModel/content/runs/detect/train/val_batch2_pred.jpg  \n",
            "  inflating: /content/YoloModel/content/runs/detect/train/PR_curve.png  \n",
            "  inflating: /content/YoloModel/content/runs/detect/train/confusion_matrix.png  \n",
            "  inflating: /content/YoloModel/content/runs/detect/train/events.out.tfevents.1711435649.2ced83946735.1325.0  \n",
            "  inflating: /content/YoloModel/content/runs/detect/train/train_batch7470.jpg  \n",
            "  inflating: /content/YoloModel/content/runs/detect/train/train_batch0.jpg  \n",
            "  inflating: /content/YoloModel/content/runs/detect/train/R_curve.png  \n",
            "  inflating: /content/YoloModel/content/runs/detect/train/results.png  \n",
            "   creating: /content/YoloModel/content/runs/detect/train/weights/\n",
            "  inflating: /content/YoloModel/content/runs/detect/train/weights/last.pt  \n",
            "  inflating: /content/YoloModel/content/runs/detect/train/weights/best.pt  \n",
            "  inflating: /content/YoloModel/content/runs/detect/train/train_batch7471.jpg  \n",
            "  inflating: /content/YoloModel/content/runs/detect/train/val_batch0_pred.jpg  \n",
            "  inflating: /content/YoloModel/content/runs/detect/train/confusion_matrix_normalized.png  \n",
            "  inflating: /content/YoloModel/content/runs/detect/train/labels.jpg  \n",
            "  inflating: /content/YoloModel/content/runs/detect/train/train_batch7472.jpg  \n",
            "  inflating: /content/YoloModel/content/runs/detect/train/val_batch1_pred.jpg  \n",
            "  inflating: /content/YoloModel/content/runs/detect/train/args.yaml  \n",
            "  inflating: /content/YoloModel/content/runs/detect/train/train_batch1.jpg  \n",
            "  inflating: /content/YoloModel/content/runs/detect/train/val_batch0_labels.jpg  \n",
            "  inflating: /content/YoloModel/content/runs/detect/train/results.csv  \n",
            "  inflating: /content/YoloModel/content/runs/detect/train/val_batch2_labels.jpg  \n",
            "  inflating: /content/YoloModel/content/runs/detect/train/val_batch1_labels.jpg  \n"
          ]
        }
      ]
    },
    {
      "cell_type": "code",
      "source": [
        "from ultralytics import YOLO\n",
        "model = YOLO('/content/YoloModel/content/runs/detect/train/weights/best.pt')"
      ],
      "metadata": {
        "id": "nReaWdVbFe6h"
      },
      "execution_count": null,
      "outputs": []
    },
    {
      "cell_type": "code",
      "source": [
        "def YoloPrediction(model, image):\n",
        "  results = model.predict(image)\n",
        "  if len(results[0].boxes.xyxy)==0:\n",
        "    return 0\n",
        "  else:\n",
        "    return 1"
      ],
      "metadata": {
        "id": "Ef886zzWFoVl"
      },
      "execution_count": null,
      "outputs": []
    },
    {
      "cell_type": "code",
      "source": [
        "len(elephant_pred)"
      ],
      "metadata": {
        "colab": {
          "base_uri": "https://localhost:8080/"
        },
        "id": "NxaXegSDGOp3",
        "outputId": "8c04f798-007e-4106-b988-154803488255"
      },
      "execution_count": null,
      "outputs": [
        {
          "output_type": "execute_result",
          "data": {
            "text/plain": [
              "84"
            ]
          },
          "metadata": {},
          "execution_count": 37
        }
      ]
    },
    {
      "cell_type": "code",
      "source": [
        "elephant_pred=[]\n",
        "directory_path_elephant = '/content/drive/MyDrive/cleaned dataset/balanced dataset/validationT/elephant'\n",
        "image_files_elephant = get_image_files(directory_path_elephant)\n",
        "for i in image_files_elephant:\n",
        "  elephant_pred.append(YoloPrediction(model, i))"
      ],
      "metadata": {
        "id": "ulXCUag98kYS",
        "colab": {
          "base_uri": "https://localhost:8080/"
        },
        "outputId": "4dfbcee0-04f3-4616-e4a0-31ee1b8cab43"
      },
      "execution_count": null,
      "outputs": [
        {
          "output_type": "stream",
          "name": "stdout",
          "text": [
            "\n",
            "image 1/1 /content/drive/MyDrive/cleaned dataset/balanced dataset/validationT/elephant/Elephant Sounds - Noises14.png: 640x320 1 ELEPHANT, 73.1ms\n",
            "Speed: 16.5ms preprocess, 73.1ms inference, 693.9ms postprocess per image at shape (1, 3, 640, 320)\n",
            "\n",
            "image 1/1 /content/drive/MyDrive/cleaned dataset/balanced dataset/validationT/elephant/ELEPHANT SOUNDS FOR KIDS - Learn Trumpeting Rumbling and Roaring Sound Effects of Elephants22.png: 640x320 2 ELEPHANTs, 15.2ms\n",
            "Speed: 1.6ms preprocess, 15.2ms inference, 1.8ms postprocess per image at shape (1, 3, 640, 320)\n",
            "\n",
            "image 1/1 /content/drive/MyDrive/cleaned dataset/balanced dataset/validationT/elephant/ELEPHANT SOUNDS FOR KIDS - Learn Trumpeting Rumbling and Roaring Sound Effects of Elephants1.png: 640x320 2 ELEPHANTs, 15.2ms\n",
            "Speed: 1.6ms preprocess, 15.2ms inference, 1.5ms postprocess per image at shape (1, 3, 640, 320)\n",
            "\n",
            "image 1/1 /content/drive/MyDrive/cleaned dataset/balanced dataset/validationT/elephant/ELEPHANT SOUNDS FOR KIDS - Learn Trumpeting Rumbling and Roaring Sound Effects of Elephants30.png: 640x320 4 ELEPHANTs, 15.2ms\n",
            "Speed: 1.5ms preprocess, 15.2ms inference, 1.6ms postprocess per image at shape (1, 3, 640, 320)\n",
            "\n",
            "image 1/1 /content/drive/MyDrive/cleaned dataset/balanced dataset/validationT/elephant/ELEPHANT SOUNDS FOR KIDS - Learn Trumpeting Rumbling and Roaring Sound Effects of Elephants35.png: 640x320 (no detections), 15.2ms\n",
            "Speed: 1.6ms preprocess, 15.2ms inference, 0.7ms postprocess per image at shape (1, 3, 640, 320)\n",
            "\n",
            "image 1/1 /content/drive/MyDrive/cleaned dataset/balanced dataset/validationT/elephant/ELEPHANT SOUNDS FOR KIDS - Learn Trumpeting Rumbling and Roaring Sound Effects of Elephants29.png: 640x320 3 ELEPHANTs, 18.4ms\n",
            "Speed: 2.0ms preprocess, 18.4ms inference, 3.1ms postprocess per image at shape (1, 3, 640, 320)\n",
            "\n",
            "image 1/1 /content/drive/MyDrive/cleaned dataset/balanced dataset/validationT/elephant/ELEPHANT SOUNDS FOR KIDS - Learn Trumpeting Rumbling and Roaring Sound Effects of Elephants68.png: 640x320 4 ELEPHANTs, 17.6ms\n",
            "Speed: 4.9ms preprocess, 17.6ms inference, 2.1ms postprocess per image at shape (1, 3, 640, 320)\n",
            "\n",
            "image 1/1 /content/drive/MyDrive/cleaned dataset/balanced dataset/validationT/elephant/ELEPHANT SOUNDS FOR KIDS - Learn Trumpeting Rumbling and Roaring Sound Effects of Elephants58.png: 640x320 3 ELEPHANTs, 15.2ms\n",
            "Speed: 1.7ms preprocess, 15.2ms inference, 1.4ms postprocess per image at shape (1, 3, 640, 320)\n",
            "\n",
            "image 1/1 /content/drive/MyDrive/cleaned dataset/balanced dataset/validationT/elephant/Elephant Sounds5.png: 640x320 3 ELEPHANTs, 15.2ms\n",
            "Speed: 1.7ms preprocess, 15.2ms inference, 1.4ms postprocess per image at shape (1, 3, 640, 320)\n",
            "\n",
            "image 1/1 /content/drive/MyDrive/cleaned dataset/balanced dataset/validationT/elephant/Elephant Sounds2.png: 640x320 2 ELEPHANTs, 15.2ms\n",
            "Speed: 1.7ms preprocess, 15.2ms inference, 1.3ms postprocess per image at shape (1, 3, 640, 320)\n",
            "\n",
            "image 1/1 /content/drive/MyDrive/cleaned dataset/balanced dataset/validationT/elephant/elephant5.png: 640x320 4 ELEPHANTs, 15.2ms\n",
            "Speed: 1.9ms preprocess, 15.2ms inference, 1.4ms postprocess per image at shape (1, 3, 640, 320)\n",
            "\n",
            "image 1/1 /content/drive/MyDrive/cleaned dataset/balanced dataset/validationT/elephant/Elephants Trumpet!1.png: 640x320 7 ELEPHANTs, 15.2ms\n",
            "Speed: 1.6ms preprocess, 15.2ms inference, 1.4ms postprocess per image at shape (1, 3, 640, 320)\n",
            "\n",
            "image 1/1 /content/drive/MyDrive/cleaned dataset/balanced dataset/validationT/elephant/Elephants Celebrated By Trumpeting After Eating Fruit Cake - ElephantNews8.png: 640x320 2 ELEPHANTs, 15.3ms\n",
            "Speed: 1.6ms preprocess, 15.3ms inference, 1.4ms postprocess per image at shape (1, 3, 640, 320)\n",
            "\n",
            "image 1/1 /content/drive/MyDrive/cleaned dataset/balanced dataset/validationT/elephant/Elephants trumpeting as they walk past a watering hole9.png: 640x320 2 ELEPHANTs, 15.3ms\n",
            "Speed: 1.7ms preprocess, 15.3ms inference, 1.3ms postprocess per image at shape (1, 3, 640, 320)\n",
            "\n",
            "image 1/1 /content/drive/MyDrive/cleaned dataset/balanced dataset/validationT/elephant/Pyi Mai is playing the water- EleFlix14.png: 640x320 3 ELEPHANTs, 15.3ms\n",
            "Speed: 1.8ms preprocess, 15.3ms inference, 1.6ms postprocess per image at shape (1, 3, 640, 320)\n",
            "\n",
            "image 1/1 /content/drive/MyDrive/cleaned dataset/balanced dataset/validationT/elephant/Pyi Mai is playing the water- EleFlix17.png: 640x320 4 ELEPHANTs, 19.5ms\n",
            "Speed: 2.0ms preprocess, 19.5ms inference, 2.1ms postprocess per image at shape (1, 3, 640, 320)\n",
            "\n",
            "image 1/1 /content/drive/MyDrive/cleaned dataset/balanced dataset/validationT/elephant/Pyi Mai is playing the water- EleFlix9.png: 640x320 3 ELEPHANTs, 15.3ms\n",
            "Speed: 1.6ms preprocess, 15.3ms inference, 1.4ms postprocess per image at shape (1, 3, 640, 320)\n",
            "\n",
            "image 1/1 /content/drive/MyDrive/cleaned dataset/balanced dataset/validationT/elephant/Pyi Mai is playing the water- EleFlix36.png: 640x320 5 ELEPHANTs, 15.2ms\n",
            "Speed: 1.7ms preprocess, 15.2ms inference, 1.4ms postprocess per image at shape (1, 3, 640, 320)\n",
            "\n",
            "image 1/1 /content/drive/MyDrive/cleaned dataset/balanced dataset/validationT/elephant/Pyi Mai is playing the water- EleFlix24.png: 640x320 4 ELEPHANTs, 15.2ms\n",
            "Speed: 1.7ms preprocess, 15.2ms inference, 1.8ms postprocess per image at shape (1, 3, 640, 320)\n",
            "\n",
            "image 1/1 /content/drive/MyDrive/cleaned dataset/balanced dataset/validationT/elephant/Pyi Mai is playing the water- EleFlix19.png: 640x320 4 ELEPHANTs, 30.0ms\n",
            "Speed: 1.9ms preprocess, 30.0ms inference, 2.1ms postprocess per image at shape (1, 3, 640, 320)\n",
            "\n",
            "image 1/1 /content/drive/MyDrive/cleaned dataset/balanced dataset/validationT/elephant/Pyi Mai is playing the water- EleFlix68.png: 640x320 4 ELEPHANTs, 15.2ms\n",
            "Speed: 1.7ms preprocess, 15.2ms inference, 1.3ms postprocess per image at shape (1, 3, 640, 320)\n",
            "\n",
            "image 1/1 /content/drive/MyDrive/cleaned dataset/balanced dataset/validationT/elephant/Pyi Mai is playing the water- EleFlix107.png: 640x320 4 ELEPHANTs, 15.3ms\n",
            "Speed: 1.9ms preprocess, 15.3ms inference, 1.4ms postprocess per image at shape (1, 3, 640, 320)\n",
            "\n",
            "image 1/1 /content/drive/MyDrive/cleaned dataset/balanced dataset/validationT/elephant/Pyi Mai is playing the water- EleFlix104.png: 640x320 3 ELEPHANTs, 16.0ms\n",
            "Speed: 1.9ms preprocess, 16.0ms inference, 2.0ms postprocess per image at shape (1, 3, 640, 320)\n",
            "\n",
            "image 1/1 /content/drive/MyDrive/cleaned dataset/balanced dataset/validationT/elephant/Pyi Mai is playing the water- EleFlix91.png: 640x320 1 ELEPHANT, 15.3ms\n",
            "Speed: 1.7ms preprocess, 15.3ms inference, 1.9ms postprocess per image at shape (1, 3, 640, 320)\n",
            "\n",
            "image 1/1 /content/drive/MyDrive/cleaned dataset/balanced dataset/validationT/elephant/Pyi Mai is playing the water- EleFlix109.png: 640x320 4 ELEPHANTs, 20.7ms\n",
            "Speed: 1.9ms preprocess, 20.7ms inference, 2.2ms postprocess per image at shape (1, 3, 640, 320)\n",
            "\n",
            "image 1/1 /content/drive/MyDrive/cleaned dataset/balanced dataset/validationT/elephant/Pyi Mai is playing the water- EleFlix126.png: 640x320 3 ELEPHANTs, 45.9ms\n",
            "Speed: 1.9ms preprocess, 45.9ms inference, 5.3ms postprocess per image at shape (1, 3, 640, 320)\n",
            "\n",
            "image 1/1 /content/drive/MyDrive/cleaned dataset/balanced dataset/validationT/elephant/Pyi Mai is playing the water- EleFlix122.png: 640x320 3 ELEPHANTs, 47.0ms\n",
            "Speed: 2.0ms preprocess, 47.0ms inference, 1.7ms postprocess per image at shape (1, 3, 640, 320)\n",
            "\n",
            "image 1/1 /content/drive/MyDrive/cleaned dataset/balanced dataset/validationT/elephant/Pyi Mai is playing the water- EleFlix133.png: 640x320 4 ELEPHANTs, 15.2ms\n",
            "Speed: 1.7ms preprocess, 15.2ms inference, 1.3ms postprocess per image at shape (1, 3, 640, 320)\n",
            "\n",
            "image 1/1 /content/drive/MyDrive/cleaned dataset/balanced dataset/validationT/elephant/Pyi Mai is playing the water- EleFlix140.png: 640x320 3 ELEPHANTs, 15.3ms\n",
            "Speed: 1.8ms preprocess, 15.3ms inference, 1.4ms postprocess per image at shape (1, 3, 640, 320)\n",
            "\n",
            "image 1/1 /content/drive/MyDrive/cleaned dataset/balanced dataset/validationT/elephant/Combat déléphants impressionnant - ZAPPING SAUVAGE15.png: 640x320 2 ELEPHANTs, 15.2ms\n",
            "Speed: 1.9ms preprocess, 15.2ms inference, 1.4ms postprocess per image at shape (1, 3, 640, 320)\n",
            "\n",
            "image 1/1 /content/drive/MyDrive/cleaned dataset/balanced dataset/validationT/elephant/Elephant and baby13.png: 640x320 1 ELEPHANT, 15.3ms\n",
            "Speed: 1.7ms preprocess, 15.3ms inference, 1.5ms postprocess per image at shape (1, 3, 640, 320)\n",
            "\n",
            "image 1/1 /content/drive/MyDrive/cleaned dataset/balanced dataset/validationT/elephant/Combat déléphants impressionnant - ZAPPING SAUVAGE10.png: 640x320 1 ELEPHANT, 15.2ms\n",
            "Speed: 1.5ms preprocess, 15.2ms inference, 1.5ms postprocess per image at shape (1, 3, 640, 320)\n",
            "\n",
            "image 1/1 /content/drive/MyDrive/cleaned dataset/balanced dataset/validationT/elephant/Elephant and baby7.png: 640x320 1 ELEPHANT, 15.2ms\n",
            "Speed: 1.7ms preprocess, 15.2ms inference, 2.1ms postprocess per image at shape (1, 3, 640, 320)\n",
            "\n",
            "image 1/1 /content/drive/MyDrive/cleaned dataset/balanced dataset/validationT/elephant/Elephant noise Elephant trumpeting sound shorts2.png: 640x320 3 ELEPHANTs, 15.2ms\n",
            "Speed: 1.6ms preprocess, 15.2ms inference, 1.5ms postprocess per image at shape (1, 3, 640, 320)\n",
            "\n",
            "image 1/1 /content/drive/MyDrive/cleaned dataset/balanced dataset/validationT/elephant/Elephant noise Elephant trumpeting sound shorts3.png: 640x320 3 ELEPHANTs, 15.3ms\n",
            "Speed: 1.6ms preprocess, 15.3ms inference, 1.4ms postprocess per image at shape (1, 3, 640, 320)\n",
            "\n",
            "image 1/1 /content/drive/MyDrive/cleaned dataset/balanced dataset/validationT/elephant/Sound of the African Bushveld Elephants - AFRICAN WILDLIFE16.png: 640x320 2 ELEPHANTs, 15.3ms\n",
            "Speed: 1.7ms preprocess, 15.3ms inference, 1.5ms postprocess per image at shape (1, 3, 640, 320)\n",
            "\n",
            "image 1/1 /content/drive/MyDrive/cleaned dataset/balanced dataset/validationT/elephant/Sound of the African Bushveld Elephants - AFRICAN WILDLIFE13.png: 640x320 6 ELEPHANTs, 15.9ms\n",
            "Speed: 2.1ms preprocess, 15.9ms inference, 2.2ms postprocess per image at shape (1, 3, 640, 320)\n",
            "\n",
            "image 1/1 /content/drive/MyDrive/cleaned dataset/balanced dataset/validationT/elephant/An Unexpected Meeting Between Baby Orphan Elephant Phabeni & Setombe and Klaserie9.png: 640x320 4 ELEPHANTs, 15.2ms\n",
            "Speed: 1.8ms preprocess, 15.2ms inference, 1.3ms postprocess per image at shape (1, 3, 640, 320)\n",
            "\n",
            "image 1/1 /content/drive/MyDrive/cleaned dataset/balanced dataset/validationT/elephant/An Unexpected Meeting Between Baby Orphan Elephant Phabeni & Setombe and Klaserie3.png: 640x320 1 ELEPHANT, 15.2ms\n",
            "Speed: 1.7ms preprocess, 15.2ms inference, 1.5ms postprocess per image at shape (1, 3, 640, 320)\n",
            "\n",
            "image 1/1 /content/drive/MyDrive/cleaned dataset/balanced dataset/validationT/elephant/An Unexpected Meeting Between Baby Orphan Elephant Phabeni & Setombe and Klaserie10.png: 640x320 3 ELEPHANTs, 15.2ms\n",
            "Speed: 1.6ms preprocess, 15.2ms inference, 1.5ms postprocess per image at shape (1, 3, 640, 320)\n",
            "\n",
            "image 1/1 /content/drive/MyDrive/cleaned dataset/balanced dataset/validationT/elephant/An Unexpected Meeting Between Baby Orphan Elephant Phabeni & Setombe and Klaserie26.png: 640x320 3 ELEPHANTs, 15.3ms\n",
            "Speed: 1.9ms preprocess, 15.3ms inference, 1.4ms postprocess per image at shape (1, 3, 640, 320)\n",
            "\n",
            "image 1/1 /content/drive/MyDrive/cleaned dataset/balanced dataset/validationT/elephant/An Unexpected Meeting Between Baby Orphan Elephant Phabeni & Setombe and Klaserie23.png: 640x320 3 ELEPHANTs, 26.3ms\n",
            "Speed: 1.9ms preprocess, 26.3ms inference, 1.8ms postprocess per image at shape (1, 3, 640, 320)\n",
            "\n",
            "image 1/1 /content/drive/MyDrive/cleaned dataset/balanced dataset/validationT/elephant/An Unexpected Meeting Between Baby Orphan Elephant Phabeni & Setombe and Klaserie52.png: 640x320 4 ELEPHANTs, 16.5ms\n",
            "Speed: 2.1ms preprocess, 16.5ms inference, 1.8ms postprocess per image at shape (1, 3, 640, 320)\n",
            "\n",
            "image 1/1 /content/drive/MyDrive/cleaned dataset/balanced dataset/validationT/elephant/An Unexpected Meeting Between Baby Orphan Elephant Phabeni & Setombe and Klaserie47.png: 640x320 5 ELEPHANTs, 15.2ms\n",
            "Speed: 1.6ms preprocess, 15.2ms inference, 1.7ms postprocess per image at shape (1, 3, 640, 320)\n",
            "\n",
            "image 1/1 /content/drive/MyDrive/cleaned dataset/balanced dataset/validationT/elephant/An Unexpected Meeting Between Baby Orphan Elephant Phabeni & Setombe and Klaserie55.png: 640x320 6 ELEPHANTs, 15.4ms\n",
            "Speed: 1.7ms preprocess, 15.4ms inference, 1.4ms postprocess per image at shape (1, 3, 640, 320)\n",
            "\n",
            "image 1/1 /content/drive/MyDrive/cleaned dataset/balanced dataset/validationT/elephant/An Unexpected Meeting Between Baby Orphan Elephant Phabeni & Setombe and Klaserie64.png: 640x320 4 ELEPHANTs, 15.5ms\n",
            "Speed: 1.7ms preprocess, 15.5ms inference, 1.3ms postprocess per image at shape (1, 3, 640, 320)\n",
            "\n",
            "image 1/1 /content/drive/MyDrive/cleaned dataset/balanced dataset/validationT/elephant/An Unexpected Meeting Between Baby Orphan Elephant Phabeni & Setombe and Klaserie68.png: 640x320 4 ELEPHANTs, 16.6ms\n",
            "Speed: 3.0ms preprocess, 16.6ms inference, 1.7ms postprocess per image at shape (1, 3, 640, 320)\n",
            "\n",
            "image 1/1 /content/drive/MyDrive/cleaned dataset/balanced dataset/validationT/elephant/An Unexpected Meeting Between Baby Orphan Elephant Phabeni & Setombe and Klaserie69.png: 640x320 5 ELEPHANTs, 15.2ms\n",
            "Speed: 1.6ms preprocess, 15.2ms inference, 1.3ms postprocess per image at shape (1, 3, 640, 320)\n",
            "\n",
            "image 1/1 /content/drive/MyDrive/cleaned dataset/balanced dataset/validationT/elephant/An Unexpected Meeting Between Baby Orphan Elephant Phabeni & Setombe and Klaserie90.png: 640x320 5 ELEPHANTs, 15.2ms\n",
            "Speed: 1.7ms preprocess, 15.2ms inference, 1.4ms postprocess per image at shape (1, 3, 640, 320)\n",
            "\n",
            "image 1/1 /content/drive/MyDrive/cleaned dataset/balanced dataset/validationT/elephant/An Unexpected Meeting Between Baby Orphan Elephant Phabeni & Setombe and Klaserie92.png: 640x320 5 ELEPHANTs, 15.2ms\n",
            "Speed: 1.7ms preprocess, 15.2ms inference, 1.6ms postprocess per image at shape (1, 3, 640, 320)\n",
            "\n",
            "image 1/1 /content/drive/MyDrive/cleaned dataset/balanced dataset/validationT/elephant/An Unexpected Meeting Between Baby Orphan Elephant Phabeni & Setombe and Klaserie112.png: 640x320 3 ELEPHANTs, 15.2ms\n",
            "Speed: 1.7ms preprocess, 15.2ms inference, 1.3ms postprocess per image at shape (1, 3, 640, 320)\n",
            "\n",
            "image 1/1 /content/drive/MyDrive/cleaned dataset/balanced dataset/validationT/elephant/An Unexpected Meeting Between Baby Orphan Elephant Phabeni & Setombe and Klaserie109.png: 640x320 5 ELEPHANTs, 15.2ms\n",
            "Speed: 1.7ms preprocess, 15.2ms inference, 1.4ms postprocess per image at shape (1, 3, 640, 320)\n",
            "\n",
            "image 1/1 /content/drive/MyDrive/cleaned dataset/balanced dataset/validationT/elephant/An Unexpected Meeting Between Baby Orphan Elephant Phabeni & Setombe and Klaserie143.png: 640x320 2 ELEPHANTs, 15.2ms\n",
            "Speed: 1.6ms preprocess, 15.2ms inference, 1.4ms postprocess per image at shape (1, 3, 640, 320)\n",
            "\n",
            "image 1/1 /content/drive/MyDrive/cleaned dataset/balanced dataset/validationT/elephant/An Unexpected Meeting Between Baby Orphan Elephant Phabeni & Setombe and Klaserie134.png: 640x320 3 ELEPHANTs, 15.3ms\n",
            "Speed: 1.6ms preprocess, 15.3ms inference, 1.3ms postprocess per image at shape (1, 3, 640, 320)\n",
            "\n",
            "image 1/1 /content/drive/MyDrive/cleaned dataset/balanced dataset/validationT/elephant/An Unexpected Meeting Between Baby Orphan Elephant Phabeni & Setombe and Klaserie159.png: 640x320 4 ELEPHANTs, 15.3ms\n",
            "Speed: 1.7ms preprocess, 15.3ms inference, 1.4ms postprocess per image at shape (1, 3, 640, 320)\n",
            "\n",
            "image 1/1 /content/drive/MyDrive/cleaned dataset/balanced dataset/validationT/elephant/An Unexpected Meeting Between Baby Orphan Elephant Phabeni & Setombe and Klaserie180.png: 640x320 4 ELEPHANTs, 15.2ms\n",
            "Speed: 1.6ms preprocess, 15.2ms inference, 1.4ms postprocess per image at shape (1, 3, 640, 320)\n",
            "\n",
            "image 1/1 /content/drive/MyDrive/cleaned dataset/balanced dataset/validationT/elephant/An Unexpected Meeting Between Baby Orphan Elephant Phabeni & Setombe and Klaserie184.png: 640x320 3 ELEPHANTs, 15.4ms\n",
            "Speed: 2.1ms preprocess, 15.4ms inference, 1.8ms postprocess per image at shape (1, 3, 640, 320)\n",
            "\n",
            "image 1/1 /content/drive/MyDrive/cleaned dataset/balanced dataset/validationT/elephant/An Unexpected Meeting Between Baby Orphan Elephant Phabeni & Setombe and Klaserie166.png: 640x320 4 ELEPHANTs, 15.3ms\n",
            "Speed: 1.9ms preprocess, 15.3ms inference, 1.7ms postprocess per image at shape (1, 3, 640, 320)\n",
            "\n",
            "image 1/1 /content/drive/MyDrive/cleaned dataset/balanced dataset/validationT/elephant/An Unexpected Meeting Between Baby Orphan Elephant Phabeni & Setombe and Klaserie172.png: 640x320 5 ELEPHANTs, 15.2ms\n",
            "Speed: 1.6ms preprocess, 15.2ms inference, 1.3ms postprocess per image at shape (1, 3, 640, 320)\n",
            "\n",
            "image 1/1 /content/drive/MyDrive/cleaned dataset/balanced dataset/validationT/elephant/An Unexpected Meeting Between Baby Orphan Elephant Phabeni & Setombe and Klaserie206.png: 640x320 4 ELEPHANTs, 15.2ms\n",
            "Speed: 1.5ms preprocess, 15.2ms inference, 1.3ms postprocess per image at shape (1, 3, 640, 320)\n",
            "\n",
            "image 1/1 /content/drive/MyDrive/cleaned dataset/balanced dataset/validationT/elephant/An Unexpected Meeting Between Baby Orphan Elephant Phabeni & Setombe and Klaserie188.png: 640x320 4 ELEPHANTs, 15.2ms\n",
            "Speed: 1.6ms preprocess, 15.2ms inference, 1.4ms postprocess per image at shape (1, 3, 640, 320)\n",
            "\n",
            "image 1/1 /content/drive/MyDrive/cleaned dataset/balanced dataset/validationT/elephant/An Unexpected Meeting Between Baby Orphan Elephant Phabeni & Setombe and Klaserie235.png: 640x320 4 ELEPHANTs, 15.2ms\n",
            "Speed: 1.6ms preprocess, 15.2ms inference, 1.3ms postprocess per image at shape (1, 3, 640, 320)\n",
            "\n",
            "image 1/1 /content/drive/MyDrive/cleaned dataset/balanced dataset/validationT/elephant/Dubare Elephant Camp  Coorg visit7.png: 640x320 2 ELEPHANTs, 15.3ms\n",
            "Speed: 1.5ms preprocess, 15.3ms inference, 1.3ms postprocess per image at shape (1, 3, 640, 320)\n",
            "\n",
            "image 1/1 /content/drive/MyDrive/cleaned dataset/balanced dataset/validationT/elephant/Elephant Calf Charging4.png: 640x320 2 ELEPHANTs, 15.2ms\n",
            "Speed: 1.6ms preprocess, 15.2ms inference, 1.3ms postprocess per image at shape (1, 3, 640, 320)\n",
            "\n",
            "image 1/1 /content/drive/MyDrive/cleaned dataset/balanced dataset/validationT/elephant/GIANT Elephant Buffet11.png: 640x320 2 ELEPHANTs, 60.8ms\n",
            "Speed: 11.2ms preprocess, 60.8ms inference, 17.1ms postprocess per image at shape (1, 3, 640, 320)\n",
            "\n",
            "image 1/1 /content/drive/MyDrive/cleaned dataset/balanced dataset/validationT/elephant/GIANT Elephant Buffet6.png: 640x320 2 ELEPHANTs, 15.2ms\n",
            "Speed: 1.9ms preprocess, 15.2ms inference, 1.4ms postprocess per image at shape (1, 3, 640, 320)\n",
            "\n",
            "image 1/1 /content/drive/MyDrive/cleaned dataset/balanced dataset/validationT/elephant/GIANT Elephant Buffet21.png: 640x320 3 ELEPHANTs, 15.2ms\n",
            "Speed: 2.1ms preprocess, 15.2ms inference, 1.4ms postprocess per image at shape (1, 3, 640, 320)\n",
            "\n",
            "image 1/1 /content/drive/MyDrive/cleaned dataset/balanced dataset/validationT/elephant/GIANT Elephant Buffet8.png: 640x320 2 ELEPHANTs, 15.2ms\n",
            "Speed: 1.6ms preprocess, 15.2ms inference, 1.3ms postprocess per image at shape (1, 3, 640, 320)\n",
            "\n",
            "image 1/1 /content/drive/MyDrive/cleaned dataset/balanced dataset/validationT/elephant/GIANT Elephant Buffet23.png: 640x320 2 ELEPHANTs, 15.3ms\n",
            "Speed: 2.2ms preprocess, 15.3ms inference, 1.7ms postprocess per image at shape (1, 3, 640, 320)\n",
            "\n",
            "image 1/1 /content/drive/MyDrive/cleaned dataset/balanced dataset/validationT/elephant/GIANT Elephant Buffet20.png: 640x320 2 ELEPHANTs, 19.5ms\n",
            "Speed: 2.0ms preprocess, 19.5ms inference, 2.0ms postprocess per image at shape (1, 3, 640, 320)\n",
            "\n",
            "image 1/1 /content/drive/MyDrive/cleaned dataset/balanced dataset/validationT/elephant/GIANT Elephant Buffet7.png: 640x320 2 ELEPHANTs, 15.2ms\n",
            "Speed: 1.7ms preprocess, 15.2ms inference, 1.3ms postprocess per image at shape (1, 3, 640, 320)\n",
            "\n",
            "image 1/1 /content/drive/MyDrive/cleaned dataset/balanced dataset/validationT/elephant/Wild Elephant  Chasing and Attacks  Compilation   Animal Clips 1.png: 640x320 2 ELEPHANTs, 15.2ms\n",
            "Speed: 1.5ms preprocess, 15.2ms inference, 1.3ms postprocess per image at shape (1, 3, 640, 320)\n",
            "\n",
            "image 1/1 /content/drive/MyDrive/cleaned dataset/balanced dataset/validationT/elephant/GIANT Elephant Buffet29.png: 640x320 2 ELEPHANTs, 15.7ms\n",
            "Speed: 2.4ms preprocess, 15.7ms inference, 1.3ms postprocess per image at shape (1, 3, 640, 320)\n",
            "\n",
            "image 1/1 /content/drive/MyDrive/cleaned dataset/balanced dataset/validationT/elephant/Wild Elephant  Chasing and Attacks  Compilation   Animal Clips 37.png: 640x320 2 ELEPHANTs, 15.2ms\n",
            "Speed: 1.6ms preprocess, 15.2ms inference, 1.4ms postprocess per image at shape (1, 3, 640, 320)\n",
            "\n",
            "image 1/1 /content/drive/MyDrive/cleaned dataset/balanced dataset/validationT/elephant/Wild Elephant  Chasing and Attacks  Compilation   Animal Clips 29.png: 640x320 1 ELEPHANT, 15.2ms\n",
            "Speed: 1.6ms preprocess, 15.2ms inference, 1.6ms postprocess per image at shape (1, 3, 640, 320)\n",
            "\n",
            "image 1/1 /content/drive/MyDrive/cleaned dataset/balanced dataset/validationT/elephant/Wild Elephant  Chasing and Attacks  Compilation   Animal Clips 14.png: 640x320 1 ELEPHANT, 15.3ms\n",
            "Speed: 1.6ms preprocess, 15.3ms inference, 1.3ms postprocess per image at shape (1, 3, 640, 320)\n",
            "\n",
            "image 1/1 /content/drive/MyDrive/cleaned dataset/balanced dataset/validationT/elephant/Wild Elephant  Chasing and Attacks  Compilation   Animal Clips 34.png: 640x320 3 ELEPHANTs, 15.2ms\n",
            "Speed: 1.7ms preprocess, 15.2ms inference, 1.4ms postprocess per image at shape (1, 3, 640, 320)\n",
            "\n",
            "image 1/1 /content/drive/MyDrive/cleaned dataset/balanced dataset/validationT/elephant/Wild Elephant  Chasing and Attacks  Compilation   Animal Clips 42.png: 640x320 2 ELEPHANTs, 15.2ms\n",
            "Speed: 1.7ms preprocess, 15.2ms inference, 1.5ms postprocess per image at shape (1, 3, 640, 320)\n",
            "\n",
            "image 1/1 /content/drive/MyDrive/cleaned dataset/balanced dataset/validationT/elephant/Top Ten Baby Elephants At Play - Elephantnews14.png: 640x320 4 ELEPHANTs, 15.2ms\n",
            "Speed: 1.7ms preprocess, 15.2ms inference, 1.3ms postprocess per image at shape (1, 3, 640, 320)\n",
            "\n",
            "image 1/1 /content/drive/MyDrive/cleaned dataset/balanced dataset/validationT/elephant/Top Ten Baby Elephants At Play - Elephantnews18.png: 640x320 2 ELEPHANTs, 20.1ms\n",
            "Speed: 4.8ms preprocess, 20.1ms inference, 1.9ms postprocess per image at shape (1, 3, 640, 320)\n",
            "\n",
            "image 1/1 /content/drive/MyDrive/cleaned dataset/balanced dataset/validationT/elephant/Top Ten Baby Elephants At Play - Elephantnews12.png: 640x320 3 ELEPHANTs, 15.3ms\n",
            "Speed: 1.6ms preprocess, 15.3ms inference, 1.4ms postprocess per image at shape (1, 3, 640, 320)\n",
            "\n",
            "image 1/1 /content/drive/MyDrive/cleaned dataset/balanced dataset/validationT/elephant/Top Ten Baby Elephants At Play - Elephantnews8.png: 640x320 4 ELEPHANTs, 15.2ms\n",
            "Speed: 1.6ms preprocess, 15.2ms inference, 1.5ms postprocess per image at shape (1, 3, 640, 320)\n",
            "\n",
            "image 1/1 /content/drive/MyDrive/cleaned dataset/balanced dataset/validationT/elephant/Top Ten Baby Elephants At Play - Elephantnews10.png: 640x320 2 ELEPHANTs, 15.2ms\n",
            "Speed: 1.7ms preprocess, 15.2ms inference, 2.9ms postprocess per image at shape (1, 3, 640, 320)\n",
            "\n",
            "image 1/1 /content/drive/MyDrive/cleaned dataset/balanced dataset/validationT/elephant/Top Ten Baby Elephants At Play - Elephantnews7.png: 640x320 3 ELEPHANTs, 15.2ms\n",
            "Speed: 1.7ms preprocess, 15.2ms inference, 1.5ms postprocess per image at shape (1, 3, 640, 320)\n"
          ]
        }
      ]
    },
    {
      "cell_type": "code",
      "source": [
        "nonelephant_pred=[]\n",
        "directory_path_nonelephant = '/content/drive/MyDrive/cleaned dataset/balanced dataset/validationT/nonelephant'\n",
        "image_files_nonelephant = get_image_files(directory_path_nonelephant)\n",
        "for i in image_files_nonelephant:\n",
        "  nonelephant_pred.append(YoloPrediction(model, i))"
      ],
      "metadata": {
        "id": "rjEreDoPGe2I",
        "colab": {
          "base_uri": "https://localhost:8080/"
        },
        "outputId": "e918aac6-b6d5-4d39-a64b-96d3b6fe7282"
      },
      "execution_count": null,
      "outputs": [
        {
          "output_type": "stream",
          "name": "stdout",
          "text": [
            "\n",
            "image 1/1 /content/drive/MyDrive/cleaned dataset/balanced dataset/validationT/nonelephant/FARM ANIMALS on the FARM (real authentic sounds) compilation - 55 min KID COLLECTION - Part 2144.png: 640x320 (no detections), 22.5ms\n",
            "Speed: 2.2ms preprocess, 22.5ms inference, 1.2ms postprocess per image at shape (1, 3, 640, 320)\n",
            "\n",
            "image 1/1 /content/drive/MyDrive/cleaned dataset/balanced dataset/validationT/nonelephant/FARM ANIMALS on the FARM (real authentic sounds) compilation - 55 min KID COLLECTION - Part 2131.png: 640x320 (no detections), 26.8ms\n",
            "Speed: 1.9ms preprocess, 26.8ms inference, 1.2ms postprocess per image at shape (1, 3, 640, 320)\n",
            "\n",
            "image 1/1 /content/drive/MyDrive/cleaned dataset/balanced dataset/validationT/nonelephant/FARM ANIMALS on the FARM (real authentic sounds) compilation - 55 min KID COLLECTION - Part 2122.png: 640x320 (no detections), 51.2ms\n",
            "Speed: 1.9ms preprocess, 51.2ms inference, 1.0ms postprocess per image at shape (1, 3, 640, 320)\n",
            "\n",
            "image 1/1 /content/drive/MyDrive/cleaned dataset/balanced dataset/validationT/nonelephant/FARM ANIMALS on the FARM (real authentic sounds) compilation - 55 min KID COLLECTION - Part 2117.png: 640x320 (no detections), 15.2ms\n",
            "Speed: 1.6ms preprocess, 15.2ms inference, 0.7ms postprocess per image at shape (1, 3, 640, 320)\n",
            "\n",
            "image 1/1 /content/drive/MyDrive/cleaned dataset/balanced dataset/validationT/nonelephant/FARM ANIMALS on the FARM (real authentic sounds) compilation - 55 min KID COLLECTION - Part 2113.png: 640x320 (no detections), 15.3ms\n",
            "Speed: 1.8ms preprocess, 15.3ms inference, 0.7ms postprocess per image at shape (1, 3, 640, 320)\n",
            "\n",
            "image 1/1 /content/drive/MyDrive/cleaned dataset/balanced dataset/validationT/nonelephant/FARM ANIMALS on the FARM (real authentic sounds) compilation - 55 min KID COLLECTION - Part 2104.png: 640x320 (no detections), 15.2ms\n",
            "Speed: 1.5ms preprocess, 15.2ms inference, 0.7ms postprocess per image at shape (1, 3, 640, 320)\n",
            "\n",
            "image 1/1 /content/drive/MyDrive/cleaned dataset/balanced dataset/validationT/nonelephant/FARM ANIMALS on the FARM (real authentic sounds) compilation - 55 min KID COLLECTION - Part 296.png: 640x320 (no detections), 15.2ms\n",
            "Speed: 1.6ms preprocess, 15.2ms inference, 0.7ms postprocess per image at shape (1, 3, 640, 320)\n",
            "\n",
            "image 1/1 /content/drive/MyDrive/cleaned dataset/balanced dataset/validationT/nonelephant/FARM ANIMALS on the FARM (real authentic sounds) compilation - 55 min KID COLLECTION - Part 2109.png: 640x320 (no detections), 15.7ms\n",
            "Speed: 2.0ms preprocess, 15.7ms inference, 1.0ms postprocess per image at shape (1, 3, 640, 320)\n",
            "\n",
            "image 1/1 /content/drive/MyDrive/cleaned dataset/balanced dataset/validationT/nonelephant/FARM ANIMALS on the FARM (real authentic sounds) compilation - 55 min KID COLLECTION - Part 271.png: 640x320 (no detections), 15.6ms\n",
            "Speed: 2.3ms preprocess, 15.6ms inference, 0.9ms postprocess per image at shape (1, 3, 640, 320)\n",
            "\n",
            "image 1/1 /content/drive/MyDrive/cleaned dataset/balanced dataset/validationT/nonelephant/FARM ANIMALS on the FARM (real authentic sounds) compilation - 55 min KID COLLECTION - Part 273.png: 640x320 (no detections), 15.2ms\n",
            "Speed: 1.8ms preprocess, 15.2ms inference, 0.7ms postprocess per image at shape (1, 3, 640, 320)\n",
            "\n",
            "image 1/1 /content/drive/MyDrive/cleaned dataset/balanced dataset/validationT/nonelephant/FARM ANIMALS on the FARM (real authentic sounds) compilation - 55 min KID COLLECTION - Part 277.png: 640x320 (no detections), 15.2ms\n",
            "Speed: 1.7ms preprocess, 15.2ms inference, 0.7ms postprocess per image at shape (1, 3, 640, 320)\n",
            "\n",
            "image 1/1 /content/drive/MyDrive/cleaned dataset/balanced dataset/validationT/nonelephant/FARM ANIMALS on the FARM (real authentic sounds) compilation - 55 min KID COLLECTION - Part 265.png: 640x320 (no detections), 15.3ms\n",
            "Speed: 1.6ms preprocess, 15.3ms inference, 0.7ms postprocess per image at shape (1, 3, 640, 320)\n",
            "\n",
            "image 1/1 /content/drive/MyDrive/cleaned dataset/balanced dataset/validationT/nonelephant/FARM ANIMALS on the FARM (real authentic sounds) compilation - 55 min KID COLLECTION - Part 240.png: 640x320 (no detections), 15.3ms\n",
            "Speed: 1.8ms preprocess, 15.3ms inference, 0.6ms postprocess per image at shape (1, 3, 640, 320)\n",
            "\n",
            "image 1/1 /content/drive/MyDrive/cleaned dataset/balanced dataset/validationT/nonelephant/FARM ANIMALS on the FARM (real authentic sounds) compilation - 55 min KID COLLECTION - Part 254.png: 640x320 (no detections), 15.3ms\n",
            "Speed: 1.5ms preprocess, 15.3ms inference, 0.6ms postprocess per image at shape (1, 3, 640, 320)\n",
            "\n",
            "image 1/1 /content/drive/MyDrive/cleaned dataset/balanced dataset/validationT/nonelephant/FARM ANIMALS on the FARM (real authentic sounds) compilation - 55 min KID COLLECTION - Part 256.png: 640x320 (no detections), 15.5ms\n",
            "Speed: 2.0ms preprocess, 15.5ms inference, 0.7ms postprocess per image at shape (1, 3, 640, 320)\n",
            "\n",
            "image 1/1 /content/drive/MyDrive/cleaned dataset/balanced dataset/validationT/nonelephant/FARM ANIMALS on the FARM (real authentic sounds) compilation - 55 min KID COLLECTION - Part 259.png: 640x320 (no detections), 19.7ms\n",
            "Speed: 1.7ms preprocess, 19.7ms inference, 1.0ms postprocess per image at shape (1, 3, 640, 320)\n",
            "\n",
            "image 1/1 /content/drive/MyDrive/cleaned dataset/balanced dataset/validationT/nonelephant/FARM ANIMALS on the FARM (real authentic sounds) compilation - 55 min KID COLLECTION - Part 29.png: 640x320 (no detections), 15.3ms\n",
            "Speed: 1.6ms preprocess, 15.3ms inference, 0.7ms postprocess per image at shape (1, 3, 640, 320)\n",
            "\n",
            "image 1/1 /content/drive/MyDrive/cleaned dataset/balanced dataset/validationT/nonelephant/FARM ANIMALS on the FARM (real authentic sounds) compilation - 55 min KID COLLECTION - Part 219.png: 640x320 (no detections), 15.3ms\n",
            "Speed: 1.6ms preprocess, 15.3ms inference, 0.7ms postprocess per image at shape (1, 3, 640, 320)\n",
            "\n",
            "image 1/1 /content/drive/MyDrive/cleaned dataset/balanced dataset/validationT/nonelephant/FARM ANIMALS on the FARM (real authentic sounds) compilation - 55 min KID COLLECTION - Part 225.png: 640x320 (no detections), 15.2ms\n",
            "Speed: 1.7ms preprocess, 15.2ms inference, 0.7ms postprocess per image at shape (1, 3, 640, 320)\n",
            "\n",
            "image 1/1 /content/drive/MyDrive/cleaned dataset/balanced dataset/validationT/nonelephant/FARM ANIMALS on the FARM (real authentic sounds) compilation - 55 min KID COLLECTION - Part 220.png: 640x320 (no detections), 15.3ms\n",
            "Speed: 1.7ms preprocess, 15.3ms inference, 1.0ms postprocess per image at shape (1, 3, 640, 320)\n",
            "\n",
            "image 1/1 /content/drive/MyDrive/cleaned dataset/balanced dataset/validationT/nonelephant/FARM ANIMALS on the FARM (real authentic sounds) compilation - 55 min KID COLLECTION - Part 26.png: 640x320 (no detections), 15.2ms\n",
            "Speed: 1.6ms preprocess, 15.2ms inference, 0.7ms postprocess per image at shape (1, 3, 640, 320)\n",
            "\n",
            "image 1/1 /content/drive/MyDrive/cleaned dataset/balanced dataset/validationT/nonelephant/Guess The Animal Sounds For Kids  4K42.png: 640x320 (no detections), 15.2ms\n",
            "Speed: 1.5ms preprocess, 15.2ms inference, 0.7ms postprocess per image at shape (1, 3, 640, 320)\n",
            "\n",
            "image 1/1 /content/drive/MyDrive/cleaned dataset/balanced dataset/validationT/nonelephant/ANIMAL NAMES AND SOUNDS for Kids Video Compilation - Learn Animal Names for Children & Toddlers190.png: 640x320 (no detections), 15.2ms\n",
            "Speed: 1.6ms preprocess, 15.2ms inference, 0.7ms postprocess per image at shape (1, 3, 640, 320)\n",
            "\n",
            "image 1/1 /content/drive/MyDrive/cleaned dataset/balanced dataset/validationT/nonelephant/ANIMAL NAMES AND SOUNDS for Kids Video Compilation - Learn Animal Names for Children & Toddlers191.png: 640x320 (no detections), 15.2ms\n",
            "Speed: 1.6ms preprocess, 15.2ms inference, 1.1ms postprocess per image at shape (1, 3, 640, 320)\n",
            "\n",
            "image 1/1 /content/drive/MyDrive/cleaned dataset/balanced dataset/validationT/nonelephant/ANIMAL NAMES AND SOUNDS for Kids Video Compilation - Learn Animal Names for Children & Toddlers215.png: 640x320 (no detections), 15.2ms\n",
            "Speed: 1.7ms preprocess, 15.2ms inference, 0.7ms postprocess per image at shape (1, 3, 640, 320)\n",
            "\n",
            "image 1/1 /content/drive/MyDrive/cleaned dataset/balanced dataset/validationT/nonelephant/ANIMAL NAMES AND SOUNDS for Kids Video Compilation - Learn Animal Names for Children & Toddlers297.png: 640x320 (no detections), 15.2ms\n",
            "Speed: 1.7ms preprocess, 15.2ms inference, 0.7ms postprocess per image at shape (1, 3, 640, 320)\n",
            "\n",
            "image 1/1 /content/drive/MyDrive/cleaned dataset/balanced dataset/validationT/nonelephant/ANIMAL NAMES AND SOUNDS for Kids Video Compilation - Learn Animal Names for Children & Toddlers324.png: 640x320 (no detections), 15.2ms\n",
            "Speed: 1.6ms preprocess, 15.2ms inference, 0.7ms postprocess per image at shape (1, 3, 640, 320)\n",
            "\n",
            "image 1/1 /content/drive/MyDrive/cleaned dataset/balanced dataset/validationT/nonelephant/ANIMAL NAMES AND SOUNDS for Kids Video Compilation - Learn Animal Names for Children & Toddlers318.png: 640x320 (no detections), 15.2ms\n",
            "Speed: 1.7ms preprocess, 15.2ms inference, 0.7ms postprocess per image at shape (1, 3, 640, 320)\n",
            "\n",
            "image 1/1 /content/drive/MyDrive/cleaned dataset/balanced dataset/validationT/nonelephant/Guess the Animal by the Sound12.png: 640x320 (no detections), 15.3ms\n",
            "Speed: 1.8ms preprocess, 15.3ms inference, 1.0ms postprocess per image at shape (1, 3, 640, 320)\n",
            "\n",
            "image 1/1 /content/drive/MyDrive/cleaned dataset/balanced dataset/validationT/nonelephant/Guess the Animal by the Sound19.png: 640x320 (no detections), 15.2ms\n",
            "Speed: 1.6ms preprocess, 15.2ms inference, 0.7ms postprocess per image at shape (1, 3, 640, 320)\n",
            "\n",
            "image 1/1 /content/drive/MyDrive/cleaned dataset/balanced dataset/validationT/nonelephant/Guess the Animal Sound Game  30 Animal Sounds Quiz  Wildlife Trivia15.png: 640x320 (no detections), 15.6ms\n",
            "Speed: 1.6ms preprocess, 15.6ms inference, 1.0ms postprocess per image at shape (1, 3, 640, 320)\n",
            "\n",
            "image 1/1 /content/drive/MyDrive/cleaned dataset/balanced dataset/validationT/nonelephant/Guess the Animal Sound Game  30 Animal Sounds Quiz  Wildlife Trivia48.png: 640x320 (no detections), 15.3ms\n",
            "Speed: 1.8ms preprocess, 15.3ms inference, 0.9ms postprocess per image at shape (1, 3, 640, 320)\n",
            "\n",
            "image 1/1 /content/drive/MyDrive/cleaned dataset/balanced dataset/validationT/nonelephant/Guess the Animal Sound Game  30 Animal Sounds Quiz  Wildlife Trivia50.png: 640x320 (no detections), 15.2ms\n",
            "Speed: 1.7ms preprocess, 15.2ms inference, 0.7ms postprocess per image at shape (1, 3, 640, 320)\n",
            "\n",
            "image 1/1 /content/drive/MyDrive/cleaned dataset/balanced dataset/validationT/nonelephant/Guess The Animal Sounds For Kids  4K24.png: 640x320 (no detections), 15.2ms\n",
            "Speed: 1.6ms preprocess, 15.2ms inference, 0.7ms postprocess per image at shape (1, 3, 640, 320)\n",
            "\n",
            "image 1/1 /content/drive/MyDrive/cleaned dataset/balanced dataset/validationT/nonelephant/Guess The Animal Sounds For Kids  4K11.png: 640x320 (no detections), 15.2ms\n",
            "Speed: 1.6ms preprocess, 15.2ms inference, 0.7ms postprocess per image at shape (1, 3, 640, 320)\n",
            "\n",
            "image 1/1 /content/drive/MyDrive/cleaned dataset/balanced dataset/validationT/nonelephant/Guess The Animal Sounds For Kids  4K16.png: 640x320 (no detections), 15.2ms\n",
            "Speed: 1.6ms preprocess, 15.2ms inference, 0.7ms postprocess per image at shape (1, 3, 640, 320)\n",
            "\n",
            "image 1/1 /content/drive/MyDrive/cleaned dataset/balanced dataset/validationT/nonelephant/1500 ANIMALS NAMES and SOUNDS 8K ULTRA HD23.png: 640x320 (no detections), 15.2ms\n",
            "Speed: 1.6ms preprocess, 15.2ms inference, 0.7ms postprocess per image at shape (1, 3, 640, 320)\n",
            "\n",
            "image 1/1 /content/drive/MyDrive/cleaned dataset/balanced dataset/validationT/nonelephant/1500 ANIMALS NAMES and SOUNDS 8K ULTRA HD22.png: 640x320 (no detections), 15.3ms\n",
            "Speed: 1.6ms preprocess, 15.3ms inference, 0.7ms postprocess per image at shape (1, 3, 640, 320)\n",
            "\n",
            "image 1/1 /content/drive/MyDrive/cleaned dataset/balanced dataset/validationT/nonelephant/1500 ANIMALS NAMES and SOUNDS 8K ULTRA HD27.png: 640x320 (no detections), 15.2ms\n",
            "Speed: 1.7ms preprocess, 15.2ms inference, 0.7ms postprocess per image at shape (1, 3, 640, 320)\n",
            "\n",
            "image 1/1 /content/drive/MyDrive/cleaned dataset/balanced dataset/validationT/nonelephant/1500 ANIMALS NAMES and SOUNDS 8K ULTRA HD46.png: 640x320 (no detections), 15.2ms\n",
            "Speed: 1.7ms preprocess, 15.2ms inference, 0.8ms postprocess per image at shape (1, 3, 640, 320)\n",
            "\n",
            "image 1/1 /content/drive/MyDrive/cleaned dataset/balanced dataset/validationT/nonelephant/1500 ANIMALS NAMES and SOUNDS 8K ULTRA HD54.png: 640x320 1 ELEPHANT, 15.2ms\n",
            "Speed: 1.8ms preprocess, 15.2ms inference, 1.5ms postprocess per image at shape (1, 3, 640, 320)\n",
            "\n",
            "image 1/1 /content/drive/MyDrive/cleaned dataset/balanced dataset/validationT/nonelephant/1500 ANIMALS NAMES and SOUNDS 8K ULTRA HD86.png: 640x320 (no detections), 15.3ms\n",
            "Speed: 1.6ms preprocess, 15.3ms inference, 0.7ms postprocess per image at shape (1, 3, 640, 320)\n",
            "\n",
            "image 1/1 /content/drive/MyDrive/cleaned dataset/balanced dataset/validationT/nonelephant/1500 ANIMALS NAMES and SOUNDS 8K ULTRA HD116.png: 640x320 (no detections), 15.3ms\n",
            "Speed: 1.5ms preprocess, 15.3ms inference, 0.6ms postprocess per image at shape (1, 3, 640, 320)\n",
            "\n",
            "image 1/1 /content/drive/MyDrive/cleaned dataset/balanced dataset/validationT/nonelephant/1500 ANIMALS NAMES and SOUNDS 8K ULTRA HD95.png: 640x320 (no detections), 15.3ms\n",
            "Speed: 1.7ms preprocess, 15.3ms inference, 0.8ms postprocess per image at shape (1, 3, 640, 320)\n",
            "\n",
            "image 1/1 /content/drive/MyDrive/cleaned dataset/balanced dataset/validationT/nonelephant/1500 ANIMALS NAMES and SOUNDS 8K ULTRA HD142.png: 640x320 (no detections), 15.3ms\n",
            "Speed: 1.7ms preprocess, 15.3ms inference, 0.7ms postprocess per image at shape (1, 3, 640, 320)\n",
            "\n",
            "image 1/1 /content/drive/MyDrive/cleaned dataset/balanced dataset/validationT/nonelephant/1500 ANIMALS NAMES and SOUNDS 8K ULTRA HD131.png: 640x320 (no detections), 15.3ms\n",
            "Speed: 1.6ms preprocess, 15.3ms inference, 0.7ms postprocess per image at shape (1, 3, 640, 320)\n",
            "\n",
            "image 1/1 /content/drive/MyDrive/cleaned dataset/balanced dataset/validationT/nonelephant/1500 ANIMALS NAMES and SOUNDS 8K ULTRA HD134.png: 640x320 (no detections), 15.2ms\n",
            "Speed: 1.7ms preprocess, 15.2ms inference, 0.7ms postprocess per image at shape (1, 3, 640, 320)\n",
            "\n",
            "image 1/1 /content/drive/MyDrive/cleaned dataset/balanced dataset/validationT/nonelephant/1500 ANIMALS NAMES and SOUNDS 8K ULTRA HD166.png: 640x320 (no detections), 15.3ms\n",
            "Speed: 1.6ms preprocess, 15.3ms inference, 0.7ms postprocess per image at shape (1, 3, 640, 320)\n",
            "\n",
            "image 1/1 /content/drive/MyDrive/cleaned dataset/balanced dataset/validationT/nonelephant/1500 ANIMALS NAMES and SOUNDS 8K ULTRA HD149.png: 640x320 (no detections), 15.3ms\n",
            "Speed: 1.5ms preprocess, 15.3ms inference, 0.8ms postprocess per image at shape (1, 3, 640, 320)\n",
            "\n",
            "image 1/1 /content/drive/MyDrive/cleaned dataset/balanced dataset/validationT/nonelephant/1500 ANIMALS NAMES and SOUNDS 8K ULTRA HD188.png: 640x320 (no detections), 15.3ms\n",
            "Speed: 1.6ms preprocess, 15.3ms inference, 0.7ms postprocess per image at shape (1, 3, 640, 320)\n",
            "\n",
            "image 1/1 /content/drive/MyDrive/cleaned dataset/balanced dataset/validationT/nonelephant/1500 ANIMALS NAMES and SOUNDS 8K ULTRA HD183.png: 640x320 (no detections), 15.3ms\n",
            "Speed: 1.5ms preprocess, 15.3ms inference, 0.7ms postprocess per image at shape (1, 3, 640, 320)\n",
            "\n",
            "image 1/1 /content/drive/MyDrive/cleaned dataset/balanced dataset/validationT/nonelephant/1500 ANIMALS NAMES and SOUNDS 8K ULTRA HD209.png: 640x320 (no detections), 15.3ms\n",
            "Speed: 1.7ms preprocess, 15.3ms inference, 0.8ms postprocess per image at shape (1, 3, 640, 320)\n",
            "\n",
            "image 1/1 /content/drive/MyDrive/cleaned dataset/balanced dataset/validationT/nonelephant/1500 ANIMALS NAMES and SOUNDS 8K ULTRA HD206.png: 640x320 (no detections), 19.7ms\n",
            "Speed: 2.0ms preprocess, 19.7ms inference, 1.0ms postprocess per image at shape (1, 3, 640, 320)\n",
            "\n",
            "image 1/1 /content/drive/MyDrive/cleaned dataset/balanced dataset/validationT/nonelephant/1500 ANIMALS NAMES and SOUNDS 8K ULTRA HD204.png: 640x320 (no detections), 15.4ms\n",
            "Speed: 1.7ms preprocess, 15.4ms inference, 0.7ms postprocess per image at shape (1, 3, 640, 320)\n",
            "\n",
            "image 1/1 /content/drive/MyDrive/cleaned dataset/balanced dataset/validationT/nonelephant/ANIMAL NAMES AND SOUNDS for Kids Video Compilation - Learn Animal Names for Children & Toddlers0.png: 640x320 (no detections), 15.3ms\n",
            "Speed: 1.8ms preprocess, 15.3ms inference, 0.7ms postprocess per image at shape (1, 3, 640, 320)\n",
            "\n",
            "image 1/1 /content/drive/MyDrive/cleaned dataset/balanced dataset/validationT/nonelephant/1500 ANIMALS NAMES and SOUNDS 8K ULTRA HD223.png: 640x320 2 ELEPHANTs, 15.3ms\n",
            "Speed: 1.6ms preprocess, 15.3ms inference, 1.4ms postprocess per image at shape (1, 3, 640, 320)\n",
            "\n",
            "image 1/1 /content/drive/MyDrive/cleaned dataset/balanced dataset/validationT/nonelephant/1500 ANIMALS NAMES and SOUNDS 8K ULTRA HD217.png: 640x320 (no detections), 15.3ms\n",
            "Speed: 2.6ms preprocess, 15.3ms inference, 0.6ms postprocess per image at shape (1, 3, 640, 320)\n",
            "\n",
            "image 1/1 /content/drive/MyDrive/cleaned dataset/balanced dataset/validationT/nonelephant/1500 ANIMALS NAMES and SOUNDS 8K ULTRA HD225.png: 640x320 (no detections), 15.3ms\n",
            "Speed: 1.6ms preprocess, 15.3ms inference, 1.0ms postprocess per image at shape (1, 3, 640, 320)\n",
            "\n",
            "image 1/1 /content/drive/MyDrive/cleaned dataset/balanced dataset/validationT/nonelephant/1500 ANIMALS NAMES and SOUNDS 8K ULTRA HD232.png: 640x320 (no detections), 15.3ms\n",
            "Speed: 1.6ms preprocess, 15.3ms inference, 0.6ms postprocess per image at shape (1, 3, 640, 320)\n",
            "\n",
            "image 1/1 /content/drive/MyDrive/cleaned dataset/balanced dataset/validationT/nonelephant/ANIMAL NAMES AND SOUNDS for Kids Video Compilation - Learn Animal Names for Children & Toddlers6.png: 640x320 (no detections), 15.2ms\n",
            "Speed: 1.6ms preprocess, 15.2ms inference, 0.7ms postprocess per image at shape (1, 3, 640, 320)\n",
            "\n",
            "image 1/1 /content/drive/MyDrive/cleaned dataset/balanced dataset/validationT/nonelephant/ANIMAL NAMES AND SOUNDS for Kids Video Compilation - Learn Animal Names for Children & Toddlers28.png: 640x320 (no detections), 16.7ms\n",
            "Speed: 1.8ms preprocess, 16.7ms inference, 0.7ms postprocess per image at shape (1, 3, 640, 320)\n",
            "\n",
            "image 1/1 /content/drive/MyDrive/cleaned dataset/balanced dataset/validationT/nonelephant/ANIMAL NAMES AND SOUNDS for Kids Video Compilation - Learn Animal Names for Children & Toddlers40.png: 640x320 (no detections), 15.2ms\n",
            "Speed: 1.7ms preprocess, 15.2ms inference, 0.7ms postprocess per image at shape (1, 3, 640, 320)\n",
            "\n",
            "image 1/1 /content/drive/MyDrive/cleaned dataset/balanced dataset/validationT/nonelephant/ANIMAL NAMES AND SOUNDS for Kids Video Compilation - Learn Animal Names for Children & Toddlers41.png: 640x320 (no detections), 15.4ms\n",
            "Speed: 1.9ms preprocess, 15.4ms inference, 0.8ms postprocess per image at shape (1, 3, 640, 320)\n",
            "\n",
            "image 1/1 /content/drive/MyDrive/cleaned dataset/balanced dataset/validationT/nonelephant/ANIMAL NAMES AND SOUNDS for Kids Video Compilation - Learn Animal Names for Children & Toddlers42.png: 640x320 (no detections), 15.3ms\n",
            "Speed: 1.6ms preprocess, 15.3ms inference, 0.7ms postprocess per image at shape (1, 3, 640, 320)\n",
            "\n",
            "image 1/1 /content/drive/MyDrive/cleaned dataset/balanced dataset/validationT/nonelephant/ANIMAL NAMES AND SOUNDS for Kids Video Compilation - Learn Animal Names for Children & Toddlers66.png: 640x320 (no detections), 15.2ms\n",
            "Speed: 1.7ms preprocess, 15.2ms inference, 0.9ms postprocess per image at shape (1, 3, 640, 320)\n",
            "\n",
            "image 1/1 /content/drive/MyDrive/cleaned dataset/balanced dataset/validationT/nonelephant/ANIMAL NAMES AND SOUNDS for Kids Video Compilation - Learn Animal Names for Children & Toddlers92.png: 640x320 (no detections), 15.2ms\n",
            "Speed: 1.5ms preprocess, 15.2ms inference, 0.7ms postprocess per image at shape (1, 3, 640, 320)\n",
            "\n",
            "image 1/1 /content/drive/MyDrive/cleaned dataset/balanced dataset/validationT/nonelephant/ANIMAL NAMES AND SOUNDS for Kids Video Compilation - Learn Animal Names for Children & Toddlers119.png: 640x320 (no detections), 15.2ms\n",
            "Speed: 1.6ms preprocess, 15.2ms inference, 0.7ms postprocess per image at shape (1, 3, 640, 320)\n",
            "\n",
            "image 1/1 /content/drive/MyDrive/cleaned dataset/balanced dataset/validationT/nonelephant/ANIMAL NAMES AND SOUNDS for Kids Video Compilation - Learn Animal Names for Children & Toddlers102.png: 640x320 (no detections), 15.2ms\n",
            "Speed: 1.6ms preprocess, 15.2ms inference, 0.7ms postprocess per image at shape (1, 3, 640, 320)\n",
            "\n",
            "image 1/1 /content/drive/MyDrive/cleaned dataset/balanced dataset/validationT/nonelephant/ANIMAL NAMES AND SOUNDS for Kids Video Compilation - Learn Animal Names for Children & Toddlers133.png: 640x320 (no detections), 15.3ms\n",
            "Speed: 1.7ms preprocess, 15.3ms inference, 0.8ms postprocess per image at shape (1, 3, 640, 320)\n",
            "\n",
            "image 1/1 /content/drive/MyDrive/cleaned dataset/balanced dataset/validationT/nonelephant/ANIMAL NAMES AND SOUNDS for Kids Video Compilation - Learn Animal Names for Children & Toddlers121.png: 640x320 (no detections), 15.3ms\n",
            "Speed: 1.6ms preprocess, 15.3ms inference, 0.7ms postprocess per image at shape (1, 3, 640, 320)\n",
            "\n",
            "image 1/1 /content/drive/MyDrive/cleaned dataset/balanced dataset/validationT/nonelephant/ANIMAL NAMES AND SOUNDS for Kids Video Compilation - Learn Animal Names for Children & Toddlers122.png: 640x320 (no detections), 15.2ms\n",
            "Speed: 1.7ms preprocess, 15.2ms inference, 0.7ms postprocess per image at shape (1, 3, 640, 320)\n",
            "\n",
            "image 1/1 /content/drive/MyDrive/cleaned dataset/balanced dataset/validationT/nonelephant/ANIMAL NAMES AND SOUNDS for Kids Video Compilation - Learn Animal Names for Children & Toddlers143.png: 640x320 (no detections), 18.5ms\n",
            "Speed: 2.1ms preprocess, 18.5ms inference, 1.0ms postprocess per image at shape (1, 3, 640, 320)\n",
            "\n",
            "image 1/1 /content/drive/MyDrive/cleaned dataset/balanced dataset/validationT/nonelephant/ANIMAL NAMES AND SOUNDS for Kids Video Compilation - Learn Animal Names for Children & Toddlers159.png: 640x320 (no detections), 15.3ms\n",
            "Speed: 2.0ms preprocess, 15.3ms inference, 1.5ms postprocess per image at shape (1, 3, 640, 320)\n",
            "\n",
            "image 1/1 /content/drive/MyDrive/cleaned dataset/balanced dataset/validationT/nonelephant/ANIMAL NAMES AND SOUNDS for Kids Video Compilation - Learn Animal Names for Children & Toddlers163.png: 640x320 (no detections), 15.3ms\n",
            "Speed: 1.7ms preprocess, 15.3ms inference, 0.7ms postprocess per image at shape (1, 3, 640, 320)\n",
            "\n",
            "image 1/1 /content/drive/MyDrive/cleaned dataset/balanced dataset/validationT/nonelephant/ANIMAL NAMES AND SOUNDS for Kids Video Compilation - Learn Animal Names for Children & Toddlers178.png: 640x320 (no detections), 15.3ms\n",
            "Speed: 1.7ms preprocess, 15.3ms inference, 0.7ms postprocess per image at shape (1, 3, 640, 320)\n",
            "\n",
            "image 1/1 /content/drive/MyDrive/cleaned dataset/balanced dataset/validationT/nonelephant/ANIMAL NAMES AND SOUNDS for Kids Video Compilation - Learn Animal Names for Children & Toddlers248.png: 640x320 (no detections), 15.3ms\n",
            "Speed: 1.5ms preprocess, 15.3ms inference, 0.7ms postprocess per image at shape (1, 3, 640, 320)\n",
            "\n",
            "image 1/1 /content/drive/MyDrive/cleaned dataset/balanced dataset/validationT/nonelephant/ANIMAL NAMES AND SOUNDS for Kids Video Compilation - Learn Animal Names for Children & Toddlers245.png: 640x320 (no detections), 15.2ms\n",
            "Speed: 1.6ms preprocess, 15.2ms inference, 0.7ms postprocess per image at shape (1, 3, 640, 320)\n",
            "\n",
            "image 1/1 /content/drive/MyDrive/cleaned dataset/balanced dataset/validationT/nonelephant/ANIMAL NAMES AND SOUNDS for Kids Video Compilation - Learn Animal Names for Children & Toddlers277.png: 640x320 (no detections), 15.2ms\n",
            "Speed: 1.6ms preprocess, 15.2ms inference, 0.7ms postprocess per image at shape (1, 3, 640, 320)\n",
            "\n",
            "image 1/1 /content/drive/MyDrive/cleaned dataset/balanced dataset/validationT/nonelephant/ANIMAL NAMES AND SOUNDS for Kids Video Compilation - Learn Animal Names for Children & Toddlers276.png: 640x320 1 ELEPHANT, 15.2ms\n",
            "Speed: 1.7ms preprocess, 15.2ms inference, 1.4ms postprocess per image at shape (1, 3, 640, 320)\n",
            "\n",
            "image 1/1 /content/drive/MyDrive/cleaned dataset/balanced dataset/validationT/nonelephant/ANIMAL NAMES AND SOUNDS for Kids Video Compilation - Learn Animal Names for Children & Toddlers273.png: 640x320 (no detections), 19.7ms\n",
            "Speed: 2.1ms preprocess, 19.7ms inference, 0.9ms postprocess per image at shape (1, 3, 640, 320)\n",
            "\n",
            "image 1/1 /content/drive/MyDrive/cleaned dataset/balanced dataset/validationT/nonelephant/ANIMAL NAMES AND SOUNDS for Kids Video Compilation - Learn Animal Names for Children & Toddlers261.png: 640x320 (no detections), 15.3ms\n",
            "Speed: 1.6ms preprocess, 15.3ms inference, 0.7ms postprocess per image at shape (1, 3, 640, 320)\n"
          ]
        }
      ]
    },
    {
      "cell_type": "code",
      "source": [
        "len(nonelephant_pred)"
      ],
      "metadata": {
        "colab": {
          "base_uri": "https://localhost:8080/"
        },
        "id": "T9BEg7tXH8dz",
        "outputId": "bddffd29-25ec-47db-bf3a-1b3cc631287f"
      },
      "execution_count": null,
      "outputs": [
        {
          "output_type": "execute_result",
          "data": {
            "text/plain": [
              "81"
            ]
          },
          "metadata": {},
          "execution_count": 50
        }
      ]
    },
    {
      "cell_type": "code",
      "source": [
        "# making ground truth\n",
        "num_of_nonelephant = len(image_files_elephant)\n",
        "num_of_elephant = len(image_files_nonelephant)\n",
        "print(num_of_nonelephant,num_of_elephant)\n",
        "non_elephant_y=[0 for i in range(num_of_nonelephant)]\n",
        "elephant_y =[1 for i in range(num_of_elephant)]\n"
      ],
      "metadata": {
        "colab": {
          "base_uri": "https://localhost:8080/"
        },
        "id": "bip8QriQHEEW",
        "outputId": "85f909f4-dbd6-4253-db3d-cc8dc90f294c"
      },
      "execution_count": null,
      "outputs": [
        {
          "output_type": "stream",
          "name": "stdout",
          "text": [
            "84 81\n"
          ]
        }
      ]
    },
    {
      "cell_type": "code",
      "source": [
        "y_test = non_elephant_y+elephant_y\n",
        "y_pred = nonelephant_pred+elephant_pred"
      ],
      "metadata": {
        "id": "GFxDLdwjbF1n"
      },
      "execution_count": null,
      "outputs": []
    },
    {
      "cell_type": "code",
      "source": [
        "y_pred"
      ],
      "metadata": {
        "colab": {
          "base_uri": "https://localhost:8080/"
        },
        "id": "Z9pLKUSyIILW",
        "outputId": "0a6806d1-3db1-4563-8c4e-7aa895d7ca9a"
      },
      "execution_count": null,
      "outputs": [
        {
          "output_type": "execute_result",
          "data": {
            "text/plain": [
              "[0,\n",
              " 0,\n",
              " 0,\n",
              " 0,\n",
              " 0,\n",
              " 0,\n",
              " 0,\n",
              " 0,\n",
              " 0,\n",
              " 0,\n",
              " 0,\n",
              " 0,\n",
              " 0,\n",
              " 0,\n",
              " 0,\n",
              " 0,\n",
              " 0,\n",
              " 0,\n",
              " 0,\n",
              " 0,\n",
              " 0,\n",
              " 0,\n",
              " 0,\n",
              " 0,\n",
              " 0,\n",
              " 0,\n",
              " 0,\n",
              " 0,\n",
              " 0,\n",
              " 0,\n",
              " 0,\n",
              " 0,\n",
              " 0,\n",
              " 0,\n",
              " 0,\n",
              " 0,\n",
              " 0,\n",
              " 0,\n",
              " 0,\n",
              " 0,\n",
              " 1,\n",
              " 0,\n",
              " 0,\n",
              " 0,\n",
              " 0,\n",
              " 0,\n",
              " 0,\n",
              " 0,\n",
              " 0,\n",
              " 0,\n",
              " 0,\n",
              " 0,\n",
              " 0,\n",
              " 0,\n",
              " 0,\n",
              " 1,\n",
              " 0,\n",
              " 0,\n",
              " 0,\n",
              " 0,\n",
              " 0,\n",
              " 0,\n",
              " 0,\n",
              " 0,\n",
              " 0,\n",
              " 0,\n",
              " 0,\n",
              " 0,\n",
              " 0,\n",
              " 0,\n",
              " 0,\n",
              " 0,\n",
              " 0,\n",
              " 0,\n",
              " 0,\n",
              " 0,\n",
              " 0,\n",
              " 0,\n",
              " 1,\n",
              " 0,\n",
              " 0,\n",
              " 1,\n",
              " 1,\n",
              " 1,\n",
              " 1,\n",
              " 0,\n",
              " 1,\n",
              " 1,\n",
              " 1,\n",
              " 1,\n",
              " 1,\n",
              " 1,\n",
              " 1,\n",
              " 1,\n",
              " 1,\n",
              " 1,\n",
              " 1,\n",
              " 1,\n",
              " 1,\n",
              " 1,\n",
              " 1,\n",
              " 1,\n",
              " 1,\n",
              " 1,\n",
              " 1,\n",
              " 1,\n",
              " 1,\n",
              " 1,\n",
              " 1,\n",
              " 1,\n",
              " 1,\n",
              " 1,\n",
              " 1,\n",
              " 1,\n",
              " 1,\n",
              " 1,\n",
              " 1,\n",
              " 1,\n",
              " 1,\n",
              " 1,\n",
              " 1,\n",
              " 1,\n",
              " 1,\n",
              " 1,\n",
              " 1,\n",
              " 1,\n",
              " 1,\n",
              " 1,\n",
              " 1,\n",
              " 1,\n",
              " 1,\n",
              " 1,\n",
              " 1,\n",
              " 1,\n",
              " 1,\n",
              " 1,\n",
              " 1,\n",
              " 1,\n",
              " 1,\n",
              " 1,\n",
              " 1,\n",
              " 1,\n",
              " 1,\n",
              " 1,\n",
              " 1,\n",
              " 1,\n",
              " 1,\n",
              " 1,\n",
              " 1,\n",
              " 1,\n",
              " 1,\n",
              " 1,\n",
              " 1,\n",
              " 1,\n",
              " 1,\n",
              " 1,\n",
              " 1,\n",
              " 1,\n",
              " 1,\n",
              " 1,\n",
              " 1,\n",
              " 1,\n",
              " 1,\n",
              " 1,\n",
              " 1]"
            ]
          },
          "metadata": {},
          "execution_count": 53
        }
      ]
    },
    {
      "cell_type": "code",
      "source": [
        "from sklearn.metrics import confusion_matrix, f1_score, accuracy_score\n",
        "import numpy as np\n",
        "cm = confusion_matrix(y_test, y_pred)\n",
        "\n",
        "# Compute F1 score\n",
        "f1 = f1_score(y_test, y_pred)\n",
        "\n",
        "# Compute accuracy\n",
        "accuracy = accuracy_score(y_test, y_pred)\n",
        "\n",
        "print(\"Confusion Matrix:\")\n",
        "print(cm)\n",
        "print(\"F1 Score:\", f1)\n",
        "print(\"Accuracy:\", accuracy)"
      ],
      "metadata": {
        "id": "kcT1Hms7c6SZ",
        "colab": {
          "base_uri": "https://localhost:8080/"
        },
        "outputId": "04eebbf0-f958-4020-a7aa-6a64ddc32602"
      },
      "execution_count": null,
      "outputs": [
        {
          "output_type": "stream",
          "name": "stdout",
          "text": [
            "Confusion Matrix:\n",
            "[[78  6]\n",
            " [ 1 80]]\n",
            "F1 Score: 0.9580838323353293\n",
            "Accuracy: 0.9575757575757575\n"
          ]
        }
      ]
    },
    {
      "cell_type": "code",
      "source": [
        "from sklearn.metrics import precision_recall_curve\n",
        "import matplotlib.pyplot as plt\n",
        "\n",
        "# Assuming you have true labels and predicted probabilities of the positive class\n",
        "# true_labels = true labels of the test set\n",
        "# predicted_probs = predicted probabilities of the positive class for each instance in the test set\n",
        "\n",
        "precision, recall, thresholds = precision_recall_curve(y_test, y_pred)\n",
        "\n",
        "# Plot precision-recall curve\n",
        "plt.plot(recall, precision, marker='.')\n",
        "plt.xlabel('Recall')\n",
        "plt.ylabel('Precision')\n",
        "plt.title('Precision-Recall Curve')\n",
        "plt.grid(True)\n",
        "plt.show()"
      ],
      "metadata": {
        "colab": {
          "base_uri": "https://localhost:8080/",
          "height": 472
        },
        "id": "ek1Ujlh0coq1",
        "outputId": "dbbafd0b-fbf6-4596-aa9b-3e982406a191"
      },
      "execution_count": null,
      "outputs": [
        {
          "output_type": "display_data",
          "data": {
            "text/plain": [
              "<Figure size 640x480 with 1 Axes>"
            ],
            "image/png": "[encoded data removed]"
          },
          "metadata": {}
        }
      ]
    },
    {
      "cell_type": "code",
      "source": [
        "from sklearn.metrics import confusion_matrix, f1_score, accuracy_score\n",
        "import numpy as np\n",
        "cm = confusion_matrix(y_test, y_pred)\n",
        "\n",
        "# Compute F1 score\n",
        "f1 = f1_score(y_test, y_pred)\n",
        "\n",
        "# Compute accuracy\n",
        "accuracy = accuracy_score(y_test, y_pred)\n",
        "\n",
        "print(\"Confusion Matrix:\")\n",
        "print(cm)\n",
        "print(\"F1 Score:\", f1)\n",
        "print(\"Accuracy:\", accuracy)"
      ],
      "metadata": {
        "id": "T7aCBDCGdzqi",
        "colab": {
          "base_uri": "https://localhost:8080/"
        },
        "outputId": "05ebfdb9-5e7c-417f-8e98-f71291a59e35"
      },
      "execution_count": null,
      "outputs": [
        {
          "output_type": "stream",
          "name": "stdout",
          "text": [
            "Confusion Matrix:\n",
            "[[78  6]\n",
            " [ 1 80]]\n",
            "F1 Score: 0.9580838323353293\n",
            "Accuracy: 0.9575757575757575\n"
          ]
        }
      ]
    },
    {
      "cell_type": "code",
      "source": [
        "from sklearn.metrics import roc_curve, roc_auc_score\n",
        "import matplotlib.pyplot as plt\n",
        "\n",
        "fpr, tpr, thresholds = roc_curve(y_test, y_pred)\n",
        "\n",
        "# Compute AUC\n",
        "auc = roc_auc_score(y_test, y_pred)\n",
        "\n",
        "# Plot ROC curve\n",
        "plt.plot(fpr, tpr, marker='.')\n",
        "plt.xlabel('False Positive Rate')\n",
        "plt.ylabel('True Positive Rate')\n",
        "plt.title('ROC Curve')\n",
        "plt.grid(True)\n",
        "plt.show()\n",
        "\n",
        "print(\"AUC:\", auc)"
      ],
      "metadata": {
        "colab": {
          "base_uri": "https://localhost:8080/",
          "height": 489
        },
        "outputId": "ede52b92-ea0b-4c47-fb36-b42b364e2f83",
        "id": "y6zbaCU9dZ8V"
      },
      "execution_count": null,
      "outputs": [
        {
          "output_type": "display_data",
          "data": {
            "text/plain": [
              "<Figure size 640x480 with 1 Axes>"
            ],
            "image/png": "[encoded data removed]"
          },
          "metadata": {}
        },
        {
          "output_type": "stream",
          "name": "stdout",
          "text": [
            "AUC: 0.9581128747795414\n"
          ]
        }
      ]
    },
    {
      "cell_type": "code",
      "source": [
        "from sklearn.metrics import confusion_matrix\n",
        "import matplotlib.pyplot as plt\n",
        "import seaborn as sns\n",
        "\n",
        "def plot_confusion_matrix(true_labels, predicted_labels, classes):\n",
        "    \"\"\"Plot the confusion matrix.\n",
        "\n",
        "    Args:\n",
        "        true_labels (array-like): True labels of the test set.\n",
        "        predicted_labels (array-like): Predicted labels of the test set.\n",
        "        classes (list): List of class names.\n",
        "    \"\"\"\n",
        "    # Compute confusion matrix\n",
        "    cm = confusion_matrix(true_labels, predicted_labels)\n",
        "\n",
        "    # Plot confusion matrix\n",
        "    plt.figure(figsize=(8, 6))\n",
        "    sns.heatmap(cm, annot=True, fmt='d', cmap='Blues', xticklabels=classes, yticklabels=classes)\n",
        "    plt.xlabel('Predicted')\n",
        "    plt.ylabel('True')\n",
        "    plt.title('Confusion Matrix')\n",
        "    plt.show()\n",
        "\n",
        "# Assuming you have true labels and predicted labels\n",
        "# true_labels = true labels of the test set\n",
        "# predicted_labels = predicted labels of the test set\n",
        "# classes = list of class names\n",
        "\n",
        "# Plot confusion matrix\n",
        "plot_confusion_matrix(y_test, y_pred, [\"e\",\"n\"])\n"
      ],
      "metadata": {
        "colab": {
          "base_uri": "https://localhost:8080/",
          "height": 564
        },
        "id": "mJI8I3HrY-sO",
        "outputId": "42711987-6a7a-4585-d9f3-778af9c6b6b1"
      },
      "execution_count": null,
      "outputs": [
        {
          "output_type": "display_data",
          "data": {
            "text/plain": [
              "<Figure size 800x600 with 2 Axes>"
            ],
            "image/png": "[encoded data removed]"
          },
          "metadata": {}
        }
      ]
    },
    {
      "cell_type": "code",
      "source": [],
      "metadata": {
        "id": "wB7vrUEsuf3n"
      },
      "execution_count": null,
      "outputs": []
    }
  ]
}