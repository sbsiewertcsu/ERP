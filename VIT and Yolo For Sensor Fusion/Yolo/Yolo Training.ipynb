{
  "nbformat": 4,
  "nbformat_minor": 0,
  "metadata": {
    "colab": {
      "provenance": [],
      "machine_shape": "hm",
      "gpuType": "V100"
    },
    "kernelspec": {
      "name": "python3",
      "display_name": "Python 3"
    },
    "language_info": {
      "name": "python"
    },
    "accelerator": "GPU"
  },
  "cells": [
    {
      "cell_type": "code",
      "execution_count": null,
      "metadata": {
        "colab": {
          "base_uri": "https://localhost:8080/"
        },
        "id": "WAtdUQc6KceK",
        "outputId": "24efdce5-87d2-4172-eba6-4215cc0e19ab"
      },
      "outputs": [
        {
          "output_type": "stream",
          "name": "stdout",
          "text": [
            "Collecting ultralytics\n",
            "  Downloading ultralytics-8.1.34-py3-none-any.whl (723 kB)\n",
            "\u001b[2K     \u001b[90m━━━━━━━━━━━━━━━━━━━━━━━━━━━━━━━━━━━━━━━━\u001b[0m \u001b[32m723.1/723.1 kB\u001b[0m \u001b[31m6.2 MB/s\u001b[0m eta \u001b[36m0:00:00\u001b[0m\n",
            "\u001b[?25hRequirement already satisfied: matplotlib>=3.3.0 in /usr/local/lib/python3.10/dist-packages (from ultralytics) (3.7.1)\n",
            "Requirement already satisfied: opencv-python>=4.6.0 in /usr/local/lib/python3.10/dist-packages (from ultralytics) (4.8.0.76)\n",
            "Requirement already satisfied: pillow>=7.1.2 in /usr/local/lib/python3.10/dist-packages (from ultralytics) (9.4.0)\n",
            "Requirement already satisfied: pyyaml>=5.3.1 in /usr/local/lib/python3.10/dist-packages (from ultralytics) (6.0.1)\n",
            "Requirement already satisfied: requests>=2.23.0 in /usr/local/lib/python3.10/dist-packages (from ultralytics) (2.31.0)\n",
            "Requirement already satisfied: scipy>=1.4.1 in /usr/local/lib/python3.10/dist-packages (from ultralytics) (1.11.4)\n",
            "Requirement already satisfied: torch>=1.8.0 in /usr/local/lib/python3.10/dist-packages (from ultralytics) (2.2.1+cu121)\n",
            "Requirement already satisfied: torchvision>=0.9.0 in /usr/local/lib/python3.10/dist-packages (from ultralytics) (0.17.1+cu121)\n",
            "Requirement already satisfied: tqdm>=4.64.0 in /usr/local/lib/python3.10/dist-packages (from ultralytics) (4.66.2)\n",
            "Requirement already satisfied: psutil in /usr/local/lib/python3.10/dist-packages (from ultralytics) (5.9.5)\n",
            "Requirement already satisfied: py-cpuinfo in /usr/local/lib/python3.10/dist-packages (from ultralytics) (9.0.0)\n",
            "Collecting thop>=0.1.1 (from ultralytics)\n",
            "  Downloading thop-0.1.1.post2209072238-py3-none-any.whl (15 kB)\n",
            "Requirement already satisfied: pandas>=1.1.4 in /usr/local/lib/python3.10/dist-packages (from ultralytics) (1.5.3)\n",
            "Requirement already satisfied: seaborn>=0.11.0 in /usr/local/lib/python3.10/dist-packages (from ultralytics) (0.13.1)\n",
            "Requirement already satisfied: contourpy>=1.0.1 in /usr/local/lib/python3.10/dist-packages (from matplotlib>=3.3.0->ultralytics) (1.2.0)\n",
            "Requirement already satisfied: cycler>=0.10 in /usr/local/lib/python3.10/dist-packages (from matplotlib>=3.3.0->ultralytics) (0.12.1)\n",
            "Requirement already satisfied: fonttools>=4.22.0 in /usr/local/lib/python3.10/dist-packages (from matplotlib>=3.3.0->ultralytics) (4.50.0)\n",
            "Requirement already satisfied: kiwisolver>=1.0.1 in /usr/local/lib/python3.10/dist-packages (from matplotlib>=3.3.0->ultralytics) (1.4.5)\n",
            "Requirement already satisfied: numpy>=1.20 in /usr/local/lib/python3.10/dist-packages (from matplotlib>=3.3.0->ultralytics) (1.25.2)\n",
            "Requirement already satisfied: packaging>=20.0 in /usr/local/lib/python3.10/dist-packages (from matplotlib>=3.3.0->ultralytics) (24.0)\n",
            "Requirement already satisfied: pyparsing>=2.3.1 in /usr/local/lib/python3.10/dist-packages (from matplotlib>=3.3.0->ultralytics) (3.1.2)\n",
            "Requirement already satisfied: python-dateutil>=2.7 in /usr/local/lib/python3.10/dist-packages (from matplotlib>=3.3.0->ultralytics) (2.8.2)\n",
            "Requirement already satisfied: pytz>=2020.1 in /usr/local/lib/python3.10/dist-packages (from pandas>=1.1.4->ultralytics) (2023.4)\n",
            "Requirement already satisfied: charset-normalizer<4,>=2 in /usr/local/lib/python3.10/dist-packages (from requests>=2.23.0->ultralytics) (3.3.2)\n",
            "Requirement already satisfied: idna<4,>=2.5 in /usr/local/lib/python3.10/dist-packages (from requests>=2.23.0->ultralytics) (3.6)\n",
            "Requirement already satisfied: urllib3<3,>=1.21.1 in /usr/local/lib/python3.10/dist-packages (from requests>=2.23.0->ultralytics) (2.0.7)\n",
            "Requirement already satisfied: certifi>=2017.4.17 in /usr/local/lib/python3.10/dist-packages (from requests>=2.23.0->ultralytics) (2024.2.2)\n",
            "Requirement already satisfied: filelock in /usr/local/lib/python3.10/dist-packages (from torch>=1.8.0->ultralytics) (3.13.1)\n",
            "Requirement already satisfied: typing-extensions>=4.8.0 in /usr/local/lib/python3.10/dist-packages (from torch>=1.8.0->ultralytics) (4.10.0)\n",
            "Requirement already satisfied: sympy in /usr/local/lib/python3.10/dist-packages (from torch>=1.8.0->ultralytics) (1.12)\n",
            "Requirement already satisfied: networkx in /usr/local/lib/python3.10/dist-packages (from torch>=1.8.0->ultralytics) (3.2.1)\n",
            "Requirement already satisfied: jinja2 in /usr/local/lib/python3.10/dist-packages (from torch>=1.8.0->ultralytics) (3.1.3)\n",
            "Requirement already satisfied: fsspec in /usr/local/lib/python3.10/dist-packages (from torch>=1.8.0->ultralytics) (2023.6.0)\n",
            "Collecting nvidia-cuda-nvrtc-cu12==12.1.105 (from torch>=1.8.0->ultralytics)\n",
            "  Downloading nvidia_cuda_nvrtc_cu12-12.1.105-py3-none-manylinux1_x86_64.whl (23.7 MB)\n",
            "\u001b[2K     \u001b[90m━━━━━━━━━━━━━━━━━━━━━━━━━━━━━━━━━━━━━━━━\u001b[0m \u001b[32m23.7/23.7 MB\u001b[0m \u001b[31m69.7 MB/s\u001b[0m eta \u001b[36m0:00:00\u001b[0m\n",
            "\u001b[?25hCollecting nvidia-cuda-runtime-cu12==12.1.105 (from torch>=1.8.0->ultralytics)\n",
            "  Downloading nvidia_cuda_runtime_cu12-12.1.105-py3-none-manylinux1_x86_64.whl (823 kB)\n",
            "\u001b[2K     \u001b[90m━━━━━━━━━━━━━━━━━━━━━━━━━━━━━━━━━━━━━━━━\u001b[0m \u001b[32m823.6/823.6 kB\u001b[0m \u001b[31m66.3 MB/s\u001b[0m eta \u001b[36m0:00:00\u001b[0m\n",
            "\u001b[?25hCollecting nvidia-cuda-cupti-cu12==12.1.105 (from torch>=1.8.0->ultralytics)\n",
            "  Downloading nvidia_cuda_cupti_cu12-12.1.105-py3-none-manylinux1_x86_64.whl (14.1 MB)\n",
            "\u001b[2K     \u001b[90m━━━━━━━━━━━━━━━━━━━━━━━━━━━━━━━━━━━━━━━━\u001b[0m \u001b[32m14.1/14.1 MB\u001b[0m \u001b[31m81.0 MB/s\u001b[0m eta \u001b[36m0:00:00\u001b[0m\n",
            "\u001b[?25hCollecting nvidia-cudnn-cu12==8.9.2.26 (from torch>=1.8.0->ultralytics)\n",
            "  Downloading nvidia_cudnn_cu12-8.9.2.26-py3-none-manylinux1_x86_64.whl (731.7 MB)\n",
            "\u001b[2K     \u001b[90m━━━━━━━━━━━━━━━━━━━━━━━━━━━━━━━━━━━━━━━━\u001b[0m \u001b[32m731.7/731.7 MB\u001b[0m \u001b[31m2.4 MB/s\u001b[0m eta \u001b[36m0:00:00\u001b[0m\n",
            "\u001b[?25hCollecting nvidia-cublas-cu12==12.1.3.1 (from torch>=1.8.0->ultralytics)\n",
            "  Downloading nvidia_cublas_cu12-12.1.3.1-py3-none-manylinux1_x86_64.whl (410.6 MB)\n",
            "\u001b[2K     \u001b[90m━━━━━━━━━━━━━━━━━━━━━━━━━━━━━━━━━━━━━━━━\u001b[0m \u001b[32m410.6/410.6 MB\u001b[0m \u001b[31m3.1 MB/s\u001b[0m eta \u001b[36m0:00:00\u001b[0m\n",
            "\u001b[?25hCollecting nvidia-cufft-cu12==11.0.2.54 (from torch>=1.8.0->ultralytics)\n",
            "  Downloading nvidia_cufft_cu12-11.0.2.54-py3-none-manylinux1_x86_64.whl (121.6 MB)\n",
            "\u001b[2K     \u001b[90m━━━━━━━━━━━━━━━━━━━━━━━━━━━━━━━━━━━━━━━━\u001b[0m \u001b[32m121.6/121.6 MB\u001b[0m \u001b[31m13.5 MB/s\u001b[0m eta \u001b[36m0:00:00\u001b[0m\n",
            "\u001b[?25hCollecting nvidia-curand-cu12==10.3.2.106 (from torch>=1.8.0->ultralytics)\n",
            "  Downloading nvidia_curand_cu12-10.3.2.106-py3-none-manylinux1_x86_64.whl (56.5 MB)\n",
            "\u001b[2K     \u001b[90m━━━━━━━━━━━━━━━━━━━━━━━━━━━━━━━━━━━━━━━━\u001b[0m \u001b[32m56.5/56.5 MB\u001b[0m \u001b[31m28.8 MB/s\u001b[0m eta \u001b[36m0:00:00\u001b[0m\n",
            "\u001b[?25hCollecting nvidia-cusolver-cu12==11.4.5.107 (from torch>=1.8.0->ultralytics)\n",
            "  Downloading nvidia_cusolver_cu12-11.4.5.107-py3-none-manylinux1_x86_64.whl (124.2 MB)\n",
            "\u001b[2K     \u001b[90m━━━━━━━━━━━━━━━━━━━━━━━━━━━━━━━━━━━━━━━━\u001b[0m \u001b[32m124.2/124.2 MB\u001b[0m \u001b[31m7.5 MB/s\u001b[0m eta \u001b[36m0:00:00\u001b[0m\n",
            "\u001b[?25hCollecting nvidia-cusparse-cu12==12.1.0.106 (from torch>=1.8.0->ultralytics)\n",
            "  Downloading nvidia_cusparse_cu12-12.1.0.106-py3-none-manylinux1_x86_64.whl (196.0 MB)\n",
            "\u001b[2K     \u001b[90m━━━━━━━━━━━━━━━━━━━━━━━━━━━━━━━━━━━━━━━━\u001b[0m \u001b[32m196.0/196.0 MB\u001b[0m \u001b[31m4.5 MB/s\u001b[0m eta \u001b[36m0:00:00\u001b[0m\n",
            "\u001b[?25hCollecting nvidia-nccl-cu12==2.19.3 (from torch>=1.8.0->ultralytics)\n",
            "  Downloading nvidia_nccl_cu12-2.19.3-py3-none-manylinux1_x86_64.whl (166.0 MB)\n",
            "\u001b[2K     \u001b[90m━━━━━━━━━━━━━━━━━━━━━━━━━━━━━━━━━━━━━━━━\u001b[0m \u001b[32m166.0/166.0 MB\u001b[0m \u001b[31m5.8 MB/s\u001b[0m eta \u001b[36m0:00:00\u001b[0m\n",
            "\u001b[?25hCollecting nvidia-nvtx-cu12==12.1.105 (from torch>=1.8.0->ultralytics)\n",
            "  Downloading nvidia_nvtx_cu12-12.1.105-py3-none-manylinux1_x86_64.whl (99 kB)\n",
            "\u001b[2K     \u001b[90m━━━━━━━━━━━━━━━━━━━━━━━━━━━━━━━━━━━━━━━━\u001b[0m \u001b[32m99.1/99.1 kB\u001b[0m \u001b[31m13.5 MB/s\u001b[0m eta \u001b[36m0:00:00\u001b[0m\n",
            "\u001b[?25hRequirement already satisfied: triton==2.2.0 in /usr/local/lib/python3.10/dist-packages (from torch>=1.8.0->ultralytics) (2.2.0)\n",
            "Collecting nvidia-nvjitlink-cu12 (from nvidia-cusolver-cu12==11.4.5.107->torch>=1.8.0->ultralytics)\n",
            "  Downloading nvidia_nvjitlink_cu12-12.4.99-py3-none-manylinux2014_x86_64.whl (21.1 MB)\n",
            "\u001b[2K     \u001b[90m━━━━━━━━━━━━━━━━━━━━━━━━━━━━━━━━━━━━━━━━\u001b[0m \u001b[32m21.1/21.1 MB\u001b[0m \u001b[31m84.3 MB/s\u001b[0m eta \u001b[36m0:00:00\u001b[0m\n",
            "\u001b[?25hRequirement already satisfied: six>=1.5 in /usr/local/lib/python3.10/dist-packages (from python-dateutil>=2.7->matplotlib>=3.3.0->ultralytics) (1.16.0)\n",
            "Requirement already satisfied: MarkupSafe>=2.0 in /usr/local/lib/python3.10/dist-packages (from jinja2->torch>=1.8.0->ultralytics) (2.1.5)\n",
            "Requirement already satisfied: mpmath>=0.19 in /usr/local/lib/python3.10/dist-packages (from sympy->torch>=1.8.0->ultralytics) (1.3.0)\n",
            "Installing collected packages: nvidia-nvtx-cu12, nvidia-nvjitlink-cu12, nvidia-nccl-cu12, nvidia-curand-cu12, nvidia-cufft-cu12, nvidia-cuda-runtime-cu12, nvidia-cuda-nvrtc-cu12, nvidia-cuda-cupti-cu12, nvidia-cublas-cu12, nvidia-cusparse-cu12, nvidia-cudnn-cu12, nvidia-cusolver-cu12, thop, ultralytics\n",
            "Successfully installed nvidia-cublas-cu12-12.1.3.1 nvidia-cuda-cupti-cu12-12.1.105 nvidia-cuda-nvrtc-cu12-12.1.105 nvidia-cuda-runtime-cu12-12.1.105 nvidia-cudnn-cu12-8.9.2.26 nvidia-cufft-cu12-11.0.2.54 nvidia-curand-cu12-10.3.2.106 nvidia-cusolver-cu12-11.4.5.107 nvidia-cusparse-cu12-12.1.0.106 nvidia-nccl-cu12-2.19.3 nvidia-nvjitlink-cu12-12.4.99 nvidia-nvtx-cu12-12.1.105 thop-0.1.1.post2209072238 ultralytics-8.1.34\n"
          ]
        }
      ],
      "source": [
        "!pip install ultralytics"
      ]
    },
    {
      "cell_type": "code",
      "source": [
        "from ultralytics import YOLO\n",
        "import pandas as pd\n",
        "import sklearn\n",
        "import numpy as np\n",
        "import matplotlib.pyplot as plt\n",
        "import seaborn as sns\n",
        "import os\n",
        "import cv2\n",
        "from google.colab.patches import cv2_imshow\n",
        "import random\n",
        "import shutil"
      ],
      "metadata": {
        "id": "Nxrp4ZLxKwwU"
      },
      "execution_count": null,
      "outputs": []
    },
    {
      "cell_type": "code",
      "source": [
        "custom_model_combine = YOLO('yolov8x.yaml')\n",
        "results_combined = custom_model_combine.train(data='/content/drive/MyDrive/YoloCustonTraining/data.yaml', epochs=100, imgsz=640)"
      ],
      "metadata": {
        "id": "JIEBp42zQQyw",
        "colab": {
          "base_uri": "https://localhost:8080/"
        },
        "outputId": "e481dad9-d803-4d46-db37-8c03eab3a977"
      },
      "execution_count": null,
      "outputs": [
        {
          "metadata": {
            "tags": null
          },
          "name": "stdout",
          "output_type": "stream",
          "text": [
            "Ultralytics YOLOv8.1.34 🚀 Python-3.10.12 torch-2.2.1+cu121 CUDA:0 (Tesla V100-SXM2-16GB, 16151MiB)\n",
            "\u001b[34m\u001b[1mengine/trainer: \u001b[0mtask=detect, mode=train, model=yolov8x.yaml, data=/content/drive/MyDrive/YoloCustonTraining/data.yaml, epochs=100, time=None, patience=100, batch=16, imgsz=640, save=True, save_period=-1, cache=False, device=None, workers=8, project=None, name=train, exist_ok=False, pretrained=True, optimizer=auto, verbose=True, seed=0, deterministic=True, single_cls=False, rect=False, cos_lr=False, close_mosaic=10, resume=False, amp=True, fraction=1.0, profile=False, freeze=None, multi_scale=False, overlap_mask=True, mask_ratio=4, dropout=0.0, val=True, split=val, save_json=False, save_hybrid=False, conf=None, iou=0.7, max_det=300, half=False, dnn=False, plots=True, source=None, vid_stride=1, stream_buffer=False, visualize=False, augment=False, agnostic_nms=False, classes=None, retina_masks=False, embed=None, show=False, save_frames=False, save_txt=False, save_conf=False, save_crop=False, show_labels=True, show_conf=True, show_boxes=True, line_width=None, format=torchscript, keras=False, optimize=False, int8=False, dynamic=False, simplify=False, opset=None, workspace=4, nms=False, lr0=0.01, lrf=0.01, momentum=0.937, weight_decay=0.0005, warmup_epochs=3.0, warmup_momentum=0.8, warmup_bias_lr=0.1, box=7.5, cls=0.5, dfl=1.5, pose=12.0, kobj=1.0, label_smoothing=0.0, nbs=64, hsv_h=0.015, hsv_s=0.7, hsv_v=0.4, degrees=0.0, translate=0.1, scale=0.5, shear=0.0, perspective=0.0, flipud=0.0, fliplr=0.5, bgr=0.0, mosaic=1.0, mixup=0.0, copy_paste=0.0, auto_augment=randaugment, erasing=0.4, crop_fraction=1.0, cfg=None, tracker=botsort.yaml, save_dir=runs/detect/train\n",
            "Downloading https://ultralytics.com/assets/Arial.ttf to '/root/.config/Ultralytics/Arial.ttf'...\n"
          ]
        },
        {
          "metadata": {
            "tags": null
          },
          "name": "stderr",
          "output_type": "stream",
          "text": [
            "100%|██████████| 755k/755k [00:00<00:00, 39.7MB/s]\n"
          ]
        },
        {
          "metadata": {
            "tags": null
          },
          "name": "stdout",
          "output_type": "stream",
          "text": [
            "Overriding model.yaml nc=80 with nc=1\n",
            "\n",
            "                   from  n    params  module                                       arguments                     \n",
            "  0                  -1  1      2320  ultralytics.nn.modules.conv.Conv             [3, 80, 3, 2]                 \n",
            "  1                  -1  1    115520  ultralytics.nn.modules.conv.Conv             [80, 160, 3, 2]               \n",
            "  2                  -1  3    436800  ultralytics.nn.modules.block.C2f             [160, 160, 3, True]           \n",
            "  3                  -1  1    461440  ultralytics.nn.modules.conv.Conv             [160, 320, 3, 2]              \n",
            "  4                  -1  6   3281920  ultralytics.nn.modules.block.C2f             [320, 320, 6, True]           \n",
            "  5                  -1  1   1844480  ultralytics.nn.modules.conv.Conv             [320, 640, 3, 2]              \n",
            "  6                  -1  6  13117440  ultralytics.nn.modules.block.C2f             [640, 640, 6, True]           \n",
            "  7                  -1  1   3687680  ultralytics.nn.modules.conv.Conv             [640, 640, 3, 2]              \n",
            "  8                  -1  3   6969600  ultralytics.nn.modules.block.C2f             [640, 640, 3, True]           \n",
            "  9                  -1  1   1025920  ultralytics.nn.modules.block.SPPF            [640, 640, 5]                 \n",
            " 10                  -1  1         0  torch.nn.modules.upsampling.Upsample         [None, 2, 'nearest']          \n",
            " 11             [-1, 6]  1         0  ultralytics.nn.modules.conv.Concat           [1]                           \n",
            " 12                  -1  3   7379200  ultralytics.nn.modules.block.C2f             [1280, 640, 3]                \n",
            " 13                  -1  1         0  torch.nn.modules.upsampling.Upsample         [None, 2, 'nearest']          \n",
            " 14             [-1, 4]  1         0  ultralytics.nn.modules.conv.Concat           [1]                           \n",
            " 15                  -1  3   1948800  ultralytics.nn.modules.block.C2f             [960, 320, 3]                 \n",
            " 16                  -1  1    922240  ultralytics.nn.modules.conv.Conv             [320, 320, 3, 2]              \n",
            " 17            [-1, 12]  1         0  ultralytics.nn.modules.conv.Concat           [1]                           \n",
            " 18                  -1  3   7174400  ultralytics.nn.modules.block.C2f             [960, 640, 3]                 \n",
            " 19                  -1  1   3687680  ultralytics.nn.modules.conv.Conv             [640, 640, 3, 2]              \n",
            " 20             [-1, 9]  1         0  ultralytics.nn.modules.conv.Concat           [1]                           \n",
            " 21                  -1  3   7379200  ultralytics.nn.modules.block.C2f             [1280, 640, 3]                \n",
            " 22        [15, 18, 21]  1   8718931  ultralytics.nn.modules.head.Detect           [1, [320, 640, 640]]          \n",
            "YOLOv8x summary: 365 layers, 68153571 parameters, 68153555 gradients, 258.1 GFLOPs\n",
            "\n",
            "\u001b[34m\u001b[1mTensorBoard: \u001b[0mStart with 'tensorboard --logdir runs/detect/train', view at http://localhost:6006/\n",
            "Freezing layer 'model.22.dfl.conv.weight'\n",
            "\u001b[34m\u001b[1mAMP: \u001b[0mrunning Automatic Mixed Precision (AMP) checks with YOLOv8n...\n",
            "Downloading https://github.com/ultralytics/assets/releases/download/v8.1.0/yolov8n.pt to 'yolov8n.pt'...\n"
          ]
        },
        {
          "metadata": {
            "tags": null
          },
          "name": "stderr",
          "output_type": "stream",
          "text": [
            "100%|██████████| 6.23M/6.23M [00:00<00:00, 204MB/s]\n"
          ]
        },
        {
          "metadata": {
            "tags": null
          },
          "name": "stdout",
          "output_type": "stream",
          "text": [
            "\u001b[34m\u001b[1mAMP: \u001b[0mchecks passed ✅\n"
          ]
        },
        {
          "metadata": {
            "tags": null
          },
          "name": "stderr",
          "output_type": "stream",
          "text": [
            "\u001b[34m\u001b[1mtrain: \u001b[0mScanning /content/drive/MyDrive/YoloCustonTraining/train/labels.cache... 1316 images, 646 backgrounds, 0 corrupt: 100%|██████████| 1316/1316 [00:00<?, ?it/s]\n"
          ]
        },
        {
          "metadata": {
            "tags": null
          },
          "name": "stdout",
          "output_type": "stream",
          "text": [
            "\u001b[34m\u001b[1malbumentations: \u001b[0mBlur(p=0.01, blur_limit=(3, 7)), MedianBlur(p=0.01, blur_limit=(3, 7)), ToGray(p=0.01), CLAHE(p=0.01, clip_limit=(1, 4.0), tile_grid_size=(8, 8))\n"
          ]
        },
        {
          "metadata": {
            "tags": null
          },
          "name": "stderr",
          "output_type": "stream",
          "text": [
            "\u001b[34m\u001b[1mval: \u001b[0mScanning /content/drive/MyDrive/YoloCustonTraining/validate/labels.cache... 165 images, 81 backgrounds, 0 corrupt: 100%|██████████| 165/165 [00:00<?, ?it/s]\n"
          ]
        },
        {
          "metadata": {
            "tags": null
          },
          "name": "stdout",
          "output_type": "stream",
          "text": [
            "Plotting labels to runs/detect/train/labels.jpg... \n",
            "\u001b[34m\u001b[1moptimizer:\u001b[0m 'optimizer=auto' found, ignoring 'lr0=0.01' and 'momentum=0.937' and determining best 'optimizer', 'lr0' and 'momentum' automatically... \n",
            "\u001b[34m\u001b[1moptimizer:\u001b[0m AdamW(lr=0.002, momentum=0.9) with parameter groups 97 weight(decay=0.0), 104 weight(decay=0.0005), 103 bias(decay=0.0)\n",
            "\u001b[34m\u001b[1mTensorBoard: \u001b[0mmodel graph visualization added ✅\n",
            "Image sizes 640 train, 640 val\n",
            "Using 8 dataloader workers\n",
            "Logging results to \u001b[1mruns/detect/train\u001b[0m\n",
            "Starting training for 100 epochs...\n",
            "\n",
            "      Epoch    GPU_mem   box_loss   cls_loss   dfl_loss  Instances       Size\n"
          ]
        },
        {
          "metadata": {
            "tags": null
          },
          "name": "stderr",
          "output_type": "stream",
          "text": [
            "      1/100      13.9G      2.938      3.208      3.637          9        640: 100%|██████████| 83/83 [02:53<00:00,  2.09s/it]\n",
            "                 Class     Images  Instances      Box(P          R      mAP50  mAP50-95): 100%|██████████| 6/6 [00:02<00:00,  2.17it/s]"
          ]
        },
        {
          "metadata": {
            "tags": null
          },
          "name": "stdout",
          "output_type": "stream",
          "text": [
            "                   all        165        259     0.0793      0.131     0.0487     0.0221\n"
          ]
        },
        {
          "metadata": {
            "tags": null
          },
          "name": "stderr",
          "output_type": "stream",
          "text": [
            "\n"
          ]
        },
        {
          "metadata": {
            "tags": null
          },
          "name": "stdout",
          "output_type": "stream",
          "text": [
            "\n",
            "      Epoch    GPU_mem   box_loss   cls_loss   dfl_loss  Instances       Size\n"
          ]
        },
        {
          "metadata": {
            "tags": null
          },
          "name": "stderr",
          "output_type": "stream",
          "text": [
            "      2/100      13.7G      2.052      2.289      2.599          8        640: 100%|██████████| 83/83 [00:33<00:00,  2.51it/s]\n",
            "                 Class     Images  Instances      Box(P          R      mAP50  mAP50-95): 100%|██████████| 6/6 [00:01<00:00,  4.34it/s]"
          ]
        },
        {
          "metadata": {
            "tags": null
          },
          "name": "stdout",
          "output_type": "stream",
          "text": [
            "                   all        165        259     0.0312      0.467     0.0246      0.015\n"
          ]
        },
        {
          "metadata": {
            "tags": null
          },
          "name": "stderr",
          "output_type": "stream",
          "text": [
            "\n"
          ]
        },
        {
          "metadata": {
            "tags": null
          },
          "name": "stdout",
          "output_type": "stream",
          "text": [
            "\n",
            "      Epoch    GPU_mem   box_loss   cls_loss   dfl_loss  Instances       Size\n"
          ]
        },
        {
          "metadata": {
            "tags": null
          },
          "name": "stderr",
          "output_type": "stream",
          "text": [
            "      3/100      13.5G       1.64      1.937      2.144          8        640: 100%|██████████| 83/83 [00:32<00:00,  2.54it/s]\n",
            "                 Class     Images  Instances      Box(P          R      mAP50  mAP50-95): 100%|██████████| 6/6 [00:01<00:00,  4.50it/s]"
          ]
        },
        {
          "metadata": {
            "tags": null
          },
          "name": "stdout",
          "output_type": "stream",
          "text": [
            "                   all        165        259      0.134      0.606      0.111     0.0681\n"
          ]
        },
        {
          "metadata": {
            "tags": null
          },
          "name": "stderr",
          "output_type": "stream",
          "text": [
            "\n"
          ]
        },
        {
          "metadata": {
            "tags": null
          },
          "name": "stdout",
          "output_type": "stream",
          "text": [
            "\n",
            "      Epoch    GPU_mem   box_loss   cls_loss   dfl_loss  Instances       Size\n"
          ]
        },
        {
          "metadata": {
            "tags": null
          },
          "name": "stderr",
          "output_type": "stream",
          "text": [
            "      4/100      13.6G      1.443       1.72      1.898         24        640: 100%|██████████| 83/83 [00:32<00:00,  2.55it/s]\n",
            "                 Class     Images  Instances      Box(P          R      mAP50  mAP50-95): 100%|██████████| 6/6 [00:01<00:00,  4.61it/s]"
          ]
        },
        {
          "metadata": {
            "tags": null
          },
          "name": "stdout",
          "output_type": "stream",
          "text": [
            "                   all        165        259      0.507      0.514      0.474      0.327\n"
          ]
        },
        {
          "metadata": {
            "tags": null
          },
          "name": "stderr",
          "output_type": "stream",
          "text": [
            "\n"
          ]
        },
        {
          "metadata": {
            "tags": null
          },
          "name": "stdout",
          "output_type": "stream",
          "text": [
            "\n",
            "      Epoch    GPU_mem   box_loss   cls_loss   dfl_loss  Instances       Size\n"
          ]
        },
        {
          "metadata": {
            "tags": null
          },
          "name": "stderr",
          "output_type": "stream",
          "text": [
            "      5/100      14.4G      1.333      1.604      1.755         16        640: 100%|██████████| 83/83 [00:32<00:00,  2.55it/s]\n",
            "                 Class     Images  Instances      Box(P          R      mAP50  mAP50-95): 100%|██████████| 6/6 [00:01<00:00,  4.74it/s]"
          ]
        },
        {
          "metadata": {
            "tags": null
          },
          "name": "stdout",
          "output_type": "stream",
          "text": [
            "                   all        165        259      0.313       0.73      0.368      0.199\n"
          ]
        },
        {
          "metadata": {
            "tags": null
          },
          "name": "stderr",
          "output_type": "stream",
          "text": [
            "\n"
          ]
        },
        {
          "metadata": {
            "tags": null
          },
          "name": "stdout",
          "output_type": "stream",
          "text": [
            "\n",
            "      Epoch    GPU_mem   box_loss   cls_loss   dfl_loss  Instances       Size\n"
          ]
        },
        {
          "metadata": {
            "tags": null
          },
          "name": "stderr",
          "output_type": "stream",
          "text": [
            "      6/100      12.9G      1.248      1.555       1.68          6        640: 100%|██████████| 83/83 [00:32<00:00,  2.54it/s]\n",
            "                 Class     Images  Instances      Box(P          R      mAP50  mAP50-95): 100%|██████████| 6/6 [00:01<00:00,  4.56it/s]"
          ]
        },
        {
          "metadata": {
            "tags": null
          },
          "name": "stdout",
          "output_type": "stream",
          "text": [
            "                   all        165        259      0.586      0.578      0.577      0.414\n"
          ]
        },
        {
          "metadata": {
            "tags": null
          },
          "name": "stderr",
          "output_type": "stream",
          "text": [
            "\n"
          ]
        },
        {
          "metadata": {
            "tags": null
          },
          "name": "stdout",
          "output_type": "stream",
          "text": [
            "\n",
            "      Epoch    GPU_mem   box_loss   cls_loss   dfl_loss  Instances       Size\n"
          ]
        },
        {
          "metadata": {
            "tags": null
          },
          "name": "stderr",
          "output_type": "stream",
          "text": [
            "      7/100      13.5G      1.141      1.449      1.581         14        640: 100%|██████████| 83/83 [00:32<00:00,  2.55it/s]\n",
            "                 Class     Images  Instances      Box(P          R      mAP50  mAP50-95): 100%|██████████| 6/6 [00:01<00:00,  4.83it/s]"
          ]
        },
        {
          "metadata": {
            "tags": null
          },
          "name": "stdout",
          "output_type": "stream",
          "text": [
            "                   all        165        259      0.572      0.568      0.577      0.402\n"
          ]
        },
        {
          "metadata": {
            "tags": null
          },
          "name": "stderr",
          "output_type": "stream",
          "text": [
            "\n"
          ]
        },
        {
          "metadata": {
            "tags": null
          },
          "name": "stdout",
          "output_type": "stream",
          "text": [
            "\n",
            "      Epoch    GPU_mem   box_loss   cls_loss   dfl_loss  Instances       Size\n"
          ]
        },
        {
          "output_type": "stream",
          "name": "stderr",
          "text": [
            "      8/100      13.5G      1.117      1.422       1.55          3        640: 100%|██████████| 83/83 [00:32<00:00,  2.54it/s]\n",
            "                 Class     Images  Instances      Box(P          R      mAP50  mAP50-95): 100%|██████████| 6/6 [00:01<00:00,  4.76it/s]"
          ]
        },
        {
          "output_type": "stream",
          "name": "stdout",
          "text": [
            "                   all        165        259      0.594       0.61      0.582       0.43\n"
          ]
        },
        {
          "output_type": "stream",
          "name": "stderr",
          "text": [
            "\n"
          ]
        },
        {
          "output_type": "stream",
          "name": "stdout",
          "text": [
            "\n",
            "      Epoch    GPU_mem   box_loss   cls_loss   dfl_loss  Instances       Size\n"
          ]
        },
        {
          "output_type": "stream",
          "name": "stderr",
          "text": [
            "      9/100      13.5G      1.084       1.35      1.514         27        640: 100%|██████████| 83/83 [00:32<00:00,  2.55it/s]\n",
            "                 Class     Images  Instances      Box(P          R      mAP50  mAP50-95): 100%|██████████| 6/6 [00:01<00:00,  4.89it/s]"
          ]
        },
        {
          "output_type": "stream",
          "name": "stdout",
          "text": [
            "                   all        165        259      0.557       0.62      0.608      0.476\n"
          ]
        },
        {
          "output_type": "stream",
          "name": "stderr",
          "text": [
            "\n"
          ]
        },
        {
          "output_type": "stream",
          "name": "stdout",
          "text": [
            "\n",
            "      Epoch    GPU_mem   box_loss   cls_loss   dfl_loss  Instances       Size\n"
          ]
        },
        {
          "output_type": "stream",
          "name": "stderr",
          "text": [
            "     10/100      13.7G      1.013      1.318      1.471          7        640: 100%|██████████| 83/83 [00:32<00:00,  2.54it/s]\n",
            "                 Class     Images  Instances      Box(P          R      mAP50  mAP50-95): 100%|██████████| 6/6 [00:01<00:00,  4.77it/s]"
          ]
        },
        {
          "output_type": "stream",
          "name": "stdout",
          "text": [
            "                   all        165        259      0.606      0.514       0.56      0.438\n"
          ]
        },
        {
          "output_type": "stream",
          "name": "stderr",
          "text": [
            "\n"
          ]
        },
        {
          "output_type": "stream",
          "name": "stdout",
          "text": [
            "\n",
            "      Epoch    GPU_mem   box_loss   cls_loss   dfl_loss  Instances       Size\n"
          ]
        },
        {
          "output_type": "stream",
          "name": "stderr",
          "text": [
            "     11/100      13.5G     0.9909      1.231      1.435         15        640: 100%|██████████| 83/83 [00:32<00:00,  2.55it/s]\n",
            "                 Class     Images  Instances      Box(P          R      mAP50  mAP50-95): 100%|██████████| 6/6 [00:01<00:00,  4.87it/s]"
          ]
        },
        {
          "output_type": "stream",
          "name": "stdout",
          "text": [
            "                   all        165        259      0.601      0.687       0.64      0.523\n"
          ]
        },
        {
          "output_type": "stream",
          "name": "stderr",
          "text": [
            "\n"
          ]
        },
        {
          "output_type": "stream",
          "name": "stdout",
          "text": [
            "\n",
            "      Epoch    GPU_mem   box_loss   cls_loss   dfl_loss  Instances       Size\n"
          ]
        },
        {
          "output_type": "stream",
          "name": "stderr",
          "text": [
            "     12/100      13.6G     0.9394      1.226      1.398          7        640: 100%|██████████| 83/83 [00:32<00:00,  2.55it/s]\n",
            "                 Class     Images  Instances      Box(P          R      mAP50  mAP50-95): 100%|██████████| 6/6 [00:01<00:00,  4.96it/s]"
          ]
        },
        {
          "output_type": "stream",
          "name": "stdout",
          "text": [
            "                   all        165        259      0.631      0.701      0.677      0.544\n"
          ]
        },
        {
          "output_type": "stream",
          "name": "stderr",
          "text": [
            "\n"
          ]
        },
        {
          "output_type": "stream",
          "name": "stdout",
          "text": [
            "\n",
            "      Epoch    GPU_mem   box_loss   cls_loss   dfl_loss  Instances       Size\n"
          ]
        },
        {
          "output_type": "stream",
          "name": "stderr",
          "text": [
            "     13/100      13.6G     0.9498      1.168      1.396         15        640: 100%|██████████| 83/83 [00:32<00:00,  2.55it/s]\n",
            "                 Class     Images  Instances      Box(P          R      mAP50  mAP50-95): 100%|██████████| 6/6 [00:01<00:00,  4.82it/s]"
          ]
        },
        {
          "output_type": "stream",
          "name": "stdout",
          "text": [
            "                   all        165        259      0.689      0.666        0.7      0.557\n"
          ]
        },
        {
          "output_type": "stream",
          "name": "stderr",
          "text": [
            "\n"
          ]
        },
        {
          "output_type": "stream",
          "name": "stdout",
          "text": [
            "\n",
            "      Epoch    GPU_mem   box_loss   cls_loss   dfl_loss  Instances       Size\n"
          ]
        },
        {
          "output_type": "stream",
          "name": "stderr",
          "text": [
            "     14/100      12.9G     0.9515      1.195      1.403         27        640: 100%|██████████| 83/83 [00:32<00:00,  2.55it/s]\n",
            "                 Class     Images  Instances      Box(P          R      mAP50  mAP50-95): 100%|██████████| 6/6 [00:01<00:00,  4.75it/s]"
          ]
        },
        {
          "output_type": "stream",
          "name": "stdout",
          "text": [
            "                   all        165        259      0.754      0.622      0.696      0.511\n"
          ]
        },
        {
          "output_type": "stream",
          "name": "stderr",
          "text": [
            "\n"
          ]
        },
        {
          "output_type": "stream",
          "name": "stdout",
          "text": [
            "\n",
            "      Epoch    GPU_mem   box_loss   cls_loss   dfl_loss  Instances       Size\n"
          ]
        },
        {
          "output_type": "stream",
          "name": "stderr",
          "text": [
            "     15/100      13.6G     0.9184      1.128      1.363         19        640: 100%|██████████| 83/83 [00:32<00:00,  2.55it/s]\n",
            "                 Class     Images  Instances      Box(P          R      mAP50  mAP50-95): 100%|██████████| 6/6 [00:01<00:00,  4.75it/s]"
          ]
        },
        {
          "output_type": "stream",
          "name": "stdout",
          "text": [
            "                   all        165        259      0.643      0.668      0.666      0.549\n"
          ]
        },
        {
          "output_type": "stream",
          "name": "stderr",
          "text": [
            "\n"
          ]
        },
        {
          "output_type": "stream",
          "name": "stdout",
          "text": [
            "\n",
            "      Epoch    GPU_mem   box_loss   cls_loss   dfl_loss  Instances       Size\n"
          ]
        },
        {
          "output_type": "stream",
          "name": "stderr",
          "text": [
            "     16/100      13.6G     0.8822      1.104      1.351         12        640: 100%|██████████| 83/83 [00:32<00:00,  2.54it/s]\n",
            "                 Class     Images  Instances      Box(P          R      mAP50  mAP50-95): 100%|██████████| 6/6 [00:01<00:00,  4.73it/s]"
          ]
        },
        {
          "output_type": "stream",
          "name": "stdout",
          "text": [
            "                   all        165        259       0.72      0.602      0.693      0.507\n"
          ]
        },
        {
          "output_type": "stream",
          "name": "stderr",
          "text": [
            "\n"
          ]
        },
        {
          "output_type": "stream",
          "name": "stdout",
          "text": [
            "\n",
            "      Epoch    GPU_mem   box_loss   cls_loss   dfl_loss  Instances       Size\n"
          ]
        },
        {
          "output_type": "stream",
          "name": "stderr",
          "text": [
            "     17/100      13.5G     0.8639      1.092      1.337          9        640: 100%|██████████| 83/83 [00:32<00:00,  2.55it/s]\n",
            "                 Class     Images  Instances      Box(P          R      mAP50  mAP50-95): 100%|██████████| 6/6 [00:01<00:00,  4.74it/s]"
          ]
        },
        {
          "output_type": "stream",
          "name": "stdout",
          "text": [
            "                   all        165        259      0.762       0.68      0.757      0.619\n"
          ]
        },
        {
          "output_type": "stream",
          "name": "stderr",
          "text": [
            "\n"
          ]
        },
        {
          "output_type": "stream",
          "name": "stdout",
          "text": [
            "\n",
            "      Epoch    GPU_mem   box_loss   cls_loss   dfl_loss  Instances       Size\n"
          ]
        },
        {
          "output_type": "stream",
          "name": "stderr",
          "text": [
            "     18/100      12.9G     0.8449      1.056      1.312         10        640: 100%|██████████| 83/83 [00:32<00:00,  2.55it/s]\n",
            "                 Class     Images  Instances      Box(P          R      mAP50  mAP50-95): 100%|██████████| 6/6 [00:01<00:00,  4.70it/s]"
          ]
        },
        {
          "output_type": "stream",
          "name": "stdout",
          "text": [
            "                   all        165        259      0.753       0.71      0.768      0.598\n"
          ]
        },
        {
          "output_type": "stream",
          "name": "stderr",
          "text": [
            "\n"
          ]
        },
        {
          "output_type": "stream",
          "name": "stdout",
          "text": [
            "\n",
            "      Epoch    GPU_mem   box_loss   cls_loss   dfl_loss  Instances       Size\n"
          ]
        },
        {
          "output_type": "stream",
          "name": "stderr",
          "text": [
            "     19/100      13.5G     0.8324      1.028      1.306         12        640: 100%|██████████| 83/83 [00:32<00:00,  2.55it/s]\n",
            "                 Class     Images  Instances      Box(P          R      mAP50  mAP50-95): 100%|██████████| 6/6 [00:01<00:00,  4.88it/s]"
          ]
        },
        {
          "output_type": "stream",
          "name": "stdout",
          "text": [
            "                   all        165        259      0.699      0.676       0.75      0.595\n"
          ]
        },
        {
          "output_type": "stream",
          "name": "stderr",
          "text": [
            "\n"
          ]
        },
        {
          "output_type": "stream",
          "name": "stdout",
          "text": [
            "\n",
            "      Epoch    GPU_mem   box_loss   cls_loss   dfl_loss  Instances       Size\n"
          ]
        },
        {
          "output_type": "stream",
          "name": "stderr",
          "text": [
            "     20/100      13.6G      0.835      1.017      1.306         26        640: 100%|██████████| 83/83 [00:32<00:00,  2.55it/s]\n",
            "                 Class     Images  Instances      Box(P          R      mAP50  mAP50-95): 100%|██████████| 6/6 [00:01<00:00,  4.93it/s]"
          ]
        },
        {
          "output_type": "stream",
          "name": "stdout",
          "text": [
            "                   all        165        259      0.747       0.71      0.774      0.598\n"
          ]
        },
        {
          "output_type": "stream",
          "name": "stderr",
          "text": [
            "\n"
          ]
        },
        {
          "output_type": "stream",
          "name": "stdout",
          "text": [
            "\n",
            "      Epoch    GPU_mem   box_loss   cls_loss   dfl_loss  Instances       Size\n"
          ]
        },
        {
          "output_type": "stream",
          "name": "stderr",
          "text": [
            "     21/100      13.5G     0.7832      0.987      1.262         17        640: 100%|██████████| 83/83 [00:32<00:00,  2.55it/s]\n",
            "                 Class     Images  Instances      Box(P          R      mAP50  mAP50-95): 100%|██████████| 6/6 [00:01<00:00,  4.75it/s]"
          ]
        },
        {
          "output_type": "stream",
          "name": "stdout",
          "text": [
            "                   all        165        259      0.706      0.699      0.731       0.58\n"
          ]
        },
        {
          "output_type": "stream",
          "name": "stderr",
          "text": [
            "\n"
          ]
        },
        {
          "output_type": "stream",
          "name": "stdout",
          "text": [
            "\n",
            "      Epoch    GPU_mem   box_loss   cls_loss   dfl_loss  Instances       Size\n"
          ]
        },
        {
          "output_type": "stream",
          "name": "stderr",
          "text": [
            "     22/100      12.9G      0.804      0.966      1.259         20        640: 100%|██████████| 83/83 [00:32<00:00,  2.55it/s]\n",
            "                 Class     Images  Instances      Box(P          R      mAP50  mAP50-95): 100%|██████████| 6/6 [00:01<00:00,  4.80it/s]"
          ]
        },
        {
          "output_type": "stream",
          "name": "stdout",
          "text": [
            "                   all        165        259      0.848      0.633      0.766      0.616\n"
          ]
        },
        {
          "output_type": "stream",
          "name": "stderr",
          "text": [
            "\n"
          ]
        },
        {
          "output_type": "stream",
          "name": "stdout",
          "text": [
            "\n",
            "      Epoch    GPU_mem   box_loss   cls_loss   dfl_loss  Instances       Size\n"
          ]
        },
        {
          "output_type": "stream",
          "name": "stderr",
          "text": [
            "     23/100      13.6G     0.8064     0.9649       1.28         23        640: 100%|██████████| 83/83 [00:32<00:00,  2.54it/s]\n",
            "                 Class     Images  Instances      Box(P          R      mAP50  mAP50-95): 100%|██████████| 6/6 [00:01<00:00,  4.86it/s]"
          ]
        },
        {
          "output_type": "stream",
          "name": "stdout",
          "text": [
            "                   all        165        259      0.776      0.718      0.811      0.649\n"
          ]
        },
        {
          "output_type": "stream",
          "name": "stderr",
          "text": [
            "\n"
          ]
        },
        {
          "output_type": "stream",
          "name": "stdout",
          "text": [
            "\n",
            "      Epoch    GPU_mem   box_loss   cls_loss   dfl_loss  Instances       Size\n"
          ]
        },
        {
          "output_type": "stream",
          "name": "stderr",
          "text": [
            "     24/100      13.6G     0.7835      0.946      1.262         11        640: 100%|██████████| 83/83 [00:32<00:00,  2.55it/s]\n",
            "                 Class     Images  Instances      Box(P          R      mAP50  mAP50-95): 100%|██████████| 6/6 [00:01<00:00,  4.85it/s]"
          ]
        },
        {
          "output_type": "stream",
          "name": "stdout",
          "text": [
            "                   all        165        259      0.746      0.772      0.794      0.654\n"
          ]
        },
        {
          "output_type": "stream",
          "name": "stderr",
          "text": [
            "\n"
          ]
        },
        {
          "output_type": "stream",
          "name": "stdout",
          "text": [
            "\n",
            "      Epoch    GPU_mem   box_loss   cls_loss   dfl_loss  Instances       Size\n"
          ]
        },
        {
          "output_type": "stream",
          "name": "stderr",
          "text": [
            "     25/100      13.5G     0.7822     0.9247      1.258         10        640: 100%|██████████| 83/83 [00:32<00:00,  2.55it/s]\n",
            "                 Class     Images  Instances      Box(P          R      mAP50  mAP50-95): 100%|██████████| 6/6 [00:01<00:00,  4.81it/s]"
          ]
        },
        {
          "output_type": "stream",
          "name": "stdout",
          "text": [
            "                   all        165        259      0.841      0.726      0.808      0.661\n"
          ]
        },
        {
          "output_type": "stream",
          "name": "stderr",
          "text": [
            "\n"
          ]
        },
        {
          "output_type": "stream",
          "name": "stdout",
          "text": [
            "\n",
            "      Epoch    GPU_mem   box_loss   cls_loss   dfl_loss  Instances       Size\n"
          ]
        },
        {
          "output_type": "stream",
          "name": "stderr",
          "text": [
            "     26/100      12.9G      0.751     0.8735      1.224          8        640: 100%|██████████| 83/83 [00:32<00:00,  2.55it/s]\n",
            "                 Class     Images  Instances      Box(P          R      mAP50  mAP50-95): 100%|██████████| 6/6 [00:01<00:00,  4.67it/s]"
          ]
        },
        {
          "output_type": "stream",
          "name": "stdout",
          "text": [
            "                   all        165        259      0.844       0.68      0.796      0.639\n"
          ]
        },
        {
          "output_type": "stream",
          "name": "stderr",
          "text": [
            "\n"
          ]
        },
        {
          "output_type": "stream",
          "name": "stdout",
          "text": [
            "\n",
            "      Epoch    GPU_mem   box_loss   cls_loss   dfl_loss  Instances       Size\n"
          ]
        },
        {
          "output_type": "stream",
          "name": "stderr",
          "text": [
            "     27/100      14.4G     0.7398     0.8756      1.218         10        640: 100%|██████████| 83/83 [00:32<00:00,  2.55it/s]\n",
            "                 Class     Images  Instances      Box(P          R      mAP50  mAP50-95): 100%|██████████| 6/6 [00:01<00:00,  4.84it/s]"
          ]
        },
        {
          "output_type": "stream",
          "name": "stdout",
          "text": [
            "                   all        165        259      0.798      0.768      0.803      0.674\n"
          ]
        },
        {
          "output_type": "stream",
          "name": "stderr",
          "text": [
            "\n"
          ]
        },
        {
          "output_type": "stream",
          "name": "stdout",
          "text": [
            "\n",
            "      Epoch    GPU_mem   box_loss   cls_loss   dfl_loss  Instances       Size\n"
          ]
        },
        {
          "output_type": "stream",
          "name": "stderr",
          "text": [
            "     28/100      13.6G     0.7306     0.8481      1.212         13        640: 100%|██████████| 83/83 [00:32<00:00,  2.52it/s]\n",
            "                 Class     Images  Instances      Box(P          R      mAP50  mAP50-95): 100%|██████████| 6/6 [00:01<00:00,  4.86it/s]"
          ]
        },
        {
          "output_type": "stream",
          "name": "stdout",
          "text": [
            "                   all        165        259      0.853      0.633      0.764      0.606\n"
          ]
        },
        {
          "output_type": "stream",
          "name": "stderr",
          "text": [
            "\n"
          ]
        },
        {
          "output_type": "stream",
          "name": "stdout",
          "text": [
            "\n",
            "      Epoch    GPU_mem   box_loss   cls_loss   dfl_loss  Instances       Size\n"
          ]
        },
        {
          "output_type": "stream",
          "name": "stderr",
          "text": [
            "     29/100      13.5G     0.7217     0.8415      1.197         12        640: 100%|██████████| 83/83 [00:32<00:00,  2.55it/s]\n",
            "                 Class     Images  Instances      Box(P          R      mAP50  mAP50-95): 100%|██████████| 6/6 [00:01<00:00,  4.68it/s]"
          ]
        },
        {
          "output_type": "stream",
          "name": "stdout",
          "text": [
            "                   all        165        259      0.802      0.751       0.81      0.667\n"
          ]
        },
        {
          "output_type": "stream",
          "name": "stderr",
          "text": [
            "\n"
          ]
        },
        {
          "output_type": "stream",
          "name": "stdout",
          "text": [
            "\n",
            "      Epoch    GPU_mem   box_loss   cls_loss   dfl_loss  Instances       Size\n"
          ]
        },
        {
          "output_type": "stream",
          "name": "stderr",
          "text": [
            "     30/100      12.9G     0.7183     0.8572      1.202         16        640: 100%|██████████| 83/83 [00:32<00:00,  2.55it/s]\n",
            "                 Class     Images  Instances      Box(P          R      mAP50  mAP50-95): 100%|██████████| 6/6 [00:01<00:00,  4.72it/s]"
          ]
        },
        {
          "output_type": "stream",
          "name": "stdout",
          "text": [
            "                   all        165        259      0.802       0.71      0.789      0.656\n"
          ]
        },
        {
          "output_type": "stream",
          "name": "stderr",
          "text": [
            "\n"
          ]
        },
        {
          "output_type": "stream",
          "name": "stdout",
          "text": [
            "\n",
            "      Epoch    GPU_mem   box_loss   cls_loss   dfl_loss  Instances       Size\n"
          ]
        },
        {
          "output_type": "stream",
          "name": "stderr",
          "text": [
            "     31/100      13.5G     0.7085     0.8535      1.192         21        640: 100%|██████████| 83/83 [00:32<00:00,  2.55it/s]\n",
            "                 Class     Images  Instances      Box(P          R      mAP50  mAP50-95): 100%|██████████| 6/6 [00:01<00:00,  4.75it/s]"
          ]
        },
        {
          "output_type": "stream",
          "name": "stdout",
          "text": [
            "                   all        165        259      0.835      0.749      0.827      0.694\n"
          ]
        },
        {
          "output_type": "stream",
          "name": "stderr",
          "text": [
            "\n"
          ]
        },
        {
          "output_type": "stream",
          "name": "stdout",
          "text": [
            "\n",
            "      Epoch    GPU_mem   box_loss   cls_loss   dfl_loss  Instances       Size\n"
          ]
        },
        {
          "output_type": "stream",
          "name": "stderr",
          "text": [
            "     32/100      13.6G     0.7116     0.8082      1.195         18        640: 100%|██████████| 83/83 [00:32<00:00,  2.55it/s]\n",
            "                 Class     Images  Instances      Box(P          R      mAP50  mAP50-95): 100%|██████████| 6/6 [00:01<00:00,  4.80it/s]"
          ]
        },
        {
          "output_type": "stream",
          "name": "stdout",
          "text": [
            "                   all        165        259      0.875      0.732      0.838      0.699\n"
          ]
        },
        {
          "output_type": "stream",
          "name": "stderr",
          "text": [
            "\n"
          ]
        },
        {
          "output_type": "stream",
          "name": "stdout",
          "text": [
            "\n",
            "      Epoch    GPU_mem   box_loss   cls_loss   dfl_loss  Instances       Size\n"
          ]
        },
        {
          "output_type": "stream",
          "name": "stderr",
          "text": [
            "     33/100      13.5G     0.6742     0.7986      1.166         13        640: 100%|██████████| 83/83 [00:32<00:00,  2.55it/s]\n",
            "                 Class     Images  Instances      Box(P          R      mAP50  mAP50-95): 100%|██████████| 6/6 [00:01<00:00,  4.94it/s]"
          ]
        },
        {
          "output_type": "stream",
          "name": "stdout",
          "text": [
            "                   all        165        259      0.823      0.771      0.834      0.702\n"
          ]
        },
        {
          "output_type": "stream",
          "name": "stderr",
          "text": [
            "\n"
          ]
        },
        {
          "output_type": "stream",
          "name": "stdout",
          "text": [
            "\n",
            "      Epoch    GPU_mem   box_loss   cls_loss   dfl_loss  Instances       Size\n"
          ]
        },
        {
          "output_type": "stream",
          "name": "stderr",
          "text": [
            "     34/100      12.9G     0.7067     0.8492      1.193         16        640: 100%|██████████| 83/83 [00:32<00:00,  2.55it/s]\n",
            "                 Class     Images  Instances      Box(P          R      mAP50  mAP50-95): 100%|██████████| 6/6 [00:01<00:00,  4.84it/s]"
          ]
        },
        {
          "output_type": "stream",
          "name": "stdout",
          "text": [
            "                   all        165        259      0.845      0.745      0.833      0.683\n"
          ]
        },
        {
          "output_type": "stream",
          "name": "stderr",
          "text": [
            "\n"
          ]
        },
        {
          "output_type": "stream",
          "name": "stdout",
          "text": [
            "\n",
            "      Epoch    GPU_mem   box_loss   cls_loss   dfl_loss  Instances       Size\n"
          ]
        },
        {
          "output_type": "stream",
          "name": "stderr",
          "text": [
            "     35/100      13.6G     0.6704     0.7987      1.175         14        640: 100%|██████████| 83/83 [00:32<00:00,  2.55it/s]\n",
            "                 Class     Images  Instances      Box(P          R      mAP50  mAP50-95): 100%|██████████| 6/6 [00:01<00:00,  4.92it/s]"
          ]
        },
        {
          "output_type": "stream",
          "name": "stdout",
          "text": [
            "                   all        165        259      0.826      0.735      0.837      0.696\n"
          ]
        },
        {
          "output_type": "stream",
          "name": "stderr",
          "text": [
            "\n"
          ]
        },
        {
          "output_type": "stream",
          "name": "stdout",
          "text": [
            "\n",
            "      Epoch    GPU_mem   box_loss   cls_loss   dfl_loss  Instances       Size\n"
          ]
        },
        {
          "output_type": "stream",
          "name": "stderr",
          "text": [
            "     36/100      13.6G     0.6641     0.7677       1.16         10        640: 100%|██████████| 83/83 [00:32<00:00,  2.55it/s]\n",
            "                 Class     Images  Instances      Box(P          R      mAP50  mAP50-95): 100%|██████████| 6/6 [00:01<00:00,  5.01it/s]"
          ]
        },
        {
          "output_type": "stream",
          "name": "stdout",
          "text": [
            "                   all        165        259      0.798      0.761      0.801      0.681\n"
          ]
        },
        {
          "output_type": "stream",
          "name": "stderr",
          "text": [
            "\n"
          ]
        },
        {
          "output_type": "stream",
          "name": "stdout",
          "text": [
            "\n",
            "      Epoch    GPU_mem   box_loss   cls_loss   dfl_loss  Instances       Size\n"
          ]
        },
        {
          "output_type": "stream",
          "name": "stderr",
          "text": [
            "     37/100      13.6G     0.6628     0.7461      1.154         14        640: 100%|██████████| 83/83 [00:32<00:00,  2.56it/s]\n",
            "                 Class     Images  Instances      Box(P          R      mAP50  mAP50-95): 100%|██████████| 6/6 [00:01<00:00,  4.98it/s]"
          ]
        },
        {
          "output_type": "stream",
          "name": "stdout",
          "text": [
            "                   all        165        259      0.858      0.764       0.85      0.704\n"
          ]
        },
        {
          "output_type": "stream",
          "name": "stderr",
          "text": [
            "\n"
          ]
        },
        {
          "output_type": "stream",
          "name": "stdout",
          "text": [
            "\n",
            "      Epoch    GPU_mem   box_loss   cls_loss   dfl_loss  Instances       Size\n"
          ]
        },
        {
          "output_type": "stream",
          "name": "stderr",
          "text": [
            "     38/100      12.9G     0.6305     0.7534      1.143          9        640: 100%|██████████| 83/83 [00:32<00:00,  2.54it/s]\n",
            "                 Class     Images  Instances      Box(P          R      mAP50  mAP50-95): 100%|██████████| 6/6 [00:01<00:00,  4.90it/s]"
          ]
        },
        {
          "output_type": "stream",
          "name": "stdout",
          "text": [
            "                   all        165        259      0.825      0.726      0.831      0.716\n"
          ]
        },
        {
          "output_type": "stream",
          "name": "stderr",
          "text": [
            "\n"
          ]
        },
        {
          "output_type": "stream",
          "name": "stdout",
          "text": [
            "\n",
            "      Epoch    GPU_mem   box_loss   cls_loss   dfl_loss  Instances       Size\n"
          ]
        },
        {
          "output_type": "stream",
          "name": "stderr",
          "text": [
            "     39/100      13.5G     0.6782     0.7639      1.166         24        640: 100%|██████████| 83/83 [00:32<00:00,  2.55it/s]\n",
            "                 Class     Images  Instances      Box(P          R      mAP50  mAP50-95): 100%|██████████| 6/6 [00:01<00:00,  4.80it/s]"
          ]
        },
        {
          "output_type": "stream",
          "name": "stdout",
          "text": [
            "                   all        165        259      0.807      0.756      0.835      0.718\n"
          ]
        },
        {
          "output_type": "stream",
          "name": "stderr",
          "text": [
            "\n"
          ]
        },
        {
          "output_type": "stream",
          "name": "stdout",
          "text": [
            "\n",
            "      Epoch    GPU_mem   box_loss   cls_loss   dfl_loss  Instances       Size\n"
          ]
        },
        {
          "output_type": "stream",
          "name": "stderr",
          "text": [
            "     40/100      13.6G     0.6591     0.7226      1.159         21        640: 100%|██████████| 83/83 [00:32<00:00,  2.55it/s]\n",
            "                 Class     Images  Instances      Box(P          R      mAP50  mAP50-95): 100%|██████████| 6/6 [00:01<00:00,  4.95it/s]"
          ]
        },
        {
          "output_type": "stream",
          "name": "stdout",
          "text": [
            "                   all        165        259      0.852      0.735      0.844       0.71\n"
          ]
        },
        {
          "output_type": "stream",
          "name": "stderr",
          "text": [
            "\n"
          ]
        },
        {
          "output_type": "stream",
          "name": "stdout",
          "text": [
            "\n",
            "      Epoch    GPU_mem   box_loss   cls_loss   dfl_loss  Instances       Size\n"
          ]
        },
        {
          "output_type": "stream",
          "name": "stderr",
          "text": [
            "     41/100      13.6G     0.6413      0.731      1.134         20        640: 100%|██████████| 83/83 [00:32<00:00,  2.55it/s]\n",
            "                 Class     Images  Instances      Box(P          R      mAP50  mAP50-95): 100%|██████████| 6/6 [00:01<00:00,  4.90it/s]"
          ]
        },
        {
          "output_type": "stream",
          "name": "stdout",
          "text": [
            "                   all        165        259      0.872      0.714      0.837      0.692\n"
          ]
        },
        {
          "output_type": "stream",
          "name": "stderr",
          "text": [
            "\n"
          ]
        },
        {
          "output_type": "stream",
          "name": "stdout",
          "text": [
            "\n",
            "      Epoch    GPU_mem   box_loss   cls_loss   dfl_loss  Instances       Size\n"
          ]
        },
        {
          "output_type": "stream",
          "name": "stderr",
          "text": [
            "     42/100      12.8G     0.6273     0.7268      1.126         12        640: 100%|██████████| 83/83 [00:32<00:00,  2.55it/s]\n",
            "                 Class     Images  Instances      Box(P          R      mAP50  mAP50-95): 100%|██████████| 6/6 [00:01<00:00,  4.88it/s]"
          ]
        },
        {
          "output_type": "stream",
          "name": "stdout",
          "text": [
            "                   all        165        259      0.853      0.788       0.87      0.745\n"
          ]
        },
        {
          "output_type": "stream",
          "name": "stderr",
          "text": [
            "\n"
          ]
        },
        {
          "output_type": "stream",
          "name": "stdout",
          "text": [
            "\n",
            "      Epoch    GPU_mem   box_loss   cls_loss   dfl_loss  Instances       Size\n"
          ]
        },
        {
          "output_type": "stream",
          "name": "stderr",
          "text": [
            "     43/100      13.6G     0.6333     0.7195       1.13         26        640: 100%|██████████| 83/83 [00:32<00:00,  2.55it/s]\n",
            "                 Class     Images  Instances      Box(P          R      mAP50  mAP50-95): 100%|██████████| 6/6 [00:01<00:00,  4.93it/s]"
          ]
        },
        {
          "output_type": "stream",
          "name": "stdout",
          "text": [
            "                   all        165        259      0.881      0.799      0.886      0.752\n"
          ]
        },
        {
          "output_type": "stream",
          "name": "stderr",
          "text": [
            "\n"
          ]
        },
        {
          "output_type": "stream",
          "name": "stdout",
          "text": [
            "\n",
            "      Epoch    GPU_mem   box_loss   cls_loss   dfl_loss  Instances       Size\n"
          ]
        },
        {
          "output_type": "stream",
          "name": "stderr",
          "text": [
            "     44/100      14.3G     0.6103     0.7093      1.117          4        640: 100%|██████████| 83/83 [00:32<00:00,  2.55it/s]\n",
            "                 Class     Images  Instances      Box(P          R      mAP50  mAP50-95): 100%|██████████| 6/6 [00:01<00:00,  4.74it/s]"
          ]
        },
        {
          "output_type": "stream",
          "name": "stdout",
          "text": [
            "                   all        165        259      0.852      0.736      0.855      0.732\n"
          ]
        },
        {
          "output_type": "stream",
          "name": "stderr",
          "text": [
            "\n"
          ]
        },
        {
          "output_type": "stream",
          "name": "stdout",
          "text": [
            "\n",
            "      Epoch    GPU_mem   box_loss   cls_loss   dfl_loss  Instances       Size\n"
          ]
        },
        {
          "output_type": "stream",
          "name": "stderr",
          "text": [
            "     45/100      13.5G     0.6219     0.7106      1.124         11        640: 100%|██████████| 83/83 [00:32<00:00,  2.55it/s]\n",
            "                 Class     Images  Instances      Box(P          R      mAP50  mAP50-95): 100%|██████████| 6/6 [00:01<00:00,  4.69it/s]"
          ]
        },
        {
          "output_type": "stream",
          "name": "stdout",
          "text": [
            "                   all        165        259      0.853      0.693      0.825      0.713\n"
          ]
        },
        {
          "output_type": "stream",
          "name": "stderr",
          "text": [
            "\n"
          ]
        },
        {
          "output_type": "stream",
          "name": "stdout",
          "text": [
            "\n",
            "      Epoch    GPU_mem   box_loss   cls_loss   dfl_loss  Instances       Size\n"
          ]
        },
        {
          "output_type": "stream",
          "name": "stderr",
          "text": [
            "     46/100      13.7G     0.6105     0.6926      1.122         24        640: 100%|██████████| 83/83 [00:32<00:00,  2.55it/s]\n",
            "                 Class     Images  Instances      Box(P          R      mAP50  mAP50-95): 100%|██████████| 6/6 [00:01<00:00,  4.83it/s]"
          ]
        },
        {
          "output_type": "stream",
          "name": "stdout",
          "text": [
            "                   all        165        259       0.88      0.768      0.876      0.751\n"
          ]
        },
        {
          "output_type": "stream",
          "name": "stderr",
          "text": [
            "\n"
          ]
        },
        {
          "output_type": "stream",
          "name": "stdout",
          "text": [
            "\n",
            "      Epoch    GPU_mem   box_loss   cls_loss   dfl_loss  Instances       Size\n"
          ]
        },
        {
          "output_type": "stream",
          "name": "stderr",
          "text": [
            "     47/100      13.5G     0.5867     0.6741      1.108         18        640: 100%|██████████| 83/83 [00:32<00:00,  2.56it/s]\n",
            "                 Class     Images  Instances      Box(P          R      mAP50  mAP50-95): 100%|██████████| 6/6 [00:01<00:00,  4.91it/s]"
          ]
        },
        {
          "output_type": "stream",
          "name": "stdout",
          "text": [
            "                   all        165        259      0.854      0.793      0.871      0.754\n"
          ]
        },
        {
          "output_type": "stream",
          "name": "stderr",
          "text": [
            "\n"
          ]
        },
        {
          "output_type": "stream",
          "name": "stdout",
          "text": [
            "\n",
            "      Epoch    GPU_mem   box_loss   cls_loss   dfl_loss  Instances       Size\n"
          ]
        },
        {
          "output_type": "stream",
          "name": "stderr",
          "text": [
            "     48/100      13.6G     0.5738     0.6593      1.087          8        640: 100%|██████████| 83/83 [00:32<00:00,  2.54it/s]\n",
            "                 Class     Images  Instances      Box(P          R      mAP50  mAP50-95): 100%|██████████| 6/6 [00:01<00:00,  4.85it/s]"
          ]
        },
        {
          "output_type": "stream",
          "name": "stdout",
          "text": [
            "                   all        165        259      0.921      0.753      0.876      0.759\n"
          ]
        },
        {
          "output_type": "stream",
          "name": "stderr",
          "text": [
            "\n"
          ]
        },
        {
          "output_type": "stream",
          "name": "stdout",
          "text": [
            "\n",
            "      Epoch    GPU_mem   box_loss   cls_loss   dfl_loss  Instances       Size\n"
          ]
        },
        {
          "output_type": "stream",
          "name": "stderr",
          "text": [
            "     49/100      13.6G     0.5766     0.6365      1.089         22        640: 100%|██████████| 83/83 [00:32<00:00,  2.55it/s]\n",
            "                 Class     Images  Instances      Box(P          R      mAP50  mAP50-95): 100%|██████████| 6/6 [00:01<00:00,  4.90it/s]"
          ]
        },
        {
          "output_type": "stream",
          "name": "stdout",
          "text": [
            "                   all        165        259       0.89      0.768      0.891      0.774\n"
          ]
        },
        {
          "output_type": "stream",
          "name": "stderr",
          "text": [
            "\n"
          ]
        },
        {
          "output_type": "stream",
          "name": "stdout",
          "text": [
            "\n",
            "      Epoch    GPU_mem   box_loss   cls_loss   dfl_loss  Instances       Size\n"
          ]
        },
        {
          "output_type": "stream",
          "name": "stderr",
          "text": [
            "     50/100      12.9G     0.5847     0.6563      1.095         16        640: 100%|██████████| 83/83 [00:32<00:00,  2.55it/s]\n",
            "                 Class     Images  Instances      Box(P          R      mAP50  mAP50-95): 100%|██████████| 6/6 [00:01<00:00,  4.86it/s]"
          ]
        },
        {
          "output_type": "stream",
          "name": "stdout",
          "text": [
            "                   all        165        259      0.775      0.815      0.867      0.748\n"
          ]
        },
        {
          "output_type": "stream",
          "name": "stderr",
          "text": [
            "\n"
          ]
        },
        {
          "output_type": "stream",
          "name": "stdout",
          "text": [
            "\n",
            "      Epoch    GPU_mem   box_loss   cls_loss   dfl_loss  Instances       Size\n"
          ]
        },
        {
          "output_type": "stream",
          "name": "stderr",
          "text": [
            "     51/100      13.5G     0.5796     0.6504      1.097         20        640: 100%|██████████| 83/83 [00:32<00:00,  2.55it/s]\n",
            "                 Class     Images  Instances      Box(P          R      mAP50  mAP50-95): 100%|██████████| 6/6 [00:01<00:00,  4.96it/s]"
          ]
        },
        {
          "output_type": "stream",
          "name": "stdout",
          "text": [
            "                   all        165        259      0.844      0.773      0.882      0.763\n"
          ]
        },
        {
          "output_type": "stream",
          "name": "stderr",
          "text": [
            "\n"
          ]
        },
        {
          "output_type": "stream",
          "name": "stdout",
          "text": [
            "\n",
            "      Epoch    GPU_mem   box_loss   cls_loss   dfl_loss  Instances       Size\n"
          ]
        },
        {
          "output_type": "stream",
          "name": "stderr",
          "text": [
            "     52/100      13.6G     0.5584     0.6058      1.077         20        640: 100%|██████████| 83/83 [00:32<00:00,  2.54it/s]\n",
            "                 Class     Images  Instances      Box(P          R      mAP50  mAP50-95): 100%|██████████| 6/6 [00:01<00:00,  4.76it/s]"
          ]
        },
        {
          "output_type": "stream",
          "name": "stdout",
          "text": [
            "                   all        165        259       0.91      0.757      0.883      0.756\n"
          ]
        },
        {
          "output_type": "stream",
          "name": "stderr",
          "text": [
            "\n"
          ]
        },
        {
          "output_type": "stream",
          "name": "stdout",
          "text": [
            "\n",
            "      Epoch    GPU_mem   box_loss   cls_loss   dfl_loss  Instances       Size\n"
          ]
        },
        {
          "output_type": "stream",
          "name": "stderr",
          "text": [
            "     53/100      13.6G     0.5427     0.5965      1.064         14        640: 100%|██████████| 83/83 [00:32<00:00,  2.55it/s]\n",
            "                 Class     Images  Instances      Box(P          R      mAP50  mAP50-95): 100%|██████████| 6/6 [00:01<00:00,  4.85it/s]"
          ]
        },
        {
          "output_type": "stream",
          "name": "stdout",
          "text": [
            "                   all        165        259      0.901      0.768      0.875      0.748\n"
          ]
        },
        {
          "output_type": "stream",
          "name": "stderr",
          "text": [
            "\n"
          ]
        },
        {
          "output_type": "stream",
          "name": "stdout",
          "text": [
            "\n",
            "      Epoch    GPU_mem   box_loss   cls_loss   dfl_loss  Instances       Size\n"
          ]
        },
        {
          "output_type": "stream",
          "name": "stderr",
          "text": [
            "     54/100      13.7G     0.5786     0.6311      1.094         16        640: 100%|██████████| 83/83 [00:32<00:00,  2.55it/s]\n",
            "                 Class     Images  Instances      Box(P          R      mAP50  mAP50-95): 100%|██████████| 6/6 [00:01<00:00,  4.65it/s]"
          ]
        },
        {
          "output_type": "stream",
          "name": "stdout",
          "text": [
            "                   all        165        259      0.841      0.811      0.876       0.77\n"
          ]
        },
        {
          "output_type": "stream",
          "name": "stderr",
          "text": [
            "\n"
          ]
        },
        {
          "output_type": "stream",
          "name": "stdout",
          "text": [
            "\n",
            "      Epoch    GPU_mem   box_loss   cls_loss   dfl_loss  Instances       Size\n"
          ]
        },
        {
          "output_type": "stream",
          "name": "stderr",
          "text": [
            "     55/100      13.5G     0.5497     0.6303      1.083          6        640: 100%|██████████| 83/83 [00:32<00:00,  2.55it/s]\n",
            "                 Class     Images  Instances      Box(P          R      mAP50  mAP50-95): 100%|██████████| 6/6 [00:01<00:00,  4.72it/s]"
          ]
        },
        {
          "output_type": "stream",
          "name": "stdout",
          "text": [
            "                   all        165        259      0.898      0.788      0.892      0.781\n"
          ]
        },
        {
          "output_type": "stream",
          "name": "stderr",
          "text": [
            "\n"
          ]
        },
        {
          "output_type": "stream",
          "name": "stdout",
          "text": [
            "\n",
            "      Epoch    GPU_mem   box_loss   cls_loss   dfl_loss  Instances       Size\n"
          ]
        },
        {
          "output_type": "stream",
          "name": "stderr",
          "text": [
            "     56/100      13.5G     0.5502     0.6046      1.079         22        640: 100%|██████████| 83/83 [00:32<00:00,  2.55it/s]\n",
            "                 Class     Images  Instances      Box(P          R      mAP50  mAP50-95): 100%|██████████| 6/6 [00:01<00:00,  4.67it/s]"
          ]
        },
        {
          "output_type": "stream",
          "name": "stdout",
          "text": [
            "                   all        165        259      0.898      0.784      0.873      0.749\n"
          ]
        },
        {
          "output_type": "stream",
          "name": "stderr",
          "text": [
            "\n"
          ]
        },
        {
          "output_type": "stream",
          "name": "stdout",
          "text": [
            "\n",
            "      Epoch    GPU_mem   box_loss   cls_loss   dfl_loss  Instances       Size\n"
          ]
        },
        {
          "output_type": "stream",
          "name": "stderr",
          "text": [
            "     57/100      13.5G     0.5389     0.6057      1.062         11        640: 100%|██████████| 83/83 [00:32<00:00,  2.55it/s]\n",
            "                 Class     Images  Instances      Box(P          R      mAP50  mAP50-95): 100%|██████████| 6/6 [00:01<00:00,  4.77it/s]"
          ]
        },
        {
          "output_type": "stream",
          "name": "stdout",
          "text": [
            "                   all        165        259      0.888      0.764      0.877      0.764\n"
          ]
        },
        {
          "output_type": "stream",
          "name": "stderr",
          "text": [
            "\n"
          ]
        },
        {
          "output_type": "stream",
          "name": "stdout",
          "text": [
            "\n",
            "      Epoch    GPU_mem   box_loss   cls_loss   dfl_loss  Instances       Size\n"
          ]
        },
        {
          "output_type": "stream",
          "name": "stderr",
          "text": [
            "     58/100      12.9G     0.5151     0.5817      1.055          9        640: 100%|██████████| 83/83 [00:32<00:00,  2.55it/s]\n",
            "                 Class     Images  Instances      Box(P          R      mAP50  mAP50-95): 100%|██████████| 6/6 [00:01<00:00,  4.88it/s]"
          ]
        },
        {
          "output_type": "stream",
          "name": "stdout",
          "text": [
            "                   all        165        259       0.88      0.794      0.901      0.791\n"
          ]
        },
        {
          "output_type": "stream",
          "name": "stderr",
          "text": [
            "\n"
          ]
        },
        {
          "output_type": "stream",
          "name": "stdout",
          "text": [
            "\n",
            "      Epoch    GPU_mem   box_loss   cls_loss   dfl_loss  Instances       Size\n"
          ]
        },
        {
          "output_type": "stream",
          "name": "stderr",
          "text": [
            "     59/100      13.5G     0.5276     0.5856       1.05         18        640: 100%|██████████| 83/83 [00:32<00:00,  2.54it/s]\n",
            "                 Class     Images  Instances      Box(P          R      mAP50  mAP50-95): 100%|██████████| 6/6 [00:01<00:00,  5.06it/s]"
          ]
        },
        {
          "output_type": "stream",
          "name": "stdout",
          "text": [
            "                   all        165        259       0.93      0.767      0.905      0.785\n"
          ]
        },
        {
          "output_type": "stream",
          "name": "stderr",
          "text": [
            "\n"
          ]
        },
        {
          "output_type": "stream",
          "name": "stdout",
          "text": [
            "\n",
            "      Epoch    GPU_mem   box_loss   cls_loss   dfl_loss  Instances       Size\n"
          ]
        },
        {
          "output_type": "stream",
          "name": "stderr",
          "text": [
            "     60/100      13.6G     0.5132      0.574      1.055         10        640: 100%|██████████| 83/83 [00:32<00:00,  2.55it/s]\n",
            "                 Class     Images  Instances      Box(P          R      mAP50  mAP50-95): 100%|██████████| 6/6 [00:01<00:00,  4.95it/s]"
          ]
        },
        {
          "output_type": "stream",
          "name": "stdout",
          "text": [
            "                   all        165        259      0.917      0.808      0.902      0.791\n"
          ]
        },
        {
          "output_type": "stream",
          "name": "stderr",
          "text": [
            "\n"
          ]
        },
        {
          "output_type": "stream",
          "name": "stdout",
          "text": [
            "\n",
            "      Epoch    GPU_mem   box_loss   cls_loss   dfl_loss  Instances       Size\n"
          ]
        },
        {
          "output_type": "stream",
          "name": "stderr",
          "text": [
            "     61/100      13.5G     0.5322     0.6109       1.06         10        640: 100%|██████████| 83/83 [00:32<00:00,  2.55it/s]\n",
            "                 Class     Images  Instances      Box(P          R      mAP50  mAP50-95): 100%|██████████| 6/6 [00:01<00:00,  4.77it/s]"
          ]
        },
        {
          "output_type": "stream",
          "name": "stdout",
          "text": [
            "                   all        165        259      0.906      0.784      0.895       0.78\n"
          ]
        },
        {
          "output_type": "stream",
          "name": "stderr",
          "text": [
            "\n"
          ]
        },
        {
          "output_type": "stream",
          "name": "stdout",
          "text": [
            "\n",
            "      Epoch    GPU_mem   box_loss   cls_loss   dfl_loss  Instances       Size\n"
          ]
        },
        {
          "output_type": "stream",
          "name": "stderr",
          "text": [
            "     62/100      12.9G     0.5166     0.5727      1.053         19        640: 100%|██████████| 83/83 [00:32<00:00,  2.55it/s]\n",
            "                 Class     Images  Instances      Box(P          R      mAP50  mAP50-95): 100%|██████████| 6/6 [00:01<00:00,  4.91it/s]"
          ]
        },
        {
          "output_type": "stream",
          "name": "stdout",
          "text": [
            "                   all        165        259      0.876      0.815      0.899        0.8\n"
          ]
        },
        {
          "output_type": "stream",
          "name": "stderr",
          "text": [
            "\n"
          ]
        },
        {
          "output_type": "stream",
          "name": "stdout",
          "text": [
            "\n",
            "      Epoch    GPU_mem   box_loss   cls_loss   dfl_loss  Instances       Size\n"
          ]
        },
        {
          "output_type": "stream",
          "name": "stderr",
          "text": [
            "     63/100      13.6G     0.5001     0.5833      1.045         14        640: 100%|██████████| 83/83 [00:32<00:00,  2.55it/s]\n",
            "                 Class     Images  Instances      Box(P          R      mAP50  mAP50-95): 100%|██████████| 6/6 [00:01<00:00,  4.90it/s]"
          ]
        },
        {
          "output_type": "stream",
          "name": "stdout",
          "text": [
            "                   all        165        259      0.854      0.822      0.904      0.798\n"
          ]
        },
        {
          "output_type": "stream",
          "name": "stderr",
          "text": [
            "\n"
          ]
        },
        {
          "output_type": "stream",
          "name": "stdout",
          "text": [
            "\n",
            "      Epoch    GPU_mem   box_loss   cls_loss   dfl_loss  Instances       Size\n"
          ]
        },
        {
          "output_type": "stream",
          "name": "stderr",
          "text": [
            "     64/100      13.6G     0.4904     0.5671      1.029         13        640: 100%|██████████| 83/83 [00:32<00:00,  2.55it/s]\n",
            "                 Class     Images  Instances      Box(P          R      mAP50  mAP50-95): 100%|██████████| 6/6 [00:01<00:00,  4.95it/s]"
          ]
        },
        {
          "output_type": "stream",
          "name": "stdout",
          "text": [
            "                   all        165        259        0.9      0.795      0.892      0.787\n"
          ]
        },
        {
          "output_type": "stream",
          "name": "stderr",
          "text": [
            "\n"
          ]
        },
        {
          "output_type": "stream",
          "name": "stdout",
          "text": [
            "\n",
            "      Epoch    GPU_mem   box_loss   cls_loss   dfl_loss  Instances       Size\n"
          ]
        },
        {
          "output_type": "stream",
          "name": "stderr",
          "text": [
            "     65/100      13.6G     0.4988     0.5547      1.036         27        640: 100%|██████████| 83/83 [00:32<00:00,  2.56it/s]\n",
            "                 Class     Images  Instances      Box(P          R      mAP50  mAP50-95): 100%|██████████| 6/6 [00:01<00:00,  4.97it/s]"
          ]
        },
        {
          "output_type": "stream",
          "name": "stdout",
          "text": [
            "                   all        165        259      0.866      0.823      0.899      0.792\n"
          ]
        },
        {
          "output_type": "stream",
          "name": "stderr",
          "text": [
            "\n"
          ]
        },
        {
          "output_type": "stream",
          "name": "stdout",
          "text": [
            "\n",
            "      Epoch    GPU_mem   box_loss   cls_loss   dfl_loss  Instances       Size\n"
          ]
        },
        {
          "output_type": "stream",
          "name": "stderr",
          "text": [
            "     66/100      12.9G     0.5035     0.5579      1.041         22        640: 100%|██████████| 83/83 [00:32<00:00,  2.55it/s]\n",
            "                 Class     Images  Instances      Box(P          R      mAP50  mAP50-95): 100%|██████████| 6/6 [00:01<00:00,  4.97it/s]"
          ]
        },
        {
          "output_type": "stream",
          "name": "stdout",
          "text": [
            "                   all        165        259      0.894      0.784      0.898      0.793\n"
          ]
        },
        {
          "output_type": "stream",
          "name": "stderr",
          "text": [
            "\n"
          ]
        },
        {
          "output_type": "stream",
          "name": "stdout",
          "text": [
            "\n",
            "      Epoch    GPU_mem   box_loss   cls_loss   dfl_loss  Instances       Size\n"
          ]
        },
        {
          "output_type": "stream",
          "name": "stderr",
          "text": [
            "     67/100      13.5G     0.4978      0.572      1.044          3        640: 100%|██████████| 83/83 [00:32<00:00,  2.55it/s]\n",
            "                 Class     Images  Instances      Box(P          R      mAP50  mAP50-95): 100%|██████████| 6/6 [00:01<00:00,  4.93it/s]"
          ]
        },
        {
          "output_type": "stream",
          "name": "stdout",
          "text": [
            "                   all        165        259      0.852      0.815      0.901      0.795\n"
          ]
        },
        {
          "output_type": "stream",
          "name": "stderr",
          "text": [
            "\n"
          ]
        },
        {
          "output_type": "stream",
          "name": "stdout",
          "text": [
            "\n",
            "      Epoch    GPU_mem   box_loss   cls_loss   dfl_loss  Instances       Size\n"
          ]
        },
        {
          "output_type": "stream",
          "name": "stderr",
          "text": [
            "     68/100      13.6G     0.4914     0.5539      1.033          2        640: 100%|██████████| 83/83 [00:32<00:00,  2.55it/s]\n",
            "                 Class     Images  Instances      Box(P          R      mAP50  mAP50-95): 100%|██████████| 6/6 [00:01<00:00,  4.98it/s]"
          ]
        },
        {
          "output_type": "stream",
          "name": "stdout",
          "text": [
            "                   all        165        259      0.896      0.803      0.901      0.797\n"
          ]
        },
        {
          "output_type": "stream",
          "name": "stderr",
          "text": [
            "\n"
          ]
        },
        {
          "output_type": "stream",
          "name": "stdout",
          "text": [
            "\n",
            "      Epoch    GPU_mem   box_loss   cls_loss   dfl_loss  Instances       Size\n"
          ]
        },
        {
          "output_type": "stream",
          "name": "stderr",
          "text": [
            "     69/100      13.6G     0.4912     0.5469      1.034         13        640: 100%|██████████| 83/83 [00:32<00:00,  2.56it/s]\n",
            "                 Class     Images  Instances      Box(P          R      mAP50  mAP50-95): 100%|██████████| 6/6 [00:01<00:00,  4.99it/s]"
          ]
        },
        {
          "output_type": "stream",
          "name": "stdout",
          "text": [
            "                   all        165        259      0.842      0.853      0.899      0.795\n"
          ]
        },
        {
          "output_type": "stream",
          "name": "stderr",
          "text": [
            "\n"
          ]
        },
        {
          "output_type": "stream",
          "name": "stdout",
          "text": [
            "\n",
            "      Epoch    GPU_mem   box_loss   cls_loss   dfl_loss  Instances       Size\n"
          ]
        },
        {
          "output_type": "stream",
          "name": "stderr",
          "text": [
            "     70/100      13.7G     0.4749     0.5225      1.034         26        640: 100%|██████████| 83/83 [00:32<00:00,  2.55it/s]\n",
            "                 Class     Images  Instances      Box(P          R      mAP50  mAP50-95): 100%|██████████| 6/6 [00:01<00:00,  4.88it/s]"
          ]
        },
        {
          "output_type": "stream",
          "name": "stdout",
          "text": [
            "                   all        165        259      0.825      0.856      0.893      0.792\n"
          ]
        },
        {
          "output_type": "stream",
          "name": "stderr",
          "text": [
            "\n"
          ]
        },
        {
          "output_type": "stream",
          "name": "stdout",
          "text": [
            "\n",
            "      Epoch    GPU_mem   box_loss   cls_loss   dfl_loss  Instances       Size\n"
          ]
        },
        {
          "output_type": "stream",
          "name": "stderr",
          "text": [
            "     71/100      13.5G     0.4864     0.5327       1.03         11        640: 100%|██████████| 83/83 [00:32<00:00,  2.55it/s]\n",
            "                 Class     Images  Instances      Box(P          R      mAP50  mAP50-95): 100%|██████████| 6/6 [00:01<00:00,  5.10it/s]"
          ]
        },
        {
          "output_type": "stream",
          "name": "stdout",
          "text": [
            "                   all        165        259      0.947      0.734       0.89      0.789\n"
          ]
        },
        {
          "output_type": "stream",
          "name": "stderr",
          "text": [
            "\n"
          ]
        },
        {
          "output_type": "stream",
          "name": "stdout",
          "text": [
            "\n",
            "      Epoch    GPU_mem   box_loss   cls_loss   dfl_loss  Instances       Size\n"
          ]
        },
        {
          "output_type": "stream",
          "name": "stderr",
          "text": [
            "     72/100      13.6G     0.4677     0.5146      1.022         22        640: 100%|██████████| 83/83 [00:32<00:00,  2.55it/s]\n",
            "                 Class     Images  Instances      Box(P          R      mAP50  mAP50-95): 100%|██████████| 6/6 [00:01<00:00,  4.96it/s]"
          ]
        },
        {
          "output_type": "stream",
          "name": "stdout",
          "text": [
            "                   all        165        259      0.849      0.844      0.903      0.795\n"
          ]
        },
        {
          "output_type": "stream",
          "name": "stderr",
          "text": [
            "\n"
          ]
        },
        {
          "output_type": "stream",
          "name": "stdout",
          "text": [
            "\n",
            "      Epoch    GPU_mem   box_loss   cls_loss   dfl_loss  Instances       Size\n"
          ]
        },
        {
          "output_type": "stream",
          "name": "stderr",
          "text": [
            "     73/100      13.5G      0.467     0.5178      1.022         13        640: 100%|██████████| 83/83 [00:32<00:00,  2.56it/s]\n",
            "                 Class     Images  Instances      Box(P          R      mAP50  mAP50-95): 100%|██████████| 6/6 [00:01<00:00,  4.93it/s]"
          ]
        },
        {
          "output_type": "stream",
          "name": "stdout",
          "text": [
            "                   all        165        259       0.94      0.781      0.902      0.801\n"
          ]
        },
        {
          "output_type": "stream",
          "name": "stderr",
          "text": [
            "\n"
          ]
        },
        {
          "output_type": "stream",
          "name": "stdout",
          "text": [
            "\n",
            "      Epoch    GPU_mem   box_loss   cls_loss   dfl_loss  Instances       Size\n"
          ]
        },
        {
          "output_type": "stream",
          "name": "stderr",
          "text": [
            "     74/100      12.9G     0.4717     0.5117      1.029          9        640: 100%|██████████| 83/83 [00:32<00:00,  2.55it/s]\n",
            "                 Class     Images  Instances      Box(P          R      mAP50  mAP50-95): 100%|██████████| 6/6 [00:01<00:00,  4.95it/s]"
          ]
        },
        {
          "output_type": "stream",
          "name": "stdout",
          "text": [
            "                   all        165        259      0.921      0.813      0.889      0.778\n"
          ]
        },
        {
          "output_type": "stream",
          "name": "stderr",
          "text": [
            "\n"
          ]
        },
        {
          "output_type": "stream",
          "name": "stdout",
          "text": [
            "\n",
            "      Epoch    GPU_mem   box_loss   cls_loss   dfl_loss  Instances       Size\n"
          ]
        },
        {
          "output_type": "stream",
          "name": "stderr",
          "text": [
            "     75/100      13.5G     0.4626     0.4959      1.018         15        640: 100%|██████████| 83/83 [00:32<00:00,  2.56it/s]\n",
            "                 Class     Images  Instances      Box(P          R      mAP50  mAP50-95): 100%|██████████| 6/6 [00:01<00:00,  5.01it/s]"
          ]
        },
        {
          "output_type": "stream",
          "name": "stdout",
          "text": [
            "                   all        165        259        0.9      0.815      0.912       0.81\n"
          ]
        },
        {
          "output_type": "stream",
          "name": "stderr",
          "text": [
            "\n"
          ]
        },
        {
          "output_type": "stream",
          "name": "stdout",
          "text": [
            "\n",
            "      Epoch    GPU_mem   box_loss   cls_loss   dfl_loss  Instances       Size\n"
          ]
        },
        {
          "output_type": "stream",
          "name": "stderr",
          "text": [
            "     76/100      13.5G     0.4283     0.4746          1         15        640: 100%|██████████| 83/83 [00:32<00:00,  2.56it/s]\n",
            "                 Class     Images  Instances      Box(P          R      mAP50  mAP50-95): 100%|██████████| 6/6 [00:01<00:00,  5.09it/s]"
          ]
        },
        {
          "output_type": "stream",
          "name": "stdout",
          "text": [
            "                   all        165        259      0.861      0.839      0.895      0.794\n"
          ]
        },
        {
          "output_type": "stream",
          "name": "stderr",
          "text": [
            "\n"
          ]
        },
        {
          "output_type": "stream",
          "name": "stdout",
          "text": [
            "\n",
            "      Epoch    GPU_mem   box_loss   cls_loss   dfl_loss  Instances       Size\n"
          ]
        },
        {
          "output_type": "stream",
          "name": "stderr",
          "text": [
            "     77/100      13.6G     0.4554     0.5002       1.01         15        640: 100%|██████████| 83/83 [00:32<00:00,  2.55it/s]\n",
            "                 Class     Images  Instances      Box(P          R      mAP50  mAP50-95): 100%|██████████| 6/6 [00:01<00:00,  5.00it/s]"
          ]
        },
        {
          "output_type": "stream",
          "name": "stdout",
          "text": [
            "                   all        165        259      0.871      0.819      0.905      0.794\n"
          ]
        },
        {
          "output_type": "stream",
          "name": "stderr",
          "text": [
            "\n"
          ]
        },
        {
          "output_type": "stream",
          "name": "stdout",
          "text": [
            "\n",
            "      Epoch    GPU_mem   box_loss   cls_loss   dfl_loss  Instances       Size\n"
          ]
        },
        {
          "output_type": "stream",
          "name": "stderr",
          "text": [
            "     78/100      12.9G     0.4431     0.4815          1         18        640: 100%|██████████| 83/83 [00:32<00:00,  2.56it/s]\n",
            "                 Class     Images  Instances      Box(P          R      mAP50  mAP50-95): 100%|██████████| 6/6 [00:01<00:00,  4.93it/s]"
          ]
        },
        {
          "output_type": "stream",
          "name": "stdout",
          "text": [
            "                   all        165        259      0.881      0.829      0.903      0.805\n"
          ]
        },
        {
          "output_type": "stream",
          "name": "stderr",
          "text": [
            "\n"
          ]
        },
        {
          "output_type": "stream",
          "name": "stdout",
          "text": [
            "\n",
            "      Epoch    GPU_mem   box_loss   cls_loss   dfl_loss  Instances       Size\n"
          ]
        },
        {
          "output_type": "stream",
          "name": "stderr",
          "text": [
            "     79/100      14.3G     0.4459     0.4794      1.007         21        640: 100%|██████████| 83/83 [00:32<00:00,  2.56it/s]\n",
            "                 Class     Images  Instances      Box(P          R      mAP50  mAP50-95): 100%|██████████| 6/6 [00:01<00:00,  5.10it/s]"
          ]
        },
        {
          "output_type": "stream",
          "name": "stdout",
          "text": [
            "                   all        165        259      0.935      0.781      0.908      0.814\n"
          ]
        },
        {
          "output_type": "stream",
          "name": "stderr",
          "text": [
            "\n"
          ]
        },
        {
          "output_type": "stream",
          "name": "stdout",
          "text": [
            "\n",
            "      Epoch    GPU_mem   box_loss   cls_loss   dfl_loss  Instances       Size\n"
          ]
        },
        {
          "output_type": "stream",
          "name": "stderr",
          "text": [
            "     80/100      13.6G       0.43     0.4746     0.9999         32        640: 100%|██████████| 83/83 [00:32<00:00,  2.55it/s]\n",
            "                 Class     Images  Instances      Box(P          R      mAP50  mAP50-95): 100%|██████████| 6/6 [00:01<00:00,  4.92it/s]"
          ]
        },
        {
          "output_type": "stream",
          "name": "stdout",
          "text": [
            "                   all        165        259      0.866      0.819      0.898      0.802\n"
          ]
        },
        {
          "output_type": "stream",
          "name": "stderr",
          "text": [
            "\n"
          ]
        },
        {
          "output_type": "stream",
          "name": "stdout",
          "text": [
            "\n",
            "      Epoch    GPU_mem   box_loss   cls_loss   dfl_loss  Instances       Size\n"
          ]
        },
        {
          "output_type": "stream",
          "name": "stderr",
          "text": [
            "     81/100      13.5G     0.4235     0.4836     0.9994          4        640: 100%|██████████| 83/83 [00:32<00:00,  2.53it/s]\n",
            "                 Class     Images  Instances      Box(P          R      mAP50  mAP50-95): 100%|██████████| 6/6 [00:01<00:00,  4.84it/s]"
          ]
        },
        {
          "output_type": "stream",
          "name": "stdout",
          "text": [
            "                   all        165        259      0.924      0.799      0.901      0.798\n"
          ]
        },
        {
          "output_type": "stream",
          "name": "stderr",
          "text": [
            "\n"
          ]
        },
        {
          "output_type": "stream",
          "name": "stdout",
          "text": [
            "\n",
            "      Epoch    GPU_mem   box_loss   cls_loss   dfl_loss  Instances       Size\n"
          ]
        },
        {
          "output_type": "stream",
          "name": "stderr",
          "text": [
            "     82/100      12.9G      0.422     0.4598     0.9982         13        640: 100%|██████████| 83/83 [00:32<00:00,  2.55it/s]\n",
            "                 Class     Images  Instances      Box(P          R      mAP50  mAP50-95): 100%|██████████| 6/6 [00:01<00:00,  4.72it/s]"
          ]
        },
        {
          "output_type": "stream",
          "name": "stdout",
          "text": [
            "                   all        165        259      0.864      0.833      0.898      0.791\n"
          ]
        },
        {
          "output_type": "stream",
          "name": "stderr",
          "text": [
            "\n"
          ]
        },
        {
          "output_type": "stream",
          "name": "stdout",
          "text": [
            "\n",
            "      Epoch    GPU_mem   box_loss   cls_loss   dfl_loss  Instances       Size\n"
          ]
        },
        {
          "output_type": "stream",
          "name": "stderr",
          "text": [
            "     83/100      13.6G     0.4359     0.4572     0.9995         10        640: 100%|██████████| 83/83 [00:32<00:00,  2.56it/s]\n",
            "                 Class     Images  Instances      Box(P          R      mAP50  mAP50-95): 100%|██████████| 6/6 [00:01<00:00,  4.66it/s]"
          ]
        },
        {
          "output_type": "stream",
          "name": "stdout",
          "text": [
            "                   all        165        259      0.854      0.842        0.9      0.802\n"
          ]
        },
        {
          "output_type": "stream",
          "name": "stderr",
          "text": [
            "\n"
          ]
        },
        {
          "output_type": "stream",
          "name": "stdout",
          "text": [
            "\n",
            "      Epoch    GPU_mem   box_loss   cls_loss   dfl_loss  Instances       Size\n"
          ]
        },
        {
          "output_type": "stream",
          "name": "stderr",
          "text": [
            "     84/100      13.6G      0.424     0.4515     0.9892         11        640: 100%|██████████| 83/83 [00:32<00:00,  2.55it/s]\n",
            "                 Class     Images  Instances      Box(P          R      mAP50  mAP50-95): 100%|██████████| 6/6 [00:01<00:00,  4.75it/s]"
          ]
        },
        {
          "output_type": "stream",
          "name": "stdout",
          "text": [
            "                   all        165        259      0.868      0.835      0.916      0.817\n"
          ]
        },
        {
          "output_type": "stream",
          "name": "stderr",
          "text": [
            "\n"
          ]
        },
        {
          "output_type": "stream",
          "name": "stdout",
          "text": [
            "\n",
            "      Epoch    GPU_mem   box_loss   cls_loss   dfl_loss  Instances       Size\n"
          ]
        },
        {
          "output_type": "stream",
          "name": "stderr",
          "text": [
            "     85/100      13.5G     0.4179     0.4641     0.9925          6        640: 100%|██████████| 83/83 [00:32<00:00,  2.55it/s]\n",
            "                 Class     Images  Instances      Box(P          R      mAP50  mAP50-95): 100%|██████████| 6/6 [00:01<00:00,  4.93it/s]"
          ]
        },
        {
          "output_type": "stream",
          "name": "stdout",
          "text": [
            "                   all        165        259       0.88      0.826      0.903       0.81\n"
          ]
        },
        {
          "output_type": "stream",
          "name": "stderr",
          "text": [
            "\n"
          ]
        },
        {
          "output_type": "stream",
          "name": "stdout",
          "text": [
            "\n",
            "      Epoch    GPU_mem   box_loss   cls_loss   dfl_loss  Instances       Size\n"
          ]
        },
        {
          "output_type": "stream",
          "name": "stderr",
          "text": [
            "     86/100      13.7G     0.4045     0.4456     0.9858         18        640: 100%|██████████| 83/83 [00:32<00:00,  2.55it/s]\n",
            "                 Class     Images  Instances      Box(P          R      mAP50  mAP50-95): 100%|██████████| 6/6 [00:01<00:00,  5.01it/s]"
          ]
        },
        {
          "output_type": "stream",
          "name": "stdout",
          "text": [
            "                   all        165        259      0.885      0.831      0.909      0.816\n"
          ]
        },
        {
          "output_type": "stream",
          "name": "stderr",
          "text": [
            "\n"
          ]
        },
        {
          "output_type": "stream",
          "name": "stdout",
          "text": [
            "\n",
            "      Epoch    GPU_mem   box_loss   cls_loss   dfl_loss  Instances       Size\n"
          ]
        },
        {
          "output_type": "stream",
          "name": "stderr",
          "text": [
            "     87/100      13.6G     0.4192     0.4358     0.9862         20        640: 100%|██████████| 83/83 [00:32<00:00,  2.55it/s]\n",
            "                 Class     Images  Instances      Box(P          R      mAP50  mAP50-95): 100%|██████████| 6/6 [00:01<00:00,  4.81it/s]"
          ]
        },
        {
          "output_type": "stream",
          "name": "stdout",
          "text": [
            "                   all        165        259      0.888      0.828      0.905      0.807\n"
          ]
        },
        {
          "output_type": "stream",
          "name": "stderr",
          "text": [
            "\n"
          ]
        },
        {
          "output_type": "stream",
          "name": "stdout",
          "text": [
            "\n",
            "      Epoch    GPU_mem   box_loss   cls_loss   dfl_loss  Instances       Size\n"
          ]
        },
        {
          "output_type": "stream",
          "name": "stderr",
          "text": [
            "     88/100      13.6G     0.4028      0.427     0.9781         24        640: 100%|██████████| 83/83 [00:32<00:00,  2.55it/s]\n",
            "                 Class     Images  Instances      Box(P          R      mAP50  mAP50-95): 100%|██████████| 6/6 [00:01<00:00,  4.76it/s]"
          ]
        },
        {
          "output_type": "stream",
          "name": "stdout",
          "text": [
            "                   all        165        259      0.855      0.842      0.907      0.802\n"
          ]
        },
        {
          "output_type": "stream",
          "name": "stderr",
          "text": [
            "\n"
          ]
        },
        {
          "output_type": "stream",
          "name": "stdout",
          "text": [
            "\n",
            "      Epoch    GPU_mem   box_loss   cls_loss   dfl_loss  Instances       Size\n"
          ]
        },
        {
          "output_type": "stream",
          "name": "stderr",
          "text": [
            "     89/100      13.6G     0.4045     0.4333     0.9828         19        640: 100%|██████████| 83/83 [00:32<00:00,  2.56it/s]\n",
            "                 Class     Images  Instances      Box(P          R      mAP50  mAP50-95): 100%|██████████| 6/6 [00:01<00:00,  4.94it/s]"
          ]
        },
        {
          "output_type": "stream",
          "name": "stdout",
          "text": [
            "                   all        165        259      0.933      0.788      0.915       0.81\n"
          ]
        },
        {
          "output_type": "stream",
          "name": "stderr",
          "text": [
            "\n"
          ]
        },
        {
          "output_type": "stream",
          "name": "stdout",
          "text": [
            "\n",
            "      Epoch    GPU_mem   box_loss   cls_loss   dfl_loss  Instances       Size\n"
          ]
        },
        {
          "output_type": "stream",
          "name": "stderr",
          "text": [
            "     90/100      12.9G     0.3927     0.4098     0.9792         18        640: 100%|██████████| 83/83 [00:32<00:00,  2.55it/s]\n",
            "                 Class     Images  Instances      Box(P          R      mAP50  mAP50-95): 100%|██████████| 6/6 [00:01<00:00,  4.91it/s]"
          ]
        },
        {
          "output_type": "stream",
          "name": "stdout",
          "text": [
            "                   all        165        259      0.878       0.83      0.912      0.816\n"
          ]
        },
        {
          "output_type": "stream",
          "name": "stderr",
          "text": [
            "\n"
          ]
        },
        {
          "output_type": "stream",
          "name": "stdout",
          "text": [
            "Closing dataloader mosaic\n",
            "\u001b[34m\u001b[1malbumentations: \u001b[0mBlur(p=0.01, blur_limit=(3, 7)), MedianBlur(p=0.01, blur_limit=(3, 7)), ToGray(p=0.01), CLAHE(p=0.01, clip_limit=(1, 4.0), tile_grid_size=(8, 8))\n",
            "\n",
            "      Epoch    GPU_mem   box_loss   cls_loss   dfl_loss  Instances       Size\n"
          ]
        },
        {
          "output_type": "stream",
          "name": "stderr",
          "text": [
            "     91/100      13.5G     0.3778     0.3924     0.9423          6        640: 100%|██████████| 83/83 [00:35<00:00,  2.35it/s]\n",
            "                 Class     Images  Instances      Box(P          R      mAP50  mAP50-95): 100%|██████████| 6/6 [00:01<00:00,  4.74it/s]"
          ]
        },
        {
          "output_type": "stream",
          "name": "stdout",
          "text": [
            "                   all        165        259      0.904      0.792      0.899      0.792\n"
          ]
        },
        {
          "output_type": "stream",
          "name": "stderr",
          "text": [
            "\n"
          ]
        },
        {
          "output_type": "stream",
          "name": "stdout",
          "text": [
            "\n",
            "      Epoch    GPU_mem   box_loss   cls_loss   dfl_loss  Instances       Size\n"
          ]
        },
        {
          "output_type": "stream",
          "name": "stderr",
          "text": [
            "     92/100      13.6G     0.3784     0.3767     0.9358         19        640: 100%|██████████| 83/83 [00:32<00:00,  2.55it/s]\n",
            "                 Class     Images  Instances      Box(P          R      mAP50  mAP50-95): 100%|██████████| 6/6 [00:01<00:00,  4.85it/s]"
          ]
        },
        {
          "output_type": "stream",
          "name": "stdout",
          "text": [
            "                   all        165        259      0.869       0.83      0.896      0.798\n"
          ]
        },
        {
          "output_type": "stream",
          "name": "stderr",
          "text": [
            "\n"
          ]
        },
        {
          "output_type": "stream",
          "name": "stdout",
          "text": [
            "\n",
            "      Epoch    GPU_mem   box_loss   cls_loss   dfl_loss  Instances       Size\n"
          ]
        },
        {
          "output_type": "stream",
          "name": "stderr",
          "text": [
            "     93/100      13.5G     0.3554     0.3487     0.9182         10        640: 100%|██████████| 83/83 [00:32<00:00,  2.56it/s]\n",
            "                 Class     Images  Instances      Box(P          R      mAP50  mAP50-95): 100%|██████████| 6/6 [00:01<00:00,  4.89it/s]"
          ]
        },
        {
          "output_type": "stream",
          "name": "stdout",
          "text": [
            "                   all        165        259      0.914       0.78      0.903      0.792\n"
          ]
        },
        {
          "output_type": "stream",
          "name": "stderr",
          "text": [
            "\n"
          ]
        },
        {
          "output_type": "stream",
          "name": "stdout",
          "text": [
            "\n",
            "      Epoch    GPU_mem   box_loss   cls_loss   dfl_loss  Instances       Size\n"
          ]
        },
        {
          "output_type": "stream",
          "name": "stderr",
          "text": [
            "     94/100      13.7G     0.3522     0.3451     0.9184          3        640: 100%|██████████| 83/83 [00:32<00:00,  2.56it/s]\n",
            "                 Class     Images  Instances      Box(P          R      mAP50  mAP50-95): 100%|██████████| 6/6 [00:01<00:00,  4.87it/s]"
          ]
        },
        {
          "output_type": "stream",
          "name": "stdout",
          "text": [
            "                   all        165        259      0.869      0.838        0.9      0.788\n"
          ]
        },
        {
          "output_type": "stream",
          "name": "stderr",
          "text": [
            "\n"
          ]
        },
        {
          "output_type": "stream",
          "name": "stdout",
          "text": [
            "\n",
            "      Epoch    GPU_mem   box_loss   cls_loss   dfl_loss  Instances       Size\n"
          ]
        },
        {
          "output_type": "stream",
          "name": "stderr",
          "text": [
            "     95/100      13.5G     0.3528     0.3431     0.9244          6        640: 100%|██████████| 83/83 [00:32<00:00,  2.52it/s]\n",
            "                 Class     Images  Instances      Box(P          R      mAP50  mAP50-95): 100%|██████████| 6/6 [00:01<00:00,  4.90it/s]"
          ]
        },
        {
          "output_type": "stream",
          "name": "stdout",
          "text": [
            "                   all        165        259      0.901      0.808      0.902      0.798\n"
          ]
        },
        {
          "output_type": "stream",
          "name": "stderr",
          "text": [
            "\n"
          ]
        },
        {
          "output_type": "stream",
          "name": "stdout",
          "text": [
            "\n",
            "      Epoch    GPU_mem   box_loss   cls_loss   dfl_loss  Instances       Size\n"
          ]
        },
        {
          "output_type": "stream",
          "name": "stderr",
          "text": [
            "     96/100      13.5G     0.3455     0.3297     0.9217          7        640: 100%|██████████| 83/83 [00:32<00:00,  2.56it/s]\n",
            "                 Class     Images  Instances      Box(P          R      mAP50  mAP50-95): 100%|██████████| 6/6 [00:01<00:00,  5.00it/s]"
          ]
        },
        {
          "output_type": "stream",
          "name": "stdout",
          "text": [
            "                   all        165        259      0.871      0.809      0.896      0.789\n"
          ]
        },
        {
          "output_type": "stream",
          "name": "stderr",
          "text": [
            "\n"
          ]
        },
        {
          "output_type": "stream",
          "name": "stdout",
          "text": [
            "\n",
            "      Epoch    GPU_mem   box_loss   cls_loss   dfl_loss  Instances       Size\n"
          ]
        },
        {
          "output_type": "stream",
          "name": "stderr",
          "text": [
            "     97/100      13.5G     0.3382     0.3237     0.9148         11        640: 100%|██████████| 83/83 [00:32<00:00,  2.56it/s]\n",
            "                 Class     Images  Instances      Box(P          R      mAP50  mAP50-95): 100%|██████████| 6/6 [00:01<00:00,  5.01it/s]"
          ]
        },
        {
          "output_type": "stream",
          "name": "stdout",
          "text": [
            "                   all        165        259      0.875      0.849      0.905      0.803\n"
          ]
        },
        {
          "output_type": "stream",
          "name": "stderr",
          "text": [
            "\n"
          ]
        },
        {
          "output_type": "stream",
          "name": "stdout",
          "text": [
            "\n",
            "      Epoch    GPU_mem   box_loss   cls_loss   dfl_loss  Instances       Size\n"
          ]
        },
        {
          "output_type": "stream",
          "name": "stderr",
          "text": [
            "     98/100      12.9G     0.3351      0.316     0.9162          7        640: 100%|██████████| 83/83 [00:32<00:00,  2.56it/s]\n",
            "                 Class     Images  Instances      Box(P          R      mAP50  mAP50-95): 100%|██████████| 6/6 [00:01<00:00,  5.01it/s]"
          ]
        },
        {
          "output_type": "stream",
          "name": "stdout",
          "text": [
            "                   all        165        259      0.891      0.846      0.907      0.802\n"
          ]
        },
        {
          "output_type": "stream",
          "name": "stderr",
          "text": [
            "\n"
          ]
        },
        {
          "output_type": "stream",
          "name": "stdout",
          "text": [
            "\n",
            "      Epoch    GPU_mem   box_loss   cls_loss   dfl_loss  Instances       Size\n"
          ]
        },
        {
          "output_type": "stream",
          "name": "stderr",
          "text": [
            "     99/100      13.5G     0.3175     0.7404      0.894          0        640: 100%|██████████| 83/83 [00:32<00:00,  2.56it/s]\n",
            "                 Class     Images  Instances      Box(P          R      mAP50  mAP50-95): 100%|██████████| 6/6 [00:01<00:00,  5.00it/s]"
          ]
        },
        {
          "output_type": "stream",
          "name": "stdout",
          "text": [
            "                   all        165        259      0.895      0.827      0.911      0.808\n"
          ]
        },
        {
          "output_type": "stream",
          "name": "stderr",
          "text": [
            "\n"
          ]
        },
        {
          "output_type": "stream",
          "name": "stdout",
          "text": [
            "\n",
            "      Epoch    GPU_mem   box_loss   cls_loss   dfl_loss  Instances       Size\n"
          ]
        },
        {
          "output_type": "stream",
          "name": "stderr",
          "text": [
            "    100/100      13.5G     0.3229     0.3074     0.9063          9        640: 100%|██████████| 83/83 [00:32<00:00,  2.55it/s]\n",
            "                 Class     Images  Instances      Box(P          R      mAP50  mAP50-95): 100%|██████████| 6/6 [00:01<00:00,  5.06it/s]"
          ]
        },
        {
          "output_type": "stream",
          "name": "stdout",
          "text": [
            "                   all        165        259      0.856      0.871       0.91       0.81\n"
          ]
        },
        {
          "output_type": "stream",
          "name": "stderr",
          "text": [
            "\n"
          ]
        },
        {
          "output_type": "stream",
          "name": "stdout",
          "text": [
            "\n",
            "100 epochs completed in 1.071 hours.\n",
            "Optimizer stripped from runs/detect/train/weights/last.pt, 136.7MB\n",
            "Optimizer stripped from runs/detect/train/weights/best.pt, 136.7MB\n",
            "\n",
            "Validating runs/detect/train/weights/best.pt...\n",
            "Ultralytics YOLOv8.1.34 🚀 Python-3.10.12 torch-2.2.1+cu121 CUDA:0 (Tesla V100-SXM2-16GB, 16151MiB)\n",
            "YOLOv8x summary (fused): 268 layers, 68124531 parameters, 0 gradients, 257.4 GFLOPs\n"
          ]
        },
        {
          "output_type": "stream",
          "name": "stderr",
          "text": [
            "                 Class     Images  Instances      Box(P          R      mAP50  mAP50-95): 100%|██████████| 6/6 [00:02<00:00,  2.04it/s]\n"
          ]
        },
        {
          "output_type": "stream",
          "name": "stdout",
          "text": [
            "                   all        165        259      0.868      0.834      0.916      0.817\n",
            "Speed: 0.1ms preprocess, 8.7ms inference, 0.1ms loss, 6.5ms postprocess per image\n",
            "Results saved to \u001b[1mruns/detect/train\u001b[0m\n"
          ]
        }
      ]
    },
    {
      "cell_type": "code",
      "source": [
        "model_extra = YOLO('yolov8x.pt')"
      ],
      "metadata": {
        "colab": {
          "base_uri": "https://localhost:8080/"
        },
        "id": "XRbfw9ZiK3FQ",
        "outputId": "f3372cc2-2ef7-4169-d8c9-ad491d1d4d6b"
      },
      "execution_count": null,
      "outputs": [
        {
          "output_type": "stream",
          "name": "stdout",
          "text": [
            "Downloading https://github.com/ultralytics/assets/releases/download/v8.1.0/yolov8x.pt to 'yolov8x.pt'...\n"
          ]
        },
        {
          "output_type": "stream",
          "name": "stderr",
          "text": [
            "100%|██████████| 131M/131M [00:00<00:00, 406MB/s]\n"
          ]
        }
      ]
    },
    {
      "cell_type": "code",
      "source": [
        "folder_path = '/content/drive/MyDrive/DataUnchanges/NonElephantImages'\n",
        "\n",
        "# Iterate through files in the folder\n",
        "for file_name in os.listdir(folder_path):\n",
        "    # Check if it's a file (not a directory)\n",
        "  if file_name.endswith('.png'):\n",
        "    new_name = file_name[:-4] + '.txt'\n",
        "    print(file_name)\n",
        "    url = \"/content/drive/MyDrive/DataUnchanges/NonElephantImages/\"+file_name\n",
        "    print(url)\n",
        "    img = cv2.imread(url)\n",
        "    annotFile = \"/content/drive/MyDrive/DataUnchanges/NonElephantImages/annot/\"+new_name\n",
        "    print(annotFile)\n",
        "    f = open(annotFile, \"x\")\n",
        "    f.close()\n",
        "  else:\n",
        "    pass"
      ],
      "metadata": {
        "colab": {
          "base_uri": "https://localhost:8080/"
        },
        "id": "TpsP0-TDK-S6",
        "outputId": "1a1688a9-e7ae-4db1-afdc-ae14547f99ec"
      },
      "execution_count": null,
      "outputs": [
        {
          "output_type": "stream",
          "name": "stdout",
          "text": [
            "Guess the Animal by the Sound6.png\n",
            "/content/drive/MyDrive/DataUnchanges/NonElephantImages/Guess the Animal by the Sound6.png\n",
            "/content/drive/MyDrive/DataUnchanges/NonElephantImages/annot/Guess the Animal by the Sound6.txt\n",
            "Guess the Animal by the Sound5.png\n",
            "/content/drive/MyDrive/DataUnchanges/NonElephantImages/Guess the Animal by the Sound5.png\n",
            "/content/drive/MyDrive/DataUnchanges/NonElephantImages/annot/Guess the Animal by the Sound5.txt\n",
            "Guess the Animal by the Sound0.png\n",
            "/content/drive/MyDrive/DataUnchanges/NonElephantImages/Guess the Animal by the Sound0.png\n",
            "/content/drive/MyDrive/DataUnchanges/NonElephantImages/annot/Guess the Animal by the Sound0.txt\n",
            "Guess the Animal by the Sound1.png\n",
            "/content/drive/MyDrive/DataUnchanges/NonElephantImages/Guess the Animal by the Sound1.png\n",
            "/content/drive/MyDrive/DataUnchanges/NonElephantImages/annot/Guess the Animal by the Sound1.txt\n",
            "Guess the Animal by the Sound2.png\n",
            "/content/drive/MyDrive/DataUnchanges/NonElephantImages/Guess the Animal by the Sound2.png\n",
            "/content/drive/MyDrive/DataUnchanges/NonElephantImages/annot/Guess the Animal by the Sound2.txt\n",
            "Guess the Animal by the Sound3.png\n",
            "/content/drive/MyDrive/DataUnchanges/NonElephantImages/Guess the Animal by the Sound3.png\n",
            "/content/drive/MyDrive/DataUnchanges/NonElephantImages/annot/Guess the Animal by the Sound3.txt\n",
            "Guess the Animal by the Sound4.png\n",
            "/content/drive/MyDrive/DataUnchanges/NonElephantImages/Guess the Animal by the Sound4.png\n",
            "/content/drive/MyDrive/DataUnchanges/NonElephantImages/annot/Guess the Animal by the Sound4.txt\n",
            "Guess the Animal by the Sound8.png\n",
            "/content/drive/MyDrive/DataUnchanges/NonElephantImages/Guess the Animal by the Sound8.png\n",
            "/content/drive/MyDrive/DataUnchanges/NonElephantImages/annot/Guess the Animal by the Sound8.txt\n",
            "Guess the Animal by the Sound7.png\n",
            "/content/drive/MyDrive/DataUnchanges/NonElephantImages/Guess the Animal by the Sound7.png\n",
            "/content/drive/MyDrive/DataUnchanges/NonElephantImages/annot/Guess the Animal by the Sound7.txt\n",
            "Guess the Animal by the Sound10.png\n",
            "/content/drive/MyDrive/DataUnchanges/NonElephantImages/Guess the Animal by the Sound10.png\n",
            "/content/drive/MyDrive/DataUnchanges/NonElephantImages/annot/Guess the Animal by the Sound10.txt\n",
            "Guess the Animal by the Sound12.png\n",
            "/content/drive/MyDrive/DataUnchanges/NonElephantImages/Guess the Animal by the Sound12.png\n",
            "/content/drive/MyDrive/DataUnchanges/NonElephantImages/annot/Guess the Animal by the Sound12.txt\n",
            "Guess the Animal by the Sound9.png\n",
            "/content/drive/MyDrive/DataUnchanges/NonElephantImages/Guess the Animal by the Sound9.png\n",
            "/content/drive/MyDrive/DataUnchanges/NonElephantImages/annot/Guess the Animal by the Sound9.txt\n",
            "Guess the Animal by the Sound11.png\n",
            "/content/drive/MyDrive/DataUnchanges/NonElephantImages/Guess the Animal by the Sound11.png\n",
            "/content/drive/MyDrive/DataUnchanges/NonElephantImages/annot/Guess the Animal by the Sound11.txt\n",
            "Guess the Animal by the Sound13.png\n",
            "/content/drive/MyDrive/DataUnchanges/NonElephantImages/Guess the Animal by the Sound13.png\n",
            "/content/drive/MyDrive/DataUnchanges/NonElephantImages/annot/Guess the Animal by the Sound13.txt\n",
            "Guess the Animal by the Sound19.png\n",
            "/content/drive/MyDrive/DataUnchanges/NonElephantImages/Guess the Animal by the Sound19.png\n",
            "/content/drive/MyDrive/DataUnchanges/NonElephantImages/annot/Guess the Animal by the Sound19.txt\n",
            "Guess the Animal by the Sound14.png\n",
            "/content/drive/MyDrive/DataUnchanges/NonElephantImages/Guess the Animal by the Sound14.png\n",
            "/content/drive/MyDrive/DataUnchanges/NonElephantImages/annot/Guess the Animal by the Sound14.txt\n",
            "Guess the Animal by the Sound18.png\n",
            "/content/drive/MyDrive/DataUnchanges/NonElephantImages/Guess the Animal by the Sound18.png\n",
            "/content/drive/MyDrive/DataUnchanges/NonElephantImages/annot/Guess the Animal by the Sound18.txt\n",
            "Guess the Animal by the Sound20.png\n",
            "/content/drive/MyDrive/DataUnchanges/NonElephantImages/Guess the Animal by the Sound20.png\n",
            "/content/drive/MyDrive/DataUnchanges/NonElephantImages/annot/Guess the Animal by the Sound20.txt\n",
            "Guess the Animal by the Sound17.png\n",
            "/content/drive/MyDrive/DataUnchanges/NonElephantImages/Guess the Animal by the Sound17.png\n",
            "/content/drive/MyDrive/DataUnchanges/NonElephantImages/annot/Guess the Animal by the Sound17.txt\n",
            "Guess the Animal by the Sound16.png\n",
            "/content/drive/MyDrive/DataUnchanges/NonElephantImages/Guess the Animal by the Sound16.png\n",
            "/content/drive/MyDrive/DataUnchanges/NonElephantImages/annot/Guess the Animal by the Sound16.txt\n",
            "Guess the Animal by the Sound15.png\n",
            "/content/drive/MyDrive/DataUnchanges/NonElephantImages/Guess the Animal by the Sound15.png\n",
            "/content/drive/MyDrive/DataUnchanges/NonElephantImages/annot/Guess the Animal by the Sound15.txt\n",
            "Guess the Animal by the Sound26.png\n",
            "/content/drive/MyDrive/DataUnchanges/NonElephantImages/Guess the Animal by the Sound26.png\n",
            "/content/drive/MyDrive/DataUnchanges/NonElephantImages/annot/Guess the Animal by the Sound26.txt\n",
            "Guess the Animal by the Sound23.png\n",
            "/content/drive/MyDrive/DataUnchanges/NonElephantImages/Guess the Animal by the Sound23.png\n",
            "/content/drive/MyDrive/DataUnchanges/NonElephantImages/annot/Guess the Animal by the Sound23.txt\n",
            "Guess the Animal by the Sound24.png\n",
            "/content/drive/MyDrive/DataUnchanges/NonElephantImages/Guess the Animal by the Sound24.png\n",
            "/content/drive/MyDrive/DataUnchanges/NonElephantImages/annot/Guess the Animal by the Sound24.txt\n",
            "Guess the Animal by the Sound25.png\n",
            "/content/drive/MyDrive/DataUnchanges/NonElephantImages/Guess the Animal by the Sound25.png\n",
            "/content/drive/MyDrive/DataUnchanges/NonElephantImages/annot/Guess the Animal by the Sound25.txt\n",
            "Guess the Animal by the Sound22.png\n",
            "/content/drive/MyDrive/DataUnchanges/NonElephantImages/Guess the Animal by the Sound22.png\n",
            "/content/drive/MyDrive/DataUnchanges/NonElephantImages/annot/Guess the Animal by the Sound22.txt\n",
            "Guess the Animal by the Sound27.png\n",
            "/content/drive/MyDrive/DataUnchanges/NonElephantImages/Guess the Animal by the Sound27.png\n",
            "/content/drive/MyDrive/DataUnchanges/NonElephantImages/annot/Guess the Animal by the Sound27.txt\n",
            "Guess the Animal by the Sound21.png\n",
            "/content/drive/MyDrive/DataUnchanges/NonElephantImages/Guess the Animal by the Sound21.png\n",
            "/content/drive/MyDrive/DataUnchanges/NonElephantImages/annot/Guess the Animal by the Sound21.txt\n",
            "Guess the Animal by the Sound33.png\n",
            "/content/drive/MyDrive/DataUnchanges/NonElephantImages/Guess the Animal by the Sound33.png\n",
            "/content/drive/MyDrive/DataUnchanges/NonElephantImages/annot/Guess the Animal by the Sound33.txt\n",
            "Guess the Animal by the Sound28.png\n",
            "/content/drive/MyDrive/DataUnchanges/NonElephantImages/Guess the Animal by the Sound28.png\n",
            "/content/drive/MyDrive/DataUnchanges/NonElephantImages/annot/Guess the Animal by the Sound28.txt\n",
            "Guess the Animal by the Sound29.png\n",
            "/content/drive/MyDrive/DataUnchanges/NonElephantImages/Guess the Animal by the Sound29.png\n",
            "/content/drive/MyDrive/DataUnchanges/NonElephantImages/annot/Guess the Animal by the Sound29.txt\n",
            "Guess the Animal by the Sound32.png\n",
            "/content/drive/MyDrive/DataUnchanges/NonElephantImages/Guess the Animal by the Sound32.png\n",
            "/content/drive/MyDrive/DataUnchanges/NonElephantImages/annot/Guess the Animal by the Sound32.txt\n",
            "Guess the Animal by the Sound31.png\n",
            "/content/drive/MyDrive/DataUnchanges/NonElephantImages/Guess the Animal by the Sound31.png\n",
            "/content/drive/MyDrive/DataUnchanges/NonElephantImages/annot/Guess the Animal by the Sound31.txt\n",
            "Guess the Animal by the Sound30.png\n",
            "/content/drive/MyDrive/DataUnchanges/NonElephantImages/Guess the Animal by the Sound30.png\n",
            "/content/drive/MyDrive/DataUnchanges/NonElephantImages/annot/Guess the Animal by the Sound30.txt\n",
            "Guess the Animal by the Sound38.png\n",
            "/content/drive/MyDrive/DataUnchanges/NonElephantImages/Guess the Animal by the Sound38.png\n",
            "/content/drive/MyDrive/DataUnchanges/NonElephantImages/annot/Guess the Animal by the Sound38.txt\n",
            "Guess the Animal by the Sound36.png\n",
            "/content/drive/MyDrive/DataUnchanges/NonElephantImages/Guess the Animal by the Sound36.png\n",
            "/content/drive/MyDrive/DataUnchanges/NonElephantImages/annot/Guess the Animal by the Sound36.txt\n",
            "Guess the Animal by the Sound40.png\n",
            "/content/drive/MyDrive/DataUnchanges/NonElephantImages/Guess the Animal by the Sound40.png\n",
            "/content/drive/MyDrive/DataUnchanges/NonElephantImages/annot/Guess the Animal by the Sound40.txt\n",
            "Guess the Animal by the Sound34.png\n",
            "/content/drive/MyDrive/DataUnchanges/NonElephantImages/Guess the Animal by the Sound34.png\n",
            "/content/drive/MyDrive/DataUnchanges/NonElephantImages/annot/Guess the Animal by the Sound34.txt\n",
            "Guess the Animal by the Sound35.png\n",
            "/content/drive/MyDrive/DataUnchanges/NonElephantImages/Guess the Animal by the Sound35.png\n",
            "/content/drive/MyDrive/DataUnchanges/NonElephantImages/annot/Guess the Animal by the Sound35.txt\n",
            "Guess the Animal by the Sound39.png\n",
            "/content/drive/MyDrive/DataUnchanges/NonElephantImages/Guess the Animal by the Sound39.png\n",
            "/content/drive/MyDrive/DataUnchanges/NonElephantImages/annot/Guess the Animal by the Sound39.txt\n",
            "Guess the Animal by the Sound37.png\n",
            "/content/drive/MyDrive/DataUnchanges/NonElephantImages/Guess the Animal by the Sound37.png\n",
            "/content/drive/MyDrive/DataUnchanges/NonElephantImages/annot/Guess the Animal by the Sound37.txt\n",
            "Guess the Animal by the Sound42.png\n",
            "/content/drive/MyDrive/DataUnchanges/NonElephantImages/Guess the Animal by the Sound42.png\n",
            "/content/drive/MyDrive/DataUnchanges/NonElephantImages/annot/Guess the Animal by the Sound42.txt\n",
            "Guess the Animal by the Sound47.png\n",
            "/content/drive/MyDrive/DataUnchanges/NonElephantImages/Guess the Animal by the Sound47.png\n",
            "/content/drive/MyDrive/DataUnchanges/NonElephantImages/annot/Guess the Animal by the Sound47.txt\n",
            "Guess the Animal by the Sound41.png\n",
            "/content/drive/MyDrive/DataUnchanges/NonElephantImages/Guess the Animal by the Sound41.png\n",
            "/content/drive/MyDrive/DataUnchanges/NonElephantImages/annot/Guess the Animal by the Sound41.txt\n",
            "Guess the Animal by the Sound43.png\n",
            "/content/drive/MyDrive/DataUnchanges/NonElephantImages/Guess the Animal by the Sound43.png\n",
            "/content/drive/MyDrive/DataUnchanges/NonElephantImages/annot/Guess the Animal by the Sound43.txt\n",
            "Guess the Animal by the Sound46.png\n",
            "/content/drive/MyDrive/DataUnchanges/NonElephantImages/Guess the Animal by the Sound46.png\n",
            "/content/drive/MyDrive/DataUnchanges/NonElephantImages/annot/Guess the Animal by the Sound46.txt\n",
            "Guess the Animal by the Sound45.png\n",
            "/content/drive/MyDrive/DataUnchanges/NonElephantImages/Guess the Animal by the Sound45.png\n",
            "/content/drive/MyDrive/DataUnchanges/NonElephantImages/annot/Guess the Animal by the Sound45.txt\n",
            "Guess the Animal by the Sound44.png\n",
            "/content/drive/MyDrive/DataUnchanges/NonElephantImages/Guess the Animal by the Sound44.png\n",
            "/content/drive/MyDrive/DataUnchanges/NonElephantImages/annot/Guess the Animal by the Sound44.txt\n",
            "Guess the Animal by the Sound53.png\n",
            "/content/drive/MyDrive/DataUnchanges/NonElephantImages/Guess the Animal by the Sound53.png\n",
            "/content/drive/MyDrive/DataUnchanges/NonElephantImages/annot/Guess the Animal by the Sound53.txt\n",
            "Guess the Animal by the Sound49.png\n",
            "/content/drive/MyDrive/DataUnchanges/NonElephantImages/Guess the Animal by the Sound49.png\n",
            "/content/drive/MyDrive/DataUnchanges/NonElephantImages/annot/Guess the Animal by the Sound49.txt\n",
            "Guess the Animal by the Sound51.png\n",
            "/content/drive/MyDrive/DataUnchanges/NonElephantImages/Guess the Animal by the Sound51.png\n",
            "/content/drive/MyDrive/DataUnchanges/NonElephantImages/annot/Guess the Animal by the Sound51.txt\n",
            "Guess the Animal by the Sound50.png\n",
            "/content/drive/MyDrive/DataUnchanges/NonElephantImages/Guess the Animal by the Sound50.png\n",
            "/content/drive/MyDrive/DataUnchanges/NonElephantImages/annot/Guess the Animal by the Sound50.txt\n",
            "Guess the Animal by the Sound48.png\n",
            "/content/drive/MyDrive/DataUnchanges/NonElephantImages/Guess the Animal by the Sound48.png\n",
            "/content/drive/MyDrive/DataUnchanges/NonElephantImages/annot/Guess the Animal by the Sound48.txt\n",
            "Guess the Animal by the Sound52.png\n",
            "/content/drive/MyDrive/DataUnchanges/NonElephantImages/Guess the Animal by the Sound52.png\n",
            "/content/drive/MyDrive/DataUnchanges/NonElephantImages/annot/Guess the Animal by the Sound52.txt\n",
            "Guess the Animal by the Sound55.png\n",
            "/content/drive/MyDrive/DataUnchanges/NonElephantImages/Guess the Animal by the Sound55.png\n",
            "/content/drive/MyDrive/DataUnchanges/NonElephantImages/annot/Guess the Animal by the Sound55.txt\n",
            "Guess the Animal by the Sound60.png\n",
            "/content/drive/MyDrive/DataUnchanges/NonElephantImages/Guess the Animal by the Sound60.png\n",
            "/content/drive/MyDrive/DataUnchanges/NonElephantImages/annot/Guess the Animal by the Sound60.txt\n",
            "Guess the Animal by the Sound57.png\n",
            "/content/drive/MyDrive/DataUnchanges/NonElephantImages/Guess the Animal by the Sound57.png\n",
            "/content/drive/MyDrive/DataUnchanges/NonElephantImages/annot/Guess the Animal by the Sound57.txt\n",
            "Guess the Animal by the Sound59.png\n",
            "/content/drive/MyDrive/DataUnchanges/NonElephantImages/Guess the Animal by the Sound59.png\n",
            "/content/drive/MyDrive/DataUnchanges/NonElephantImages/annot/Guess the Animal by the Sound59.txt\n",
            "Guess the Animal by the Sound61.png\n",
            "/content/drive/MyDrive/DataUnchanges/NonElephantImages/Guess the Animal by the Sound61.png\n",
            "/content/drive/MyDrive/DataUnchanges/NonElephantImages/annot/Guess the Animal by the Sound61.txt\n",
            "Guess the Animal by the Sound58.png\n",
            "/content/drive/MyDrive/DataUnchanges/NonElephantImages/Guess the Animal by the Sound58.png\n",
            "/content/drive/MyDrive/DataUnchanges/NonElephantImages/annot/Guess the Animal by the Sound58.txt\n",
            "Guess the Animal by the Sound54.png\n",
            "/content/drive/MyDrive/DataUnchanges/NonElephantImages/Guess the Animal by the Sound54.png\n",
            "/content/drive/MyDrive/DataUnchanges/NonElephantImages/annot/Guess the Animal by the Sound54.txt\n",
            "Guess the Animal by the Sound56.png\n",
            "/content/drive/MyDrive/DataUnchanges/NonElephantImages/Guess the Animal by the Sound56.png\n",
            "/content/drive/MyDrive/DataUnchanges/NonElephantImages/annot/Guess the Animal by the Sound56.txt\n",
            "Guess the Animal by the Sound64.png\n",
            "/content/drive/MyDrive/DataUnchanges/NonElephantImages/Guess the Animal by the Sound64.png\n",
            "/content/drive/MyDrive/DataUnchanges/NonElephantImages/annot/Guess the Animal by the Sound64.txt\n",
            "Guess the Animal by the Sound69.png\n",
            "/content/drive/MyDrive/DataUnchanges/NonElephantImages/Guess the Animal by the Sound69.png\n",
            "/content/drive/MyDrive/DataUnchanges/NonElephantImages/annot/Guess the Animal by the Sound69.txt\n",
            "Guess the Animal by the Sound65.png\n",
            "/content/drive/MyDrive/DataUnchanges/NonElephantImages/Guess the Animal by the Sound65.png\n",
            "/content/drive/MyDrive/DataUnchanges/NonElephantImages/annot/Guess the Animal by the Sound65.txt\n",
            "Guess the Animal by the Sound67.png\n",
            "/content/drive/MyDrive/DataUnchanges/NonElephantImages/Guess the Animal by the Sound67.png\n",
            "/content/drive/MyDrive/DataUnchanges/NonElephantImages/annot/Guess the Animal by the Sound67.txt\n",
            "Guess the Animal by the Sound63.png\n",
            "/content/drive/MyDrive/DataUnchanges/NonElephantImages/Guess the Animal by the Sound63.png\n",
            "/content/drive/MyDrive/DataUnchanges/NonElephantImages/annot/Guess the Animal by the Sound63.txt\n",
            "Guess the Animal by the Sound70.png\n",
            "/content/drive/MyDrive/DataUnchanges/NonElephantImages/Guess the Animal by the Sound70.png\n",
            "/content/drive/MyDrive/DataUnchanges/NonElephantImages/annot/Guess the Animal by the Sound70.txt\n",
            "Guess the Animal by the Sound62.png\n",
            "/content/drive/MyDrive/DataUnchanges/NonElephantImages/Guess the Animal by the Sound62.png\n",
            "/content/drive/MyDrive/DataUnchanges/NonElephantImages/annot/Guess the Animal by the Sound62.txt\n",
            "Guess the Animal by the Sound66.png\n",
            "/content/drive/MyDrive/DataUnchanges/NonElephantImages/Guess the Animal by the Sound66.png\n",
            "/content/drive/MyDrive/DataUnchanges/NonElephantImages/annot/Guess the Animal by the Sound66.txt\n",
            "Guess the Animal by the Sound68.png\n",
            "/content/drive/MyDrive/DataUnchanges/NonElephantImages/Guess the Animal by the Sound68.png\n",
            "/content/drive/MyDrive/DataUnchanges/NonElephantImages/annot/Guess the Animal by the Sound68.txt\n",
            "1500 ANIMALS NAMES and SOUNDS 8K ULTRA HD5.png\n",
            "/content/drive/MyDrive/DataUnchanges/NonElephantImages/1500 ANIMALS NAMES and SOUNDS 8K ULTRA HD5.png\n",
            "/content/drive/MyDrive/DataUnchanges/NonElephantImages/annot/1500 ANIMALS NAMES and SOUNDS 8K ULTRA HD5.txt\n",
            "1500 ANIMALS NAMES and SOUNDS 8K ULTRA HD2.png\n",
            "/content/drive/MyDrive/DataUnchanges/NonElephantImages/1500 ANIMALS NAMES and SOUNDS 8K ULTRA HD2.png\n",
            "/content/drive/MyDrive/DataUnchanges/NonElephantImages/annot/1500 ANIMALS NAMES and SOUNDS 8K ULTRA HD2.txt\n",
            "1500 ANIMALS NAMES and SOUNDS 8K ULTRA HD0.png\n",
            "/content/drive/MyDrive/DataUnchanges/NonElephantImages/1500 ANIMALS NAMES and SOUNDS 8K ULTRA HD0.png\n",
            "/content/drive/MyDrive/DataUnchanges/NonElephantImages/annot/1500 ANIMALS NAMES and SOUNDS 8K ULTRA HD0.txt\n",
            "1500 ANIMALS NAMES and SOUNDS 8K ULTRA HD3.png\n",
            "/content/drive/MyDrive/DataUnchanges/NonElephantImages/1500 ANIMALS NAMES and SOUNDS 8K ULTRA HD3.png\n",
            "/content/drive/MyDrive/DataUnchanges/NonElephantImages/annot/1500 ANIMALS NAMES and SOUNDS 8K ULTRA HD3.txt\n",
            "1500 ANIMALS NAMES and SOUNDS 8K ULTRA HD4.png\n",
            "/content/drive/MyDrive/DataUnchanges/NonElephantImages/1500 ANIMALS NAMES and SOUNDS 8K ULTRA HD4.png\n",
            "/content/drive/MyDrive/DataUnchanges/NonElephantImages/annot/1500 ANIMALS NAMES and SOUNDS 8K ULTRA HD4.txt\n",
            "1500 ANIMALS NAMES and SOUNDS 8K ULTRA HD1.png\n",
            "/content/drive/MyDrive/DataUnchanges/NonElephantImages/1500 ANIMALS NAMES and SOUNDS 8K ULTRA HD1.png\n",
            "/content/drive/MyDrive/DataUnchanges/NonElephantImages/annot/1500 ANIMALS NAMES and SOUNDS 8K ULTRA HD1.txt\n",
            "1500 ANIMALS NAMES and SOUNDS 8K ULTRA HD6.png\n",
            "/content/drive/MyDrive/DataUnchanges/NonElephantImages/1500 ANIMALS NAMES and SOUNDS 8K ULTRA HD6.png\n",
            "/content/drive/MyDrive/DataUnchanges/NonElephantImages/annot/1500 ANIMALS NAMES and SOUNDS 8K ULTRA HD6.txt\n",
            "1500 ANIMALS NAMES and SOUNDS 8K ULTRA HD8.png\n",
            "/content/drive/MyDrive/DataUnchanges/NonElephantImages/1500 ANIMALS NAMES and SOUNDS 8K ULTRA HD8.png\n",
            "/content/drive/MyDrive/DataUnchanges/NonElephantImages/annot/1500 ANIMALS NAMES and SOUNDS 8K ULTRA HD8.txt\n",
            "1500 ANIMALS NAMES and SOUNDS 8K ULTRA HD10.png\n",
            "/content/drive/MyDrive/DataUnchanges/NonElephantImages/1500 ANIMALS NAMES and SOUNDS 8K ULTRA HD10.png\n",
            "/content/drive/MyDrive/DataUnchanges/NonElephantImages/annot/1500 ANIMALS NAMES and SOUNDS 8K ULTRA HD10.txt\n",
            "1500 ANIMALS NAMES and SOUNDS 8K ULTRA HD7.png\n",
            "/content/drive/MyDrive/DataUnchanges/NonElephantImages/1500 ANIMALS NAMES and SOUNDS 8K ULTRA HD7.png\n",
            "/content/drive/MyDrive/DataUnchanges/NonElephantImages/annot/1500 ANIMALS NAMES and SOUNDS 8K ULTRA HD7.txt\n",
            "1500 ANIMALS NAMES and SOUNDS 8K ULTRA HD12.png\n",
            "/content/drive/MyDrive/DataUnchanges/NonElephantImages/1500 ANIMALS NAMES and SOUNDS 8K ULTRA HD12.png\n",
            "/content/drive/MyDrive/DataUnchanges/NonElephantImages/annot/1500 ANIMALS NAMES and SOUNDS 8K ULTRA HD12.txt\n",
            "1500 ANIMALS NAMES and SOUNDS 8K ULTRA HD13.png\n",
            "/content/drive/MyDrive/DataUnchanges/NonElephantImages/1500 ANIMALS NAMES and SOUNDS 8K ULTRA HD13.png\n",
            "/content/drive/MyDrive/DataUnchanges/NonElephantImages/annot/1500 ANIMALS NAMES and SOUNDS 8K ULTRA HD13.txt\n",
            "1500 ANIMALS NAMES and SOUNDS 8K ULTRA HD14.png\n",
            "/content/drive/MyDrive/DataUnchanges/NonElephantImages/1500 ANIMALS NAMES and SOUNDS 8K ULTRA HD14.png\n",
            "/content/drive/MyDrive/DataUnchanges/NonElephantImages/annot/1500 ANIMALS NAMES and SOUNDS 8K ULTRA HD14.txt\n",
            "1500 ANIMALS NAMES and SOUNDS 8K ULTRA HD9.png\n",
            "/content/drive/MyDrive/DataUnchanges/NonElephantImages/1500 ANIMALS NAMES and SOUNDS 8K ULTRA HD9.png\n",
            "/content/drive/MyDrive/DataUnchanges/NonElephantImages/annot/1500 ANIMALS NAMES and SOUNDS 8K ULTRA HD9.txt\n",
            "1500 ANIMALS NAMES and SOUNDS 8K ULTRA HD11.png\n",
            "/content/drive/MyDrive/DataUnchanges/NonElephantImages/1500 ANIMALS NAMES and SOUNDS 8K ULTRA HD11.png\n",
            "/content/drive/MyDrive/DataUnchanges/NonElephantImages/annot/1500 ANIMALS NAMES and SOUNDS 8K ULTRA HD11.txt\n",
            "1500 ANIMALS NAMES and SOUNDS 8K ULTRA HD20.png\n",
            "/content/drive/MyDrive/DataUnchanges/NonElephantImages/1500 ANIMALS NAMES and SOUNDS 8K ULTRA HD20.png\n",
            "/content/drive/MyDrive/DataUnchanges/NonElephantImages/annot/1500 ANIMALS NAMES and SOUNDS 8K ULTRA HD20.txt\n",
            "1500 ANIMALS NAMES and SOUNDS 8K ULTRA HD18.png\n",
            "/content/drive/MyDrive/DataUnchanges/NonElephantImages/1500 ANIMALS NAMES and SOUNDS 8K ULTRA HD18.png\n",
            "/content/drive/MyDrive/DataUnchanges/NonElephantImages/annot/1500 ANIMALS NAMES and SOUNDS 8K ULTRA HD18.txt\n",
            "1500 ANIMALS NAMES and SOUNDS 8K ULTRA HD16.png\n",
            "/content/drive/MyDrive/DataUnchanges/NonElephantImages/1500 ANIMALS NAMES and SOUNDS 8K ULTRA HD16.png\n",
            "/content/drive/MyDrive/DataUnchanges/NonElephantImages/annot/1500 ANIMALS NAMES and SOUNDS 8K ULTRA HD16.txt\n",
            "1500 ANIMALS NAMES and SOUNDS 8K ULTRA HD19.png\n",
            "/content/drive/MyDrive/DataUnchanges/NonElephantImages/1500 ANIMALS NAMES and SOUNDS 8K ULTRA HD19.png\n",
            "/content/drive/MyDrive/DataUnchanges/NonElephantImages/annot/1500 ANIMALS NAMES and SOUNDS 8K ULTRA HD19.txt\n",
            "1500 ANIMALS NAMES and SOUNDS 8K ULTRA HD15.png\n",
            "/content/drive/MyDrive/DataUnchanges/NonElephantImages/1500 ANIMALS NAMES and SOUNDS 8K ULTRA HD15.png\n",
            "/content/drive/MyDrive/DataUnchanges/NonElephantImages/annot/1500 ANIMALS NAMES and SOUNDS 8K ULTRA HD15.txt\n",
            "1500 ANIMALS NAMES and SOUNDS 8K ULTRA HD21.png\n",
            "/content/drive/MyDrive/DataUnchanges/NonElephantImages/1500 ANIMALS NAMES and SOUNDS 8K ULTRA HD21.png\n",
            "/content/drive/MyDrive/DataUnchanges/NonElephantImages/annot/1500 ANIMALS NAMES and SOUNDS 8K ULTRA HD21.txt\n",
            "1500 ANIMALS NAMES and SOUNDS 8K ULTRA HD17.png\n",
            "/content/drive/MyDrive/DataUnchanges/NonElephantImages/1500 ANIMALS NAMES and SOUNDS 8K ULTRA HD17.png\n",
            "/content/drive/MyDrive/DataUnchanges/NonElephantImages/annot/1500 ANIMALS NAMES and SOUNDS 8K ULTRA HD17.txt\n",
            "1500 ANIMALS NAMES and SOUNDS 8K ULTRA HD25.png\n",
            "/content/drive/MyDrive/DataUnchanges/NonElephantImages/1500 ANIMALS NAMES and SOUNDS 8K ULTRA HD25.png\n",
            "/content/drive/MyDrive/DataUnchanges/NonElephantImages/annot/1500 ANIMALS NAMES and SOUNDS 8K ULTRA HD25.txt\n",
            "1500 ANIMALS NAMES and SOUNDS 8K ULTRA HD22.png\n",
            "/content/drive/MyDrive/DataUnchanges/NonElephantImages/1500 ANIMALS NAMES and SOUNDS 8K ULTRA HD22.png\n",
            "/content/drive/MyDrive/DataUnchanges/NonElephantImages/annot/1500 ANIMALS NAMES and SOUNDS 8K ULTRA HD22.txt\n",
            "1500 ANIMALS NAMES and SOUNDS 8K ULTRA HD23.png\n",
            "/content/drive/MyDrive/DataUnchanges/NonElephantImages/1500 ANIMALS NAMES and SOUNDS 8K ULTRA HD23.png\n",
            "/content/drive/MyDrive/DataUnchanges/NonElephantImages/annot/1500 ANIMALS NAMES and SOUNDS 8K ULTRA HD23.txt\n",
            "1500 ANIMALS NAMES and SOUNDS 8K ULTRA HD26.png\n",
            "/content/drive/MyDrive/DataUnchanges/NonElephantImages/1500 ANIMALS NAMES and SOUNDS 8K ULTRA HD26.png\n",
            "/content/drive/MyDrive/DataUnchanges/NonElephantImages/annot/1500 ANIMALS NAMES and SOUNDS 8K ULTRA HD26.txt\n",
            "1500 ANIMALS NAMES and SOUNDS 8K ULTRA HD24.png\n",
            "/content/drive/MyDrive/DataUnchanges/NonElephantImages/1500 ANIMALS NAMES and SOUNDS 8K ULTRA HD24.png\n",
            "/content/drive/MyDrive/DataUnchanges/NonElephantImages/annot/1500 ANIMALS NAMES and SOUNDS 8K ULTRA HD24.txt\n",
            "1500 ANIMALS NAMES and SOUNDS 8K ULTRA HD34.png\n",
            "/content/drive/MyDrive/DataUnchanges/NonElephantImages/1500 ANIMALS NAMES and SOUNDS 8K ULTRA HD34.png\n",
            "/content/drive/MyDrive/DataUnchanges/NonElephantImages/annot/1500 ANIMALS NAMES and SOUNDS 8K ULTRA HD34.txt\n",
            "1500 ANIMALS NAMES and SOUNDS 8K ULTRA HD31.png\n",
            "/content/drive/MyDrive/DataUnchanges/NonElephantImages/1500 ANIMALS NAMES and SOUNDS 8K ULTRA HD31.png\n",
            "/content/drive/MyDrive/DataUnchanges/NonElephantImages/annot/1500 ANIMALS NAMES and SOUNDS 8K ULTRA HD31.txt\n",
            "1500 ANIMALS NAMES and SOUNDS 8K ULTRA HD28.png\n",
            "/content/drive/MyDrive/DataUnchanges/NonElephantImages/1500 ANIMALS NAMES and SOUNDS 8K ULTRA HD28.png\n",
            "/content/drive/MyDrive/DataUnchanges/NonElephantImages/annot/1500 ANIMALS NAMES and SOUNDS 8K ULTRA HD28.txt\n",
            "1500 ANIMALS NAMES and SOUNDS 8K ULTRA HD30.png\n",
            "/content/drive/MyDrive/DataUnchanges/NonElephantImages/1500 ANIMALS NAMES and SOUNDS 8K ULTRA HD30.png\n",
            "/content/drive/MyDrive/DataUnchanges/NonElephantImages/annot/1500 ANIMALS NAMES and SOUNDS 8K ULTRA HD30.txt\n",
            "1500 ANIMALS NAMES and SOUNDS 8K ULTRA HD29.png\n",
            "/content/drive/MyDrive/DataUnchanges/NonElephantImages/1500 ANIMALS NAMES and SOUNDS 8K ULTRA HD29.png\n",
            "/content/drive/MyDrive/DataUnchanges/NonElephantImages/annot/1500 ANIMALS NAMES and SOUNDS 8K ULTRA HD29.txt\n",
            "1500 ANIMALS NAMES and SOUNDS 8K ULTRA HD32.png\n",
            "/content/drive/MyDrive/DataUnchanges/NonElephantImages/1500 ANIMALS NAMES and SOUNDS 8K ULTRA HD32.png\n",
            "/content/drive/MyDrive/DataUnchanges/NonElephantImages/annot/1500 ANIMALS NAMES and SOUNDS 8K ULTRA HD32.txt\n",
            "1500 ANIMALS NAMES and SOUNDS 8K ULTRA HD27.png\n",
            "/content/drive/MyDrive/DataUnchanges/NonElephantImages/1500 ANIMALS NAMES and SOUNDS 8K ULTRA HD27.png\n",
            "/content/drive/MyDrive/DataUnchanges/NonElephantImages/annot/1500 ANIMALS NAMES and SOUNDS 8K ULTRA HD27.txt\n",
            "1500 ANIMALS NAMES and SOUNDS 8K ULTRA HD33.png\n",
            "/content/drive/MyDrive/DataUnchanges/NonElephantImages/1500 ANIMALS NAMES and SOUNDS 8K ULTRA HD33.png\n",
            "/content/drive/MyDrive/DataUnchanges/NonElephantImages/annot/1500 ANIMALS NAMES and SOUNDS 8K ULTRA HD33.txt\n",
            "1500 ANIMALS NAMES and SOUNDS 8K ULTRA HD35.png\n",
            "/content/drive/MyDrive/DataUnchanges/NonElephantImages/1500 ANIMALS NAMES and SOUNDS 8K ULTRA HD35.png\n",
            "/content/drive/MyDrive/DataUnchanges/NonElephantImages/annot/1500 ANIMALS NAMES and SOUNDS 8K ULTRA HD35.txt\n",
            "1500 ANIMALS NAMES and SOUNDS 8K ULTRA HD40.png\n",
            "/content/drive/MyDrive/DataUnchanges/NonElephantImages/1500 ANIMALS NAMES and SOUNDS 8K ULTRA HD40.png\n",
            "/content/drive/MyDrive/DataUnchanges/NonElephantImages/annot/1500 ANIMALS NAMES and SOUNDS 8K ULTRA HD40.txt\n",
            "1500 ANIMALS NAMES and SOUNDS 8K ULTRA HD39.png\n",
            "/content/drive/MyDrive/DataUnchanges/NonElephantImages/1500 ANIMALS NAMES and SOUNDS 8K ULTRA HD39.png\n",
            "/content/drive/MyDrive/DataUnchanges/NonElephantImages/annot/1500 ANIMALS NAMES and SOUNDS 8K ULTRA HD39.txt\n",
            "1500 ANIMALS NAMES and SOUNDS 8K ULTRA HD38.png\n",
            "/content/drive/MyDrive/DataUnchanges/NonElephantImages/1500 ANIMALS NAMES and SOUNDS 8K ULTRA HD38.png\n",
            "/content/drive/MyDrive/DataUnchanges/NonElephantImages/annot/1500 ANIMALS NAMES and SOUNDS 8K ULTRA HD38.txt\n",
            "1500 ANIMALS NAMES and SOUNDS 8K ULTRA HD36.png\n",
            "/content/drive/MyDrive/DataUnchanges/NonElephantImages/1500 ANIMALS NAMES and SOUNDS 8K ULTRA HD36.png\n",
            "/content/drive/MyDrive/DataUnchanges/NonElephantImages/annot/1500 ANIMALS NAMES and SOUNDS 8K ULTRA HD36.txt\n",
            "1500 ANIMALS NAMES and SOUNDS 8K ULTRA HD37.png\n",
            "/content/drive/MyDrive/DataUnchanges/NonElephantImages/1500 ANIMALS NAMES and SOUNDS 8K ULTRA HD37.png\n",
            "/content/drive/MyDrive/DataUnchanges/NonElephantImages/annot/1500 ANIMALS NAMES and SOUNDS 8K ULTRA HD37.txt\n",
            "1500 ANIMALS NAMES and SOUNDS 8K ULTRA HD41.png\n",
            "/content/drive/MyDrive/DataUnchanges/NonElephantImages/1500 ANIMALS NAMES and SOUNDS 8K ULTRA HD41.png\n",
            "/content/drive/MyDrive/DataUnchanges/NonElephantImages/annot/1500 ANIMALS NAMES and SOUNDS 8K ULTRA HD41.txt\n",
            "1500 ANIMALS NAMES and SOUNDS 8K ULTRA HD43.png\n",
            "/content/drive/MyDrive/DataUnchanges/NonElephantImages/1500 ANIMALS NAMES and SOUNDS 8K ULTRA HD43.png\n",
            "/content/drive/MyDrive/DataUnchanges/NonElephantImages/annot/1500 ANIMALS NAMES and SOUNDS 8K ULTRA HD43.txt\n",
            "1500 ANIMALS NAMES and SOUNDS 8K ULTRA HD42.png\n",
            "/content/drive/MyDrive/DataUnchanges/NonElephantImages/1500 ANIMALS NAMES and SOUNDS 8K ULTRA HD42.png\n",
            "/content/drive/MyDrive/DataUnchanges/NonElephantImages/annot/1500 ANIMALS NAMES and SOUNDS 8K ULTRA HD42.txt\n",
            "1500 ANIMALS NAMES and SOUNDS 8K ULTRA HD45.png\n",
            "/content/drive/MyDrive/DataUnchanges/NonElephantImages/1500 ANIMALS NAMES and SOUNDS 8K ULTRA HD45.png\n",
            "/content/drive/MyDrive/DataUnchanges/NonElephantImages/annot/1500 ANIMALS NAMES and SOUNDS 8K ULTRA HD45.txt\n",
            "1500 ANIMALS NAMES and SOUNDS 8K ULTRA HD47.png\n",
            "/content/drive/MyDrive/DataUnchanges/NonElephantImages/1500 ANIMALS NAMES and SOUNDS 8K ULTRA HD47.png\n",
            "/content/drive/MyDrive/DataUnchanges/NonElephantImages/annot/1500 ANIMALS NAMES and SOUNDS 8K ULTRA HD47.txt\n",
            "1500 ANIMALS NAMES and SOUNDS 8K ULTRA HD46.png\n",
            "/content/drive/MyDrive/DataUnchanges/NonElephantImages/1500 ANIMALS NAMES and SOUNDS 8K ULTRA HD46.png\n",
            "/content/drive/MyDrive/DataUnchanges/NonElephantImages/annot/1500 ANIMALS NAMES and SOUNDS 8K ULTRA HD46.txt\n",
            "1500 ANIMALS NAMES and SOUNDS 8K ULTRA HD44.png\n",
            "/content/drive/MyDrive/DataUnchanges/NonElephantImages/1500 ANIMALS NAMES and SOUNDS 8K ULTRA HD44.png\n",
            "/content/drive/MyDrive/DataUnchanges/NonElephantImages/annot/1500 ANIMALS NAMES and SOUNDS 8K ULTRA HD44.txt\n",
            "1500 ANIMALS NAMES and SOUNDS 8K ULTRA HD49.png\n",
            "/content/drive/MyDrive/DataUnchanges/NonElephantImages/1500 ANIMALS NAMES and SOUNDS 8K ULTRA HD49.png\n",
            "/content/drive/MyDrive/DataUnchanges/NonElephantImages/annot/1500 ANIMALS NAMES and SOUNDS 8K ULTRA HD49.txt\n",
            "1500 ANIMALS NAMES and SOUNDS 8K ULTRA HD52.png\n",
            "/content/drive/MyDrive/DataUnchanges/NonElephantImages/1500 ANIMALS NAMES and SOUNDS 8K ULTRA HD52.png\n",
            "/content/drive/MyDrive/DataUnchanges/NonElephantImages/annot/1500 ANIMALS NAMES and SOUNDS 8K ULTRA HD52.txt\n",
            "1500 ANIMALS NAMES and SOUNDS 8K ULTRA HD51.png\n",
            "/content/drive/MyDrive/DataUnchanges/NonElephantImages/1500 ANIMALS NAMES and SOUNDS 8K ULTRA HD51.png\n",
            "/content/drive/MyDrive/DataUnchanges/NonElephantImages/annot/1500 ANIMALS NAMES and SOUNDS 8K ULTRA HD51.txt\n",
            "1500 ANIMALS NAMES and SOUNDS 8K ULTRA HD50.png\n",
            "/content/drive/MyDrive/DataUnchanges/NonElephantImages/1500 ANIMALS NAMES and SOUNDS 8K ULTRA HD50.png\n",
            "/content/drive/MyDrive/DataUnchanges/NonElephantImages/annot/1500 ANIMALS NAMES and SOUNDS 8K ULTRA HD50.txt\n",
            "1500 ANIMALS NAMES and SOUNDS 8K ULTRA HD48.png\n",
            "/content/drive/MyDrive/DataUnchanges/NonElephantImages/1500 ANIMALS NAMES and SOUNDS 8K ULTRA HD48.png\n",
            "/content/drive/MyDrive/DataUnchanges/NonElephantImages/annot/1500 ANIMALS NAMES and SOUNDS 8K ULTRA HD48.txt\n",
            "1500 ANIMALS NAMES and SOUNDS 8K ULTRA HD56.png\n",
            "/content/drive/MyDrive/DataUnchanges/NonElephantImages/1500 ANIMALS NAMES and SOUNDS 8K ULTRA HD56.png\n",
            "/content/drive/MyDrive/DataUnchanges/NonElephantImages/annot/1500 ANIMALS NAMES and SOUNDS 8K ULTRA HD56.txt\n",
            "1500 ANIMALS NAMES and SOUNDS 8K ULTRA HD58.png\n",
            "/content/drive/MyDrive/DataUnchanges/NonElephantImages/1500 ANIMALS NAMES and SOUNDS 8K ULTRA HD58.png\n",
            "/content/drive/MyDrive/DataUnchanges/NonElephantImages/annot/1500 ANIMALS NAMES and SOUNDS 8K ULTRA HD58.txt\n",
            "1500 ANIMALS NAMES and SOUNDS 8K ULTRA HD55.png\n",
            "/content/drive/MyDrive/DataUnchanges/NonElephantImages/1500 ANIMALS NAMES and SOUNDS 8K ULTRA HD55.png\n",
            "/content/drive/MyDrive/DataUnchanges/NonElephantImages/annot/1500 ANIMALS NAMES and SOUNDS 8K ULTRA HD55.txt\n",
            "1500 ANIMALS NAMES and SOUNDS 8K ULTRA HD53.png\n",
            "/content/drive/MyDrive/DataUnchanges/NonElephantImages/1500 ANIMALS NAMES and SOUNDS 8K ULTRA HD53.png\n",
            "/content/drive/MyDrive/DataUnchanges/NonElephantImages/annot/1500 ANIMALS NAMES and SOUNDS 8K ULTRA HD53.txt\n",
            "1500 ANIMALS NAMES and SOUNDS 8K ULTRA HD57.png\n",
            "/content/drive/MyDrive/DataUnchanges/NonElephantImages/1500 ANIMALS NAMES and SOUNDS 8K ULTRA HD57.png\n",
            "/content/drive/MyDrive/DataUnchanges/NonElephantImages/annot/1500 ANIMALS NAMES and SOUNDS 8K ULTRA HD57.txt\n",
            "1500 ANIMALS NAMES and SOUNDS 8K ULTRA HD54.png\n",
            "/content/drive/MyDrive/DataUnchanges/NonElephantImages/1500 ANIMALS NAMES and SOUNDS 8K ULTRA HD54.png\n",
            "/content/drive/MyDrive/DataUnchanges/NonElephantImages/annot/1500 ANIMALS NAMES and SOUNDS 8K ULTRA HD54.txt\n",
            "1500 ANIMALS NAMES and SOUNDS 8K ULTRA HD61.png\n",
            "/content/drive/MyDrive/DataUnchanges/NonElephantImages/1500 ANIMALS NAMES and SOUNDS 8K ULTRA HD61.png\n",
            "/content/drive/MyDrive/DataUnchanges/NonElephantImages/annot/1500 ANIMALS NAMES and SOUNDS 8K ULTRA HD61.txt\n",
            "1500 ANIMALS NAMES and SOUNDS 8K ULTRA HD62.png\n",
            "/content/drive/MyDrive/DataUnchanges/NonElephantImages/1500 ANIMALS NAMES and SOUNDS 8K ULTRA HD62.png\n",
            "/content/drive/MyDrive/DataUnchanges/NonElephantImages/annot/1500 ANIMALS NAMES and SOUNDS 8K ULTRA HD62.txt\n",
            "1500 ANIMALS NAMES and SOUNDS 8K ULTRA HD60.png\n",
            "/content/drive/MyDrive/DataUnchanges/NonElephantImages/1500 ANIMALS NAMES and SOUNDS 8K ULTRA HD60.png\n",
            "/content/drive/MyDrive/DataUnchanges/NonElephantImages/annot/1500 ANIMALS NAMES and SOUNDS 8K ULTRA HD60.txt\n",
            "1500 ANIMALS NAMES and SOUNDS 8K ULTRA HD59.png\n",
            "/content/drive/MyDrive/DataUnchanges/NonElephantImages/1500 ANIMALS NAMES and SOUNDS 8K ULTRA HD59.png\n",
            "/content/drive/MyDrive/DataUnchanges/NonElephantImages/annot/1500 ANIMALS NAMES and SOUNDS 8K ULTRA HD59.txt\n",
            "1500 ANIMALS NAMES and SOUNDS 8K ULTRA HD65.png\n",
            "/content/drive/MyDrive/DataUnchanges/NonElephantImages/1500 ANIMALS NAMES and SOUNDS 8K ULTRA HD65.png\n",
            "/content/drive/MyDrive/DataUnchanges/NonElephantImages/annot/1500 ANIMALS NAMES and SOUNDS 8K ULTRA HD65.txt\n",
            "1500 ANIMALS NAMES and SOUNDS 8K ULTRA HD66.png\n",
            "/content/drive/MyDrive/DataUnchanges/NonElephantImages/1500 ANIMALS NAMES and SOUNDS 8K ULTRA HD66.png\n",
            "/content/drive/MyDrive/DataUnchanges/NonElephantImages/annot/1500 ANIMALS NAMES and SOUNDS 8K ULTRA HD66.txt\n",
            "1500 ANIMALS NAMES and SOUNDS 8K ULTRA HD67.png\n",
            "/content/drive/MyDrive/DataUnchanges/NonElephantImages/1500 ANIMALS NAMES and SOUNDS 8K ULTRA HD67.png\n",
            "/content/drive/MyDrive/DataUnchanges/NonElephantImages/annot/1500 ANIMALS NAMES and SOUNDS 8K ULTRA HD67.txt\n",
            "1500 ANIMALS NAMES and SOUNDS 8K ULTRA HD63.png\n",
            "/content/drive/MyDrive/DataUnchanges/NonElephantImages/1500 ANIMALS NAMES and SOUNDS 8K ULTRA HD63.png\n",
            "/content/drive/MyDrive/DataUnchanges/NonElephantImages/annot/1500 ANIMALS NAMES and SOUNDS 8K ULTRA HD63.txt\n",
            "1500 ANIMALS NAMES and SOUNDS 8K ULTRA HD64.png\n",
            "/content/drive/MyDrive/DataUnchanges/NonElephantImages/1500 ANIMALS NAMES and SOUNDS 8K ULTRA HD64.png\n",
            "/content/drive/MyDrive/DataUnchanges/NonElephantImages/annot/1500 ANIMALS NAMES and SOUNDS 8K ULTRA HD64.txt\n",
            "1500 ANIMALS NAMES and SOUNDS 8K ULTRA HD72.png\n",
            "/content/drive/MyDrive/DataUnchanges/NonElephantImages/1500 ANIMALS NAMES and SOUNDS 8K ULTRA HD72.png\n",
            "/content/drive/MyDrive/DataUnchanges/NonElephantImages/annot/1500 ANIMALS NAMES and SOUNDS 8K ULTRA HD72.txt\n",
            "1500 ANIMALS NAMES and SOUNDS 8K ULTRA HD70.png\n",
            "/content/drive/MyDrive/DataUnchanges/NonElephantImages/1500 ANIMALS NAMES and SOUNDS 8K ULTRA HD70.png\n",
            "/content/drive/MyDrive/DataUnchanges/NonElephantImages/annot/1500 ANIMALS NAMES and SOUNDS 8K ULTRA HD70.txt\n",
            "1500 ANIMALS NAMES and SOUNDS 8K ULTRA HD69.png\n",
            "/content/drive/MyDrive/DataUnchanges/NonElephantImages/1500 ANIMALS NAMES and SOUNDS 8K ULTRA HD69.png\n",
            "/content/drive/MyDrive/DataUnchanges/NonElephantImages/annot/1500 ANIMALS NAMES and SOUNDS 8K ULTRA HD69.txt\n",
            "1500 ANIMALS NAMES and SOUNDS 8K ULTRA HD68.png\n",
            "/content/drive/MyDrive/DataUnchanges/NonElephantImages/1500 ANIMALS NAMES and SOUNDS 8K ULTRA HD68.png\n",
            "/content/drive/MyDrive/DataUnchanges/NonElephantImages/annot/1500 ANIMALS NAMES and SOUNDS 8K ULTRA HD68.txt\n",
            "1500 ANIMALS NAMES and SOUNDS 8K ULTRA HD71.png\n",
            "/content/drive/MyDrive/DataUnchanges/NonElephantImages/1500 ANIMALS NAMES and SOUNDS 8K ULTRA HD71.png\n",
            "/content/drive/MyDrive/DataUnchanges/NonElephantImages/annot/1500 ANIMALS NAMES and SOUNDS 8K ULTRA HD71.txt\n",
            "1500 ANIMALS NAMES and SOUNDS 8K ULTRA HD74.png\n",
            "/content/drive/MyDrive/DataUnchanges/NonElephantImages/1500 ANIMALS NAMES and SOUNDS 8K ULTRA HD74.png\n",
            "/content/drive/MyDrive/DataUnchanges/NonElephantImages/annot/1500 ANIMALS NAMES and SOUNDS 8K ULTRA HD74.txt\n",
            "1500 ANIMALS NAMES and SOUNDS 8K ULTRA HD75.png\n",
            "/content/drive/MyDrive/DataUnchanges/NonElephantImages/1500 ANIMALS NAMES and SOUNDS 8K ULTRA HD75.png\n",
            "/content/drive/MyDrive/DataUnchanges/NonElephantImages/annot/1500 ANIMALS NAMES and SOUNDS 8K ULTRA HD75.txt\n",
            "1500 ANIMALS NAMES and SOUNDS 8K ULTRA HD77.png\n",
            "/content/drive/MyDrive/DataUnchanges/NonElephantImages/1500 ANIMALS NAMES and SOUNDS 8K ULTRA HD77.png\n",
            "/content/drive/MyDrive/DataUnchanges/NonElephantImages/annot/1500 ANIMALS NAMES and SOUNDS 8K ULTRA HD77.txt\n",
            "1500 ANIMALS NAMES and SOUNDS 8K ULTRA HD76.png\n",
            "/content/drive/MyDrive/DataUnchanges/NonElephantImages/1500 ANIMALS NAMES and SOUNDS 8K ULTRA HD76.png\n",
            "/content/drive/MyDrive/DataUnchanges/NonElephantImages/annot/1500 ANIMALS NAMES and SOUNDS 8K ULTRA HD76.txt\n",
            "1500 ANIMALS NAMES and SOUNDS 8K ULTRA HD73.png\n",
            "/content/drive/MyDrive/DataUnchanges/NonElephantImages/1500 ANIMALS NAMES and SOUNDS 8K ULTRA HD73.png\n",
            "/content/drive/MyDrive/DataUnchanges/NonElephantImages/annot/1500 ANIMALS NAMES and SOUNDS 8K ULTRA HD73.txt\n",
            "1500 ANIMALS NAMES and SOUNDS 8K ULTRA HD80.png\n",
            "/content/drive/MyDrive/DataUnchanges/NonElephantImages/1500 ANIMALS NAMES and SOUNDS 8K ULTRA HD80.png\n",
            "/content/drive/MyDrive/DataUnchanges/NonElephantImages/annot/1500 ANIMALS NAMES and SOUNDS 8K ULTRA HD80.txt\n",
            "1500 ANIMALS NAMES and SOUNDS 8K ULTRA HD78.png\n",
            "/content/drive/MyDrive/DataUnchanges/NonElephantImages/1500 ANIMALS NAMES and SOUNDS 8K ULTRA HD78.png\n",
            "/content/drive/MyDrive/DataUnchanges/NonElephantImages/annot/1500 ANIMALS NAMES and SOUNDS 8K ULTRA HD78.txt\n",
            "1500 ANIMALS NAMES and SOUNDS 8K ULTRA HD81.png\n",
            "/content/drive/MyDrive/DataUnchanges/NonElephantImages/1500 ANIMALS NAMES and SOUNDS 8K ULTRA HD81.png\n",
            "/content/drive/MyDrive/DataUnchanges/NonElephantImages/annot/1500 ANIMALS NAMES and SOUNDS 8K ULTRA HD81.txt\n",
            "1500 ANIMALS NAMES and SOUNDS 8K ULTRA HD79.png\n",
            "/content/drive/MyDrive/DataUnchanges/NonElephantImages/1500 ANIMALS NAMES and SOUNDS 8K ULTRA HD79.png\n",
            "/content/drive/MyDrive/DataUnchanges/NonElephantImages/annot/1500 ANIMALS NAMES and SOUNDS 8K ULTRA HD79.txt\n",
            "1500 ANIMALS NAMES and SOUNDS 8K ULTRA HD86.png\n",
            "/content/drive/MyDrive/DataUnchanges/NonElephantImages/1500 ANIMALS NAMES and SOUNDS 8K ULTRA HD86.png\n",
            "/content/drive/MyDrive/DataUnchanges/NonElephantImages/annot/1500 ANIMALS NAMES and SOUNDS 8K ULTRA HD86.txt\n",
            "1500 ANIMALS NAMES and SOUNDS 8K ULTRA HD82.png\n",
            "/content/drive/MyDrive/DataUnchanges/NonElephantImages/1500 ANIMALS NAMES and SOUNDS 8K ULTRA HD82.png\n",
            "/content/drive/MyDrive/DataUnchanges/NonElephantImages/annot/1500 ANIMALS NAMES and SOUNDS 8K ULTRA HD82.txt\n",
            "1500 ANIMALS NAMES and SOUNDS 8K ULTRA HD88.png\n",
            "/content/drive/MyDrive/DataUnchanges/NonElephantImages/1500 ANIMALS NAMES and SOUNDS 8K ULTRA HD88.png\n",
            "/content/drive/MyDrive/DataUnchanges/NonElephantImages/annot/1500 ANIMALS NAMES and SOUNDS 8K ULTRA HD88.txt\n",
            "1500 ANIMALS NAMES and SOUNDS 8K ULTRA HD84.png\n",
            "/content/drive/MyDrive/DataUnchanges/NonElephantImages/1500 ANIMALS NAMES and SOUNDS 8K ULTRA HD84.png\n",
            "/content/drive/MyDrive/DataUnchanges/NonElephantImages/annot/1500 ANIMALS NAMES and SOUNDS 8K ULTRA HD84.txt\n",
            "1500 ANIMALS NAMES and SOUNDS 8K ULTRA HD85.png\n",
            "/content/drive/MyDrive/DataUnchanges/NonElephantImages/1500 ANIMALS NAMES and SOUNDS 8K ULTRA HD85.png\n",
            "/content/drive/MyDrive/DataUnchanges/NonElephantImages/annot/1500 ANIMALS NAMES and SOUNDS 8K ULTRA HD85.txt\n",
            "1500 ANIMALS NAMES and SOUNDS 8K ULTRA HD83.png\n",
            "/content/drive/MyDrive/DataUnchanges/NonElephantImages/1500 ANIMALS NAMES and SOUNDS 8K ULTRA HD83.png\n",
            "/content/drive/MyDrive/DataUnchanges/NonElephantImages/annot/1500 ANIMALS NAMES and SOUNDS 8K ULTRA HD83.txt\n",
            "1500 ANIMALS NAMES and SOUNDS 8K ULTRA HD87.png\n",
            "/content/drive/MyDrive/DataUnchanges/NonElephantImages/1500 ANIMALS NAMES and SOUNDS 8K ULTRA HD87.png\n",
            "/content/drive/MyDrive/DataUnchanges/NonElephantImages/annot/1500 ANIMALS NAMES and SOUNDS 8K ULTRA HD87.txt\n",
            "1500 ANIMALS NAMES and SOUNDS 8K ULTRA HD90.png\n",
            "/content/drive/MyDrive/DataUnchanges/NonElephantImages/1500 ANIMALS NAMES and SOUNDS 8K ULTRA HD90.png\n",
            "/content/drive/MyDrive/DataUnchanges/NonElephantImages/annot/1500 ANIMALS NAMES and SOUNDS 8K ULTRA HD90.txt\n",
            "1500 ANIMALS NAMES and SOUNDS 8K ULTRA HD91.png\n",
            "/content/drive/MyDrive/DataUnchanges/NonElephantImages/1500 ANIMALS NAMES and SOUNDS 8K ULTRA HD91.png\n",
            "/content/drive/MyDrive/DataUnchanges/NonElephantImages/annot/1500 ANIMALS NAMES and SOUNDS 8K ULTRA HD91.txt\n",
            "1500 ANIMALS NAMES and SOUNDS 8K ULTRA HD92.png\n",
            "/content/drive/MyDrive/DataUnchanges/NonElephantImages/1500 ANIMALS NAMES and SOUNDS 8K ULTRA HD92.png\n",
            "/content/drive/MyDrive/DataUnchanges/NonElephantImages/annot/1500 ANIMALS NAMES and SOUNDS 8K ULTRA HD92.txt\n",
            "1500 ANIMALS NAMES and SOUNDS 8K ULTRA HD94.png\n",
            "/content/drive/MyDrive/DataUnchanges/NonElephantImages/1500 ANIMALS NAMES and SOUNDS 8K ULTRA HD94.png\n",
            "/content/drive/MyDrive/DataUnchanges/NonElephantImages/annot/1500 ANIMALS NAMES and SOUNDS 8K ULTRA HD94.txt\n",
            "1500 ANIMALS NAMES and SOUNDS 8K ULTRA HD93.png\n",
            "/content/drive/MyDrive/DataUnchanges/NonElephantImages/1500 ANIMALS NAMES and SOUNDS 8K ULTRA HD93.png\n",
            "/content/drive/MyDrive/DataUnchanges/NonElephantImages/annot/1500 ANIMALS NAMES and SOUNDS 8K ULTRA HD93.txt\n",
            "1500 ANIMALS NAMES and SOUNDS 8K ULTRA HD89.png\n",
            "/content/drive/MyDrive/DataUnchanges/NonElephantImages/1500 ANIMALS NAMES and SOUNDS 8K ULTRA HD89.png\n",
            "/content/drive/MyDrive/DataUnchanges/NonElephantImages/annot/1500 ANIMALS NAMES and SOUNDS 8K ULTRA HD89.txt\n",
            "1500 ANIMALS NAMES and SOUNDS 8K ULTRA HD98.png\n",
            "/content/drive/MyDrive/DataUnchanges/NonElephantImages/1500 ANIMALS NAMES and SOUNDS 8K ULTRA HD98.png\n",
            "/content/drive/MyDrive/DataUnchanges/NonElephantImages/annot/1500 ANIMALS NAMES and SOUNDS 8K ULTRA HD98.txt\n",
            "1500 ANIMALS NAMES and SOUNDS 8K ULTRA HD97.png\n",
            "/content/drive/MyDrive/DataUnchanges/NonElephantImages/1500 ANIMALS NAMES and SOUNDS 8K ULTRA HD97.png\n",
            "/content/drive/MyDrive/DataUnchanges/NonElephantImages/annot/1500 ANIMALS NAMES and SOUNDS 8K ULTRA HD97.txt\n",
            "1500 ANIMALS NAMES and SOUNDS 8K ULTRA HD99.png\n",
            "/content/drive/MyDrive/DataUnchanges/NonElephantImages/1500 ANIMALS NAMES and SOUNDS 8K ULTRA HD99.png\n",
            "/content/drive/MyDrive/DataUnchanges/NonElephantImages/annot/1500 ANIMALS NAMES and SOUNDS 8K ULTRA HD99.txt\n",
            "1500 ANIMALS NAMES and SOUNDS 8K ULTRA HD100.png\n",
            "/content/drive/MyDrive/DataUnchanges/NonElephantImages/1500 ANIMALS NAMES and SOUNDS 8K ULTRA HD100.png\n",
            "/content/drive/MyDrive/DataUnchanges/NonElephantImages/annot/1500 ANIMALS NAMES and SOUNDS 8K ULTRA HD100.txt\n",
            "1500 ANIMALS NAMES and SOUNDS 8K ULTRA HD95.png\n",
            "/content/drive/MyDrive/DataUnchanges/NonElephantImages/1500 ANIMALS NAMES and SOUNDS 8K ULTRA HD95.png\n",
            "/content/drive/MyDrive/DataUnchanges/NonElephantImages/annot/1500 ANIMALS NAMES and SOUNDS 8K ULTRA HD95.txt\n",
            "1500 ANIMALS NAMES and SOUNDS 8K ULTRA HD96.png\n",
            "/content/drive/MyDrive/DataUnchanges/NonElephantImages/1500 ANIMALS NAMES and SOUNDS 8K ULTRA HD96.png\n",
            "/content/drive/MyDrive/DataUnchanges/NonElephantImages/annot/1500 ANIMALS NAMES and SOUNDS 8K ULTRA HD96.txt\n",
            "1500 ANIMALS NAMES and SOUNDS 8K ULTRA HD101.png\n",
            "/content/drive/MyDrive/DataUnchanges/NonElephantImages/1500 ANIMALS NAMES and SOUNDS 8K ULTRA HD101.png\n",
            "/content/drive/MyDrive/DataUnchanges/NonElephantImages/annot/1500 ANIMALS NAMES and SOUNDS 8K ULTRA HD101.txt\n",
            "1500 ANIMALS NAMES and SOUNDS 8K ULTRA HD106.png\n",
            "/content/drive/MyDrive/DataUnchanges/NonElephantImages/1500 ANIMALS NAMES and SOUNDS 8K ULTRA HD106.png\n",
            "/content/drive/MyDrive/DataUnchanges/NonElephantImages/annot/1500 ANIMALS NAMES and SOUNDS 8K ULTRA HD106.txt\n",
            "1500 ANIMALS NAMES and SOUNDS 8K ULTRA HD108.png\n",
            "/content/drive/MyDrive/DataUnchanges/NonElephantImages/1500 ANIMALS NAMES and SOUNDS 8K ULTRA HD108.png\n",
            "/content/drive/MyDrive/DataUnchanges/NonElephantImages/annot/1500 ANIMALS NAMES and SOUNDS 8K ULTRA HD108.txt\n",
            "1500 ANIMALS NAMES and SOUNDS 8K ULTRA HD102.png\n",
            "/content/drive/MyDrive/DataUnchanges/NonElephantImages/1500 ANIMALS NAMES and SOUNDS 8K ULTRA HD102.png\n",
            "/content/drive/MyDrive/DataUnchanges/NonElephantImages/annot/1500 ANIMALS NAMES and SOUNDS 8K ULTRA HD102.txt\n",
            "1500 ANIMALS NAMES and SOUNDS 8K ULTRA HD107.png\n",
            "/content/drive/MyDrive/DataUnchanges/NonElephantImages/1500 ANIMALS NAMES and SOUNDS 8K ULTRA HD107.png\n",
            "/content/drive/MyDrive/DataUnchanges/NonElephantImages/annot/1500 ANIMALS NAMES and SOUNDS 8K ULTRA HD107.txt\n",
            "1500 ANIMALS NAMES and SOUNDS 8K ULTRA HD104.png\n",
            "/content/drive/MyDrive/DataUnchanges/NonElephantImages/1500 ANIMALS NAMES and SOUNDS 8K ULTRA HD104.png\n",
            "/content/drive/MyDrive/DataUnchanges/NonElephantImages/annot/1500 ANIMALS NAMES and SOUNDS 8K ULTRA HD104.txt\n",
            "1500 ANIMALS NAMES and SOUNDS 8K ULTRA HD105.png\n",
            "/content/drive/MyDrive/DataUnchanges/NonElephantImages/1500 ANIMALS NAMES and SOUNDS 8K ULTRA HD105.png\n",
            "/content/drive/MyDrive/DataUnchanges/NonElephantImages/annot/1500 ANIMALS NAMES and SOUNDS 8K ULTRA HD105.txt\n",
            "1500 ANIMALS NAMES and SOUNDS 8K ULTRA HD103.png\n",
            "/content/drive/MyDrive/DataUnchanges/NonElephantImages/1500 ANIMALS NAMES and SOUNDS 8K ULTRA HD103.png\n",
            "/content/drive/MyDrive/DataUnchanges/NonElephantImages/annot/1500 ANIMALS NAMES and SOUNDS 8K ULTRA HD103.txt\n",
            "1500 ANIMALS NAMES and SOUNDS 8K ULTRA HD111.png\n",
            "/content/drive/MyDrive/DataUnchanges/NonElephantImages/1500 ANIMALS NAMES and SOUNDS 8K ULTRA HD111.png\n",
            "/content/drive/MyDrive/DataUnchanges/NonElephantImages/annot/1500 ANIMALS NAMES and SOUNDS 8K ULTRA HD111.txt\n",
            "1500 ANIMALS NAMES and SOUNDS 8K ULTRA HD112.png\n",
            "/content/drive/MyDrive/DataUnchanges/NonElephantImages/1500 ANIMALS NAMES and SOUNDS 8K ULTRA HD112.png\n",
            "/content/drive/MyDrive/DataUnchanges/NonElephantImages/annot/1500 ANIMALS NAMES and SOUNDS 8K ULTRA HD112.txt\n",
            "1500 ANIMALS NAMES and SOUNDS 8K ULTRA HD109.png\n",
            "/content/drive/MyDrive/DataUnchanges/NonElephantImages/1500 ANIMALS NAMES and SOUNDS 8K ULTRA HD109.png\n",
            "/content/drive/MyDrive/DataUnchanges/NonElephantImages/annot/1500 ANIMALS NAMES and SOUNDS 8K ULTRA HD109.txt\n",
            "1500 ANIMALS NAMES and SOUNDS 8K ULTRA HD113.png\n",
            "/content/drive/MyDrive/DataUnchanges/NonElephantImages/1500 ANIMALS NAMES and SOUNDS 8K ULTRA HD113.png\n",
            "/content/drive/MyDrive/DataUnchanges/NonElephantImages/annot/1500 ANIMALS NAMES and SOUNDS 8K ULTRA HD113.txt\n",
            "1500 ANIMALS NAMES and SOUNDS 8K ULTRA HD110.png\n",
            "/content/drive/MyDrive/DataUnchanges/NonElephantImages/1500 ANIMALS NAMES and SOUNDS 8K ULTRA HD110.png\n",
            "/content/drive/MyDrive/DataUnchanges/NonElephantImages/annot/1500 ANIMALS NAMES and SOUNDS 8K ULTRA HD110.txt\n",
            "1500 ANIMALS NAMES and SOUNDS 8K ULTRA HD116.png\n",
            "/content/drive/MyDrive/DataUnchanges/NonElephantImages/1500 ANIMALS NAMES and SOUNDS 8K ULTRA HD116.png\n",
            "/content/drive/MyDrive/DataUnchanges/NonElephantImages/annot/1500 ANIMALS NAMES and SOUNDS 8K ULTRA HD116.txt\n",
            "1500 ANIMALS NAMES and SOUNDS 8K ULTRA HD120.png\n",
            "/content/drive/MyDrive/DataUnchanges/NonElephantImages/1500 ANIMALS NAMES and SOUNDS 8K ULTRA HD120.png\n",
            "/content/drive/MyDrive/DataUnchanges/NonElephantImages/annot/1500 ANIMALS NAMES and SOUNDS 8K ULTRA HD120.txt\n",
            "1500 ANIMALS NAMES and SOUNDS 8K ULTRA HD117.png\n",
            "/content/drive/MyDrive/DataUnchanges/NonElephantImages/1500 ANIMALS NAMES and SOUNDS 8K ULTRA HD117.png\n",
            "/content/drive/MyDrive/DataUnchanges/NonElephantImages/annot/1500 ANIMALS NAMES and SOUNDS 8K ULTRA HD117.txt\n",
            "1500 ANIMALS NAMES and SOUNDS 8K ULTRA HD115.png\n",
            "/content/drive/MyDrive/DataUnchanges/NonElephantImages/1500 ANIMALS NAMES and SOUNDS 8K ULTRA HD115.png\n",
            "/content/drive/MyDrive/DataUnchanges/NonElephantImages/annot/1500 ANIMALS NAMES and SOUNDS 8K ULTRA HD115.txt\n",
            "1500 ANIMALS NAMES and SOUNDS 8K ULTRA HD114.png\n",
            "/content/drive/MyDrive/DataUnchanges/NonElephantImages/1500 ANIMALS NAMES and SOUNDS 8K ULTRA HD114.png\n",
            "/content/drive/MyDrive/DataUnchanges/NonElephantImages/annot/1500 ANIMALS NAMES and SOUNDS 8K ULTRA HD114.txt\n",
            "1500 ANIMALS NAMES and SOUNDS 8K ULTRA HD118.png\n",
            "/content/drive/MyDrive/DataUnchanges/NonElephantImages/1500 ANIMALS NAMES and SOUNDS 8K ULTRA HD118.png\n",
            "/content/drive/MyDrive/DataUnchanges/NonElephantImages/annot/1500 ANIMALS NAMES and SOUNDS 8K ULTRA HD118.txt\n",
            "1500 ANIMALS NAMES and SOUNDS 8K ULTRA HD119.png\n",
            "/content/drive/MyDrive/DataUnchanges/NonElephantImages/1500 ANIMALS NAMES and SOUNDS 8K ULTRA HD119.png\n",
            "/content/drive/MyDrive/DataUnchanges/NonElephantImages/annot/1500 ANIMALS NAMES and SOUNDS 8K ULTRA HD119.txt\n",
            "1500 ANIMALS NAMES and SOUNDS 8K ULTRA HD125.png\n",
            "/content/drive/MyDrive/DataUnchanges/NonElephantImages/1500 ANIMALS NAMES and SOUNDS 8K ULTRA HD125.png\n",
            "/content/drive/MyDrive/DataUnchanges/NonElephantImages/annot/1500 ANIMALS NAMES and SOUNDS 8K ULTRA HD125.txt\n",
            "1500 ANIMALS NAMES and SOUNDS 8K ULTRA HD127.png\n",
            "/content/drive/MyDrive/DataUnchanges/NonElephantImages/1500 ANIMALS NAMES and SOUNDS 8K ULTRA HD127.png\n",
            "/content/drive/MyDrive/DataUnchanges/NonElephantImages/annot/1500 ANIMALS NAMES and SOUNDS 8K ULTRA HD127.txt\n",
            "1500 ANIMALS NAMES and SOUNDS 8K ULTRA HD123.png\n",
            "/content/drive/MyDrive/DataUnchanges/NonElephantImages/1500 ANIMALS NAMES and SOUNDS 8K ULTRA HD123.png\n",
            "/content/drive/MyDrive/DataUnchanges/NonElephantImages/annot/1500 ANIMALS NAMES and SOUNDS 8K ULTRA HD123.txt\n",
            "1500 ANIMALS NAMES and SOUNDS 8K ULTRA HD122.png\n",
            "/content/drive/MyDrive/DataUnchanges/NonElephantImages/1500 ANIMALS NAMES and SOUNDS 8K ULTRA HD122.png\n",
            "/content/drive/MyDrive/DataUnchanges/NonElephantImages/annot/1500 ANIMALS NAMES and SOUNDS 8K ULTRA HD122.txt\n",
            "1500 ANIMALS NAMES and SOUNDS 8K ULTRA HD121.png\n",
            "/content/drive/MyDrive/DataUnchanges/NonElephantImages/1500 ANIMALS NAMES and SOUNDS 8K ULTRA HD121.png\n",
            "/content/drive/MyDrive/DataUnchanges/NonElephantImages/annot/1500 ANIMALS NAMES and SOUNDS 8K ULTRA HD121.txt\n",
            "1500 ANIMALS NAMES and SOUNDS 8K ULTRA HD126.png\n",
            "/content/drive/MyDrive/DataUnchanges/NonElephantImages/1500 ANIMALS NAMES and SOUNDS 8K ULTRA HD126.png\n",
            "/content/drive/MyDrive/DataUnchanges/NonElephantImages/annot/1500 ANIMALS NAMES and SOUNDS 8K ULTRA HD126.txt\n",
            "1500 ANIMALS NAMES and SOUNDS 8K ULTRA HD124.png\n",
            "/content/drive/MyDrive/DataUnchanges/NonElephantImages/1500 ANIMALS NAMES and SOUNDS 8K ULTRA HD124.png\n",
            "/content/drive/MyDrive/DataUnchanges/NonElephantImages/annot/1500 ANIMALS NAMES and SOUNDS 8K ULTRA HD124.txt\n",
            "1500 ANIMALS NAMES and SOUNDS 8K ULTRA HD132.png\n",
            "/content/drive/MyDrive/DataUnchanges/NonElephantImages/1500 ANIMALS NAMES and SOUNDS 8K ULTRA HD132.png\n",
            "/content/drive/MyDrive/DataUnchanges/NonElephantImages/annot/1500 ANIMALS NAMES and SOUNDS 8K ULTRA HD132.txt\n",
            "1500 ANIMALS NAMES and SOUNDS 8K ULTRA HD130.png\n",
            "/content/drive/MyDrive/DataUnchanges/NonElephantImages/1500 ANIMALS NAMES and SOUNDS 8K ULTRA HD130.png\n",
            "/content/drive/MyDrive/DataUnchanges/NonElephantImages/annot/1500 ANIMALS NAMES and SOUNDS 8K ULTRA HD130.txt\n",
            "1500 ANIMALS NAMES and SOUNDS 8K ULTRA HD129.png\n",
            "/content/drive/MyDrive/DataUnchanges/NonElephantImages/1500 ANIMALS NAMES and SOUNDS 8K ULTRA HD129.png\n",
            "/content/drive/MyDrive/DataUnchanges/NonElephantImages/annot/1500 ANIMALS NAMES and SOUNDS 8K ULTRA HD129.txt\n",
            "1500 ANIMALS NAMES and SOUNDS 8K ULTRA HD131.png\n",
            "/content/drive/MyDrive/DataUnchanges/NonElephantImages/1500 ANIMALS NAMES and SOUNDS 8K ULTRA HD131.png\n",
            "/content/drive/MyDrive/DataUnchanges/NonElephantImages/annot/1500 ANIMALS NAMES and SOUNDS 8K ULTRA HD131.txt\n",
            "1500 ANIMALS NAMES and SOUNDS 8K ULTRA HD128.png\n",
            "/content/drive/MyDrive/DataUnchanges/NonElephantImages/1500 ANIMALS NAMES and SOUNDS 8K ULTRA HD128.png\n",
            "/content/drive/MyDrive/DataUnchanges/NonElephantImages/annot/1500 ANIMALS NAMES and SOUNDS 8K ULTRA HD128.txt\n",
            "1500 ANIMALS NAMES and SOUNDS 8K ULTRA HD133.png\n",
            "/content/drive/MyDrive/DataUnchanges/NonElephantImages/1500 ANIMALS NAMES and SOUNDS 8K ULTRA HD133.png\n",
            "/content/drive/MyDrive/DataUnchanges/NonElephantImages/annot/1500 ANIMALS NAMES and SOUNDS 8K ULTRA HD133.txt\n",
            "1500 ANIMALS NAMES and SOUNDS 8K ULTRA HD136.png\n",
            "/content/drive/MyDrive/DataUnchanges/NonElephantImages/1500 ANIMALS NAMES and SOUNDS 8K ULTRA HD136.png\n",
            "/content/drive/MyDrive/DataUnchanges/NonElephantImages/annot/1500 ANIMALS NAMES and SOUNDS 8K ULTRA HD136.txt\n",
            "1500 ANIMALS NAMES and SOUNDS 8K ULTRA HD139.png\n",
            "/content/drive/MyDrive/DataUnchanges/NonElephantImages/1500 ANIMALS NAMES and SOUNDS 8K ULTRA HD139.png\n",
            "/content/drive/MyDrive/DataUnchanges/NonElephantImages/annot/1500 ANIMALS NAMES and SOUNDS 8K ULTRA HD139.txt\n",
            "1500 ANIMALS NAMES and SOUNDS 8K ULTRA HD138.png\n",
            "/content/drive/MyDrive/DataUnchanges/NonElephantImages/1500 ANIMALS NAMES and SOUNDS 8K ULTRA HD138.png\n",
            "/content/drive/MyDrive/DataUnchanges/NonElephantImages/annot/1500 ANIMALS NAMES and SOUNDS 8K ULTRA HD138.txt\n",
            "1500 ANIMALS NAMES and SOUNDS 8K ULTRA HD134.png\n",
            "/content/drive/MyDrive/DataUnchanges/NonElephantImages/1500 ANIMALS NAMES and SOUNDS 8K ULTRA HD134.png\n",
            "/content/drive/MyDrive/DataUnchanges/NonElephantImages/annot/1500 ANIMALS NAMES and SOUNDS 8K ULTRA HD134.txt\n",
            "1500 ANIMALS NAMES and SOUNDS 8K ULTRA HD137.png\n",
            "/content/drive/MyDrive/DataUnchanges/NonElephantImages/1500 ANIMALS NAMES and SOUNDS 8K ULTRA HD137.png\n",
            "/content/drive/MyDrive/DataUnchanges/NonElephantImages/annot/1500 ANIMALS NAMES and SOUNDS 8K ULTRA HD137.txt\n",
            "1500 ANIMALS NAMES and SOUNDS 8K ULTRA HD135.png\n",
            "/content/drive/MyDrive/DataUnchanges/NonElephantImages/1500 ANIMALS NAMES and SOUNDS 8K ULTRA HD135.png\n",
            "/content/drive/MyDrive/DataUnchanges/NonElephantImages/annot/1500 ANIMALS NAMES and SOUNDS 8K ULTRA HD135.txt\n",
            "1500 ANIMALS NAMES and SOUNDS 8K ULTRA HD145.png\n",
            "/content/drive/MyDrive/DataUnchanges/NonElephantImages/1500 ANIMALS NAMES and SOUNDS 8K ULTRA HD145.png\n",
            "/content/drive/MyDrive/DataUnchanges/NonElephantImages/annot/1500 ANIMALS NAMES and SOUNDS 8K ULTRA HD145.txt\n",
            "1500 ANIMALS NAMES and SOUNDS 8K ULTRA HD141.png\n",
            "/content/drive/MyDrive/DataUnchanges/NonElephantImages/1500 ANIMALS NAMES and SOUNDS 8K ULTRA HD141.png\n",
            "/content/drive/MyDrive/DataUnchanges/NonElephantImages/annot/1500 ANIMALS NAMES and SOUNDS 8K ULTRA HD141.txt\n",
            "1500 ANIMALS NAMES and SOUNDS 8K ULTRA HD143.png\n",
            "/content/drive/MyDrive/DataUnchanges/NonElephantImages/1500 ANIMALS NAMES and SOUNDS 8K ULTRA HD143.png\n",
            "/content/drive/MyDrive/DataUnchanges/NonElephantImages/annot/1500 ANIMALS NAMES and SOUNDS 8K ULTRA HD143.txt\n",
            "1500 ANIMALS NAMES and SOUNDS 8K ULTRA HD144.png\n",
            "/content/drive/MyDrive/DataUnchanges/NonElephantImages/1500 ANIMALS NAMES and SOUNDS 8K ULTRA HD144.png\n",
            "/content/drive/MyDrive/DataUnchanges/NonElephantImages/annot/1500 ANIMALS NAMES and SOUNDS 8K ULTRA HD144.txt\n",
            "1500 ANIMALS NAMES and SOUNDS 8K ULTRA HD142.png\n",
            "/content/drive/MyDrive/DataUnchanges/NonElephantImages/1500 ANIMALS NAMES and SOUNDS 8K ULTRA HD142.png\n",
            "/content/drive/MyDrive/DataUnchanges/NonElephantImages/annot/1500 ANIMALS NAMES and SOUNDS 8K ULTRA HD142.txt\n",
            "1500 ANIMALS NAMES and SOUNDS 8K ULTRA HD146.png\n",
            "/content/drive/MyDrive/DataUnchanges/NonElephantImages/1500 ANIMALS NAMES and SOUNDS 8K ULTRA HD146.png\n",
            "/content/drive/MyDrive/DataUnchanges/NonElephantImages/annot/1500 ANIMALS NAMES and SOUNDS 8K ULTRA HD146.txt\n",
            "1500 ANIMALS NAMES and SOUNDS 8K ULTRA HD140.png\n",
            "/content/drive/MyDrive/DataUnchanges/NonElephantImages/1500 ANIMALS NAMES and SOUNDS 8K ULTRA HD140.png\n",
            "/content/drive/MyDrive/DataUnchanges/NonElephantImages/annot/1500 ANIMALS NAMES and SOUNDS 8K ULTRA HD140.txt\n",
            "1500 ANIMALS NAMES and SOUNDS 8K ULTRA HD148.png\n",
            "/content/drive/MyDrive/DataUnchanges/NonElephantImages/1500 ANIMALS NAMES and SOUNDS 8K ULTRA HD148.png\n",
            "/content/drive/MyDrive/DataUnchanges/NonElephantImages/annot/1500 ANIMALS NAMES and SOUNDS 8K ULTRA HD148.txt\n",
            "1500 ANIMALS NAMES and SOUNDS 8K ULTRA HD147.png\n",
            "/content/drive/MyDrive/DataUnchanges/NonElephantImages/1500 ANIMALS NAMES and SOUNDS 8K ULTRA HD147.png\n",
            "/content/drive/MyDrive/DataUnchanges/NonElephantImages/annot/1500 ANIMALS NAMES and SOUNDS 8K ULTRA HD147.txt\n",
            "1500 ANIMALS NAMES and SOUNDS 8K ULTRA HD152.png\n",
            "/content/drive/MyDrive/DataUnchanges/NonElephantImages/1500 ANIMALS NAMES and SOUNDS 8K ULTRA HD152.png\n",
            "/content/drive/MyDrive/DataUnchanges/NonElephantImages/annot/1500 ANIMALS NAMES and SOUNDS 8K ULTRA HD152.txt\n",
            "1500 ANIMALS NAMES and SOUNDS 8K ULTRA HD149.png\n",
            "/content/drive/MyDrive/DataUnchanges/NonElephantImages/1500 ANIMALS NAMES and SOUNDS 8K ULTRA HD149.png\n",
            "/content/drive/MyDrive/DataUnchanges/NonElephantImages/annot/1500 ANIMALS NAMES and SOUNDS 8K ULTRA HD149.txt\n",
            "1500 ANIMALS NAMES and SOUNDS 8K ULTRA HD150.png\n",
            "/content/drive/MyDrive/DataUnchanges/NonElephantImages/1500 ANIMALS NAMES and SOUNDS 8K ULTRA HD150.png\n",
            "/content/drive/MyDrive/DataUnchanges/NonElephantImages/annot/1500 ANIMALS NAMES and SOUNDS 8K ULTRA HD150.txt\n",
            "1500 ANIMALS NAMES and SOUNDS 8K ULTRA HD151.png\n",
            "/content/drive/MyDrive/DataUnchanges/NonElephantImages/1500 ANIMALS NAMES and SOUNDS 8K ULTRA HD151.png\n",
            "/content/drive/MyDrive/DataUnchanges/NonElephantImages/annot/1500 ANIMALS NAMES and SOUNDS 8K ULTRA HD151.txt\n",
            "1500 ANIMALS NAMES and SOUNDS 8K ULTRA HD153.png\n",
            "/content/drive/MyDrive/DataUnchanges/NonElephantImages/1500 ANIMALS NAMES and SOUNDS 8K ULTRA HD153.png\n",
            "/content/drive/MyDrive/DataUnchanges/NonElephantImages/annot/1500 ANIMALS NAMES and SOUNDS 8K ULTRA HD153.txt\n",
            "1500 ANIMALS NAMES and SOUNDS 8K ULTRA HD156.png\n",
            "/content/drive/MyDrive/DataUnchanges/NonElephantImages/1500 ANIMALS NAMES and SOUNDS 8K ULTRA HD156.png\n",
            "/content/drive/MyDrive/DataUnchanges/NonElephantImages/annot/1500 ANIMALS NAMES and SOUNDS 8K ULTRA HD156.txt\n",
            "1500 ANIMALS NAMES and SOUNDS 8K ULTRA HD155.png\n",
            "/content/drive/MyDrive/DataUnchanges/NonElephantImages/1500 ANIMALS NAMES and SOUNDS 8K ULTRA HD155.png\n",
            "/content/drive/MyDrive/DataUnchanges/NonElephantImages/annot/1500 ANIMALS NAMES and SOUNDS 8K ULTRA HD155.txt\n",
            "1500 ANIMALS NAMES and SOUNDS 8K ULTRA HD154.png\n",
            "/content/drive/MyDrive/DataUnchanges/NonElephantImages/1500 ANIMALS NAMES and SOUNDS 8K ULTRA HD154.png\n",
            "/content/drive/MyDrive/DataUnchanges/NonElephantImages/annot/1500 ANIMALS NAMES and SOUNDS 8K ULTRA HD154.txt\n",
            "1500 ANIMALS NAMES and SOUNDS 8K ULTRA HD157.png\n",
            "/content/drive/MyDrive/DataUnchanges/NonElephantImages/1500 ANIMALS NAMES and SOUNDS 8K ULTRA HD157.png\n",
            "/content/drive/MyDrive/DataUnchanges/NonElephantImages/annot/1500 ANIMALS NAMES and SOUNDS 8K ULTRA HD157.txt\n",
            "1500 ANIMALS NAMES and SOUNDS 8K ULTRA HD162.png\n",
            "/content/drive/MyDrive/DataUnchanges/NonElephantImages/1500 ANIMALS NAMES and SOUNDS 8K ULTRA HD162.png\n",
            "/content/drive/MyDrive/DataUnchanges/NonElephantImages/annot/1500 ANIMALS NAMES and SOUNDS 8K ULTRA HD162.txt\n",
            "1500 ANIMALS NAMES and SOUNDS 8K ULTRA HD160.png\n",
            "/content/drive/MyDrive/DataUnchanges/NonElephantImages/1500 ANIMALS NAMES and SOUNDS 8K ULTRA HD160.png\n",
            "/content/drive/MyDrive/DataUnchanges/NonElephantImages/annot/1500 ANIMALS NAMES and SOUNDS 8K ULTRA HD160.txt\n",
            "1500 ANIMALS NAMES and SOUNDS 8K ULTRA HD158.png\n",
            "/content/drive/MyDrive/DataUnchanges/NonElephantImages/1500 ANIMALS NAMES and SOUNDS 8K ULTRA HD158.png\n",
            "/content/drive/MyDrive/DataUnchanges/NonElephantImages/annot/1500 ANIMALS NAMES and SOUNDS 8K ULTRA HD158.txt\n",
            "1500 ANIMALS NAMES and SOUNDS 8K ULTRA HD163.png\n",
            "/content/drive/MyDrive/DataUnchanges/NonElephantImages/1500 ANIMALS NAMES and SOUNDS 8K ULTRA HD163.png\n",
            "/content/drive/MyDrive/DataUnchanges/NonElephantImages/annot/1500 ANIMALS NAMES and SOUNDS 8K ULTRA HD163.txt\n",
            "1500 ANIMALS NAMES and SOUNDS 8K ULTRA HD161.png\n",
            "/content/drive/MyDrive/DataUnchanges/NonElephantImages/1500 ANIMALS NAMES and SOUNDS 8K ULTRA HD161.png\n",
            "/content/drive/MyDrive/DataUnchanges/NonElephantImages/annot/1500 ANIMALS NAMES and SOUNDS 8K ULTRA HD161.txt\n",
            "1500 ANIMALS NAMES and SOUNDS 8K ULTRA HD159.png\n",
            "/content/drive/MyDrive/DataUnchanges/NonElephantImages/1500 ANIMALS NAMES and SOUNDS 8K ULTRA HD159.png\n",
            "/content/drive/MyDrive/DataUnchanges/NonElephantImages/annot/1500 ANIMALS NAMES and SOUNDS 8K ULTRA HD159.txt\n",
            "1500 ANIMALS NAMES and SOUNDS 8K ULTRA HD165.png\n",
            "/content/drive/MyDrive/DataUnchanges/NonElephantImages/1500 ANIMALS NAMES and SOUNDS 8K ULTRA HD165.png\n",
            "/content/drive/MyDrive/DataUnchanges/NonElephantImages/annot/1500 ANIMALS NAMES and SOUNDS 8K ULTRA HD165.txt\n",
            "1500 ANIMALS NAMES and SOUNDS 8K ULTRA HD164.png\n",
            "/content/drive/MyDrive/DataUnchanges/NonElephantImages/1500 ANIMALS NAMES and SOUNDS 8K ULTRA HD164.png\n",
            "/content/drive/MyDrive/DataUnchanges/NonElephantImages/annot/1500 ANIMALS NAMES and SOUNDS 8K ULTRA HD164.txt\n",
            "1500 ANIMALS NAMES and SOUNDS 8K ULTRA HD166.png\n",
            "/content/drive/MyDrive/DataUnchanges/NonElephantImages/1500 ANIMALS NAMES and SOUNDS 8K ULTRA HD166.png\n",
            "/content/drive/MyDrive/DataUnchanges/NonElephantImages/annot/1500 ANIMALS NAMES and SOUNDS 8K ULTRA HD166.txt\n",
            "1500 ANIMALS NAMES and SOUNDS 8K ULTRA HD168.png\n",
            "/content/drive/MyDrive/DataUnchanges/NonElephantImages/1500 ANIMALS NAMES and SOUNDS 8K ULTRA HD168.png\n",
            "/content/drive/MyDrive/DataUnchanges/NonElephantImages/annot/1500 ANIMALS NAMES and SOUNDS 8K ULTRA HD168.txt\n",
            "1500 ANIMALS NAMES and SOUNDS 8K ULTRA HD167.png\n",
            "/content/drive/MyDrive/DataUnchanges/NonElephantImages/1500 ANIMALS NAMES and SOUNDS 8K ULTRA HD167.png\n",
            "/content/drive/MyDrive/DataUnchanges/NonElephantImages/annot/1500 ANIMALS NAMES and SOUNDS 8K ULTRA HD167.txt\n",
            "1500 ANIMALS NAMES and SOUNDS 8K ULTRA HD174.png\n",
            "/content/drive/MyDrive/DataUnchanges/NonElephantImages/1500 ANIMALS NAMES and SOUNDS 8K ULTRA HD174.png\n",
            "/content/drive/MyDrive/DataUnchanges/NonElephantImages/annot/1500 ANIMALS NAMES and SOUNDS 8K ULTRA HD174.txt\n",
            "1500 ANIMALS NAMES and SOUNDS 8K ULTRA HD171.png\n",
            "/content/drive/MyDrive/DataUnchanges/NonElephantImages/1500 ANIMALS NAMES and SOUNDS 8K ULTRA HD171.png\n",
            "/content/drive/MyDrive/DataUnchanges/NonElephantImages/annot/1500 ANIMALS NAMES and SOUNDS 8K ULTRA HD171.txt\n",
            "1500 ANIMALS NAMES and SOUNDS 8K ULTRA HD172.png\n",
            "/content/drive/MyDrive/DataUnchanges/NonElephantImages/1500 ANIMALS NAMES and SOUNDS 8K ULTRA HD172.png\n",
            "/content/drive/MyDrive/DataUnchanges/NonElephantImages/annot/1500 ANIMALS NAMES and SOUNDS 8K ULTRA HD172.txt\n",
            "1500 ANIMALS NAMES and SOUNDS 8K ULTRA HD169.png\n",
            "/content/drive/MyDrive/DataUnchanges/NonElephantImages/1500 ANIMALS NAMES and SOUNDS 8K ULTRA HD169.png\n",
            "/content/drive/MyDrive/DataUnchanges/NonElephantImages/annot/1500 ANIMALS NAMES and SOUNDS 8K ULTRA HD169.txt\n",
            "1500 ANIMALS NAMES and SOUNDS 8K ULTRA HD173.png\n",
            "/content/drive/MyDrive/DataUnchanges/NonElephantImages/1500 ANIMALS NAMES and SOUNDS 8K ULTRA HD173.png\n",
            "/content/drive/MyDrive/DataUnchanges/NonElephantImages/annot/1500 ANIMALS NAMES and SOUNDS 8K ULTRA HD173.txt\n",
            "1500 ANIMALS NAMES and SOUNDS 8K ULTRA HD170.png\n",
            "/content/drive/MyDrive/DataUnchanges/NonElephantImages/1500 ANIMALS NAMES and SOUNDS 8K ULTRA HD170.png\n",
            "/content/drive/MyDrive/DataUnchanges/NonElephantImages/annot/1500 ANIMALS NAMES and SOUNDS 8K ULTRA HD170.txt\n",
            "1500 ANIMALS NAMES and SOUNDS 8K ULTRA HD180.png\n",
            "/content/drive/MyDrive/DataUnchanges/NonElephantImages/1500 ANIMALS NAMES and SOUNDS 8K ULTRA HD180.png\n",
            "/content/drive/MyDrive/DataUnchanges/NonElephantImages/annot/1500 ANIMALS NAMES and SOUNDS 8K ULTRA HD180.txt\n",
            "1500 ANIMALS NAMES and SOUNDS 8K ULTRA HD179.png\n",
            "/content/drive/MyDrive/DataUnchanges/NonElephantImages/1500 ANIMALS NAMES and SOUNDS 8K ULTRA HD179.png\n",
            "/content/drive/MyDrive/DataUnchanges/NonElephantImages/annot/1500 ANIMALS NAMES and SOUNDS 8K ULTRA HD179.txt\n",
            "1500 ANIMALS NAMES and SOUNDS 8K ULTRA HD176.png\n",
            "/content/drive/MyDrive/DataUnchanges/NonElephantImages/1500 ANIMALS NAMES and SOUNDS 8K ULTRA HD176.png\n",
            "/content/drive/MyDrive/DataUnchanges/NonElephantImages/annot/1500 ANIMALS NAMES and SOUNDS 8K ULTRA HD176.txt\n",
            "1500 ANIMALS NAMES and SOUNDS 8K ULTRA HD175.png\n",
            "/content/drive/MyDrive/DataUnchanges/NonElephantImages/1500 ANIMALS NAMES and SOUNDS 8K ULTRA HD175.png\n",
            "/content/drive/MyDrive/DataUnchanges/NonElephantImages/annot/1500 ANIMALS NAMES and SOUNDS 8K ULTRA HD175.txt\n",
            "1500 ANIMALS NAMES and SOUNDS 8K ULTRA HD177.png\n",
            "/content/drive/MyDrive/DataUnchanges/NonElephantImages/1500 ANIMALS NAMES and SOUNDS 8K ULTRA HD177.png\n",
            "/content/drive/MyDrive/DataUnchanges/NonElephantImages/annot/1500 ANIMALS NAMES and SOUNDS 8K ULTRA HD177.txt\n",
            "1500 ANIMALS NAMES and SOUNDS 8K ULTRA HD178.png\n",
            "/content/drive/MyDrive/DataUnchanges/NonElephantImages/1500 ANIMALS NAMES and SOUNDS 8K ULTRA HD178.png\n",
            "/content/drive/MyDrive/DataUnchanges/NonElephantImages/annot/1500 ANIMALS NAMES and SOUNDS 8K ULTRA HD178.txt\n",
            "1500 ANIMALS NAMES and SOUNDS 8K ULTRA HD181.png\n",
            "/content/drive/MyDrive/DataUnchanges/NonElephantImages/1500 ANIMALS NAMES and SOUNDS 8K ULTRA HD181.png\n",
            "/content/drive/MyDrive/DataUnchanges/NonElephantImages/annot/1500 ANIMALS NAMES and SOUNDS 8K ULTRA HD181.txt\n",
            "1500 ANIMALS NAMES and SOUNDS 8K ULTRA HD188.png\n",
            "/content/drive/MyDrive/DataUnchanges/NonElephantImages/1500 ANIMALS NAMES and SOUNDS 8K ULTRA HD188.png\n",
            "/content/drive/MyDrive/DataUnchanges/NonElephantImages/annot/1500 ANIMALS NAMES and SOUNDS 8K ULTRA HD188.txt\n",
            "1500 ANIMALS NAMES and SOUNDS 8K ULTRA HD184.png\n",
            "/content/drive/MyDrive/DataUnchanges/NonElephantImages/1500 ANIMALS NAMES and SOUNDS 8K ULTRA HD184.png\n",
            "/content/drive/MyDrive/DataUnchanges/NonElephantImages/annot/1500 ANIMALS NAMES and SOUNDS 8K ULTRA HD184.txt\n",
            "1500 ANIMALS NAMES and SOUNDS 8K ULTRA HD183.png\n",
            "/content/drive/MyDrive/DataUnchanges/NonElephantImages/1500 ANIMALS NAMES and SOUNDS 8K ULTRA HD183.png\n",
            "/content/drive/MyDrive/DataUnchanges/NonElephantImages/annot/1500 ANIMALS NAMES and SOUNDS 8K ULTRA HD183.txt\n",
            "1500 ANIMALS NAMES and SOUNDS 8K ULTRA HD187.png\n",
            "/content/drive/MyDrive/DataUnchanges/NonElephantImages/1500 ANIMALS NAMES and SOUNDS 8K ULTRA HD187.png\n",
            "/content/drive/MyDrive/DataUnchanges/NonElephantImages/annot/1500 ANIMALS NAMES and SOUNDS 8K ULTRA HD187.txt\n",
            "1500 ANIMALS NAMES and SOUNDS 8K ULTRA HD185.png\n",
            "/content/drive/MyDrive/DataUnchanges/NonElephantImages/1500 ANIMALS NAMES and SOUNDS 8K ULTRA HD185.png\n",
            "/content/drive/MyDrive/DataUnchanges/NonElephantImages/annot/1500 ANIMALS NAMES and SOUNDS 8K ULTRA HD185.txt\n",
            "1500 ANIMALS NAMES and SOUNDS 8K ULTRA HD186.png\n",
            "/content/drive/MyDrive/DataUnchanges/NonElephantImages/1500 ANIMALS NAMES and SOUNDS 8K ULTRA HD186.png\n",
            "/content/drive/MyDrive/DataUnchanges/NonElephantImages/annot/1500 ANIMALS NAMES and SOUNDS 8K ULTRA HD186.txt\n",
            "1500 ANIMALS NAMES and SOUNDS 8K ULTRA HD182.png\n",
            "/content/drive/MyDrive/DataUnchanges/NonElephantImages/1500 ANIMALS NAMES and SOUNDS 8K ULTRA HD182.png\n",
            "/content/drive/MyDrive/DataUnchanges/NonElephantImages/annot/1500 ANIMALS NAMES and SOUNDS 8K ULTRA HD182.txt\n",
            "1500 ANIMALS NAMES and SOUNDS 8K ULTRA HD195.png\n",
            "/content/drive/MyDrive/DataUnchanges/NonElephantImages/1500 ANIMALS NAMES and SOUNDS 8K ULTRA HD195.png\n",
            "/content/drive/MyDrive/DataUnchanges/NonElephantImages/annot/1500 ANIMALS NAMES and SOUNDS 8K ULTRA HD195.txt\n",
            "1500 ANIMALS NAMES and SOUNDS 8K ULTRA HD192.png\n",
            "/content/drive/MyDrive/DataUnchanges/NonElephantImages/1500 ANIMALS NAMES and SOUNDS 8K ULTRA HD192.png\n",
            "/content/drive/MyDrive/DataUnchanges/NonElephantImages/annot/1500 ANIMALS NAMES and SOUNDS 8K ULTRA HD192.txt\n",
            "1500 ANIMALS NAMES and SOUNDS 8K ULTRA HD190.png\n",
            "/content/drive/MyDrive/DataUnchanges/NonElephantImages/1500 ANIMALS NAMES and SOUNDS 8K ULTRA HD190.png\n",
            "/content/drive/MyDrive/DataUnchanges/NonElephantImages/annot/1500 ANIMALS NAMES and SOUNDS 8K ULTRA HD190.txt\n",
            "1500 ANIMALS NAMES and SOUNDS 8K ULTRA HD191.png\n",
            "/content/drive/MyDrive/DataUnchanges/NonElephantImages/1500 ANIMALS NAMES and SOUNDS 8K ULTRA HD191.png\n",
            "/content/drive/MyDrive/DataUnchanges/NonElephantImages/annot/1500 ANIMALS NAMES and SOUNDS 8K ULTRA HD191.txt\n",
            "1500 ANIMALS NAMES and SOUNDS 8K ULTRA HD193.png\n",
            "/content/drive/MyDrive/DataUnchanges/NonElephantImages/1500 ANIMALS NAMES and SOUNDS 8K ULTRA HD193.png\n",
            "/content/drive/MyDrive/DataUnchanges/NonElephantImages/annot/1500 ANIMALS NAMES and SOUNDS 8K ULTRA HD193.txt\n",
            "1500 ANIMALS NAMES and SOUNDS 8K ULTRA HD196.png\n",
            "/content/drive/MyDrive/DataUnchanges/NonElephantImages/1500 ANIMALS NAMES and SOUNDS 8K ULTRA HD196.png\n",
            "/content/drive/MyDrive/DataUnchanges/NonElephantImages/annot/1500 ANIMALS NAMES and SOUNDS 8K ULTRA HD196.txt\n",
            "1500 ANIMALS NAMES and SOUNDS 8K ULTRA HD189.png\n",
            "/content/drive/MyDrive/DataUnchanges/NonElephantImages/1500 ANIMALS NAMES and SOUNDS 8K ULTRA HD189.png\n",
            "/content/drive/MyDrive/DataUnchanges/NonElephantImages/annot/1500 ANIMALS NAMES and SOUNDS 8K ULTRA HD189.txt\n",
            "1500 ANIMALS NAMES and SOUNDS 8K ULTRA HD194.png\n",
            "/content/drive/MyDrive/DataUnchanges/NonElephantImages/1500 ANIMALS NAMES and SOUNDS 8K ULTRA HD194.png\n",
            "/content/drive/MyDrive/DataUnchanges/NonElephantImages/annot/1500 ANIMALS NAMES and SOUNDS 8K ULTRA HD194.txt\n",
            "1500 ANIMALS NAMES and SOUNDS 8K ULTRA HD200.png\n",
            "/content/drive/MyDrive/DataUnchanges/NonElephantImages/1500 ANIMALS NAMES and SOUNDS 8K ULTRA HD200.png\n",
            "/content/drive/MyDrive/DataUnchanges/NonElephantImages/annot/1500 ANIMALS NAMES and SOUNDS 8K ULTRA HD200.txt\n",
            "1500 ANIMALS NAMES and SOUNDS 8K ULTRA HD197.png\n",
            "/content/drive/MyDrive/DataUnchanges/NonElephantImages/1500 ANIMALS NAMES and SOUNDS 8K ULTRA HD197.png\n",
            "/content/drive/MyDrive/DataUnchanges/NonElephantImages/annot/1500 ANIMALS NAMES and SOUNDS 8K ULTRA HD197.txt\n",
            "1500 ANIMALS NAMES and SOUNDS 8K ULTRA HD201.png\n",
            "/content/drive/MyDrive/DataUnchanges/NonElephantImages/1500 ANIMALS NAMES and SOUNDS 8K ULTRA HD201.png\n",
            "/content/drive/MyDrive/DataUnchanges/NonElephantImages/annot/1500 ANIMALS NAMES and SOUNDS 8K ULTRA HD201.txt\n",
            "1500 ANIMALS NAMES and SOUNDS 8K ULTRA HD199.png\n",
            "/content/drive/MyDrive/DataUnchanges/NonElephantImages/1500 ANIMALS NAMES and SOUNDS 8K ULTRA HD199.png\n",
            "/content/drive/MyDrive/DataUnchanges/NonElephantImages/annot/1500 ANIMALS NAMES and SOUNDS 8K ULTRA HD199.txt\n",
            "1500 ANIMALS NAMES and SOUNDS 8K ULTRA HD198.png\n",
            "/content/drive/MyDrive/DataUnchanges/NonElephantImages/1500 ANIMALS NAMES and SOUNDS 8K ULTRA HD198.png\n",
            "/content/drive/MyDrive/DataUnchanges/NonElephantImages/annot/1500 ANIMALS NAMES and SOUNDS 8K ULTRA HD198.txt\n",
            "1500 ANIMALS NAMES and SOUNDS 8K ULTRA HD203.png\n",
            "/content/drive/MyDrive/DataUnchanges/NonElephantImages/1500 ANIMALS NAMES and SOUNDS 8K ULTRA HD203.png\n",
            "/content/drive/MyDrive/DataUnchanges/NonElephantImages/annot/1500 ANIMALS NAMES and SOUNDS 8K ULTRA HD203.txt\n",
            "1500 ANIMALS NAMES and SOUNDS 8K ULTRA HD207.png\n",
            "/content/drive/MyDrive/DataUnchanges/NonElephantImages/1500 ANIMALS NAMES and SOUNDS 8K ULTRA HD207.png\n",
            "/content/drive/MyDrive/DataUnchanges/NonElephantImages/annot/1500 ANIMALS NAMES and SOUNDS 8K ULTRA HD207.txt\n",
            "1500 ANIMALS NAMES and SOUNDS 8K ULTRA HD204.png\n",
            "/content/drive/MyDrive/DataUnchanges/NonElephantImages/1500 ANIMALS NAMES and SOUNDS 8K ULTRA HD204.png\n",
            "/content/drive/MyDrive/DataUnchanges/NonElephantImages/annot/1500 ANIMALS NAMES and SOUNDS 8K ULTRA HD204.txt\n",
            "1500 ANIMALS NAMES and SOUNDS 8K ULTRA HD206.png\n",
            "/content/drive/MyDrive/DataUnchanges/NonElephantImages/1500 ANIMALS NAMES and SOUNDS 8K ULTRA HD206.png\n",
            "/content/drive/MyDrive/DataUnchanges/NonElephantImages/annot/1500 ANIMALS NAMES and SOUNDS 8K ULTRA HD206.txt\n",
            "1500 ANIMALS NAMES and SOUNDS 8K ULTRA HD205.png\n",
            "/content/drive/MyDrive/DataUnchanges/NonElephantImages/1500 ANIMALS NAMES and SOUNDS 8K ULTRA HD205.png\n",
            "/content/drive/MyDrive/DataUnchanges/NonElephantImages/annot/1500 ANIMALS NAMES and SOUNDS 8K ULTRA HD205.txt\n",
            "1500 ANIMALS NAMES and SOUNDS 8K ULTRA HD202.png\n",
            "/content/drive/MyDrive/DataUnchanges/NonElephantImages/1500 ANIMALS NAMES and SOUNDS 8K ULTRA HD202.png\n",
            "/content/drive/MyDrive/DataUnchanges/NonElephantImages/annot/1500 ANIMALS NAMES and SOUNDS 8K ULTRA HD202.txt\n",
            "1500 ANIMALS NAMES and SOUNDS 8K ULTRA HD214.png\n",
            "/content/drive/MyDrive/DataUnchanges/NonElephantImages/1500 ANIMALS NAMES and SOUNDS 8K ULTRA HD214.png\n",
            "/content/drive/MyDrive/DataUnchanges/NonElephantImages/annot/1500 ANIMALS NAMES and SOUNDS 8K ULTRA HD214.txt\n",
            "1500 ANIMALS NAMES and SOUNDS 8K ULTRA HD212.png\n",
            "/content/drive/MyDrive/DataUnchanges/NonElephantImages/1500 ANIMALS NAMES and SOUNDS 8K ULTRA HD212.png\n",
            "/content/drive/MyDrive/DataUnchanges/NonElephantImages/annot/1500 ANIMALS NAMES and SOUNDS 8K ULTRA HD212.txt\n",
            "1500 ANIMALS NAMES and SOUNDS 8K ULTRA HD210.png\n",
            "/content/drive/MyDrive/DataUnchanges/NonElephantImages/1500 ANIMALS NAMES and SOUNDS 8K ULTRA HD210.png\n",
            "/content/drive/MyDrive/DataUnchanges/NonElephantImages/annot/1500 ANIMALS NAMES and SOUNDS 8K ULTRA HD210.txt\n",
            "1500 ANIMALS NAMES and SOUNDS 8K ULTRA HD208.png\n",
            "/content/drive/MyDrive/DataUnchanges/NonElephantImages/1500 ANIMALS NAMES and SOUNDS 8K ULTRA HD208.png\n",
            "/content/drive/MyDrive/DataUnchanges/NonElephantImages/annot/1500 ANIMALS NAMES and SOUNDS 8K ULTRA HD208.txt\n",
            "1500 ANIMALS NAMES and SOUNDS 8K ULTRA HD215.png\n",
            "/content/drive/MyDrive/DataUnchanges/NonElephantImages/1500 ANIMALS NAMES and SOUNDS 8K ULTRA HD215.png\n",
            "/content/drive/MyDrive/DataUnchanges/NonElephantImages/annot/1500 ANIMALS NAMES and SOUNDS 8K ULTRA HD215.txt\n",
            "1500 ANIMALS NAMES and SOUNDS 8K ULTRA HD213.png\n",
            "/content/drive/MyDrive/DataUnchanges/NonElephantImages/1500 ANIMALS NAMES and SOUNDS 8K ULTRA HD213.png\n",
            "/content/drive/MyDrive/DataUnchanges/NonElephantImages/annot/1500 ANIMALS NAMES and SOUNDS 8K ULTRA HD213.txt\n",
            "1500 ANIMALS NAMES and SOUNDS 8K ULTRA HD211.png\n",
            "/content/drive/MyDrive/DataUnchanges/NonElephantImages/1500 ANIMALS NAMES and SOUNDS 8K ULTRA HD211.png\n",
            "/content/drive/MyDrive/DataUnchanges/NonElephantImages/annot/1500 ANIMALS NAMES and SOUNDS 8K ULTRA HD211.txt\n",
            "1500 ANIMALS NAMES and SOUNDS 8K ULTRA HD209.png\n",
            "/content/drive/MyDrive/DataUnchanges/NonElephantImages/1500 ANIMALS NAMES and SOUNDS 8K ULTRA HD209.png\n",
            "/content/drive/MyDrive/DataUnchanges/NonElephantImages/annot/1500 ANIMALS NAMES and SOUNDS 8K ULTRA HD209.txt\n",
            "1500 ANIMALS NAMES and SOUNDS 8K ULTRA HD222.png\n",
            "/content/drive/MyDrive/DataUnchanges/NonElephantImages/1500 ANIMALS NAMES and SOUNDS 8K ULTRA HD222.png\n",
            "/content/drive/MyDrive/DataUnchanges/NonElephantImages/annot/1500 ANIMALS NAMES and SOUNDS 8K ULTRA HD222.txt\n",
            "1500 ANIMALS NAMES and SOUNDS 8K ULTRA HD217.png\n",
            "/content/drive/MyDrive/DataUnchanges/NonElephantImages/1500 ANIMALS NAMES and SOUNDS 8K ULTRA HD217.png\n",
            "/content/drive/MyDrive/DataUnchanges/NonElephantImages/annot/1500 ANIMALS NAMES and SOUNDS 8K ULTRA HD217.txt\n",
            "1500 ANIMALS NAMES and SOUNDS 8K ULTRA HD220.png\n",
            "/content/drive/MyDrive/DataUnchanges/NonElephantImages/1500 ANIMALS NAMES and SOUNDS 8K ULTRA HD220.png\n",
            "/content/drive/MyDrive/DataUnchanges/NonElephantImages/annot/1500 ANIMALS NAMES and SOUNDS 8K ULTRA HD220.txt\n",
            "1500 ANIMALS NAMES and SOUNDS 8K ULTRA HD219.png\n",
            "/content/drive/MyDrive/DataUnchanges/NonElephantImages/1500 ANIMALS NAMES and SOUNDS 8K ULTRA HD219.png\n",
            "/content/drive/MyDrive/DataUnchanges/NonElephantImages/annot/1500 ANIMALS NAMES and SOUNDS 8K ULTRA HD219.txt\n",
            "1500 ANIMALS NAMES and SOUNDS 8K ULTRA HD216.png\n",
            "/content/drive/MyDrive/DataUnchanges/NonElephantImages/1500 ANIMALS NAMES and SOUNDS 8K ULTRA HD216.png\n",
            "/content/drive/MyDrive/DataUnchanges/NonElephantImages/annot/1500 ANIMALS NAMES and SOUNDS 8K ULTRA HD216.txt\n",
            "1500 ANIMALS NAMES and SOUNDS 8K ULTRA HD218.png\n",
            "/content/drive/MyDrive/DataUnchanges/NonElephantImages/1500 ANIMALS NAMES and SOUNDS 8K ULTRA HD218.png\n",
            "/content/drive/MyDrive/DataUnchanges/NonElephantImages/annot/1500 ANIMALS NAMES and SOUNDS 8K ULTRA HD218.txt\n",
            "1500 ANIMALS NAMES and SOUNDS 8K ULTRA HD221.png\n",
            "/content/drive/MyDrive/DataUnchanges/NonElephantImages/1500 ANIMALS NAMES and SOUNDS 8K ULTRA HD221.png\n",
            "/content/drive/MyDrive/DataUnchanges/NonElephantImages/annot/1500 ANIMALS NAMES and SOUNDS 8K ULTRA HD221.txt\n",
            "1500 ANIMALS NAMES and SOUNDS 8K ULTRA HD224.png\n",
            "/content/drive/MyDrive/DataUnchanges/NonElephantImages/1500 ANIMALS NAMES and SOUNDS 8K ULTRA HD224.png\n",
            "/content/drive/MyDrive/DataUnchanges/NonElephantImages/annot/1500 ANIMALS NAMES and SOUNDS 8K ULTRA HD224.txt\n",
            "1500 ANIMALS NAMES and SOUNDS 8K ULTRA HD227.png\n",
            "/content/drive/MyDrive/DataUnchanges/NonElephantImages/1500 ANIMALS NAMES and SOUNDS 8K ULTRA HD227.png\n",
            "/content/drive/MyDrive/DataUnchanges/NonElephantImages/annot/1500 ANIMALS NAMES and SOUNDS 8K ULTRA HD227.txt\n",
            "1500 ANIMALS NAMES and SOUNDS 8K ULTRA HD229.png\n",
            "/content/drive/MyDrive/DataUnchanges/NonElephantImages/1500 ANIMALS NAMES and SOUNDS 8K ULTRA HD229.png\n",
            "/content/drive/MyDrive/DataUnchanges/NonElephantImages/annot/1500 ANIMALS NAMES and SOUNDS 8K ULTRA HD229.txt\n",
            "1500 ANIMALS NAMES and SOUNDS 8K ULTRA HD225.png\n",
            "/content/drive/MyDrive/DataUnchanges/NonElephantImages/1500 ANIMALS NAMES and SOUNDS 8K ULTRA HD225.png\n",
            "/content/drive/MyDrive/DataUnchanges/NonElephantImages/annot/1500 ANIMALS NAMES and SOUNDS 8K ULTRA HD225.txt\n",
            "1500 ANIMALS NAMES and SOUNDS 8K ULTRA HD226.png\n",
            "/content/drive/MyDrive/DataUnchanges/NonElephantImages/1500 ANIMALS NAMES and SOUNDS 8K ULTRA HD226.png\n",
            "/content/drive/MyDrive/DataUnchanges/NonElephantImages/annot/1500 ANIMALS NAMES and SOUNDS 8K ULTRA HD226.txt\n",
            "1500 ANIMALS NAMES and SOUNDS 8K ULTRA HD228.png\n",
            "/content/drive/MyDrive/DataUnchanges/NonElephantImages/1500 ANIMALS NAMES and SOUNDS 8K ULTRA HD228.png\n",
            "/content/drive/MyDrive/DataUnchanges/NonElephantImages/annot/1500 ANIMALS NAMES and SOUNDS 8K ULTRA HD228.txt\n",
            "1500 ANIMALS NAMES and SOUNDS 8K ULTRA HD223.png\n",
            "/content/drive/MyDrive/DataUnchanges/NonElephantImages/1500 ANIMALS NAMES and SOUNDS 8K ULTRA HD223.png\n",
            "/content/drive/MyDrive/DataUnchanges/NonElephantImages/annot/1500 ANIMALS NAMES and SOUNDS 8K ULTRA HD223.txt\n",
            "1500 ANIMALS NAMES and SOUNDS 8K ULTRA HD231.png\n",
            "/content/drive/MyDrive/DataUnchanges/NonElephantImages/1500 ANIMALS NAMES and SOUNDS 8K ULTRA HD231.png\n",
            "/content/drive/MyDrive/DataUnchanges/NonElephantImages/annot/1500 ANIMALS NAMES and SOUNDS 8K ULTRA HD231.txt\n",
            "1500 ANIMALS NAMES and SOUNDS 8K ULTRA HD234.png\n",
            "/content/drive/MyDrive/DataUnchanges/NonElephantImages/1500 ANIMALS NAMES and SOUNDS 8K ULTRA HD234.png\n",
            "/content/drive/MyDrive/DataUnchanges/NonElephantImages/annot/1500 ANIMALS NAMES and SOUNDS 8K ULTRA HD234.txt\n",
            "1500 ANIMALS NAMES and SOUNDS 8K ULTRA HD235.png\n",
            "/content/drive/MyDrive/DataUnchanges/NonElephantImages/1500 ANIMALS NAMES and SOUNDS 8K ULTRA HD235.png\n",
            "/content/drive/MyDrive/DataUnchanges/NonElephantImages/annot/1500 ANIMALS NAMES and SOUNDS 8K ULTRA HD235.txt\n",
            "1500 ANIMALS NAMES and SOUNDS 8K ULTRA HD233.png\n",
            "/content/drive/MyDrive/DataUnchanges/NonElephantImages/1500 ANIMALS NAMES and SOUNDS 8K ULTRA HD233.png\n",
            "/content/drive/MyDrive/DataUnchanges/NonElephantImages/annot/1500 ANIMALS NAMES and SOUNDS 8K ULTRA HD233.txt\n",
            "1500 ANIMALS NAMES and SOUNDS 8K ULTRA HD232.png\n",
            "/content/drive/MyDrive/DataUnchanges/NonElephantImages/1500 ANIMALS NAMES and SOUNDS 8K ULTRA HD232.png\n",
            "/content/drive/MyDrive/DataUnchanges/NonElephantImages/annot/1500 ANIMALS NAMES and SOUNDS 8K ULTRA HD232.txt\n",
            "1500 ANIMALS NAMES and SOUNDS 8K ULTRA HD230.png\n",
            "/content/drive/MyDrive/DataUnchanges/NonElephantImages/1500 ANIMALS NAMES and SOUNDS 8K ULTRA HD230.png\n",
            "/content/drive/MyDrive/DataUnchanges/NonElephantImages/annot/1500 ANIMALS NAMES and SOUNDS 8K ULTRA HD230.txt\n",
            "1500 ANIMALS NAMES and SOUNDS 8K ULTRA HD236.png\n",
            "/content/drive/MyDrive/DataUnchanges/NonElephantImages/1500 ANIMALS NAMES and SOUNDS 8K ULTRA HD236.png\n",
            "/content/drive/MyDrive/DataUnchanges/NonElephantImages/annot/1500 ANIMALS NAMES and SOUNDS 8K ULTRA HD236.txt\n",
            "1500 ANIMALS NAMES and SOUNDS 8K ULTRA HD237.png\n",
            "/content/drive/MyDrive/DataUnchanges/NonElephantImages/1500 ANIMALS NAMES and SOUNDS 8K ULTRA HD237.png\n",
            "/content/drive/MyDrive/DataUnchanges/NonElephantImages/annot/1500 ANIMALS NAMES and SOUNDS 8K ULTRA HD237.txt\n",
            "1500 ANIMALS NAMES and SOUNDS 8K ULTRA HD238.png\n",
            "/content/drive/MyDrive/DataUnchanges/NonElephantImages/1500 ANIMALS NAMES and SOUNDS 8K ULTRA HD238.png\n",
            "/content/drive/MyDrive/DataUnchanges/NonElephantImages/annot/1500 ANIMALS NAMES and SOUNDS 8K ULTRA HD238.txt\n",
            "1500 ANIMALS NAMES and SOUNDS 8K ULTRA HD240.png\n",
            "/content/drive/MyDrive/DataUnchanges/NonElephantImages/1500 ANIMALS NAMES and SOUNDS 8K ULTRA HD240.png\n",
            "/content/drive/MyDrive/DataUnchanges/NonElephantImages/annot/1500 ANIMALS NAMES and SOUNDS 8K ULTRA HD240.txt\n",
            "1500 ANIMALS NAMES and SOUNDS 8K ULTRA HD239.png\n",
            "/content/drive/MyDrive/DataUnchanges/NonElephantImages/1500 ANIMALS NAMES and SOUNDS 8K ULTRA HD239.png\n",
            "/content/drive/MyDrive/DataUnchanges/NonElephantImages/annot/1500 ANIMALS NAMES and SOUNDS 8K ULTRA HD239.txt\n",
            "ANIMAL NAMES AND SOUNDS for Kids Video Compilation - Learn Animal Names for Children & Toddlers0.png\n",
            "/content/drive/MyDrive/DataUnchanges/NonElephantImages/ANIMAL NAMES AND SOUNDS for Kids Video Compilation - Learn Animal Names for Children & Toddlers0.png\n",
            "/content/drive/MyDrive/DataUnchanges/NonElephantImages/annot/ANIMAL NAMES AND SOUNDS for Kids Video Compilation - Learn Animal Names for Children & Toddlers0.txt\n",
            "ANIMAL NAMES AND SOUNDS for Kids Video Compilation - Learn Animal Names for Children & Toddlers1.png\n",
            "/content/drive/MyDrive/DataUnchanges/NonElephantImages/ANIMAL NAMES AND SOUNDS for Kids Video Compilation - Learn Animal Names for Children & Toddlers1.png\n",
            "/content/drive/MyDrive/DataUnchanges/NonElephantImages/annot/ANIMAL NAMES AND SOUNDS for Kids Video Compilation - Learn Animal Names for Children & Toddlers1.txt\n",
            "ANIMAL NAMES AND SOUNDS for Kids Video Compilation - Learn Animal Names for Children & Toddlers2.png\n",
            "/content/drive/MyDrive/DataUnchanges/NonElephantImages/ANIMAL NAMES AND SOUNDS for Kids Video Compilation - Learn Animal Names for Children & Toddlers2.png\n",
            "/content/drive/MyDrive/DataUnchanges/NonElephantImages/annot/ANIMAL NAMES AND SOUNDS for Kids Video Compilation - Learn Animal Names for Children & Toddlers2.txt\n",
            "ANIMAL NAMES AND SOUNDS for Kids Video Compilation - Learn Animal Names for Children & Toddlers7.png\n",
            "/content/drive/MyDrive/DataUnchanges/NonElephantImages/ANIMAL NAMES AND SOUNDS for Kids Video Compilation - Learn Animal Names for Children & Toddlers7.png\n",
            "/content/drive/MyDrive/DataUnchanges/NonElephantImages/annot/ANIMAL NAMES AND SOUNDS for Kids Video Compilation - Learn Animal Names for Children & Toddlers7.txt\n",
            "ANIMAL NAMES AND SOUNDS for Kids Video Compilation - Learn Animal Names for Children & Toddlers5.png\n",
            "/content/drive/MyDrive/DataUnchanges/NonElephantImages/ANIMAL NAMES AND SOUNDS for Kids Video Compilation - Learn Animal Names for Children & Toddlers5.png\n",
            "/content/drive/MyDrive/DataUnchanges/NonElephantImages/annot/ANIMAL NAMES AND SOUNDS for Kids Video Compilation - Learn Animal Names for Children & Toddlers5.txt\n",
            "ANIMAL NAMES AND SOUNDS for Kids Video Compilation - Learn Animal Names for Children & Toddlers6.png\n",
            "/content/drive/MyDrive/DataUnchanges/NonElephantImages/ANIMAL NAMES AND SOUNDS for Kids Video Compilation - Learn Animal Names for Children & Toddlers6.png\n",
            "/content/drive/MyDrive/DataUnchanges/NonElephantImages/annot/ANIMAL NAMES AND SOUNDS for Kids Video Compilation - Learn Animal Names for Children & Toddlers6.txt\n",
            "ANIMAL NAMES AND SOUNDS for Kids Video Compilation - Learn Animal Names for Children & Toddlers3.png\n",
            "/content/drive/MyDrive/DataUnchanges/NonElephantImages/ANIMAL NAMES AND SOUNDS for Kids Video Compilation - Learn Animal Names for Children & Toddlers3.png\n",
            "/content/drive/MyDrive/DataUnchanges/NonElephantImages/annot/ANIMAL NAMES AND SOUNDS for Kids Video Compilation - Learn Animal Names for Children & Toddlers3.txt\n",
            "ANIMAL NAMES AND SOUNDS for Kids Video Compilation - Learn Animal Names for Children & Toddlers4.png\n",
            "/content/drive/MyDrive/DataUnchanges/NonElephantImages/ANIMAL NAMES AND SOUNDS for Kids Video Compilation - Learn Animal Names for Children & Toddlers4.png\n",
            "/content/drive/MyDrive/DataUnchanges/NonElephantImages/annot/ANIMAL NAMES AND SOUNDS for Kids Video Compilation - Learn Animal Names for Children & Toddlers4.txt\n",
            "ANIMAL NAMES AND SOUNDS for Kids Video Compilation - Learn Animal Names for Children & Toddlers8.png\n",
            "/content/drive/MyDrive/DataUnchanges/NonElephantImages/ANIMAL NAMES AND SOUNDS for Kids Video Compilation - Learn Animal Names for Children & Toddlers8.png\n",
            "/content/drive/MyDrive/DataUnchanges/NonElephantImages/annot/ANIMAL NAMES AND SOUNDS for Kids Video Compilation - Learn Animal Names for Children & Toddlers8.txt\n",
            "ANIMAL NAMES AND SOUNDS for Kids Video Compilation - Learn Animal Names for Children & Toddlers13.png\n",
            "/content/drive/MyDrive/DataUnchanges/NonElephantImages/ANIMAL NAMES AND SOUNDS for Kids Video Compilation - Learn Animal Names for Children & Toddlers13.png\n",
            "/content/drive/MyDrive/DataUnchanges/NonElephantImages/annot/ANIMAL NAMES AND SOUNDS for Kids Video Compilation - Learn Animal Names for Children & Toddlers13.txt\n",
            "ANIMAL NAMES AND SOUNDS for Kids Video Compilation - Learn Animal Names for Children & Toddlers9.png\n",
            "/content/drive/MyDrive/DataUnchanges/NonElephantImages/ANIMAL NAMES AND SOUNDS for Kids Video Compilation - Learn Animal Names for Children & Toddlers9.png\n",
            "/content/drive/MyDrive/DataUnchanges/NonElephantImages/annot/ANIMAL NAMES AND SOUNDS for Kids Video Compilation - Learn Animal Names for Children & Toddlers9.txt\n",
            "ANIMAL NAMES AND SOUNDS for Kids Video Compilation - Learn Animal Names for Children & Toddlers10.png\n",
            "/content/drive/MyDrive/DataUnchanges/NonElephantImages/ANIMAL NAMES AND SOUNDS for Kids Video Compilation - Learn Animal Names for Children & Toddlers10.png\n",
            "/content/drive/MyDrive/DataUnchanges/NonElephantImages/annot/ANIMAL NAMES AND SOUNDS for Kids Video Compilation - Learn Animal Names for Children & Toddlers10.txt\n",
            "ANIMAL NAMES AND SOUNDS for Kids Video Compilation - Learn Animal Names for Children & Toddlers11.png\n",
            "/content/drive/MyDrive/DataUnchanges/NonElephantImages/ANIMAL NAMES AND SOUNDS for Kids Video Compilation - Learn Animal Names for Children & Toddlers11.png\n",
            "/content/drive/MyDrive/DataUnchanges/NonElephantImages/annot/ANIMAL NAMES AND SOUNDS for Kids Video Compilation - Learn Animal Names for Children & Toddlers11.txt\n",
            "ANIMAL NAMES AND SOUNDS for Kids Video Compilation - Learn Animal Names for Children & Toddlers12.png\n",
            "/content/drive/MyDrive/DataUnchanges/NonElephantImages/ANIMAL NAMES AND SOUNDS for Kids Video Compilation - Learn Animal Names for Children & Toddlers12.png\n",
            "/content/drive/MyDrive/DataUnchanges/NonElephantImages/annot/ANIMAL NAMES AND SOUNDS for Kids Video Compilation - Learn Animal Names for Children & Toddlers12.txt\n",
            "ANIMAL NAMES AND SOUNDS for Kids Video Compilation - Learn Animal Names for Children & Toddlers18.png\n",
            "/content/drive/MyDrive/DataUnchanges/NonElephantImages/ANIMAL NAMES AND SOUNDS for Kids Video Compilation - Learn Animal Names for Children & Toddlers18.png\n",
            "/content/drive/MyDrive/DataUnchanges/NonElephantImages/annot/ANIMAL NAMES AND SOUNDS for Kids Video Compilation - Learn Animal Names for Children & Toddlers18.txt\n",
            "ANIMAL NAMES AND SOUNDS for Kids Video Compilation - Learn Animal Names for Children & Toddlers14.png\n",
            "/content/drive/MyDrive/DataUnchanges/NonElephantImages/ANIMAL NAMES AND SOUNDS for Kids Video Compilation - Learn Animal Names for Children & Toddlers14.png\n",
            "/content/drive/MyDrive/DataUnchanges/NonElephantImages/annot/ANIMAL NAMES AND SOUNDS for Kids Video Compilation - Learn Animal Names for Children & Toddlers14.txt\n",
            "ANIMAL NAMES AND SOUNDS for Kids Video Compilation - Learn Animal Names for Children & Toddlers17.png\n",
            "/content/drive/MyDrive/DataUnchanges/NonElephantImages/ANIMAL NAMES AND SOUNDS for Kids Video Compilation - Learn Animal Names for Children & Toddlers17.png\n",
            "/content/drive/MyDrive/DataUnchanges/NonElephantImages/annot/ANIMAL NAMES AND SOUNDS for Kids Video Compilation - Learn Animal Names for Children & Toddlers17.txt\n",
            "ANIMAL NAMES AND SOUNDS for Kids Video Compilation - Learn Animal Names for Children & Toddlers15.png\n",
            "/content/drive/MyDrive/DataUnchanges/NonElephantImages/ANIMAL NAMES AND SOUNDS for Kids Video Compilation - Learn Animal Names for Children & Toddlers15.png\n",
            "/content/drive/MyDrive/DataUnchanges/NonElephantImages/annot/ANIMAL NAMES AND SOUNDS for Kids Video Compilation - Learn Animal Names for Children & Toddlers15.txt\n",
            "ANIMAL NAMES AND SOUNDS for Kids Video Compilation - Learn Animal Names for Children & Toddlers16.png\n",
            "/content/drive/MyDrive/DataUnchanges/NonElephantImages/ANIMAL NAMES AND SOUNDS for Kids Video Compilation - Learn Animal Names for Children & Toddlers16.png\n",
            "/content/drive/MyDrive/DataUnchanges/NonElephantImages/annot/ANIMAL NAMES AND SOUNDS for Kids Video Compilation - Learn Animal Names for Children & Toddlers16.txt\n",
            "ANIMAL NAMES AND SOUNDS for Kids Video Compilation - Learn Animal Names for Children & Toddlers22.png\n",
            "/content/drive/MyDrive/DataUnchanges/NonElephantImages/ANIMAL NAMES AND SOUNDS for Kids Video Compilation - Learn Animal Names for Children & Toddlers22.png\n",
            "/content/drive/MyDrive/DataUnchanges/NonElephantImages/annot/ANIMAL NAMES AND SOUNDS for Kids Video Compilation - Learn Animal Names for Children & Toddlers22.txt\n",
            "ANIMAL NAMES AND SOUNDS for Kids Video Compilation - Learn Animal Names for Children & Toddlers19.png\n",
            "/content/drive/MyDrive/DataUnchanges/NonElephantImages/ANIMAL NAMES AND SOUNDS for Kids Video Compilation - Learn Animal Names for Children & Toddlers19.png\n",
            "/content/drive/MyDrive/DataUnchanges/NonElephantImages/annot/ANIMAL NAMES AND SOUNDS for Kids Video Compilation - Learn Animal Names for Children & Toddlers19.txt\n",
            "ANIMAL NAMES AND SOUNDS for Kids Video Compilation - Learn Animal Names for Children & Toddlers20.png\n",
            "/content/drive/MyDrive/DataUnchanges/NonElephantImages/ANIMAL NAMES AND SOUNDS for Kids Video Compilation - Learn Animal Names for Children & Toddlers20.png\n",
            "/content/drive/MyDrive/DataUnchanges/NonElephantImages/annot/ANIMAL NAMES AND SOUNDS for Kids Video Compilation - Learn Animal Names for Children & Toddlers20.txt\n",
            "ANIMAL NAMES AND SOUNDS for Kids Video Compilation - Learn Animal Names for Children & Toddlers23.png\n",
            "/content/drive/MyDrive/DataUnchanges/NonElephantImages/ANIMAL NAMES AND SOUNDS for Kids Video Compilation - Learn Animal Names for Children & Toddlers23.png\n",
            "/content/drive/MyDrive/DataUnchanges/NonElephantImages/annot/ANIMAL NAMES AND SOUNDS for Kids Video Compilation - Learn Animal Names for Children & Toddlers23.txt\n",
            "ANIMAL NAMES AND SOUNDS for Kids Video Compilation - Learn Animal Names for Children & Toddlers21.png\n",
            "/content/drive/MyDrive/DataUnchanges/NonElephantImages/ANIMAL NAMES AND SOUNDS for Kids Video Compilation - Learn Animal Names for Children & Toddlers21.png\n",
            "/content/drive/MyDrive/DataUnchanges/NonElephantImages/annot/ANIMAL NAMES AND SOUNDS for Kids Video Compilation - Learn Animal Names for Children & Toddlers21.txt\n",
            "ANIMAL NAMES AND SOUNDS for Kids Video Compilation - Learn Animal Names for Children & Toddlers25.png\n",
            "/content/drive/MyDrive/DataUnchanges/NonElephantImages/ANIMAL NAMES AND SOUNDS for Kids Video Compilation - Learn Animal Names for Children & Toddlers25.png\n",
            "/content/drive/MyDrive/DataUnchanges/NonElephantImages/annot/ANIMAL NAMES AND SOUNDS for Kids Video Compilation - Learn Animal Names for Children & Toddlers25.txt\n",
            "ANIMAL NAMES AND SOUNDS for Kids Video Compilation - Learn Animal Names for Children & Toddlers24.png\n",
            "/content/drive/MyDrive/DataUnchanges/NonElephantImages/ANIMAL NAMES AND SOUNDS for Kids Video Compilation - Learn Animal Names for Children & Toddlers24.png\n",
            "/content/drive/MyDrive/DataUnchanges/NonElephantImages/annot/ANIMAL NAMES AND SOUNDS for Kids Video Compilation - Learn Animal Names for Children & Toddlers24.txt\n",
            "ANIMAL NAMES AND SOUNDS for Kids Video Compilation - Learn Animal Names for Children & Toddlers26.png\n",
            "/content/drive/MyDrive/DataUnchanges/NonElephantImages/ANIMAL NAMES AND SOUNDS for Kids Video Compilation - Learn Animal Names for Children & Toddlers26.png\n",
            "/content/drive/MyDrive/DataUnchanges/NonElephantImages/annot/ANIMAL NAMES AND SOUNDS for Kids Video Compilation - Learn Animal Names for Children & Toddlers26.txt\n",
            "ANIMAL NAMES AND SOUNDS for Kids Video Compilation - Learn Animal Names for Children & Toddlers27.png\n",
            "/content/drive/MyDrive/DataUnchanges/NonElephantImages/ANIMAL NAMES AND SOUNDS for Kids Video Compilation - Learn Animal Names for Children & Toddlers27.png\n",
            "/content/drive/MyDrive/DataUnchanges/NonElephantImages/annot/ANIMAL NAMES AND SOUNDS for Kids Video Compilation - Learn Animal Names for Children & Toddlers27.txt\n",
            "ANIMAL NAMES AND SOUNDS for Kids Video Compilation - Learn Animal Names for Children & Toddlers28.png\n",
            "/content/drive/MyDrive/DataUnchanges/NonElephantImages/ANIMAL NAMES AND SOUNDS for Kids Video Compilation - Learn Animal Names for Children & Toddlers28.png\n",
            "/content/drive/MyDrive/DataUnchanges/NonElephantImages/annot/ANIMAL NAMES AND SOUNDS for Kids Video Compilation - Learn Animal Names for Children & Toddlers28.txt\n",
            "ANIMAL NAMES AND SOUNDS for Kids Video Compilation - Learn Animal Names for Children & Toddlers29.png\n",
            "/content/drive/MyDrive/DataUnchanges/NonElephantImages/ANIMAL NAMES AND SOUNDS for Kids Video Compilation - Learn Animal Names for Children & Toddlers29.png\n",
            "/content/drive/MyDrive/DataUnchanges/NonElephantImages/annot/ANIMAL NAMES AND SOUNDS for Kids Video Compilation - Learn Animal Names for Children & Toddlers29.txt\n",
            "ANIMAL NAMES AND SOUNDS for Kids Video Compilation - Learn Animal Names for Children & Toddlers35.png\n",
            "/content/drive/MyDrive/DataUnchanges/NonElephantImages/ANIMAL NAMES AND SOUNDS for Kids Video Compilation - Learn Animal Names for Children & Toddlers35.png\n",
            "/content/drive/MyDrive/DataUnchanges/NonElephantImages/annot/ANIMAL NAMES AND SOUNDS for Kids Video Compilation - Learn Animal Names for Children & Toddlers35.txt\n",
            "ANIMAL NAMES AND SOUNDS for Kids Video Compilation - Learn Animal Names for Children & Toddlers31.png\n",
            "/content/drive/MyDrive/DataUnchanges/NonElephantImages/ANIMAL NAMES AND SOUNDS for Kids Video Compilation - Learn Animal Names for Children & Toddlers31.png\n",
            "/content/drive/MyDrive/DataUnchanges/NonElephantImages/annot/ANIMAL NAMES AND SOUNDS for Kids Video Compilation - Learn Animal Names for Children & Toddlers31.txt\n",
            "ANIMAL NAMES AND SOUNDS for Kids Video Compilation - Learn Animal Names for Children & Toddlers33.png\n",
            "/content/drive/MyDrive/DataUnchanges/NonElephantImages/ANIMAL NAMES AND SOUNDS for Kids Video Compilation - Learn Animal Names for Children & Toddlers33.png\n",
            "/content/drive/MyDrive/DataUnchanges/NonElephantImages/annot/ANIMAL NAMES AND SOUNDS for Kids Video Compilation - Learn Animal Names for Children & Toddlers33.txt\n",
            "ANIMAL NAMES AND SOUNDS for Kids Video Compilation - Learn Animal Names for Children & Toddlers34.png\n",
            "/content/drive/MyDrive/DataUnchanges/NonElephantImages/ANIMAL NAMES AND SOUNDS for Kids Video Compilation - Learn Animal Names for Children & Toddlers34.png\n",
            "/content/drive/MyDrive/DataUnchanges/NonElephantImages/annot/ANIMAL NAMES AND SOUNDS for Kids Video Compilation - Learn Animal Names for Children & Toddlers34.txt\n",
            "ANIMAL NAMES AND SOUNDS for Kids Video Compilation - Learn Animal Names for Children & Toddlers32.png\n",
            "/content/drive/MyDrive/DataUnchanges/NonElephantImages/ANIMAL NAMES AND SOUNDS for Kids Video Compilation - Learn Animal Names for Children & Toddlers32.png\n",
            "/content/drive/MyDrive/DataUnchanges/NonElephantImages/annot/ANIMAL NAMES AND SOUNDS for Kids Video Compilation - Learn Animal Names for Children & Toddlers32.txt\n",
            "ANIMAL NAMES AND SOUNDS for Kids Video Compilation - Learn Animal Names for Children & Toddlers30.png\n",
            "/content/drive/MyDrive/DataUnchanges/NonElephantImages/ANIMAL NAMES AND SOUNDS for Kids Video Compilation - Learn Animal Names for Children & Toddlers30.png\n",
            "/content/drive/MyDrive/DataUnchanges/NonElephantImages/annot/ANIMAL NAMES AND SOUNDS for Kids Video Compilation - Learn Animal Names for Children & Toddlers30.txt\n",
            "ANIMAL NAMES AND SOUNDS for Kids Video Compilation - Learn Animal Names for Children & Toddlers40.png\n",
            "/content/drive/MyDrive/DataUnchanges/NonElephantImages/ANIMAL NAMES AND SOUNDS for Kids Video Compilation - Learn Animal Names for Children & Toddlers40.png\n",
            "/content/drive/MyDrive/DataUnchanges/NonElephantImages/annot/ANIMAL NAMES AND SOUNDS for Kids Video Compilation - Learn Animal Names for Children & Toddlers40.txt\n",
            "ANIMAL NAMES AND SOUNDS for Kids Video Compilation - Learn Animal Names for Children & Toddlers37.png\n",
            "/content/drive/MyDrive/DataUnchanges/NonElephantImages/ANIMAL NAMES AND SOUNDS for Kids Video Compilation - Learn Animal Names for Children & Toddlers37.png\n",
            "/content/drive/MyDrive/DataUnchanges/NonElephantImages/annot/ANIMAL NAMES AND SOUNDS for Kids Video Compilation - Learn Animal Names for Children & Toddlers37.txt\n",
            "ANIMAL NAMES AND SOUNDS for Kids Video Compilation - Learn Animal Names for Children & Toddlers38.png\n",
            "/content/drive/MyDrive/DataUnchanges/NonElephantImages/ANIMAL NAMES AND SOUNDS for Kids Video Compilation - Learn Animal Names for Children & Toddlers38.png\n",
            "/content/drive/MyDrive/DataUnchanges/NonElephantImages/annot/ANIMAL NAMES AND SOUNDS for Kids Video Compilation - Learn Animal Names for Children & Toddlers38.txt\n",
            "ANIMAL NAMES AND SOUNDS for Kids Video Compilation - Learn Animal Names for Children & Toddlers36.png\n",
            "/content/drive/MyDrive/DataUnchanges/NonElephantImages/ANIMAL NAMES AND SOUNDS for Kids Video Compilation - Learn Animal Names for Children & Toddlers36.png\n",
            "/content/drive/MyDrive/DataUnchanges/NonElephantImages/annot/ANIMAL NAMES AND SOUNDS for Kids Video Compilation - Learn Animal Names for Children & Toddlers36.txt\n",
            "ANIMAL NAMES AND SOUNDS for Kids Video Compilation - Learn Animal Names for Children & Toddlers41.png\n",
            "/content/drive/MyDrive/DataUnchanges/NonElephantImages/ANIMAL NAMES AND SOUNDS for Kids Video Compilation - Learn Animal Names for Children & Toddlers41.png\n",
            "/content/drive/MyDrive/DataUnchanges/NonElephantImages/annot/ANIMAL NAMES AND SOUNDS for Kids Video Compilation - Learn Animal Names for Children & Toddlers41.txt\n",
            "ANIMAL NAMES AND SOUNDS for Kids Video Compilation - Learn Animal Names for Children & Toddlers42.png\n",
            "/content/drive/MyDrive/DataUnchanges/NonElephantImages/ANIMAL NAMES AND SOUNDS for Kids Video Compilation - Learn Animal Names for Children & Toddlers42.png\n",
            "/content/drive/MyDrive/DataUnchanges/NonElephantImages/annot/ANIMAL NAMES AND SOUNDS for Kids Video Compilation - Learn Animal Names for Children & Toddlers42.txt\n",
            "ANIMAL NAMES AND SOUNDS for Kids Video Compilation - Learn Animal Names for Children & Toddlers39.png\n",
            "/content/drive/MyDrive/DataUnchanges/NonElephantImages/ANIMAL NAMES AND SOUNDS for Kids Video Compilation - Learn Animal Names for Children & Toddlers39.png\n",
            "/content/drive/MyDrive/DataUnchanges/NonElephantImages/annot/ANIMAL NAMES AND SOUNDS for Kids Video Compilation - Learn Animal Names for Children & Toddlers39.txt\n",
            "ANIMAL NAMES AND SOUNDS for Kids Video Compilation - Learn Animal Names for Children & Toddlers43.png\n",
            "/content/drive/MyDrive/DataUnchanges/NonElephantImages/ANIMAL NAMES AND SOUNDS for Kids Video Compilation - Learn Animal Names for Children & Toddlers43.png\n",
            "/content/drive/MyDrive/DataUnchanges/NonElephantImages/annot/ANIMAL NAMES AND SOUNDS for Kids Video Compilation - Learn Animal Names for Children & Toddlers43.txt\n",
            "ANIMAL NAMES AND SOUNDS for Kids Video Compilation - Learn Animal Names for Children & Toddlers44.png\n",
            "/content/drive/MyDrive/DataUnchanges/NonElephantImages/ANIMAL NAMES AND SOUNDS for Kids Video Compilation - Learn Animal Names for Children & Toddlers44.png\n",
            "/content/drive/MyDrive/DataUnchanges/NonElephantImages/annot/ANIMAL NAMES AND SOUNDS for Kids Video Compilation - Learn Animal Names for Children & Toddlers44.txt\n",
            "ANIMAL NAMES AND SOUNDS for Kids Video Compilation - Learn Animal Names for Children & Toddlers47.png\n",
            "/content/drive/MyDrive/DataUnchanges/NonElephantImages/ANIMAL NAMES AND SOUNDS for Kids Video Compilation - Learn Animal Names for Children & Toddlers47.png\n",
            "/content/drive/MyDrive/DataUnchanges/NonElephantImages/annot/ANIMAL NAMES AND SOUNDS for Kids Video Compilation - Learn Animal Names for Children & Toddlers47.txt\n",
            "ANIMAL NAMES AND SOUNDS for Kids Video Compilation - Learn Animal Names for Children & Toddlers45.png\n",
            "/content/drive/MyDrive/DataUnchanges/NonElephantImages/ANIMAL NAMES AND SOUNDS for Kids Video Compilation - Learn Animal Names for Children & Toddlers45.png\n",
            "/content/drive/MyDrive/DataUnchanges/NonElephantImages/annot/ANIMAL NAMES AND SOUNDS for Kids Video Compilation - Learn Animal Names for Children & Toddlers45.txt\n",
            "ANIMAL NAMES AND SOUNDS for Kids Video Compilation - Learn Animal Names for Children & Toddlers46.png\n",
            "/content/drive/MyDrive/DataUnchanges/NonElephantImages/ANIMAL NAMES AND SOUNDS for Kids Video Compilation - Learn Animal Names for Children & Toddlers46.png\n",
            "/content/drive/MyDrive/DataUnchanges/NonElephantImages/annot/ANIMAL NAMES AND SOUNDS for Kids Video Compilation - Learn Animal Names for Children & Toddlers46.txt\n",
            "ANIMAL NAMES AND SOUNDS for Kids Video Compilation - Learn Animal Names for Children & Toddlers48.png\n",
            "/content/drive/MyDrive/DataUnchanges/NonElephantImages/ANIMAL NAMES AND SOUNDS for Kids Video Compilation - Learn Animal Names for Children & Toddlers48.png\n",
            "/content/drive/MyDrive/DataUnchanges/NonElephantImages/annot/ANIMAL NAMES AND SOUNDS for Kids Video Compilation - Learn Animal Names for Children & Toddlers48.txt\n",
            "ANIMAL NAMES AND SOUNDS for Kids Video Compilation - Learn Animal Names for Children & Toddlers49.png\n",
            "/content/drive/MyDrive/DataUnchanges/NonElephantImages/ANIMAL NAMES AND SOUNDS for Kids Video Compilation - Learn Animal Names for Children & Toddlers49.png\n",
            "/content/drive/MyDrive/DataUnchanges/NonElephantImages/annot/ANIMAL NAMES AND SOUNDS for Kids Video Compilation - Learn Animal Names for Children & Toddlers49.txt\n",
            "ANIMAL NAMES AND SOUNDS for Kids Video Compilation - Learn Animal Names for Children & Toddlers55.png\n",
            "/content/drive/MyDrive/DataUnchanges/NonElephantImages/ANIMAL NAMES AND SOUNDS for Kids Video Compilation - Learn Animal Names for Children & Toddlers55.png\n",
            "/content/drive/MyDrive/DataUnchanges/NonElephantImages/annot/ANIMAL NAMES AND SOUNDS for Kids Video Compilation - Learn Animal Names for Children & Toddlers55.txt\n",
            "ANIMAL NAMES AND SOUNDS for Kids Video Compilation - Learn Animal Names for Children & Toddlers53.png\n",
            "/content/drive/MyDrive/DataUnchanges/NonElephantImages/ANIMAL NAMES AND SOUNDS for Kids Video Compilation - Learn Animal Names for Children & Toddlers53.png\n",
            "/content/drive/MyDrive/DataUnchanges/NonElephantImages/annot/ANIMAL NAMES AND SOUNDS for Kids Video Compilation - Learn Animal Names for Children & Toddlers53.txt\n",
            "ANIMAL NAMES AND SOUNDS for Kids Video Compilation - Learn Animal Names for Children & Toddlers50.png\n",
            "/content/drive/MyDrive/DataUnchanges/NonElephantImages/ANIMAL NAMES AND SOUNDS for Kids Video Compilation - Learn Animal Names for Children & Toddlers50.png\n",
            "/content/drive/MyDrive/DataUnchanges/NonElephantImages/annot/ANIMAL NAMES AND SOUNDS for Kids Video Compilation - Learn Animal Names for Children & Toddlers50.txt\n",
            "ANIMAL NAMES AND SOUNDS for Kids Video Compilation - Learn Animal Names for Children & Toddlers51.png\n",
            "/content/drive/MyDrive/DataUnchanges/NonElephantImages/ANIMAL NAMES AND SOUNDS for Kids Video Compilation - Learn Animal Names for Children & Toddlers51.png\n",
            "/content/drive/MyDrive/DataUnchanges/NonElephantImages/annot/ANIMAL NAMES AND SOUNDS for Kids Video Compilation - Learn Animal Names for Children & Toddlers51.txt\n",
            "ANIMAL NAMES AND SOUNDS for Kids Video Compilation - Learn Animal Names for Children & Toddlers52.png\n",
            "/content/drive/MyDrive/DataUnchanges/NonElephantImages/ANIMAL NAMES AND SOUNDS for Kids Video Compilation - Learn Animal Names for Children & Toddlers52.png\n",
            "/content/drive/MyDrive/DataUnchanges/NonElephantImages/annot/ANIMAL NAMES AND SOUNDS for Kids Video Compilation - Learn Animal Names for Children & Toddlers52.txt\n",
            "ANIMAL NAMES AND SOUNDS for Kids Video Compilation - Learn Animal Names for Children & Toddlers54.png\n",
            "/content/drive/MyDrive/DataUnchanges/NonElephantImages/ANIMAL NAMES AND SOUNDS for Kids Video Compilation - Learn Animal Names for Children & Toddlers54.png\n",
            "/content/drive/MyDrive/DataUnchanges/NonElephantImages/annot/ANIMAL NAMES AND SOUNDS for Kids Video Compilation - Learn Animal Names for Children & Toddlers54.txt\n",
            "ANIMAL NAMES AND SOUNDS for Kids Video Compilation - Learn Animal Names for Children & Toddlers56.png\n",
            "/content/drive/MyDrive/DataUnchanges/NonElephantImages/ANIMAL NAMES AND SOUNDS for Kids Video Compilation - Learn Animal Names for Children & Toddlers56.png\n",
            "/content/drive/MyDrive/DataUnchanges/NonElephantImages/annot/ANIMAL NAMES AND SOUNDS for Kids Video Compilation - Learn Animal Names for Children & Toddlers56.txt\n",
            "ANIMAL NAMES AND SOUNDS for Kids Video Compilation - Learn Animal Names for Children & Toddlers62.png\n",
            "/content/drive/MyDrive/DataUnchanges/NonElephantImages/ANIMAL NAMES AND SOUNDS for Kids Video Compilation - Learn Animal Names for Children & Toddlers62.png\n",
            "/content/drive/MyDrive/DataUnchanges/NonElephantImages/annot/ANIMAL NAMES AND SOUNDS for Kids Video Compilation - Learn Animal Names for Children & Toddlers62.txt\n",
            "ANIMAL NAMES AND SOUNDS for Kids Video Compilation - Learn Animal Names for Children & Toddlers58.png\n",
            "/content/drive/MyDrive/DataUnchanges/NonElephantImages/ANIMAL NAMES AND SOUNDS for Kids Video Compilation - Learn Animal Names for Children & Toddlers58.png\n",
            "/content/drive/MyDrive/DataUnchanges/NonElephantImages/annot/ANIMAL NAMES AND SOUNDS for Kids Video Compilation - Learn Animal Names for Children & Toddlers58.txt\n",
            "ANIMAL NAMES AND SOUNDS for Kids Video Compilation - Learn Animal Names for Children & Toddlers60.png\n",
            "/content/drive/MyDrive/DataUnchanges/NonElephantImages/ANIMAL NAMES AND SOUNDS for Kids Video Compilation - Learn Animal Names for Children & Toddlers60.png\n",
            "/content/drive/MyDrive/DataUnchanges/NonElephantImages/annot/ANIMAL NAMES AND SOUNDS for Kids Video Compilation - Learn Animal Names for Children & Toddlers60.txt\n",
            "ANIMAL NAMES AND SOUNDS for Kids Video Compilation - Learn Animal Names for Children & Toddlers57.png\n",
            "/content/drive/MyDrive/DataUnchanges/NonElephantImages/ANIMAL NAMES AND SOUNDS for Kids Video Compilation - Learn Animal Names for Children & Toddlers57.png\n",
            "/content/drive/MyDrive/DataUnchanges/NonElephantImages/annot/ANIMAL NAMES AND SOUNDS for Kids Video Compilation - Learn Animal Names for Children & Toddlers57.txt\n",
            "ANIMAL NAMES AND SOUNDS for Kids Video Compilation - Learn Animal Names for Children & Toddlers59.png\n",
            "/content/drive/MyDrive/DataUnchanges/NonElephantImages/ANIMAL NAMES AND SOUNDS for Kids Video Compilation - Learn Animal Names for Children & Toddlers59.png\n",
            "/content/drive/MyDrive/DataUnchanges/NonElephantImages/annot/ANIMAL NAMES AND SOUNDS for Kids Video Compilation - Learn Animal Names for Children & Toddlers59.txt\n",
            "ANIMAL NAMES AND SOUNDS for Kids Video Compilation - Learn Animal Names for Children & Toddlers61.png\n",
            "/content/drive/MyDrive/DataUnchanges/NonElephantImages/ANIMAL NAMES AND SOUNDS for Kids Video Compilation - Learn Animal Names for Children & Toddlers61.png\n",
            "/content/drive/MyDrive/DataUnchanges/NonElephantImages/annot/ANIMAL NAMES AND SOUNDS for Kids Video Compilation - Learn Animal Names for Children & Toddlers61.txt\n",
            "ANIMAL NAMES AND SOUNDS for Kids Video Compilation - Learn Animal Names for Children & Toddlers68.png\n",
            "/content/drive/MyDrive/DataUnchanges/NonElephantImages/ANIMAL NAMES AND SOUNDS for Kids Video Compilation - Learn Animal Names for Children & Toddlers68.png\n",
            "/content/drive/MyDrive/DataUnchanges/NonElephantImages/annot/ANIMAL NAMES AND SOUNDS for Kids Video Compilation - Learn Animal Names for Children & Toddlers68.txt\n",
            "ANIMAL NAMES AND SOUNDS for Kids Video Compilation - Learn Animal Names for Children & Toddlers66.png\n",
            "/content/drive/MyDrive/DataUnchanges/NonElephantImages/ANIMAL NAMES AND SOUNDS for Kids Video Compilation - Learn Animal Names for Children & Toddlers66.png\n",
            "/content/drive/MyDrive/DataUnchanges/NonElephantImages/annot/ANIMAL NAMES AND SOUNDS for Kids Video Compilation - Learn Animal Names for Children & Toddlers66.txt\n",
            "ANIMAL NAMES AND SOUNDS for Kids Video Compilation - Learn Animal Names for Children & Toddlers65.png\n",
            "/content/drive/MyDrive/DataUnchanges/NonElephantImages/ANIMAL NAMES AND SOUNDS for Kids Video Compilation - Learn Animal Names for Children & Toddlers65.png\n",
            "/content/drive/MyDrive/DataUnchanges/NonElephantImages/annot/ANIMAL NAMES AND SOUNDS for Kids Video Compilation - Learn Animal Names for Children & Toddlers65.txt\n",
            "ANIMAL NAMES AND SOUNDS for Kids Video Compilation - Learn Animal Names for Children & Toddlers67.png\n",
            "/content/drive/MyDrive/DataUnchanges/NonElephantImages/ANIMAL NAMES AND SOUNDS for Kids Video Compilation - Learn Animal Names for Children & Toddlers67.png\n",
            "/content/drive/MyDrive/DataUnchanges/NonElephantImages/annot/ANIMAL NAMES AND SOUNDS for Kids Video Compilation - Learn Animal Names for Children & Toddlers67.txt\n",
            "ANIMAL NAMES AND SOUNDS for Kids Video Compilation - Learn Animal Names for Children & Toddlers64.png\n",
            "/content/drive/MyDrive/DataUnchanges/NonElephantImages/ANIMAL NAMES AND SOUNDS for Kids Video Compilation - Learn Animal Names for Children & Toddlers64.png\n",
            "/content/drive/MyDrive/DataUnchanges/NonElephantImages/annot/ANIMAL NAMES AND SOUNDS for Kids Video Compilation - Learn Animal Names for Children & Toddlers64.txt\n",
            "ANIMAL NAMES AND SOUNDS for Kids Video Compilation - Learn Animal Names for Children & Toddlers63.png\n",
            "/content/drive/MyDrive/DataUnchanges/NonElephantImages/ANIMAL NAMES AND SOUNDS for Kids Video Compilation - Learn Animal Names for Children & Toddlers63.png\n",
            "/content/drive/MyDrive/DataUnchanges/NonElephantImages/annot/ANIMAL NAMES AND SOUNDS for Kids Video Compilation - Learn Animal Names for Children & Toddlers63.txt\n",
            "ANIMAL NAMES AND SOUNDS for Kids Video Compilation - Learn Animal Names for Children & Toddlers69.png\n",
            "/content/drive/MyDrive/DataUnchanges/NonElephantImages/ANIMAL NAMES AND SOUNDS for Kids Video Compilation - Learn Animal Names for Children & Toddlers69.png\n",
            "/content/drive/MyDrive/DataUnchanges/NonElephantImages/annot/ANIMAL NAMES AND SOUNDS for Kids Video Compilation - Learn Animal Names for Children & Toddlers69.txt\n",
            "ANIMAL NAMES AND SOUNDS for Kids Video Compilation - Learn Animal Names for Children & Toddlers73.png\n",
            "/content/drive/MyDrive/DataUnchanges/NonElephantImages/ANIMAL NAMES AND SOUNDS for Kids Video Compilation - Learn Animal Names for Children & Toddlers73.png\n",
            "/content/drive/MyDrive/DataUnchanges/NonElephantImages/annot/ANIMAL NAMES AND SOUNDS for Kids Video Compilation - Learn Animal Names for Children & Toddlers73.txt\n",
            "ANIMAL NAMES AND SOUNDS for Kids Video Compilation - Learn Animal Names for Children & Toddlers75.png\n",
            "/content/drive/MyDrive/DataUnchanges/NonElephantImages/ANIMAL NAMES AND SOUNDS for Kids Video Compilation - Learn Animal Names for Children & Toddlers75.png\n",
            "/content/drive/MyDrive/DataUnchanges/NonElephantImages/annot/ANIMAL NAMES AND SOUNDS for Kids Video Compilation - Learn Animal Names for Children & Toddlers75.txt\n",
            "ANIMAL NAMES AND SOUNDS for Kids Video Compilation - Learn Animal Names for Children & Toddlers72.png\n",
            "/content/drive/MyDrive/DataUnchanges/NonElephantImages/ANIMAL NAMES AND SOUNDS for Kids Video Compilation - Learn Animal Names for Children & Toddlers72.png\n",
            "/content/drive/MyDrive/DataUnchanges/NonElephantImages/annot/ANIMAL NAMES AND SOUNDS for Kids Video Compilation - Learn Animal Names for Children & Toddlers72.txt\n",
            "ANIMAL NAMES AND SOUNDS for Kids Video Compilation - Learn Animal Names for Children & Toddlers74.png\n",
            "/content/drive/MyDrive/DataUnchanges/NonElephantImages/ANIMAL NAMES AND SOUNDS for Kids Video Compilation - Learn Animal Names for Children & Toddlers74.png\n",
            "/content/drive/MyDrive/DataUnchanges/NonElephantImages/annot/ANIMAL NAMES AND SOUNDS for Kids Video Compilation - Learn Animal Names for Children & Toddlers74.txt\n",
            "ANIMAL NAMES AND SOUNDS for Kids Video Compilation - Learn Animal Names for Children & Toddlers71.png\n",
            "/content/drive/MyDrive/DataUnchanges/NonElephantImages/ANIMAL NAMES AND SOUNDS for Kids Video Compilation - Learn Animal Names for Children & Toddlers71.png\n",
            "/content/drive/MyDrive/DataUnchanges/NonElephantImages/annot/ANIMAL NAMES AND SOUNDS for Kids Video Compilation - Learn Animal Names for Children & Toddlers71.txt\n",
            "ANIMAL NAMES AND SOUNDS for Kids Video Compilation - Learn Animal Names for Children & Toddlers70.png\n",
            "/content/drive/MyDrive/DataUnchanges/NonElephantImages/ANIMAL NAMES AND SOUNDS for Kids Video Compilation - Learn Animal Names for Children & Toddlers70.png\n",
            "/content/drive/MyDrive/DataUnchanges/NonElephantImages/annot/ANIMAL NAMES AND SOUNDS for Kids Video Compilation - Learn Animal Names for Children & Toddlers70.txt\n",
            "ANIMAL NAMES AND SOUNDS for Kids Video Compilation - Learn Animal Names for Children & Toddlers79.png\n",
            "/content/drive/MyDrive/DataUnchanges/NonElephantImages/ANIMAL NAMES AND SOUNDS for Kids Video Compilation - Learn Animal Names for Children & Toddlers79.png\n",
            "/content/drive/MyDrive/DataUnchanges/NonElephantImages/annot/ANIMAL NAMES AND SOUNDS for Kids Video Compilation - Learn Animal Names for Children & Toddlers79.txt\n",
            "ANIMAL NAMES AND SOUNDS for Kids Video Compilation - Learn Animal Names for Children & Toddlers82.png\n",
            "/content/drive/MyDrive/DataUnchanges/NonElephantImages/ANIMAL NAMES AND SOUNDS for Kids Video Compilation - Learn Animal Names for Children & Toddlers82.png\n",
            "/content/drive/MyDrive/DataUnchanges/NonElephantImages/annot/ANIMAL NAMES AND SOUNDS for Kids Video Compilation - Learn Animal Names for Children & Toddlers82.txt\n",
            "ANIMAL NAMES AND SOUNDS for Kids Video Compilation - Learn Animal Names for Children & Toddlers76.png\n",
            "/content/drive/MyDrive/DataUnchanges/NonElephantImages/ANIMAL NAMES AND SOUNDS for Kids Video Compilation - Learn Animal Names for Children & Toddlers76.png\n",
            "/content/drive/MyDrive/DataUnchanges/NonElephantImages/annot/ANIMAL NAMES AND SOUNDS for Kids Video Compilation - Learn Animal Names for Children & Toddlers76.txt\n",
            "ANIMAL NAMES AND SOUNDS for Kids Video Compilation - Learn Animal Names for Children & Toddlers80.png\n",
            "/content/drive/MyDrive/DataUnchanges/NonElephantImages/ANIMAL NAMES AND SOUNDS for Kids Video Compilation - Learn Animal Names for Children & Toddlers80.png\n",
            "/content/drive/MyDrive/DataUnchanges/NonElephantImages/annot/ANIMAL NAMES AND SOUNDS for Kids Video Compilation - Learn Animal Names for Children & Toddlers80.txt\n",
            "ANIMAL NAMES AND SOUNDS for Kids Video Compilation - Learn Animal Names for Children & Toddlers81.png\n",
            "/content/drive/MyDrive/DataUnchanges/NonElephantImages/ANIMAL NAMES AND SOUNDS for Kids Video Compilation - Learn Animal Names for Children & Toddlers81.png\n",
            "/content/drive/MyDrive/DataUnchanges/NonElephantImages/annot/ANIMAL NAMES AND SOUNDS for Kids Video Compilation - Learn Animal Names for Children & Toddlers81.txt\n",
            "ANIMAL NAMES AND SOUNDS for Kids Video Compilation - Learn Animal Names for Children & Toddlers77.png\n",
            "/content/drive/MyDrive/DataUnchanges/NonElephantImages/ANIMAL NAMES AND SOUNDS for Kids Video Compilation - Learn Animal Names for Children & Toddlers77.png\n",
            "/content/drive/MyDrive/DataUnchanges/NonElephantImages/annot/ANIMAL NAMES AND SOUNDS for Kids Video Compilation - Learn Animal Names for Children & Toddlers77.txt\n",
            "ANIMAL NAMES AND SOUNDS for Kids Video Compilation - Learn Animal Names for Children & Toddlers78.png\n",
            "/content/drive/MyDrive/DataUnchanges/NonElephantImages/ANIMAL NAMES AND SOUNDS for Kids Video Compilation - Learn Animal Names for Children & Toddlers78.png\n",
            "/content/drive/MyDrive/DataUnchanges/NonElephantImages/annot/ANIMAL NAMES AND SOUNDS for Kids Video Compilation - Learn Animal Names for Children & Toddlers78.txt\n",
            "ANIMAL NAMES AND SOUNDS for Kids Video Compilation - Learn Animal Names for Children & Toddlers86.png\n",
            "/content/drive/MyDrive/DataUnchanges/NonElephantImages/ANIMAL NAMES AND SOUNDS for Kids Video Compilation - Learn Animal Names for Children & Toddlers86.png\n",
            "/content/drive/MyDrive/DataUnchanges/NonElephantImages/annot/ANIMAL NAMES AND SOUNDS for Kids Video Compilation - Learn Animal Names for Children & Toddlers86.txt\n",
            "ANIMAL NAMES AND SOUNDS for Kids Video Compilation - Learn Animal Names for Children & Toddlers84.png\n",
            "/content/drive/MyDrive/DataUnchanges/NonElephantImages/ANIMAL NAMES AND SOUNDS for Kids Video Compilation - Learn Animal Names for Children & Toddlers84.png\n",
            "/content/drive/MyDrive/DataUnchanges/NonElephantImages/annot/ANIMAL NAMES AND SOUNDS for Kids Video Compilation - Learn Animal Names for Children & Toddlers84.txt\n",
            "ANIMAL NAMES AND SOUNDS for Kids Video Compilation - Learn Animal Names for Children & Toddlers88.png\n",
            "/content/drive/MyDrive/DataUnchanges/NonElephantImages/ANIMAL NAMES AND SOUNDS for Kids Video Compilation - Learn Animal Names for Children & Toddlers88.png\n",
            "/content/drive/MyDrive/DataUnchanges/NonElephantImages/annot/ANIMAL NAMES AND SOUNDS for Kids Video Compilation - Learn Animal Names for Children & Toddlers88.txt\n",
            "ANIMAL NAMES AND SOUNDS for Kids Video Compilation - Learn Animal Names for Children & Toddlers89.png\n",
            "/content/drive/MyDrive/DataUnchanges/NonElephantImages/ANIMAL NAMES AND SOUNDS for Kids Video Compilation - Learn Animal Names for Children & Toddlers89.png\n",
            "/content/drive/MyDrive/DataUnchanges/NonElephantImages/annot/ANIMAL NAMES AND SOUNDS for Kids Video Compilation - Learn Animal Names for Children & Toddlers89.txt\n",
            "ANIMAL NAMES AND SOUNDS for Kids Video Compilation - Learn Animal Names for Children & Toddlers85.png\n",
            "/content/drive/MyDrive/DataUnchanges/NonElephantImages/ANIMAL NAMES AND SOUNDS for Kids Video Compilation - Learn Animal Names for Children & Toddlers85.png\n",
            "/content/drive/MyDrive/DataUnchanges/NonElephantImages/annot/ANIMAL NAMES AND SOUNDS for Kids Video Compilation - Learn Animal Names for Children & Toddlers85.txt\n",
            "ANIMAL NAMES AND SOUNDS for Kids Video Compilation - Learn Animal Names for Children & Toddlers87.png\n",
            "/content/drive/MyDrive/DataUnchanges/NonElephantImages/ANIMAL NAMES AND SOUNDS for Kids Video Compilation - Learn Animal Names for Children & Toddlers87.png\n",
            "/content/drive/MyDrive/DataUnchanges/NonElephantImages/annot/ANIMAL NAMES AND SOUNDS for Kids Video Compilation - Learn Animal Names for Children & Toddlers87.txt\n",
            "ANIMAL NAMES AND SOUNDS for Kids Video Compilation - Learn Animal Names for Children & Toddlers83.png\n",
            "/content/drive/MyDrive/DataUnchanges/NonElephantImages/ANIMAL NAMES AND SOUNDS for Kids Video Compilation - Learn Animal Names for Children & Toddlers83.png\n",
            "/content/drive/MyDrive/DataUnchanges/NonElephantImages/annot/ANIMAL NAMES AND SOUNDS for Kids Video Compilation - Learn Animal Names for Children & Toddlers83.txt\n",
            "ANIMAL NAMES AND SOUNDS for Kids Video Compilation - Learn Animal Names for Children & Toddlers92.png\n",
            "/content/drive/MyDrive/DataUnchanges/NonElephantImages/ANIMAL NAMES AND SOUNDS for Kids Video Compilation - Learn Animal Names for Children & Toddlers92.png\n",
            "/content/drive/MyDrive/DataUnchanges/NonElephantImages/annot/ANIMAL NAMES AND SOUNDS for Kids Video Compilation - Learn Animal Names for Children & Toddlers92.txt\n",
            "ANIMAL NAMES AND SOUNDS for Kids Video Compilation - Learn Animal Names for Children & Toddlers93.png\n",
            "/content/drive/MyDrive/DataUnchanges/NonElephantImages/ANIMAL NAMES AND SOUNDS for Kids Video Compilation - Learn Animal Names for Children & Toddlers93.png\n",
            "/content/drive/MyDrive/DataUnchanges/NonElephantImages/annot/ANIMAL NAMES AND SOUNDS for Kids Video Compilation - Learn Animal Names for Children & Toddlers93.txt\n",
            "ANIMAL NAMES AND SOUNDS for Kids Video Compilation - Learn Animal Names for Children & Toddlers95.png\n",
            "/content/drive/MyDrive/DataUnchanges/NonElephantImages/ANIMAL NAMES AND SOUNDS for Kids Video Compilation - Learn Animal Names for Children & Toddlers95.png\n",
            "/content/drive/MyDrive/DataUnchanges/NonElephantImages/annot/ANIMAL NAMES AND SOUNDS for Kids Video Compilation - Learn Animal Names for Children & Toddlers95.txt\n",
            "ANIMAL NAMES AND SOUNDS for Kids Video Compilation - Learn Animal Names for Children & Toddlers94.png\n",
            "/content/drive/MyDrive/DataUnchanges/NonElephantImages/ANIMAL NAMES AND SOUNDS for Kids Video Compilation - Learn Animal Names for Children & Toddlers94.png\n",
            "/content/drive/MyDrive/DataUnchanges/NonElephantImages/annot/ANIMAL NAMES AND SOUNDS for Kids Video Compilation - Learn Animal Names for Children & Toddlers94.txt\n",
            "ANIMAL NAMES AND SOUNDS for Kids Video Compilation - Learn Animal Names for Children & Toddlers90.png\n",
            "/content/drive/MyDrive/DataUnchanges/NonElephantImages/ANIMAL NAMES AND SOUNDS for Kids Video Compilation - Learn Animal Names for Children & Toddlers90.png\n",
            "/content/drive/MyDrive/DataUnchanges/NonElephantImages/annot/ANIMAL NAMES AND SOUNDS for Kids Video Compilation - Learn Animal Names for Children & Toddlers90.txt\n",
            "ANIMAL NAMES AND SOUNDS for Kids Video Compilation - Learn Animal Names for Children & Toddlers91.png\n",
            "/content/drive/MyDrive/DataUnchanges/NonElephantImages/ANIMAL NAMES AND SOUNDS for Kids Video Compilation - Learn Animal Names for Children & Toddlers91.png\n",
            "/content/drive/MyDrive/DataUnchanges/NonElephantImages/annot/ANIMAL NAMES AND SOUNDS for Kids Video Compilation - Learn Animal Names for Children & Toddlers91.txt\n",
            "ANIMAL NAMES AND SOUNDS for Kids Video Compilation - Learn Animal Names for Children & Toddlers97.png\n",
            "/content/drive/MyDrive/DataUnchanges/NonElephantImages/ANIMAL NAMES AND SOUNDS for Kids Video Compilation - Learn Animal Names for Children & Toddlers97.png\n",
            "/content/drive/MyDrive/DataUnchanges/NonElephantImages/annot/ANIMAL NAMES AND SOUNDS for Kids Video Compilation - Learn Animal Names for Children & Toddlers97.txt\n",
            "ANIMAL NAMES AND SOUNDS for Kids Video Compilation - Learn Animal Names for Children & Toddlers99.png\n",
            "/content/drive/MyDrive/DataUnchanges/NonElephantImages/ANIMAL NAMES AND SOUNDS for Kids Video Compilation - Learn Animal Names for Children & Toddlers99.png\n",
            "/content/drive/MyDrive/DataUnchanges/NonElephantImages/annot/ANIMAL NAMES AND SOUNDS for Kids Video Compilation - Learn Animal Names for Children & Toddlers99.txt\n",
            "ANIMAL NAMES AND SOUNDS for Kids Video Compilation - Learn Animal Names for Children & Toddlers100.png\n",
            "/content/drive/MyDrive/DataUnchanges/NonElephantImages/ANIMAL NAMES AND SOUNDS for Kids Video Compilation - Learn Animal Names for Children & Toddlers100.png\n",
            "/content/drive/MyDrive/DataUnchanges/NonElephantImages/annot/ANIMAL NAMES AND SOUNDS for Kids Video Compilation - Learn Animal Names for Children & Toddlers100.txt\n",
            "ANIMAL NAMES AND SOUNDS for Kids Video Compilation - Learn Animal Names for Children & Toddlers96.png\n",
            "/content/drive/MyDrive/DataUnchanges/NonElephantImages/ANIMAL NAMES AND SOUNDS for Kids Video Compilation - Learn Animal Names for Children & Toddlers96.png\n",
            "/content/drive/MyDrive/DataUnchanges/NonElephantImages/annot/ANIMAL NAMES AND SOUNDS for Kids Video Compilation - Learn Animal Names for Children & Toddlers96.txt\n",
            "ANIMAL NAMES AND SOUNDS for Kids Video Compilation - Learn Animal Names for Children & Toddlers98.png\n",
            "/content/drive/MyDrive/DataUnchanges/NonElephantImages/ANIMAL NAMES AND SOUNDS for Kids Video Compilation - Learn Animal Names for Children & Toddlers98.png\n",
            "/content/drive/MyDrive/DataUnchanges/NonElephantImages/annot/ANIMAL NAMES AND SOUNDS for Kids Video Compilation - Learn Animal Names for Children & Toddlers98.txt\n",
            "ANIMAL NAMES AND SOUNDS for Kids Video Compilation - Learn Animal Names for Children & Toddlers103.png\n",
            "/content/drive/MyDrive/DataUnchanges/NonElephantImages/ANIMAL NAMES AND SOUNDS for Kids Video Compilation - Learn Animal Names for Children & Toddlers103.png\n",
            "/content/drive/MyDrive/DataUnchanges/NonElephantImages/annot/ANIMAL NAMES AND SOUNDS for Kids Video Compilation - Learn Animal Names for Children & Toddlers103.txt\n",
            "ANIMAL NAMES AND SOUNDS for Kids Video Compilation - Learn Animal Names for Children & Toddlers104.png\n",
            "/content/drive/MyDrive/DataUnchanges/NonElephantImages/ANIMAL NAMES AND SOUNDS for Kids Video Compilation - Learn Animal Names for Children & Toddlers104.png\n",
            "/content/drive/MyDrive/DataUnchanges/NonElephantImages/annot/ANIMAL NAMES AND SOUNDS for Kids Video Compilation - Learn Animal Names for Children & Toddlers104.txt\n",
            "ANIMAL NAMES AND SOUNDS for Kids Video Compilation - Learn Animal Names for Children & Toddlers101.png\n",
            "/content/drive/MyDrive/DataUnchanges/NonElephantImages/ANIMAL NAMES AND SOUNDS for Kids Video Compilation - Learn Animal Names for Children & Toddlers101.png\n",
            "/content/drive/MyDrive/DataUnchanges/NonElephantImages/annot/ANIMAL NAMES AND SOUNDS for Kids Video Compilation - Learn Animal Names for Children & Toddlers101.txt\n",
            "ANIMAL NAMES AND SOUNDS for Kids Video Compilation - Learn Animal Names for Children & Toddlers102.png\n",
            "/content/drive/MyDrive/DataUnchanges/NonElephantImages/ANIMAL NAMES AND SOUNDS for Kids Video Compilation - Learn Animal Names for Children & Toddlers102.png\n",
            "/content/drive/MyDrive/DataUnchanges/NonElephantImages/annot/ANIMAL NAMES AND SOUNDS for Kids Video Compilation - Learn Animal Names for Children & Toddlers102.txt\n",
            "ANIMAL NAMES AND SOUNDS for Kids Video Compilation - Learn Animal Names for Children & Toddlers105.png\n",
            "/content/drive/MyDrive/DataUnchanges/NonElephantImages/ANIMAL NAMES AND SOUNDS for Kids Video Compilation - Learn Animal Names for Children & Toddlers105.png\n",
            "/content/drive/MyDrive/DataUnchanges/NonElephantImages/annot/ANIMAL NAMES AND SOUNDS for Kids Video Compilation - Learn Animal Names for Children & Toddlers105.txt\n",
            "ANIMAL NAMES AND SOUNDS for Kids Video Compilation - Learn Animal Names for Children & Toddlers108.png\n",
            "/content/drive/MyDrive/DataUnchanges/NonElephantImages/ANIMAL NAMES AND SOUNDS for Kids Video Compilation - Learn Animal Names for Children & Toddlers108.png\n",
            "/content/drive/MyDrive/DataUnchanges/NonElephantImages/annot/ANIMAL NAMES AND SOUNDS for Kids Video Compilation - Learn Animal Names for Children & Toddlers108.txt\n",
            "ANIMAL NAMES AND SOUNDS for Kids Video Compilation - Learn Animal Names for Children & Toddlers106.png\n",
            "/content/drive/MyDrive/DataUnchanges/NonElephantImages/ANIMAL NAMES AND SOUNDS for Kids Video Compilation - Learn Animal Names for Children & Toddlers106.png\n",
            "/content/drive/MyDrive/DataUnchanges/NonElephantImages/annot/ANIMAL NAMES AND SOUNDS for Kids Video Compilation - Learn Animal Names for Children & Toddlers106.txt\n",
            "ANIMAL NAMES AND SOUNDS for Kids Video Compilation - Learn Animal Names for Children & Toddlers107.png\n",
            "/content/drive/MyDrive/DataUnchanges/NonElephantImages/ANIMAL NAMES AND SOUNDS for Kids Video Compilation - Learn Animal Names for Children & Toddlers107.png\n",
            "/content/drive/MyDrive/DataUnchanges/NonElephantImages/annot/ANIMAL NAMES AND SOUNDS for Kids Video Compilation - Learn Animal Names for Children & Toddlers107.txt\n",
            "ANIMAL NAMES AND SOUNDS for Kids Video Compilation - Learn Animal Names for Children & Toddlers109.png\n",
            "/content/drive/MyDrive/DataUnchanges/NonElephantImages/ANIMAL NAMES AND SOUNDS for Kids Video Compilation - Learn Animal Names for Children & Toddlers109.png\n",
            "/content/drive/MyDrive/DataUnchanges/NonElephantImages/annot/ANIMAL NAMES AND SOUNDS for Kids Video Compilation - Learn Animal Names for Children & Toddlers109.txt\n",
            "ANIMAL NAMES AND SOUNDS for Kids Video Compilation - Learn Animal Names for Children & Toddlers112.png\n",
            "/content/drive/MyDrive/DataUnchanges/NonElephantImages/ANIMAL NAMES AND SOUNDS for Kids Video Compilation - Learn Animal Names for Children & Toddlers112.png\n",
            "/content/drive/MyDrive/DataUnchanges/NonElephantImages/annot/ANIMAL NAMES AND SOUNDS for Kids Video Compilation - Learn Animal Names for Children & Toddlers112.txt\n",
            "ANIMAL NAMES AND SOUNDS for Kids Video Compilation - Learn Animal Names for Children & Toddlers111.png\n",
            "/content/drive/MyDrive/DataUnchanges/NonElephantImages/ANIMAL NAMES AND SOUNDS for Kids Video Compilation - Learn Animal Names for Children & Toddlers111.png\n",
            "/content/drive/MyDrive/DataUnchanges/NonElephantImages/annot/ANIMAL NAMES AND SOUNDS for Kids Video Compilation - Learn Animal Names for Children & Toddlers111.txt\n",
            "ANIMAL NAMES AND SOUNDS for Kids Video Compilation - Learn Animal Names for Children & Toddlers110.png\n",
            "/content/drive/MyDrive/DataUnchanges/NonElephantImages/ANIMAL NAMES AND SOUNDS for Kids Video Compilation - Learn Animal Names for Children & Toddlers110.png\n",
            "/content/drive/MyDrive/DataUnchanges/NonElephantImages/annot/ANIMAL NAMES AND SOUNDS for Kids Video Compilation - Learn Animal Names for Children & Toddlers110.txt\n",
            "ANIMAL NAMES AND SOUNDS for Kids Video Compilation - Learn Animal Names for Children & Toddlers115.png\n",
            "/content/drive/MyDrive/DataUnchanges/NonElephantImages/ANIMAL NAMES AND SOUNDS for Kids Video Compilation - Learn Animal Names for Children & Toddlers115.png\n",
            "/content/drive/MyDrive/DataUnchanges/NonElephantImages/annot/ANIMAL NAMES AND SOUNDS for Kids Video Compilation - Learn Animal Names for Children & Toddlers115.txt\n",
            "ANIMAL NAMES AND SOUNDS for Kids Video Compilation - Learn Animal Names for Children & Toddlers114.png\n",
            "/content/drive/MyDrive/DataUnchanges/NonElephantImages/ANIMAL NAMES AND SOUNDS for Kids Video Compilation - Learn Animal Names for Children & Toddlers114.png\n",
            "/content/drive/MyDrive/DataUnchanges/NonElephantImages/annot/ANIMAL NAMES AND SOUNDS for Kids Video Compilation - Learn Animal Names for Children & Toddlers114.txt\n",
            "ANIMAL NAMES AND SOUNDS for Kids Video Compilation - Learn Animal Names for Children & Toddlers113.png\n",
            "/content/drive/MyDrive/DataUnchanges/NonElephantImages/ANIMAL NAMES AND SOUNDS for Kids Video Compilation - Learn Animal Names for Children & Toddlers113.png\n",
            "/content/drive/MyDrive/DataUnchanges/NonElephantImages/annot/ANIMAL NAMES AND SOUNDS for Kids Video Compilation - Learn Animal Names for Children & Toddlers113.txt\n",
            "ANIMAL NAMES AND SOUNDS for Kids Video Compilation - Learn Animal Names for Children & Toddlers116.png\n",
            "/content/drive/MyDrive/DataUnchanges/NonElephantImages/ANIMAL NAMES AND SOUNDS for Kids Video Compilation - Learn Animal Names for Children & Toddlers116.png\n",
            "/content/drive/MyDrive/DataUnchanges/NonElephantImages/annot/ANIMAL NAMES AND SOUNDS for Kids Video Compilation - Learn Animal Names for Children & Toddlers116.txt\n",
            "ANIMAL NAMES AND SOUNDS for Kids Video Compilation - Learn Animal Names for Children & Toddlers119.png\n",
            "/content/drive/MyDrive/DataUnchanges/NonElephantImages/ANIMAL NAMES AND SOUNDS for Kids Video Compilation - Learn Animal Names for Children & Toddlers119.png\n",
            "/content/drive/MyDrive/DataUnchanges/NonElephantImages/annot/ANIMAL NAMES AND SOUNDS for Kids Video Compilation - Learn Animal Names for Children & Toddlers119.txt\n",
            "ANIMAL NAMES AND SOUNDS for Kids Video Compilation - Learn Animal Names for Children & Toddlers120.png\n",
            "/content/drive/MyDrive/DataUnchanges/NonElephantImages/ANIMAL NAMES AND SOUNDS for Kids Video Compilation - Learn Animal Names for Children & Toddlers120.png\n",
            "/content/drive/MyDrive/DataUnchanges/NonElephantImages/annot/ANIMAL NAMES AND SOUNDS for Kids Video Compilation - Learn Animal Names for Children & Toddlers120.txt\n",
            "ANIMAL NAMES AND SOUNDS for Kids Video Compilation - Learn Animal Names for Children & Toddlers117.png\n",
            "/content/drive/MyDrive/DataUnchanges/NonElephantImages/ANIMAL NAMES AND SOUNDS for Kids Video Compilation - Learn Animal Names for Children & Toddlers117.png\n",
            "/content/drive/MyDrive/DataUnchanges/NonElephantImages/annot/ANIMAL NAMES AND SOUNDS for Kids Video Compilation - Learn Animal Names for Children & Toddlers117.txt\n",
            "ANIMAL NAMES AND SOUNDS for Kids Video Compilation - Learn Animal Names for Children & Toddlers118.png\n",
            "/content/drive/MyDrive/DataUnchanges/NonElephantImages/ANIMAL NAMES AND SOUNDS for Kids Video Compilation - Learn Animal Names for Children & Toddlers118.png\n",
            "/content/drive/MyDrive/DataUnchanges/NonElephantImages/annot/ANIMAL NAMES AND SOUNDS for Kids Video Compilation - Learn Animal Names for Children & Toddlers118.txt\n",
            "ANIMAL NAMES AND SOUNDS for Kids Video Compilation - Learn Animal Names for Children & Toddlers122.png\n",
            "/content/drive/MyDrive/DataUnchanges/NonElephantImages/ANIMAL NAMES AND SOUNDS for Kids Video Compilation - Learn Animal Names for Children & Toddlers122.png\n",
            "/content/drive/MyDrive/DataUnchanges/NonElephantImages/annot/ANIMAL NAMES AND SOUNDS for Kids Video Compilation - Learn Animal Names for Children & Toddlers122.txt\n",
            "ANIMAL NAMES AND SOUNDS for Kids Video Compilation - Learn Animal Names for Children & Toddlers124.png\n",
            "/content/drive/MyDrive/DataUnchanges/NonElephantImages/ANIMAL NAMES AND SOUNDS for Kids Video Compilation - Learn Animal Names for Children & Toddlers124.png\n",
            "/content/drive/MyDrive/DataUnchanges/NonElephantImages/annot/ANIMAL NAMES AND SOUNDS for Kids Video Compilation - Learn Animal Names for Children & Toddlers124.txt\n",
            "ANIMAL NAMES AND SOUNDS for Kids Video Compilation - Learn Animal Names for Children & Toddlers121.png\n",
            "/content/drive/MyDrive/DataUnchanges/NonElephantImages/ANIMAL NAMES AND SOUNDS for Kids Video Compilation - Learn Animal Names for Children & Toddlers121.png\n",
            "/content/drive/MyDrive/DataUnchanges/NonElephantImages/annot/ANIMAL NAMES AND SOUNDS for Kids Video Compilation - Learn Animal Names for Children & Toddlers121.txt\n",
            "ANIMAL NAMES AND SOUNDS for Kids Video Compilation - Learn Animal Names for Children & Toddlers123.png\n",
            "/content/drive/MyDrive/DataUnchanges/NonElephantImages/ANIMAL NAMES AND SOUNDS for Kids Video Compilation - Learn Animal Names for Children & Toddlers123.png\n",
            "/content/drive/MyDrive/DataUnchanges/NonElephantImages/annot/ANIMAL NAMES AND SOUNDS for Kids Video Compilation - Learn Animal Names for Children & Toddlers123.txt\n",
            "ANIMAL NAMES AND SOUNDS for Kids Video Compilation - Learn Animal Names for Children & Toddlers125.png\n",
            "/content/drive/MyDrive/DataUnchanges/NonElephantImages/ANIMAL NAMES AND SOUNDS for Kids Video Compilation - Learn Animal Names for Children & Toddlers125.png\n",
            "/content/drive/MyDrive/DataUnchanges/NonElephantImages/annot/ANIMAL NAMES AND SOUNDS for Kids Video Compilation - Learn Animal Names for Children & Toddlers125.txt\n",
            "ANIMAL NAMES AND SOUNDS for Kids Video Compilation - Learn Animal Names for Children & Toddlers127.png\n",
            "/content/drive/MyDrive/DataUnchanges/NonElephantImages/ANIMAL NAMES AND SOUNDS for Kids Video Compilation - Learn Animal Names for Children & Toddlers127.png\n",
            "/content/drive/MyDrive/DataUnchanges/NonElephantImages/annot/ANIMAL NAMES AND SOUNDS for Kids Video Compilation - Learn Animal Names for Children & Toddlers127.txt\n",
            "ANIMAL NAMES AND SOUNDS for Kids Video Compilation - Learn Animal Names for Children & Toddlers126.png\n",
            "/content/drive/MyDrive/DataUnchanges/NonElephantImages/ANIMAL NAMES AND SOUNDS for Kids Video Compilation - Learn Animal Names for Children & Toddlers126.png\n",
            "/content/drive/MyDrive/DataUnchanges/NonElephantImages/annot/ANIMAL NAMES AND SOUNDS for Kids Video Compilation - Learn Animal Names for Children & Toddlers126.txt\n",
            "ANIMAL NAMES AND SOUNDS for Kids Video Compilation - Learn Animal Names for Children & Toddlers128.png\n",
            "/content/drive/MyDrive/DataUnchanges/NonElephantImages/ANIMAL NAMES AND SOUNDS for Kids Video Compilation - Learn Animal Names for Children & Toddlers128.png\n",
            "/content/drive/MyDrive/DataUnchanges/NonElephantImages/annot/ANIMAL NAMES AND SOUNDS for Kids Video Compilation - Learn Animal Names for Children & Toddlers128.txt\n",
            "ANIMAL NAMES AND SOUNDS for Kids Video Compilation - Learn Animal Names for Children & Toddlers131.png\n",
            "/content/drive/MyDrive/DataUnchanges/NonElephantImages/ANIMAL NAMES AND SOUNDS for Kids Video Compilation - Learn Animal Names for Children & Toddlers131.png\n",
            "/content/drive/MyDrive/DataUnchanges/NonElephantImages/annot/ANIMAL NAMES AND SOUNDS for Kids Video Compilation - Learn Animal Names for Children & Toddlers131.txt\n",
            "ANIMAL NAMES AND SOUNDS for Kids Video Compilation - Learn Animal Names for Children & Toddlers129.png\n",
            "/content/drive/MyDrive/DataUnchanges/NonElephantImages/ANIMAL NAMES AND SOUNDS for Kids Video Compilation - Learn Animal Names for Children & Toddlers129.png\n",
            "/content/drive/MyDrive/DataUnchanges/NonElephantImages/annot/ANIMAL NAMES AND SOUNDS for Kids Video Compilation - Learn Animal Names for Children & Toddlers129.txt\n",
            "ANIMAL NAMES AND SOUNDS for Kids Video Compilation - Learn Animal Names for Children & Toddlers130.png\n",
            "/content/drive/MyDrive/DataUnchanges/NonElephantImages/ANIMAL NAMES AND SOUNDS for Kids Video Compilation - Learn Animal Names for Children & Toddlers130.png\n",
            "/content/drive/MyDrive/DataUnchanges/NonElephantImages/annot/ANIMAL NAMES AND SOUNDS for Kids Video Compilation - Learn Animal Names for Children & Toddlers130.txt\n",
            "ANIMAL NAMES AND SOUNDS for Kids Video Compilation - Learn Animal Names for Children & Toddlers132.png\n",
            "/content/drive/MyDrive/DataUnchanges/NonElephantImages/ANIMAL NAMES AND SOUNDS for Kids Video Compilation - Learn Animal Names for Children & Toddlers132.png\n",
            "/content/drive/MyDrive/DataUnchanges/NonElephantImages/annot/ANIMAL NAMES AND SOUNDS for Kids Video Compilation - Learn Animal Names for Children & Toddlers132.txt\n",
            "ANIMAL NAMES AND SOUNDS for Kids Video Compilation - Learn Animal Names for Children & Toddlers135.png\n",
            "/content/drive/MyDrive/DataUnchanges/NonElephantImages/ANIMAL NAMES AND SOUNDS for Kids Video Compilation - Learn Animal Names for Children & Toddlers135.png\n",
            "/content/drive/MyDrive/DataUnchanges/NonElephantImages/annot/ANIMAL NAMES AND SOUNDS for Kids Video Compilation - Learn Animal Names for Children & Toddlers135.txt\n",
            "ANIMAL NAMES AND SOUNDS for Kids Video Compilation - Learn Animal Names for Children & Toddlers133.png\n",
            "/content/drive/MyDrive/DataUnchanges/NonElephantImages/ANIMAL NAMES AND SOUNDS for Kids Video Compilation - Learn Animal Names for Children & Toddlers133.png\n",
            "/content/drive/MyDrive/DataUnchanges/NonElephantImages/annot/ANIMAL NAMES AND SOUNDS for Kids Video Compilation - Learn Animal Names for Children & Toddlers133.txt\n",
            "ANIMAL NAMES AND SOUNDS for Kids Video Compilation - Learn Animal Names for Children & Toddlers134.png\n",
            "/content/drive/MyDrive/DataUnchanges/NonElephantImages/ANIMAL NAMES AND SOUNDS for Kids Video Compilation - Learn Animal Names for Children & Toddlers134.png\n",
            "/content/drive/MyDrive/DataUnchanges/NonElephantImages/annot/ANIMAL NAMES AND SOUNDS for Kids Video Compilation - Learn Animal Names for Children & Toddlers134.txt\n",
            "ANIMAL NAMES AND SOUNDS for Kids Video Compilation - Learn Animal Names for Children & Toddlers136.png\n",
            "/content/drive/MyDrive/DataUnchanges/NonElephantImages/ANIMAL NAMES AND SOUNDS for Kids Video Compilation - Learn Animal Names for Children & Toddlers136.png\n",
            "/content/drive/MyDrive/DataUnchanges/NonElephantImages/annot/ANIMAL NAMES AND SOUNDS for Kids Video Compilation - Learn Animal Names for Children & Toddlers136.txt\n",
            "ANIMAL NAMES AND SOUNDS for Kids Video Compilation - Learn Animal Names for Children & Toddlers137.png\n",
            "/content/drive/MyDrive/DataUnchanges/NonElephantImages/ANIMAL NAMES AND SOUNDS for Kids Video Compilation - Learn Animal Names for Children & Toddlers137.png\n",
            "/content/drive/MyDrive/DataUnchanges/NonElephantImages/annot/ANIMAL NAMES AND SOUNDS for Kids Video Compilation - Learn Animal Names for Children & Toddlers137.txt\n",
            "ANIMAL NAMES AND SOUNDS for Kids Video Compilation - Learn Animal Names for Children & Toddlers140.png\n",
            "/content/drive/MyDrive/DataUnchanges/NonElephantImages/ANIMAL NAMES AND SOUNDS for Kids Video Compilation - Learn Animal Names for Children & Toddlers140.png\n",
            "/content/drive/MyDrive/DataUnchanges/NonElephantImages/annot/ANIMAL NAMES AND SOUNDS for Kids Video Compilation - Learn Animal Names for Children & Toddlers140.txt\n",
            "ANIMAL NAMES AND SOUNDS for Kids Video Compilation - Learn Animal Names for Children & Toddlers139.png\n",
            "/content/drive/MyDrive/DataUnchanges/NonElephantImages/ANIMAL NAMES AND SOUNDS for Kids Video Compilation - Learn Animal Names for Children & Toddlers139.png\n",
            "/content/drive/MyDrive/DataUnchanges/NonElephantImages/annot/ANIMAL NAMES AND SOUNDS for Kids Video Compilation - Learn Animal Names for Children & Toddlers139.txt\n",
            "ANIMAL NAMES AND SOUNDS for Kids Video Compilation - Learn Animal Names for Children & Toddlers138.png\n",
            "/content/drive/MyDrive/DataUnchanges/NonElephantImages/ANIMAL NAMES AND SOUNDS for Kids Video Compilation - Learn Animal Names for Children & Toddlers138.png\n",
            "/content/drive/MyDrive/DataUnchanges/NonElephantImages/annot/ANIMAL NAMES AND SOUNDS for Kids Video Compilation - Learn Animal Names for Children & Toddlers138.txt\n",
            "ANIMAL NAMES AND SOUNDS for Kids Video Compilation - Learn Animal Names for Children & Toddlers143.png\n",
            "/content/drive/MyDrive/DataUnchanges/NonElephantImages/ANIMAL NAMES AND SOUNDS for Kids Video Compilation - Learn Animal Names for Children & Toddlers143.png\n",
            "/content/drive/MyDrive/DataUnchanges/NonElephantImages/annot/ANIMAL NAMES AND SOUNDS for Kids Video Compilation - Learn Animal Names for Children & Toddlers143.txt\n",
            "ANIMAL NAMES AND SOUNDS for Kids Video Compilation - Learn Animal Names for Children & Toddlers144.png\n",
            "/content/drive/MyDrive/DataUnchanges/NonElephantImages/ANIMAL NAMES AND SOUNDS for Kids Video Compilation - Learn Animal Names for Children & Toddlers144.png\n",
            "/content/drive/MyDrive/DataUnchanges/NonElephantImages/annot/ANIMAL NAMES AND SOUNDS for Kids Video Compilation - Learn Animal Names for Children & Toddlers144.txt\n",
            "ANIMAL NAMES AND SOUNDS for Kids Video Compilation - Learn Animal Names for Children & Toddlers146.png\n",
            "/content/drive/MyDrive/DataUnchanges/NonElephantImages/ANIMAL NAMES AND SOUNDS for Kids Video Compilation - Learn Animal Names for Children & Toddlers146.png\n",
            "/content/drive/MyDrive/DataUnchanges/NonElephantImages/annot/ANIMAL NAMES AND SOUNDS for Kids Video Compilation - Learn Animal Names for Children & Toddlers146.txt\n",
            "ANIMAL NAMES AND SOUNDS for Kids Video Compilation - Learn Animal Names for Children & Toddlers147.png\n",
            "/content/drive/MyDrive/DataUnchanges/NonElephantImages/ANIMAL NAMES AND SOUNDS for Kids Video Compilation - Learn Animal Names for Children & Toddlers147.png\n",
            "/content/drive/MyDrive/DataUnchanges/NonElephantImages/annot/ANIMAL NAMES AND SOUNDS for Kids Video Compilation - Learn Animal Names for Children & Toddlers147.txt\n",
            "ANIMAL NAMES AND SOUNDS for Kids Video Compilation - Learn Animal Names for Children & Toddlers141.png\n",
            "/content/drive/MyDrive/DataUnchanges/NonElephantImages/ANIMAL NAMES AND SOUNDS for Kids Video Compilation - Learn Animal Names for Children & Toddlers141.png\n",
            "/content/drive/MyDrive/DataUnchanges/NonElephantImages/annot/ANIMAL NAMES AND SOUNDS for Kids Video Compilation - Learn Animal Names for Children & Toddlers141.txt\n",
            "ANIMAL NAMES AND SOUNDS for Kids Video Compilation - Learn Animal Names for Children & Toddlers142.png\n",
            "/content/drive/MyDrive/DataUnchanges/NonElephantImages/ANIMAL NAMES AND SOUNDS for Kids Video Compilation - Learn Animal Names for Children & Toddlers142.png\n",
            "/content/drive/MyDrive/DataUnchanges/NonElephantImages/annot/ANIMAL NAMES AND SOUNDS for Kids Video Compilation - Learn Animal Names for Children & Toddlers142.txt\n",
            "ANIMAL NAMES AND SOUNDS for Kids Video Compilation - Learn Animal Names for Children & Toddlers145.png\n",
            "/content/drive/MyDrive/DataUnchanges/NonElephantImages/ANIMAL NAMES AND SOUNDS for Kids Video Compilation - Learn Animal Names for Children & Toddlers145.png\n",
            "/content/drive/MyDrive/DataUnchanges/NonElephantImages/annot/ANIMAL NAMES AND SOUNDS for Kids Video Compilation - Learn Animal Names for Children & Toddlers145.txt\n",
            "ANIMAL NAMES AND SOUNDS for Kids Video Compilation - Learn Animal Names for Children & Toddlers154.png\n",
            "/content/drive/MyDrive/DataUnchanges/NonElephantImages/ANIMAL NAMES AND SOUNDS for Kids Video Compilation - Learn Animal Names for Children & Toddlers154.png\n",
            "/content/drive/MyDrive/DataUnchanges/NonElephantImages/annot/ANIMAL NAMES AND SOUNDS for Kids Video Compilation - Learn Animal Names for Children & Toddlers154.txt\n",
            "ANIMAL NAMES AND SOUNDS for Kids Video Compilation - Learn Animal Names for Children & Toddlers152.png\n",
            "/content/drive/MyDrive/DataUnchanges/NonElephantImages/ANIMAL NAMES AND SOUNDS for Kids Video Compilation - Learn Animal Names for Children & Toddlers152.png\n",
            "/content/drive/MyDrive/DataUnchanges/NonElephantImages/annot/ANIMAL NAMES AND SOUNDS for Kids Video Compilation - Learn Animal Names for Children & Toddlers152.txt\n",
            "ANIMAL NAMES AND SOUNDS for Kids Video Compilation - Learn Animal Names for Children & Toddlers149.png\n",
            "/content/drive/MyDrive/DataUnchanges/NonElephantImages/ANIMAL NAMES AND SOUNDS for Kids Video Compilation - Learn Animal Names for Children & Toddlers149.png\n",
            "/content/drive/MyDrive/DataUnchanges/NonElephantImages/annot/ANIMAL NAMES AND SOUNDS for Kids Video Compilation - Learn Animal Names for Children & Toddlers149.txt\n",
            "ANIMAL NAMES AND SOUNDS for Kids Video Compilation - Learn Animal Names for Children & Toddlers148.png\n",
            "/content/drive/MyDrive/DataUnchanges/NonElephantImages/ANIMAL NAMES AND SOUNDS for Kids Video Compilation - Learn Animal Names for Children & Toddlers148.png\n",
            "/content/drive/MyDrive/DataUnchanges/NonElephantImages/annot/ANIMAL NAMES AND SOUNDS for Kids Video Compilation - Learn Animal Names for Children & Toddlers148.txt\n",
            "ANIMAL NAMES AND SOUNDS for Kids Video Compilation - Learn Animal Names for Children & Toddlers151.png\n",
            "/content/drive/MyDrive/DataUnchanges/NonElephantImages/ANIMAL NAMES AND SOUNDS for Kids Video Compilation - Learn Animal Names for Children & Toddlers151.png\n",
            "/content/drive/MyDrive/DataUnchanges/NonElephantImages/annot/ANIMAL NAMES AND SOUNDS for Kids Video Compilation - Learn Animal Names for Children & Toddlers151.txt\n",
            "ANIMAL NAMES AND SOUNDS for Kids Video Compilation - Learn Animal Names for Children & Toddlers153.png\n",
            "/content/drive/MyDrive/DataUnchanges/NonElephantImages/ANIMAL NAMES AND SOUNDS for Kids Video Compilation - Learn Animal Names for Children & Toddlers153.png\n",
            "/content/drive/MyDrive/DataUnchanges/NonElephantImages/annot/ANIMAL NAMES AND SOUNDS for Kids Video Compilation - Learn Animal Names for Children & Toddlers153.txt\n",
            "ANIMAL NAMES AND SOUNDS for Kids Video Compilation - Learn Animal Names for Children & Toddlers150.png\n",
            "/content/drive/MyDrive/DataUnchanges/NonElephantImages/ANIMAL NAMES AND SOUNDS for Kids Video Compilation - Learn Animal Names for Children & Toddlers150.png\n",
            "/content/drive/MyDrive/DataUnchanges/NonElephantImages/annot/ANIMAL NAMES AND SOUNDS for Kids Video Compilation - Learn Animal Names for Children & Toddlers150.txt\n",
            "ANIMAL NAMES AND SOUNDS for Kids Video Compilation - Learn Animal Names for Children & Toddlers158.png\n",
            "/content/drive/MyDrive/DataUnchanges/NonElephantImages/ANIMAL NAMES AND SOUNDS for Kids Video Compilation - Learn Animal Names for Children & Toddlers158.png\n",
            "/content/drive/MyDrive/DataUnchanges/NonElephantImages/annot/ANIMAL NAMES AND SOUNDS for Kids Video Compilation - Learn Animal Names for Children & Toddlers158.txt\n",
            "ANIMAL NAMES AND SOUNDS for Kids Video Compilation - Learn Animal Names for Children & Toddlers156.png\n",
            "/content/drive/MyDrive/DataUnchanges/NonElephantImages/ANIMAL NAMES AND SOUNDS for Kids Video Compilation - Learn Animal Names for Children & Toddlers156.png\n",
            "/content/drive/MyDrive/DataUnchanges/NonElephantImages/annot/ANIMAL NAMES AND SOUNDS for Kids Video Compilation - Learn Animal Names for Children & Toddlers156.txt\n",
            "ANIMAL NAMES AND SOUNDS for Kids Video Compilation - Learn Animal Names for Children & Toddlers159.png\n",
            "/content/drive/MyDrive/DataUnchanges/NonElephantImages/ANIMAL NAMES AND SOUNDS for Kids Video Compilation - Learn Animal Names for Children & Toddlers159.png\n",
            "/content/drive/MyDrive/DataUnchanges/NonElephantImages/annot/ANIMAL NAMES AND SOUNDS for Kids Video Compilation - Learn Animal Names for Children & Toddlers159.txt\n",
            "ANIMAL NAMES AND SOUNDS for Kids Video Compilation - Learn Animal Names for Children & Toddlers157.png\n",
            "/content/drive/MyDrive/DataUnchanges/NonElephantImages/ANIMAL NAMES AND SOUNDS for Kids Video Compilation - Learn Animal Names for Children & Toddlers157.png\n",
            "/content/drive/MyDrive/DataUnchanges/NonElephantImages/annot/ANIMAL NAMES AND SOUNDS for Kids Video Compilation - Learn Animal Names for Children & Toddlers157.txt\n",
            "ANIMAL NAMES AND SOUNDS for Kids Video Compilation - Learn Animal Names for Children & Toddlers160.png\n",
            "/content/drive/MyDrive/DataUnchanges/NonElephantImages/ANIMAL NAMES AND SOUNDS for Kids Video Compilation - Learn Animal Names for Children & Toddlers160.png\n",
            "/content/drive/MyDrive/DataUnchanges/NonElephantImages/annot/ANIMAL NAMES AND SOUNDS for Kids Video Compilation - Learn Animal Names for Children & Toddlers160.txt\n",
            "ANIMAL NAMES AND SOUNDS for Kids Video Compilation - Learn Animal Names for Children & Toddlers155.png\n",
            "/content/drive/MyDrive/DataUnchanges/NonElephantImages/ANIMAL NAMES AND SOUNDS for Kids Video Compilation - Learn Animal Names for Children & Toddlers155.png\n",
            "/content/drive/MyDrive/DataUnchanges/NonElephantImages/annot/ANIMAL NAMES AND SOUNDS for Kids Video Compilation - Learn Animal Names for Children & Toddlers155.txt\n",
            "ANIMAL NAMES AND SOUNDS for Kids Video Compilation - Learn Animal Names for Children & Toddlers167.png\n",
            "/content/drive/MyDrive/DataUnchanges/NonElephantImages/ANIMAL NAMES AND SOUNDS for Kids Video Compilation - Learn Animal Names for Children & Toddlers167.png\n",
            "/content/drive/MyDrive/DataUnchanges/NonElephantImages/annot/ANIMAL NAMES AND SOUNDS for Kids Video Compilation - Learn Animal Names for Children & Toddlers167.txt\n",
            "ANIMAL NAMES AND SOUNDS for Kids Video Compilation - Learn Animal Names for Children & Toddlers165.png\n",
            "/content/drive/MyDrive/DataUnchanges/NonElephantImages/ANIMAL NAMES AND SOUNDS for Kids Video Compilation - Learn Animal Names for Children & Toddlers165.png\n",
            "/content/drive/MyDrive/DataUnchanges/NonElephantImages/annot/ANIMAL NAMES AND SOUNDS for Kids Video Compilation - Learn Animal Names for Children & Toddlers165.txt\n",
            "ANIMAL NAMES AND SOUNDS for Kids Video Compilation - Learn Animal Names for Children & Toddlers164.png\n",
            "/content/drive/MyDrive/DataUnchanges/NonElephantImages/ANIMAL NAMES AND SOUNDS for Kids Video Compilation - Learn Animal Names for Children & Toddlers164.png\n",
            "/content/drive/MyDrive/DataUnchanges/NonElephantImages/annot/ANIMAL NAMES AND SOUNDS for Kids Video Compilation - Learn Animal Names for Children & Toddlers164.txt\n",
            "ANIMAL NAMES AND SOUNDS for Kids Video Compilation - Learn Animal Names for Children & Toddlers162.png\n",
            "/content/drive/MyDrive/DataUnchanges/NonElephantImages/ANIMAL NAMES AND SOUNDS for Kids Video Compilation - Learn Animal Names for Children & Toddlers162.png\n",
            "/content/drive/MyDrive/DataUnchanges/NonElephantImages/annot/ANIMAL NAMES AND SOUNDS for Kids Video Compilation - Learn Animal Names for Children & Toddlers162.txt\n",
            "ANIMAL NAMES AND SOUNDS for Kids Video Compilation - Learn Animal Names for Children & Toddlers166.png\n",
            "/content/drive/MyDrive/DataUnchanges/NonElephantImages/ANIMAL NAMES AND SOUNDS for Kids Video Compilation - Learn Animal Names for Children & Toddlers166.png\n",
            "/content/drive/MyDrive/DataUnchanges/NonElephantImages/annot/ANIMAL NAMES AND SOUNDS for Kids Video Compilation - Learn Animal Names for Children & Toddlers166.txt\n",
            "ANIMAL NAMES AND SOUNDS for Kids Video Compilation - Learn Animal Names for Children & Toddlers163.png\n",
            "/content/drive/MyDrive/DataUnchanges/NonElephantImages/ANIMAL NAMES AND SOUNDS for Kids Video Compilation - Learn Animal Names for Children & Toddlers163.png\n",
            "/content/drive/MyDrive/DataUnchanges/NonElephantImages/annot/ANIMAL NAMES AND SOUNDS for Kids Video Compilation - Learn Animal Names for Children & Toddlers163.txt\n",
            "ANIMAL NAMES AND SOUNDS for Kids Video Compilation - Learn Animal Names for Children & Toddlers161.png\n",
            "/content/drive/MyDrive/DataUnchanges/NonElephantImages/ANIMAL NAMES AND SOUNDS for Kids Video Compilation - Learn Animal Names for Children & Toddlers161.png\n",
            "/content/drive/MyDrive/DataUnchanges/NonElephantImages/annot/ANIMAL NAMES AND SOUNDS for Kids Video Compilation - Learn Animal Names for Children & Toddlers161.txt\n",
            "ANIMAL NAMES AND SOUNDS for Kids Video Compilation - Learn Animal Names for Children & Toddlers169.png\n",
            "/content/drive/MyDrive/DataUnchanges/NonElephantImages/ANIMAL NAMES AND SOUNDS for Kids Video Compilation - Learn Animal Names for Children & Toddlers169.png\n",
            "/content/drive/MyDrive/DataUnchanges/NonElephantImages/annot/ANIMAL NAMES AND SOUNDS for Kids Video Compilation - Learn Animal Names for Children & Toddlers169.txt\n",
            "ANIMAL NAMES AND SOUNDS for Kids Video Compilation - Learn Animal Names for Children & Toddlers168.png\n",
            "/content/drive/MyDrive/DataUnchanges/NonElephantImages/ANIMAL NAMES AND SOUNDS for Kids Video Compilation - Learn Animal Names for Children & Toddlers168.png\n",
            "/content/drive/MyDrive/DataUnchanges/NonElephantImages/annot/ANIMAL NAMES AND SOUNDS for Kids Video Compilation - Learn Animal Names for Children & Toddlers168.txt\n",
            "ANIMAL NAMES AND SOUNDS for Kids Video Compilation - Learn Animal Names for Children & Toddlers171.png\n",
            "/content/drive/MyDrive/DataUnchanges/NonElephantImages/ANIMAL NAMES AND SOUNDS for Kids Video Compilation - Learn Animal Names for Children & Toddlers171.png\n",
            "/content/drive/MyDrive/DataUnchanges/NonElephantImages/annot/ANIMAL NAMES AND SOUNDS for Kids Video Compilation - Learn Animal Names for Children & Toddlers171.txt\n",
            "ANIMAL NAMES AND SOUNDS for Kids Video Compilation - Learn Animal Names for Children & Toddlers170.png\n",
            "/content/drive/MyDrive/DataUnchanges/NonElephantImages/ANIMAL NAMES AND SOUNDS for Kids Video Compilation - Learn Animal Names for Children & Toddlers170.png\n",
            "/content/drive/MyDrive/DataUnchanges/NonElephantImages/annot/ANIMAL NAMES AND SOUNDS for Kids Video Compilation - Learn Animal Names for Children & Toddlers170.txt\n",
            "ANIMAL NAMES AND SOUNDS for Kids Video Compilation - Learn Animal Names for Children & Toddlers172.png\n",
            "/content/drive/MyDrive/DataUnchanges/NonElephantImages/ANIMAL NAMES AND SOUNDS for Kids Video Compilation - Learn Animal Names for Children & Toddlers172.png\n",
            "/content/drive/MyDrive/DataUnchanges/NonElephantImages/annot/ANIMAL NAMES AND SOUNDS for Kids Video Compilation - Learn Animal Names for Children & Toddlers172.txt\n",
            "ANIMAL NAMES AND SOUNDS for Kids Video Compilation - Learn Animal Names for Children & Toddlers178.png\n",
            "/content/drive/MyDrive/DataUnchanges/NonElephantImages/ANIMAL NAMES AND SOUNDS for Kids Video Compilation - Learn Animal Names for Children & Toddlers178.png\n",
            "/content/drive/MyDrive/DataUnchanges/NonElephantImages/annot/ANIMAL NAMES AND SOUNDS for Kids Video Compilation - Learn Animal Names for Children & Toddlers178.txt\n",
            "ANIMAL NAMES AND SOUNDS for Kids Video Compilation - Learn Animal Names for Children & Toddlers174.png\n",
            "/content/drive/MyDrive/DataUnchanges/NonElephantImages/ANIMAL NAMES AND SOUNDS for Kids Video Compilation - Learn Animal Names for Children & Toddlers174.png\n",
            "/content/drive/MyDrive/DataUnchanges/NonElephantImages/annot/ANIMAL NAMES AND SOUNDS for Kids Video Compilation - Learn Animal Names for Children & Toddlers174.txt\n",
            "ANIMAL NAMES AND SOUNDS for Kids Video Compilation - Learn Animal Names for Children & Toddlers173.png\n",
            "/content/drive/MyDrive/DataUnchanges/NonElephantImages/ANIMAL NAMES AND SOUNDS for Kids Video Compilation - Learn Animal Names for Children & Toddlers173.png\n",
            "/content/drive/MyDrive/DataUnchanges/NonElephantImages/annot/ANIMAL NAMES AND SOUNDS for Kids Video Compilation - Learn Animal Names for Children & Toddlers173.txt\n",
            "ANIMAL NAMES AND SOUNDS for Kids Video Compilation - Learn Animal Names for Children & Toddlers177.png\n",
            "/content/drive/MyDrive/DataUnchanges/NonElephantImages/ANIMAL NAMES AND SOUNDS for Kids Video Compilation - Learn Animal Names for Children & Toddlers177.png\n",
            "/content/drive/MyDrive/DataUnchanges/NonElephantImages/annot/ANIMAL NAMES AND SOUNDS for Kids Video Compilation - Learn Animal Names for Children & Toddlers177.txt\n",
            "ANIMAL NAMES AND SOUNDS for Kids Video Compilation - Learn Animal Names for Children & Toddlers175.png\n",
            "/content/drive/MyDrive/DataUnchanges/NonElephantImages/ANIMAL NAMES AND SOUNDS for Kids Video Compilation - Learn Animal Names for Children & Toddlers175.png\n",
            "/content/drive/MyDrive/DataUnchanges/NonElephantImages/annot/ANIMAL NAMES AND SOUNDS for Kids Video Compilation - Learn Animal Names for Children & Toddlers175.txt\n",
            "ANIMAL NAMES AND SOUNDS for Kids Video Compilation - Learn Animal Names for Children & Toddlers176.png\n",
            "/content/drive/MyDrive/DataUnchanges/NonElephantImages/ANIMAL NAMES AND SOUNDS for Kids Video Compilation - Learn Animal Names for Children & Toddlers176.png\n",
            "/content/drive/MyDrive/DataUnchanges/NonElephantImages/annot/ANIMAL NAMES AND SOUNDS for Kids Video Compilation - Learn Animal Names for Children & Toddlers176.txt\n",
            "ANIMAL NAMES AND SOUNDS for Kids Video Compilation - Learn Animal Names for Children & Toddlers181.png\n",
            "/content/drive/MyDrive/DataUnchanges/NonElephantImages/ANIMAL NAMES AND SOUNDS for Kids Video Compilation - Learn Animal Names for Children & Toddlers181.png\n",
            "/content/drive/MyDrive/DataUnchanges/NonElephantImages/annot/ANIMAL NAMES AND SOUNDS for Kids Video Compilation - Learn Animal Names for Children & Toddlers181.txt\n",
            "ANIMAL NAMES AND SOUNDS for Kids Video Compilation - Learn Animal Names for Children & Toddlers179.png\n",
            "/content/drive/MyDrive/DataUnchanges/NonElephantImages/ANIMAL NAMES AND SOUNDS for Kids Video Compilation - Learn Animal Names for Children & Toddlers179.png\n",
            "/content/drive/MyDrive/DataUnchanges/NonElephantImages/annot/ANIMAL NAMES AND SOUNDS for Kids Video Compilation - Learn Animal Names for Children & Toddlers179.txt\n",
            "ANIMAL NAMES AND SOUNDS for Kids Video Compilation - Learn Animal Names for Children & Toddlers184.png\n",
            "/content/drive/MyDrive/DataUnchanges/NonElephantImages/ANIMAL NAMES AND SOUNDS for Kids Video Compilation - Learn Animal Names for Children & Toddlers184.png\n",
            "/content/drive/MyDrive/DataUnchanges/NonElephantImages/annot/ANIMAL NAMES AND SOUNDS for Kids Video Compilation - Learn Animal Names for Children & Toddlers184.txt\n",
            "ANIMAL NAMES AND SOUNDS for Kids Video Compilation - Learn Animal Names for Children & Toddlers186.png\n",
            "/content/drive/MyDrive/DataUnchanges/NonElephantImages/ANIMAL NAMES AND SOUNDS for Kids Video Compilation - Learn Animal Names for Children & Toddlers186.png\n",
            "/content/drive/MyDrive/DataUnchanges/NonElephantImages/annot/ANIMAL NAMES AND SOUNDS for Kids Video Compilation - Learn Animal Names for Children & Toddlers186.txt\n",
            "ANIMAL NAMES AND SOUNDS for Kids Video Compilation - Learn Animal Names for Children & Toddlers183.png\n",
            "/content/drive/MyDrive/DataUnchanges/NonElephantImages/ANIMAL NAMES AND SOUNDS for Kids Video Compilation - Learn Animal Names for Children & Toddlers183.png\n",
            "/content/drive/MyDrive/DataUnchanges/NonElephantImages/annot/ANIMAL NAMES AND SOUNDS for Kids Video Compilation - Learn Animal Names for Children & Toddlers183.txt\n",
            "ANIMAL NAMES AND SOUNDS for Kids Video Compilation - Learn Animal Names for Children & Toddlers185.png\n",
            "/content/drive/MyDrive/DataUnchanges/NonElephantImages/ANIMAL NAMES AND SOUNDS for Kids Video Compilation - Learn Animal Names for Children & Toddlers185.png\n",
            "/content/drive/MyDrive/DataUnchanges/NonElephantImages/annot/ANIMAL NAMES AND SOUNDS for Kids Video Compilation - Learn Animal Names for Children & Toddlers185.txt\n",
            "ANIMAL NAMES AND SOUNDS for Kids Video Compilation - Learn Animal Names for Children & Toddlers180.png\n",
            "/content/drive/MyDrive/DataUnchanges/NonElephantImages/ANIMAL NAMES AND SOUNDS for Kids Video Compilation - Learn Animal Names for Children & Toddlers180.png\n",
            "/content/drive/MyDrive/DataUnchanges/NonElephantImages/annot/ANIMAL NAMES AND SOUNDS for Kids Video Compilation - Learn Animal Names for Children & Toddlers180.txt\n",
            "ANIMAL NAMES AND SOUNDS for Kids Video Compilation - Learn Animal Names for Children & Toddlers182.png\n",
            "/content/drive/MyDrive/DataUnchanges/NonElephantImages/ANIMAL NAMES AND SOUNDS for Kids Video Compilation - Learn Animal Names for Children & Toddlers182.png\n",
            "/content/drive/MyDrive/DataUnchanges/NonElephantImages/annot/ANIMAL NAMES AND SOUNDS for Kids Video Compilation - Learn Animal Names for Children & Toddlers182.txt\n",
            "ANIMAL NAMES AND SOUNDS for Kids Video Compilation - Learn Animal Names for Children & Toddlers189.png\n",
            "/content/drive/MyDrive/DataUnchanges/NonElephantImages/ANIMAL NAMES AND SOUNDS for Kids Video Compilation - Learn Animal Names for Children & Toddlers189.png\n",
            "/content/drive/MyDrive/DataUnchanges/NonElephantImages/annot/ANIMAL NAMES AND SOUNDS for Kids Video Compilation - Learn Animal Names for Children & Toddlers189.txt\n",
            "ANIMAL NAMES AND SOUNDS for Kids Video Compilation - Learn Animal Names for Children & Toddlers187.png\n",
            "/content/drive/MyDrive/DataUnchanges/NonElephantImages/ANIMAL NAMES AND SOUNDS for Kids Video Compilation - Learn Animal Names for Children & Toddlers187.png\n",
            "/content/drive/MyDrive/DataUnchanges/NonElephantImages/annot/ANIMAL NAMES AND SOUNDS for Kids Video Compilation - Learn Animal Names for Children & Toddlers187.txt\n",
            "ANIMAL NAMES AND SOUNDS for Kids Video Compilation - Learn Animal Names for Children & Toddlers191.png\n",
            "/content/drive/MyDrive/DataUnchanges/NonElephantImages/ANIMAL NAMES AND SOUNDS for Kids Video Compilation - Learn Animal Names for Children & Toddlers191.png\n",
            "/content/drive/MyDrive/DataUnchanges/NonElephantImages/annot/ANIMAL NAMES AND SOUNDS for Kids Video Compilation - Learn Animal Names for Children & Toddlers191.txt\n",
            "ANIMAL NAMES AND SOUNDS for Kids Video Compilation - Learn Animal Names for Children & Toddlers188.png\n",
            "/content/drive/MyDrive/DataUnchanges/NonElephantImages/ANIMAL NAMES AND SOUNDS for Kids Video Compilation - Learn Animal Names for Children & Toddlers188.png\n",
            "/content/drive/MyDrive/DataUnchanges/NonElephantImages/annot/ANIMAL NAMES AND SOUNDS for Kids Video Compilation - Learn Animal Names for Children & Toddlers188.txt\n",
            "ANIMAL NAMES AND SOUNDS for Kids Video Compilation - Learn Animal Names for Children & Toddlers190.png\n",
            "/content/drive/MyDrive/DataUnchanges/NonElephantImages/ANIMAL NAMES AND SOUNDS for Kids Video Compilation - Learn Animal Names for Children & Toddlers190.png\n",
            "/content/drive/MyDrive/DataUnchanges/NonElephantImages/annot/ANIMAL NAMES AND SOUNDS for Kids Video Compilation - Learn Animal Names for Children & Toddlers190.txt\n",
            "ANIMAL NAMES AND SOUNDS for Kids Video Compilation - Learn Animal Names for Children & Toddlers193.png\n",
            "/content/drive/MyDrive/DataUnchanges/NonElephantImages/ANIMAL NAMES AND SOUNDS for Kids Video Compilation - Learn Animal Names for Children & Toddlers193.png\n",
            "/content/drive/MyDrive/DataUnchanges/NonElephantImages/annot/ANIMAL NAMES AND SOUNDS for Kids Video Compilation - Learn Animal Names for Children & Toddlers193.txt\n",
            "ANIMAL NAMES AND SOUNDS for Kids Video Compilation - Learn Animal Names for Children & Toddlers194.png\n",
            "/content/drive/MyDrive/DataUnchanges/NonElephantImages/ANIMAL NAMES AND SOUNDS for Kids Video Compilation - Learn Animal Names for Children & Toddlers194.png\n",
            "/content/drive/MyDrive/DataUnchanges/NonElephantImages/annot/ANIMAL NAMES AND SOUNDS for Kids Video Compilation - Learn Animal Names for Children & Toddlers194.txt\n",
            "ANIMAL NAMES AND SOUNDS for Kids Video Compilation - Learn Animal Names for Children & Toddlers192.png\n",
            "/content/drive/MyDrive/DataUnchanges/NonElephantImages/ANIMAL NAMES AND SOUNDS for Kids Video Compilation - Learn Animal Names for Children & Toddlers192.png\n",
            "/content/drive/MyDrive/DataUnchanges/NonElephantImages/annot/ANIMAL NAMES AND SOUNDS for Kids Video Compilation - Learn Animal Names for Children & Toddlers192.txt\n",
            "ANIMAL NAMES AND SOUNDS for Kids Video Compilation - Learn Animal Names for Children & Toddlers196.png\n",
            "/content/drive/MyDrive/DataUnchanges/NonElephantImages/ANIMAL NAMES AND SOUNDS for Kids Video Compilation - Learn Animal Names for Children & Toddlers196.png\n",
            "/content/drive/MyDrive/DataUnchanges/NonElephantImages/annot/ANIMAL NAMES AND SOUNDS for Kids Video Compilation - Learn Animal Names for Children & Toddlers196.txt\n",
            "ANIMAL NAMES AND SOUNDS for Kids Video Compilation - Learn Animal Names for Children & Toddlers195.png\n",
            "/content/drive/MyDrive/DataUnchanges/NonElephantImages/ANIMAL NAMES AND SOUNDS for Kids Video Compilation - Learn Animal Names for Children & Toddlers195.png\n",
            "/content/drive/MyDrive/DataUnchanges/NonElephantImages/annot/ANIMAL NAMES AND SOUNDS for Kids Video Compilation - Learn Animal Names for Children & Toddlers195.txt\n",
            "ANIMAL NAMES AND SOUNDS for Kids Video Compilation - Learn Animal Names for Children & Toddlers201.png\n",
            "/content/drive/MyDrive/DataUnchanges/NonElephantImages/ANIMAL NAMES AND SOUNDS for Kids Video Compilation - Learn Animal Names for Children & Toddlers201.png\n",
            "/content/drive/MyDrive/DataUnchanges/NonElephantImages/annot/ANIMAL NAMES AND SOUNDS for Kids Video Compilation - Learn Animal Names for Children & Toddlers201.txt\n",
            "ANIMAL NAMES AND SOUNDS for Kids Video Compilation - Learn Animal Names for Children & Toddlers197.png\n",
            "/content/drive/MyDrive/DataUnchanges/NonElephantImages/ANIMAL NAMES AND SOUNDS for Kids Video Compilation - Learn Animal Names for Children & Toddlers197.png\n",
            "/content/drive/MyDrive/DataUnchanges/NonElephantImages/annot/ANIMAL NAMES AND SOUNDS for Kids Video Compilation - Learn Animal Names for Children & Toddlers197.txt\n",
            "ANIMAL NAMES AND SOUNDS for Kids Video Compilation - Learn Animal Names for Children & Toddlers200.png\n",
            "/content/drive/MyDrive/DataUnchanges/NonElephantImages/ANIMAL NAMES AND SOUNDS for Kids Video Compilation - Learn Animal Names for Children & Toddlers200.png\n",
            "/content/drive/MyDrive/DataUnchanges/NonElephantImages/annot/ANIMAL NAMES AND SOUNDS for Kids Video Compilation - Learn Animal Names for Children & Toddlers200.txt\n",
            "ANIMAL NAMES AND SOUNDS for Kids Video Compilation - Learn Animal Names for Children & Toddlers199.png\n",
            "/content/drive/MyDrive/DataUnchanges/NonElephantImages/ANIMAL NAMES AND SOUNDS for Kids Video Compilation - Learn Animal Names for Children & Toddlers199.png\n",
            "/content/drive/MyDrive/DataUnchanges/NonElephantImages/annot/ANIMAL NAMES AND SOUNDS for Kids Video Compilation - Learn Animal Names for Children & Toddlers199.txt\n",
            "ANIMAL NAMES AND SOUNDS for Kids Video Compilation - Learn Animal Names for Children & Toddlers198.png\n",
            "/content/drive/MyDrive/DataUnchanges/NonElephantImages/ANIMAL NAMES AND SOUNDS for Kids Video Compilation - Learn Animal Names for Children & Toddlers198.png\n",
            "/content/drive/MyDrive/DataUnchanges/NonElephantImages/annot/ANIMAL NAMES AND SOUNDS for Kids Video Compilation - Learn Animal Names for Children & Toddlers198.txt\n",
            "ANIMAL NAMES AND SOUNDS for Kids Video Compilation - Learn Animal Names for Children & Toddlers206.png\n",
            "/content/drive/MyDrive/DataUnchanges/NonElephantImages/ANIMAL NAMES AND SOUNDS for Kids Video Compilation - Learn Animal Names for Children & Toddlers206.png\n",
            "/content/drive/MyDrive/DataUnchanges/NonElephantImages/annot/ANIMAL NAMES AND SOUNDS for Kids Video Compilation - Learn Animal Names for Children & Toddlers206.txt\n",
            "ANIMAL NAMES AND SOUNDS for Kids Video Compilation - Learn Animal Names for Children & Toddlers203.png\n",
            "/content/drive/MyDrive/DataUnchanges/NonElephantImages/ANIMAL NAMES AND SOUNDS for Kids Video Compilation - Learn Animal Names for Children & Toddlers203.png\n",
            "/content/drive/MyDrive/DataUnchanges/NonElephantImages/annot/ANIMAL NAMES AND SOUNDS for Kids Video Compilation - Learn Animal Names for Children & Toddlers203.txt\n",
            "ANIMAL NAMES AND SOUNDS for Kids Video Compilation - Learn Animal Names for Children & Toddlers202.png\n",
            "/content/drive/MyDrive/DataUnchanges/NonElephantImages/ANIMAL NAMES AND SOUNDS for Kids Video Compilation - Learn Animal Names for Children & Toddlers202.png\n",
            "/content/drive/MyDrive/DataUnchanges/NonElephantImages/annot/ANIMAL NAMES AND SOUNDS for Kids Video Compilation - Learn Animal Names for Children & Toddlers202.txt\n",
            "ANIMAL NAMES AND SOUNDS for Kids Video Compilation - Learn Animal Names for Children & Toddlers205.png\n",
            "/content/drive/MyDrive/DataUnchanges/NonElephantImages/ANIMAL NAMES AND SOUNDS for Kids Video Compilation - Learn Animal Names for Children & Toddlers205.png\n",
            "/content/drive/MyDrive/DataUnchanges/NonElephantImages/annot/ANIMAL NAMES AND SOUNDS for Kids Video Compilation - Learn Animal Names for Children & Toddlers205.txt\n",
            "ANIMAL NAMES AND SOUNDS for Kids Video Compilation - Learn Animal Names for Children & Toddlers204.png\n",
            "/content/drive/MyDrive/DataUnchanges/NonElephantImages/ANIMAL NAMES AND SOUNDS for Kids Video Compilation - Learn Animal Names for Children & Toddlers204.png\n",
            "/content/drive/MyDrive/DataUnchanges/NonElephantImages/annot/ANIMAL NAMES AND SOUNDS for Kids Video Compilation - Learn Animal Names for Children & Toddlers204.txt\n",
            "ANIMAL NAMES AND SOUNDS for Kids Video Compilation - Learn Animal Names for Children & Toddlers207.png\n",
            "/content/drive/MyDrive/DataUnchanges/NonElephantImages/ANIMAL NAMES AND SOUNDS for Kids Video Compilation - Learn Animal Names for Children & Toddlers207.png\n",
            "/content/drive/MyDrive/DataUnchanges/NonElephantImages/annot/ANIMAL NAMES AND SOUNDS for Kids Video Compilation - Learn Animal Names for Children & Toddlers207.txt\n",
            "ANIMAL NAMES AND SOUNDS for Kids Video Compilation - Learn Animal Names for Children & Toddlers209.png\n",
            "/content/drive/MyDrive/DataUnchanges/NonElephantImages/ANIMAL NAMES AND SOUNDS for Kids Video Compilation - Learn Animal Names for Children & Toddlers209.png\n",
            "/content/drive/MyDrive/DataUnchanges/NonElephantImages/annot/ANIMAL NAMES AND SOUNDS for Kids Video Compilation - Learn Animal Names for Children & Toddlers209.txt\n",
            "ANIMAL NAMES AND SOUNDS for Kids Video Compilation - Learn Animal Names for Children & Toddlers212.png\n",
            "/content/drive/MyDrive/DataUnchanges/NonElephantImages/ANIMAL NAMES AND SOUNDS for Kids Video Compilation - Learn Animal Names for Children & Toddlers212.png\n",
            "/content/drive/MyDrive/DataUnchanges/NonElephantImages/annot/ANIMAL NAMES AND SOUNDS for Kids Video Compilation - Learn Animal Names for Children & Toddlers212.txt\n",
            "ANIMAL NAMES AND SOUNDS for Kids Video Compilation - Learn Animal Names for Children & Toddlers208.png\n",
            "/content/drive/MyDrive/DataUnchanges/NonElephantImages/ANIMAL NAMES AND SOUNDS for Kids Video Compilation - Learn Animal Names for Children & Toddlers208.png\n",
            "/content/drive/MyDrive/DataUnchanges/NonElephantImages/annot/ANIMAL NAMES AND SOUNDS for Kids Video Compilation - Learn Animal Names for Children & Toddlers208.txt\n",
            "ANIMAL NAMES AND SOUNDS for Kids Video Compilation - Learn Animal Names for Children & Toddlers211.png\n",
            "/content/drive/MyDrive/DataUnchanges/NonElephantImages/ANIMAL NAMES AND SOUNDS for Kids Video Compilation - Learn Animal Names for Children & Toddlers211.png\n",
            "/content/drive/MyDrive/DataUnchanges/NonElephantImages/annot/ANIMAL NAMES AND SOUNDS for Kids Video Compilation - Learn Animal Names for Children & Toddlers211.txt\n",
            "ANIMAL NAMES AND SOUNDS for Kids Video Compilation - Learn Animal Names for Children & Toddlers210.png\n",
            "/content/drive/MyDrive/DataUnchanges/NonElephantImages/ANIMAL NAMES AND SOUNDS for Kids Video Compilation - Learn Animal Names for Children & Toddlers210.png\n",
            "/content/drive/MyDrive/DataUnchanges/NonElephantImages/annot/ANIMAL NAMES AND SOUNDS for Kids Video Compilation - Learn Animal Names for Children & Toddlers210.txt\n",
            "ANIMAL NAMES AND SOUNDS for Kids Video Compilation - Learn Animal Names for Children & Toddlers215.png\n",
            "/content/drive/MyDrive/DataUnchanges/NonElephantImages/ANIMAL NAMES AND SOUNDS for Kids Video Compilation - Learn Animal Names for Children & Toddlers215.png\n",
            "/content/drive/MyDrive/DataUnchanges/NonElephantImages/annot/ANIMAL NAMES AND SOUNDS for Kids Video Compilation - Learn Animal Names for Children & Toddlers215.txt\n",
            "ANIMAL NAMES AND SOUNDS for Kids Video Compilation - Learn Animal Names for Children & Toddlers216.png\n",
            "/content/drive/MyDrive/DataUnchanges/NonElephantImages/ANIMAL NAMES AND SOUNDS for Kids Video Compilation - Learn Animal Names for Children & Toddlers216.png\n",
            "/content/drive/MyDrive/DataUnchanges/NonElephantImages/annot/ANIMAL NAMES AND SOUNDS for Kids Video Compilation - Learn Animal Names for Children & Toddlers216.txt\n",
            "ANIMAL NAMES AND SOUNDS for Kids Video Compilation - Learn Animal Names for Children & Toddlers218.png\n",
            "/content/drive/MyDrive/DataUnchanges/NonElephantImages/ANIMAL NAMES AND SOUNDS for Kids Video Compilation - Learn Animal Names for Children & Toddlers218.png\n",
            "/content/drive/MyDrive/DataUnchanges/NonElephantImages/annot/ANIMAL NAMES AND SOUNDS for Kids Video Compilation - Learn Animal Names for Children & Toddlers218.txt\n",
            "ANIMAL NAMES AND SOUNDS for Kids Video Compilation - Learn Animal Names for Children & Toddlers214.png\n",
            "/content/drive/MyDrive/DataUnchanges/NonElephantImages/ANIMAL NAMES AND SOUNDS for Kids Video Compilation - Learn Animal Names for Children & Toddlers214.png\n",
            "/content/drive/MyDrive/DataUnchanges/NonElephantImages/annot/ANIMAL NAMES AND SOUNDS for Kids Video Compilation - Learn Animal Names for Children & Toddlers214.txt\n",
            "ANIMAL NAMES AND SOUNDS for Kids Video Compilation - Learn Animal Names for Children & Toddlers213.png\n",
            "/content/drive/MyDrive/DataUnchanges/NonElephantImages/ANIMAL NAMES AND SOUNDS for Kids Video Compilation - Learn Animal Names for Children & Toddlers213.png\n",
            "/content/drive/MyDrive/DataUnchanges/NonElephantImages/annot/ANIMAL NAMES AND SOUNDS for Kids Video Compilation - Learn Animal Names for Children & Toddlers213.txt\n",
            "ANIMAL NAMES AND SOUNDS for Kids Video Compilation - Learn Animal Names for Children & Toddlers217.png\n",
            "/content/drive/MyDrive/DataUnchanges/NonElephantImages/ANIMAL NAMES AND SOUNDS for Kids Video Compilation - Learn Animal Names for Children & Toddlers217.png\n",
            "/content/drive/MyDrive/DataUnchanges/NonElephantImages/annot/ANIMAL NAMES AND SOUNDS for Kids Video Compilation - Learn Animal Names for Children & Toddlers217.txt\n",
            "ANIMAL NAMES AND SOUNDS for Kids Video Compilation - Learn Animal Names for Children & Toddlers223.png\n",
            "/content/drive/MyDrive/DataUnchanges/NonElephantImages/ANIMAL NAMES AND SOUNDS for Kids Video Compilation - Learn Animal Names for Children & Toddlers223.png\n",
            "/content/drive/MyDrive/DataUnchanges/NonElephantImages/annot/ANIMAL NAMES AND SOUNDS for Kids Video Compilation - Learn Animal Names for Children & Toddlers223.txt\n",
            "ANIMAL NAMES AND SOUNDS for Kids Video Compilation - Learn Animal Names for Children & Toddlers220.png\n",
            "/content/drive/MyDrive/DataUnchanges/NonElephantImages/ANIMAL NAMES AND SOUNDS for Kids Video Compilation - Learn Animal Names for Children & Toddlers220.png\n",
            "/content/drive/MyDrive/DataUnchanges/NonElephantImages/annot/ANIMAL NAMES AND SOUNDS for Kids Video Compilation - Learn Animal Names for Children & Toddlers220.txt\n",
            "ANIMAL NAMES AND SOUNDS for Kids Video Compilation - Learn Animal Names for Children & Toddlers222.png\n",
            "/content/drive/MyDrive/DataUnchanges/NonElephantImages/ANIMAL NAMES AND SOUNDS for Kids Video Compilation - Learn Animal Names for Children & Toddlers222.png\n",
            "/content/drive/MyDrive/DataUnchanges/NonElephantImages/annot/ANIMAL NAMES AND SOUNDS for Kids Video Compilation - Learn Animal Names for Children & Toddlers222.txt\n",
            "ANIMAL NAMES AND SOUNDS for Kids Video Compilation - Learn Animal Names for Children & Toddlers224.png\n",
            "/content/drive/MyDrive/DataUnchanges/NonElephantImages/ANIMAL NAMES AND SOUNDS for Kids Video Compilation - Learn Animal Names for Children & Toddlers224.png\n",
            "/content/drive/MyDrive/DataUnchanges/NonElephantImages/annot/ANIMAL NAMES AND SOUNDS for Kids Video Compilation - Learn Animal Names for Children & Toddlers224.txt\n",
            "ANIMAL NAMES AND SOUNDS for Kids Video Compilation - Learn Animal Names for Children & Toddlers221.png\n",
            "/content/drive/MyDrive/DataUnchanges/NonElephantImages/ANIMAL NAMES AND SOUNDS for Kids Video Compilation - Learn Animal Names for Children & Toddlers221.png\n",
            "/content/drive/MyDrive/DataUnchanges/NonElephantImages/annot/ANIMAL NAMES AND SOUNDS for Kids Video Compilation - Learn Animal Names for Children & Toddlers221.txt\n",
            "ANIMAL NAMES AND SOUNDS for Kids Video Compilation - Learn Animal Names for Children & Toddlers219.png\n",
            "/content/drive/MyDrive/DataUnchanges/NonElephantImages/ANIMAL NAMES AND SOUNDS for Kids Video Compilation - Learn Animal Names for Children & Toddlers219.png\n",
            "/content/drive/MyDrive/DataUnchanges/NonElephantImages/annot/ANIMAL NAMES AND SOUNDS for Kids Video Compilation - Learn Animal Names for Children & Toddlers219.txt\n",
            "ANIMAL NAMES AND SOUNDS for Kids Video Compilation - Learn Animal Names for Children & Toddlers226.png\n",
            "/content/drive/MyDrive/DataUnchanges/NonElephantImages/ANIMAL NAMES AND SOUNDS for Kids Video Compilation - Learn Animal Names for Children & Toddlers226.png\n",
            "/content/drive/MyDrive/DataUnchanges/NonElephantImages/annot/ANIMAL NAMES AND SOUNDS for Kids Video Compilation - Learn Animal Names for Children & Toddlers226.txt\n",
            "ANIMAL NAMES AND SOUNDS for Kids Video Compilation - Learn Animal Names for Children & Toddlers225.png\n",
            "/content/drive/MyDrive/DataUnchanges/NonElephantImages/ANIMAL NAMES AND SOUNDS for Kids Video Compilation - Learn Animal Names for Children & Toddlers225.png\n",
            "/content/drive/MyDrive/DataUnchanges/NonElephantImages/annot/ANIMAL NAMES AND SOUNDS for Kids Video Compilation - Learn Animal Names for Children & Toddlers225.txt\n",
            "ANIMAL NAMES AND SOUNDS for Kids Video Compilation - Learn Animal Names for Children & Toddlers227.png\n",
            "/content/drive/MyDrive/DataUnchanges/NonElephantImages/ANIMAL NAMES AND SOUNDS for Kids Video Compilation - Learn Animal Names for Children & Toddlers227.png\n",
            "/content/drive/MyDrive/DataUnchanges/NonElephantImages/annot/ANIMAL NAMES AND SOUNDS for Kids Video Compilation - Learn Animal Names for Children & Toddlers227.txt\n",
            "ANIMAL NAMES AND SOUNDS for Kids Video Compilation - Learn Animal Names for Children & Toddlers230.png\n",
            "/content/drive/MyDrive/DataUnchanges/NonElephantImages/ANIMAL NAMES AND SOUNDS for Kids Video Compilation - Learn Animal Names for Children & Toddlers230.png\n",
            "/content/drive/MyDrive/DataUnchanges/NonElephantImages/annot/ANIMAL NAMES AND SOUNDS for Kids Video Compilation - Learn Animal Names for Children & Toddlers230.txt\n",
            "ANIMAL NAMES AND SOUNDS for Kids Video Compilation - Learn Animal Names for Children & Toddlers228.png\n",
            "/content/drive/MyDrive/DataUnchanges/NonElephantImages/ANIMAL NAMES AND SOUNDS for Kids Video Compilation - Learn Animal Names for Children & Toddlers228.png\n",
            "/content/drive/MyDrive/DataUnchanges/NonElephantImages/annot/ANIMAL NAMES AND SOUNDS for Kids Video Compilation - Learn Animal Names for Children & Toddlers228.txt\n",
            "ANIMAL NAMES AND SOUNDS for Kids Video Compilation - Learn Animal Names for Children & Toddlers232.png\n",
            "/content/drive/MyDrive/DataUnchanges/NonElephantImages/ANIMAL NAMES AND SOUNDS for Kids Video Compilation - Learn Animal Names for Children & Toddlers232.png\n",
            "/content/drive/MyDrive/DataUnchanges/NonElephantImages/annot/ANIMAL NAMES AND SOUNDS for Kids Video Compilation - Learn Animal Names for Children & Toddlers232.txt\n",
            "ANIMAL NAMES AND SOUNDS for Kids Video Compilation - Learn Animal Names for Children & Toddlers229.png\n",
            "/content/drive/MyDrive/DataUnchanges/NonElephantImages/ANIMAL NAMES AND SOUNDS for Kids Video Compilation - Learn Animal Names for Children & Toddlers229.png\n",
            "/content/drive/MyDrive/DataUnchanges/NonElephantImages/annot/ANIMAL NAMES AND SOUNDS for Kids Video Compilation - Learn Animal Names for Children & Toddlers229.txt\n",
            "ANIMAL NAMES AND SOUNDS for Kids Video Compilation - Learn Animal Names for Children & Toddlers231.png\n",
            "/content/drive/MyDrive/DataUnchanges/NonElephantImages/ANIMAL NAMES AND SOUNDS for Kids Video Compilation - Learn Animal Names for Children & Toddlers231.png\n",
            "/content/drive/MyDrive/DataUnchanges/NonElephantImages/annot/ANIMAL NAMES AND SOUNDS for Kids Video Compilation - Learn Animal Names for Children & Toddlers231.txt\n",
            "ANIMAL NAMES AND SOUNDS for Kids Video Compilation - Learn Animal Names for Children & Toddlers237.png\n",
            "/content/drive/MyDrive/DataUnchanges/NonElephantImages/ANIMAL NAMES AND SOUNDS for Kids Video Compilation - Learn Animal Names for Children & Toddlers237.png\n",
            "/content/drive/MyDrive/DataUnchanges/NonElephantImages/annot/ANIMAL NAMES AND SOUNDS for Kids Video Compilation - Learn Animal Names for Children & Toddlers237.txt\n",
            "ANIMAL NAMES AND SOUNDS for Kids Video Compilation - Learn Animal Names for Children & Toddlers233.png\n",
            "/content/drive/MyDrive/DataUnchanges/NonElephantImages/ANIMAL NAMES AND SOUNDS for Kids Video Compilation - Learn Animal Names for Children & Toddlers233.png\n",
            "/content/drive/MyDrive/DataUnchanges/NonElephantImages/annot/ANIMAL NAMES AND SOUNDS for Kids Video Compilation - Learn Animal Names for Children & Toddlers233.txt\n",
            "ANIMAL NAMES AND SOUNDS for Kids Video Compilation - Learn Animal Names for Children & Toddlers236.png\n",
            "/content/drive/MyDrive/DataUnchanges/NonElephantImages/ANIMAL NAMES AND SOUNDS for Kids Video Compilation - Learn Animal Names for Children & Toddlers236.png\n",
            "/content/drive/MyDrive/DataUnchanges/NonElephantImages/annot/ANIMAL NAMES AND SOUNDS for Kids Video Compilation - Learn Animal Names for Children & Toddlers236.txt\n",
            "ANIMAL NAMES AND SOUNDS for Kids Video Compilation - Learn Animal Names for Children & Toddlers235.png\n",
            "/content/drive/MyDrive/DataUnchanges/NonElephantImages/ANIMAL NAMES AND SOUNDS for Kids Video Compilation - Learn Animal Names for Children & Toddlers235.png\n",
            "/content/drive/MyDrive/DataUnchanges/NonElephantImages/annot/ANIMAL NAMES AND SOUNDS for Kids Video Compilation - Learn Animal Names for Children & Toddlers235.txt\n",
            "ANIMAL NAMES AND SOUNDS for Kids Video Compilation - Learn Animal Names for Children & Toddlers238.png\n",
            "/content/drive/MyDrive/DataUnchanges/NonElephantImages/ANIMAL NAMES AND SOUNDS for Kids Video Compilation - Learn Animal Names for Children & Toddlers238.png\n",
            "/content/drive/MyDrive/DataUnchanges/NonElephantImages/annot/ANIMAL NAMES AND SOUNDS for Kids Video Compilation - Learn Animal Names for Children & Toddlers238.txt\n",
            "ANIMAL NAMES AND SOUNDS for Kids Video Compilation - Learn Animal Names for Children & Toddlers239.png\n",
            "/content/drive/MyDrive/DataUnchanges/NonElephantImages/ANIMAL NAMES AND SOUNDS for Kids Video Compilation - Learn Animal Names for Children & Toddlers239.png\n",
            "/content/drive/MyDrive/DataUnchanges/NonElephantImages/annot/ANIMAL NAMES AND SOUNDS for Kids Video Compilation - Learn Animal Names for Children & Toddlers239.txt\n",
            "ANIMAL NAMES AND SOUNDS for Kids Video Compilation - Learn Animal Names for Children & Toddlers234.png\n",
            "/content/drive/MyDrive/DataUnchanges/NonElephantImages/ANIMAL NAMES AND SOUNDS for Kids Video Compilation - Learn Animal Names for Children & Toddlers234.png\n",
            "/content/drive/MyDrive/DataUnchanges/NonElephantImages/annot/ANIMAL NAMES AND SOUNDS for Kids Video Compilation - Learn Animal Names for Children & Toddlers234.txt\n",
            "ANIMAL NAMES AND SOUNDS for Kids Video Compilation - Learn Animal Names for Children & Toddlers245.png\n",
            "/content/drive/MyDrive/DataUnchanges/NonElephantImages/ANIMAL NAMES AND SOUNDS for Kids Video Compilation - Learn Animal Names for Children & Toddlers245.png\n",
            "/content/drive/MyDrive/DataUnchanges/NonElephantImages/annot/ANIMAL NAMES AND SOUNDS for Kids Video Compilation - Learn Animal Names for Children & Toddlers245.txt\n",
            "ANIMAL NAMES AND SOUNDS for Kids Video Compilation - Learn Animal Names for Children & Toddlers241.png\n",
            "/content/drive/MyDrive/DataUnchanges/NonElephantImages/ANIMAL NAMES AND SOUNDS for Kids Video Compilation - Learn Animal Names for Children & Toddlers241.png\n",
            "/content/drive/MyDrive/DataUnchanges/NonElephantImages/annot/ANIMAL NAMES AND SOUNDS for Kids Video Compilation - Learn Animal Names for Children & Toddlers241.txt\n",
            "ANIMAL NAMES AND SOUNDS for Kids Video Compilation - Learn Animal Names for Children & Toddlers244.png\n",
            "/content/drive/MyDrive/DataUnchanges/NonElephantImages/ANIMAL NAMES AND SOUNDS for Kids Video Compilation - Learn Animal Names for Children & Toddlers244.png\n",
            "/content/drive/MyDrive/DataUnchanges/NonElephantImages/annot/ANIMAL NAMES AND SOUNDS for Kids Video Compilation - Learn Animal Names for Children & Toddlers244.txt\n",
            "ANIMAL NAMES AND SOUNDS for Kids Video Compilation - Learn Animal Names for Children & Toddlers242.png\n",
            "/content/drive/MyDrive/DataUnchanges/NonElephantImages/ANIMAL NAMES AND SOUNDS for Kids Video Compilation - Learn Animal Names for Children & Toddlers242.png\n",
            "/content/drive/MyDrive/DataUnchanges/NonElephantImages/annot/ANIMAL NAMES AND SOUNDS for Kids Video Compilation - Learn Animal Names for Children & Toddlers242.txt\n",
            "ANIMAL NAMES AND SOUNDS for Kids Video Compilation - Learn Animal Names for Children & Toddlers243.png\n",
            "/content/drive/MyDrive/DataUnchanges/NonElephantImages/ANIMAL NAMES AND SOUNDS for Kids Video Compilation - Learn Animal Names for Children & Toddlers243.png\n",
            "/content/drive/MyDrive/DataUnchanges/NonElephantImages/annot/ANIMAL NAMES AND SOUNDS for Kids Video Compilation - Learn Animal Names for Children & Toddlers243.txt\n",
            "ANIMAL NAMES AND SOUNDS for Kids Video Compilation - Learn Animal Names for Children & Toddlers240.png\n",
            "/content/drive/MyDrive/DataUnchanges/NonElephantImages/ANIMAL NAMES AND SOUNDS for Kids Video Compilation - Learn Animal Names for Children & Toddlers240.png\n",
            "/content/drive/MyDrive/DataUnchanges/NonElephantImages/annot/ANIMAL NAMES AND SOUNDS for Kids Video Compilation - Learn Animal Names for Children & Toddlers240.txt\n",
            "ANIMAL NAMES AND SOUNDS for Kids Video Compilation - Learn Animal Names for Children & Toddlers251.png\n",
            "/content/drive/MyDrive/DataUnchanges/NonElephantImages/ANIMAL NAMES AND SOUNDS for Kids Video Compilation - Learn Animal Names for Children & Toddlers251.png\n",
            "/content/drive/MyDrive/DataUnchanges/NonElephantImages/annot/ANIMAL NAMES AND SOUNDS for Kids Video Compilation - Learn Animal Names for Children & Toddlers251.txt\n",
            "ANIMAL NAMES AND SOUNDS for Kids Video Compilation - Learn Animal Names for Children & Toddlers246.png\n",
            "/content/drive/MyDrive/DataUnchanges/NonElephantImages/ANIMAL NAMES AND SOUNDS for Kids Video Compilation - Learn Animal Names for Children & Toddlers246.png\n",
            "/content/drive/MyDrive/DataUnchanges/NonElephantImages/annot/ANIMAL NAMES AND SOUNDS for Kids Video Compilation - Learn Animal Names for Children & Toddlers246.txt\n",
            "ANIMAL NAMES AND SOUNDS for Kids Video Compilation - Learn Animal Names for Children & Toddlers250.png\n",
            "/content/drive/MyDrive/DataUnchanges/NonElephantImages/ANIMAL NAMES AND SOUNDS for Kids Video Compilation - Learn Animal Names for Children & Toddlers250.png\n",
            "/content/drive/MyDrive/DataUnchanges/NonElephantImages/annot/ANIMAL NAMES AND SOUNDS for Kids Video Compilation - Learn Animal Names for Children & Toddlers250.txt\n",
            "ANIMAL NAMES AND SOUNDS for Kids Video Compilation - Learn Animal Names for Children & Toddlers248.png\n",
            "/content/drive/MyDrive/DataUnchanges/NonElephantImages/ANIMAL NAMES AND SOUNDS for Kids Video Compilation - Learn Animal Names for Children & Toddlers248.png\n",
            "/content/drive/MyDrive/DataUnchanges/NonElephantImages/annot/ANIMAL NAMES AND SOUNDS for Kids Video Compilation - Learn Animal Names for Children & Toddlers248.txt\n",
            "ANIMAL NAMES AND SOUNDS for Kids Video Compilation - Learn Animal Names for Children & Toddlers252.png\n",
            "/content/drive/MyDrive/DataUnchanges/NonElephantImages/ANIMAL NAMES AND SOUNDS for Kids Video Compilation - Learn Animal Names for Children & Toddlers252.png\n",
            "/content/drive/MyDrive/DataUnchanges/NonElephantImages/annot/ANIMAL NAMES AND SOUNDS for Kids Video Compilation - Learn Animal Names for Children & Toddlers252.txt\n",
            "ANIMAL NAMES AND SOUNDS for Kids Video Compilation - Learn Animal Names for Children & Toddlers247.png\n",
            "/content/drive/MyDrive/DataUnchanges/NonElephantImages/ANIMAL NAMES AND SOUNDS for Kids Video Compilation - Learn Animal Names for Children & Toddlers247.png\n",
            "/content/drive/MyDrive/DataUnchanges/NonElephantImages/annot/ANIMAL NAMES AND SOUNDS for Kids Video Compilation - Learn Animal Names for Children & Toddlers247.txt\n",
            "ANIMAL NAMES AND SOUNDS for Kids Video Compilation - Learn Animal Names for Children & Toddlers249.png\n",
            "/content/drive/MyDrive/DataUnchanges/NonElephantImages/ANIMAL NAMES AND SOUNDS for Kids Video Compilation - Learn Animal Names for Children & Toddlers249.png\n",
            "/content/drive/MyDrive/DataUnchanges/NonElephantImages/annot/ANIMAL NAMES AND SOUNDS for Kids Video Compilation - Learn Animal Names for Children & Toddlers249.txt\n",
            "ANIMAL NAMES AND SOUNDS for Kids Video Compilation - Learn Animal Names for Children & Toddlers254.png\n",
            "/content/drive/MyDrive/DataUnchanges/NonElephantImages/ANIMAL NAMES AND SOUNDS for Kids Video Compilation - Learn Animal Names for Children & Toddlers254.png\n",
            "/content/drive/MyDrive/DataUnchanges/NonElephantImages/annot/ANIMAL NAMES AND SOUNDS for Kids Video Compilation - Learn Animal Names for Children & Toddlers254.txt\n",
            "ANIMAL NAMES AND SOUNDS for Kids Video Compilation - Learn Animal Names for Children & Toddlers256.png\n",
            "/content/drive/MyDrive/DataUnchanges/NonElephantImages/ANIMAL NAMES AND SOUNDS for Kids Video Compilation - Learn Animal Names for Children & Toddlers256.png\n",
            "/content/drive/MyDrive/DataUnchanges/NonElephantImages/annot/ANIMAL NAMES AND SOUNDS for Kids Video Compilation - Learn Animal Names for Children & Toddlers256.txt\n",
            "ANIMAL NAMES AND SOUNDS for Kids Video Compilation - Learn Animal Names for Children & Toddlers255.png\n",
            "/content/drive/MyDrive/DataUnchanges/NonElephantImages/ANIMAL NAMES AND SOUNDS for Kids Video Compilation - Learn Animal Names for Children & Toddlers255.png\n",
            "/content/drive/MyDrive/DataUnchanges/NonElephantImages/annot/ANIMAL NAMES AND SOUNDS for Kids Video Compilation - Learn Animal Names for Children & Toddlers255.txt\n",
            "ANIMAL NAMES AND SOUNDS for Kids Video Compilation - Learn Animal Names for Children & Toddlers258.png\n",
            "/content/drive/MyDrive/DataUnchanges/NonElephantImages/ANIMAL NAMES AND SOUNDS for Kids Video Compilation - Learn Animal Names for Children & Toddlers258.png\n",
            "/content/drive/MyDrive/DataUnchanges/NonElephantImages/annot/ANIMAL NAMES AND SOUNDS for Kids Video Compilation - Learn Animal Names for Children & Toddlers258.txt\n",
            "ANIMAL NAMES AND SOUNDS for Kids Video Compilation - Learn Animal Names for Children & Toddlers253.png\n",
            "/content/drive/MyDrive/DataUnchanges/NonElephantImages/ANIMAL NAMES AND SOUNDS for Kids Video Compilation - Learn Animal Names for Children & Toddlers253.png\n",
            "/content/drive/MyDrive/DataUnchanges/NonElephantImages/annot/ANIMAL NAMES AND SOUNDS for Kids Video Compilation - Learn Animal Names for Children & Toddlers253.txt\n",
            "ANIMAL NAMES AND SOUNDS for Kids Video Compilation - Learn Animal Names for Children & Toddlers257.png\n",
            "/content/drive/MyDrive/DataUnchanges/NonElephantImages/ANIMAL NAMES AND SOUNDS for Kids Video Compilation - Learn Animal Names for Children & Toddlers257.png\n",
            "/content/drive/MyDrive/DataUnchanges/NonElephantImages/annot/ANIMAL NAMES AND SOUNDS for Kids Video Compilation - Learn Animal Names for Children & Toddlers257.txt\n",
            "ANIMAL NAMES AND SOUNDS for Kids Video Compilation - Learn Animal Names for Children & Toddlers261.png\n",
            "/content/drive/MyDrive/DataUnchanges/NonElephantImages/ANIMAL NAMES AND SOUNDS for Kids Video Compilation - Learn Animal Names for Children & Toddlers261.png\n",
            "/content/drive/MyDrive/DataUnchanges/NonElephantImages/annot/ANIMAL NAMES AND SOUNDS for Kids Video Compilation - Learn Animal Names for Children & Toddlers261.txt\n",
            "ANIMAL NAMES AND SOUNDS for Kids Video Compilation - Learn Animal Names for Children & Toddlers262.png\n",
            "/content/drive/MyDrive/DataUnchanges/NonElephantImages/ANIMAL NAMES AND SOUNDS for Kids Video Compilation - Learn Animal Names for Children & Toddlers262.png\n",
            "/content/drive/MyDrive/DataUnchanges/NonElephantImages/annot/ANIMAL NAMES AND SOUNDS for Kids Video Compilation - Learn Animal Names for Children & Toddlers262.txt\n",
            "ANIMAL NAMES AND SOUNDS for Kids Video Compilation - Learn Animal Names for Children & Toddlers263.png\n",
            "/content/drive/MyDrive/DataUnchanges/NonElephantImages/ANIMAL NAMES AND SOUNDS for Kids Video Compilation - Learn Animal Names for Children & Toddlers263.png\n",
            "/content/drive/MyDrive/DataUnchanges/NonElephantImages/annot/ANIMAL NAMES AND SOUNDS for Kids Video Compilation - Learn Animal Names for Children & Toddlers263.txt\n",
            "ANIMAL NAMES AND SOUNDS for Kids Video Compilation - Learn Animal Names for Children & Toddlers260.png\n",
            "/content/drive/MyDrive/DataUnchanges/NonElephantImages/ANIMAL NAMES AND SOUNDS for Kids Video Compilation - Learn Animal Names for Children & Toddlers260.png\n",
            "/content/drive/MyDrive/DataUnchanges/NonElephantImages/annot/ANIMAL NAMES AND SOUNDS for Kids Video Compilation - Learn Animal Names for Children & Toddlers260.txt\n",
            "ANIMAL NAMES AND SOUNDS for Kids Video Compilation - Learn Animal Names for Children & Toddlers264.png\n",
            "/content/drive/MyDrive/DataUnchanges/NonElephantImages/ANIMAL NAMES AND SOUNDS for Kids Video Compilation - Learn Animal Names for Children & Toddlers264.png\n",
            "/content/drive/MyDrive/DataUnchanges/NonElephantImages/annot/ANIMAL NAMES AND SOUNDS for Kids Video Compilation - Learn Animal Names for Children & Toddlers264.txt\n",
            "ANIMAL NAMES AND SOUNDS for Kids Video Compilation - Learn Animal Names for Children & Toddlers259.png\n",
            "/content/drive/MyDrive/DataUnchanges/NonElephantImages/ANIMAL NAMES AND SOUNDS for Kids Video Compilation - Learn Animal Names for Children & Toddlers259.png\n",
            "/content/drive/MyDrive/DataUnchanges/NonElephantImages/annot/ANIMAL NAMES AND SOUNDS for Kids Video Compilation - Learn Animal Names for Children & Toddlers259.txt\n",
            "ANIMAL NAMES AND SOUNDS for Kids Video Compilation - Learn Animal Names for Children & Toddlers271.png\n",
            "/content/drive/MyDrive/DataUnchanges/NonElephantImages/ANIMAL NAMES AND SOUNDS for Kids Video Compilation - Learn Animal Names for Children & Toddlers271.png\n",
            "/content/drive/MyDrive/DataUnchanges/NonElephantImages/annot/ANIMAL NAMES AND SOUNDS for Kids Video Compilation - Learn Animal Names for Children & Toddlers271.txt\n",
            "ANIMAL NAMES AND SOUNDS for Kids Video Compilation - Learn Animal Names for Children & Toddlers267.png\n",
            "/content/drive/MyDrive/DataUnchanges/NonElephantImages/ANIMAL NAMES AND SOUNDS for Kids Video Compilation - Learn Animal Names for Children & Toddlers267.png\n",
            "/content/drive/MyDrive/DataUnchanges/NonElephantImages/annot/ANIMAL NAMES AND SOUNDS for Kids Video Compilation - Learn Animal Names for Children & Toddlers267.txt\n",
            "ANIMAL NAMES AND SOUNDS for Kids Video Compilation - Learn Animal Names for Children & Toddlers269.png\n",
            "/content/drive/MyDrive/DataUnchanges/NonElephantImages/ANIMAL NAMES AND SOUNDS for Kids Video Compilation - Learn Animal Names for Children & Toddlers269.png\n",
            "/content/drive/MyDrive/DataUnchanges/NonElephantImages/annot/ANIMAL NAMES AND SOUNDS for Kids Video Compilation - Learn Animal Names for Children & Toddlers269.txt\n",
            "ANIMAL NAMES AND SOUNDS for Kids Video Compilation - Learn Animal Names for Children & Toddlers268.png\n",
            "/content/drive/MyDrive/DataUnchanges/NonElephantImages/ANIMAL NAMES AND SOUNDS for Kids Video Compilation - Learn Animal Names for Children & Toddlers268.png\n",
            "/content/drive/MyDrive/DataUnchanges/NonElephantImages/annot/ANIMAL NAMES AND SOUNDS for Kids Video Compilation - Learn Animal Names for Children & Toddlers268.txt\n",
            "ANIMAL NAMES AND SOUNDS for Kids Video Compilation - Learn Animal Names for Children & Toddlers270.png\n",
            "/content/drive/MyDrive/DataUnchanges/NonElephantImages/ANIMAL NAMES AND SOUNDS for Kids Video Compilation - Learn Animal Names for Children & Toddlers270.png\n",
            "/content/drive/MyDrive/DataUnchanges/NonElephantImages/annot/ANIMAL NAMES AND SOUNDS for Kids Video Compilation - Learn Animal Names for Children & Toddlers270.txt\n",
            "ANIMAL NAMES AND SOUNDS for Kids Video Compilation - Learn Animal Names for Children & Toddlers265.png\n",
            "/content/drive/MyDrive/DataUnchanges/NonElephantImages/ANIMAL NAMES AND SOUNDS for Kids Video Compilation - Learn Animal Names for Children & Toddlers265.png\n",
            "/content/drive/MyDrive/DataUnchanges/NonElephantImages/annot/ANIMAL NAMES AND SOUNDS for Kids Video Compilation - Learn Animal Names for Children & Toddlers265.txt\n",
            "ANIMAL NAMES AND SOUNDS for Kids Video Compilation - Learn Animal Names for Children & Toddlers266.png\n",
            "/content/drive/MyDrive/DataUnchanges/NonElephantImages/ANIMAL NAMES AND SOUNDS for Kids Video Compilation - Learn Animal Names for Children & Toddlers266.png\n",
            "/content/drive/MyDrive/DataUnchanges/NonElephantImages/annot/ANIMAL NAMES AND SOUNDS for Kids Video Compilation - Learn Animal Names for Children & Toddlers266.txt\n",
            "ANIMAL NAMES AND SOUNDS for Kids Video Compilation - Learn Animal Names for Children & Toddlers276.png\n",
            "/content/drive/MyDrive/DataUnchanges/NonElephantImages/ANIMAL NAMES AND SOUNDS for Kids Video Compilation - Learn Animal Names for Children & Toddlers276.png\n",
            "/content/drive/MyDrive/DataUnchanges/NonElephantImages/annot/ANIMAL NAMES AND SOUNDS for Kids Video Compilation - Learn Animal Names for Children & Toddlers276.txt\n",
            "ANIMAL NAMES AND SOUNDS for Kids Video Compilation - Learn Animal Names for Children & Toddlers277.png\n",
            "/content/drive/MyDrive/DataUnchanges/NonElephantImages/ANIMAL NAMES AND SOUNDS for Kids Video Compilation - Learn Animal Names for Children & Toddlers277.png\n",
            "/content/drive/MyDrive/DataUnchanges/NonElephantImages/annot/ANIMAL NAMES AND SOUNDS for Kids Video Compilation - Learn Animal Names for Children & Toddlers277.txt\n",
            "ANIMAL NAMES AND SOUNDS for Kids Video Compilation - Learn Animal Names for Children & Toddlers275.png\n",
            "/content/drive/MyDrive/DataUnchanges/NonElephantImages/ANIMAL NAMES AND SOUNDS for Kids Video Compilation - Learn Animal Names for Children & Toddlers275.png\n",
            "/content/drive/MyDrive/DataUnchanges/NonElephantImages/annot/ANIMAL NAMES AND SOUNDS for Kids Video Compilation - Learn Animal Names for Children & Toddlers275.txt\n",
            "ANIMAL NAMES AND SOUNDS for Kids Video Compilation - Learn Animal Names for Children & Toddlers273.png\n",
            "/content/drive/MyDrive/DataUnchanges/NonElephantImages/ANIMAL NAMES AND SOUNDS for Kids Video Compilation - Learn Animal Names for Children & Toddlers273.png\n",
            "/content/drive/MyDrive/DataUnchanges/NonElephantImages/annot/ANIMAL NAMES AND SOUNDS for Kids Video Compilation - Learn Animal Names for Children & Toddlers273.txt\n",
            "ANIMAL NAMES AND SOUNDS for Kids Video Compilation - Learn Animal Names for Children & Toddlers272.png\n",
            "/content/drive/MyDrive/DataUnchanges/NonElephantImages/ANIMAL NAMES AND SOUNDS for Kids Video Compilation - Learn Animal Names for Children & Toddlers272.png\n",
            "/content/drive/MyDrive/DataUnchanges/NonElephantImages/annot/ANIMAL NAMES AND SOUNDS for Kids Video Compilation - Learn Animal Names for Children & Toddlers272.txt\n",
            "ANIMAL NAMES AND SOUNDS for Kids Video Compilation - Learn Animal Names for Children & Toddlers274.png\n",
            "/content/drive/MyDrive/DataUnchanges/NonElephantImages/ANIMAL NAMES AND SOUNDS for Kids Video Compilation - Learn Animal Names for Children & Toddlers274.png\n",
            "/content/drive/MyDrive/DataUnchanges/NonElephantImages/annot/ANIMAL NAMES AND SOUNDS for Kids Video Compilation - Learn Animal Names for Children & Toddlers274.txt\n",
            "ANIMAL NAMES AND SOUNDS for Kids Video Compilation - Learn Animal Names for Children & Toddlers281.png\n",
            "/content/drive/MyDrive/DataUnchanges/NonElephantImages/ANIMAL NAMES AND SOUNDS for Kids Video Compilation - Learn Animal Names for Children & Toddlers281.png\n",
            "/content/drive/MyDrive/DataUnchanges/NonElephantImages/annot/ANIMAL NAMES AND SOUNDS for Kids Video Compilation - Learn Animal Names for Children & Toddlers281.txt\n",
            "ANIMAL NAMES AND SOUNDS for Kids Video Compilation - Learn Animal Names for Children & Toddlers283.png\n",
            "/content/drive/MyDrive/DataUnchanges/NonElephantImages/ANIMAL NAMES AND SOUNDS for Kids Video Compilation - Learn Animal Names for Children & Toddlers283.png\n",
            "/content/drive/MyDrive/DataUnchanges/NonElephantImages/annot/ANIMAL NAMES AND SOUNDS for Kids Video Compilation - Learn Animal Names for Children & Toddlers283.txt\n",
            "ANIMAL NAMES AND SOUNDS for Kids Video Compilation - Learn Animal Names for Children & Toddlers280.png\n",
            "/content/drive/MyDrive/DataUnchanges/NonElephantImages/ANIMAL NAMES AND SOUNDS for Kids Video Compilation - Learn Animal Names for Children & Toddlers280.png\n",
            "/content/drive/MyDrive/DataUnchanges/NonElephantImages/annot/ANIMAL NAMES AND SOUNDS for Kids Video Compilation - Learn Animal Names for Children & Toddlers280.txt\n",
            "ANIMAL NAMES AND SOUNDS for Kids Video Compilation - Learn Animal Names for Children & Toddlers278.png\n",
            "/content/drive/MyDrive/DataUnchanges/NonElephantImages/ANIMAL NAMES AND SOUNDS for Kids Video Compilation - Learn Animal Names for Children & Toddlers278.png\n",
            "/content/drive/MyDrive/DataUnchanges/NonElephantImages/annot/ANIMAL NAMES AND SOUNDS for Kids Video Compilation - Learn Animal Names for Children & Toddlers278.txt\n",
            "ANIMAL NAMES AND SOUNDS for Kids Video Compilation - Learn Animal Names for Children & Toddlers282.png\n",
            "/content/drive/MyDrive/DataUnchanges/NonElephantImages/ANIMAL NAMES AND SOUNDS for Kids Video Compilation - Learn Animal Names for Children & Toddlers282.png\n",
            "/content/drive/MyDrive/DataUnchanges/NonElephantImages/annot/ANIMAL NAMES AND SOUNDS for Kids Video Compilation - Learn Animal Names for Children & Toddlers282.txt\n",
            "ANIMAL NAMES AND SOUNDS for Kids Video Compilation - Learn Animal Names for Children & Toddlers279.png\n",
            "/content/drive/MyDrive/DataUnchanges/NonElephantImages/ANIMAL NAMES AND SOUNDS for Kids Video Compilation - Learn Animal Names for Children & Toddlers279.png\n",
            "/content/drive/MyDrive/DataUnchanges/NonElephantImages/annot/ANIMAL NAMES AND SOUNDS for Kids Video Compilation - Learn Animal Names for Children & Toddlers279.txt\n",
            "ANIMAL NAMES AND SOUNDS for Kids Video Compilation - Learn Animal Names for Children & Toddlers285.png\n",
            "/content/drive/MyDrive/DataUnchanges/NonElephantImages/ANIMAL NAMES AND SOUNDS for Kids Video Compilation - Learn Animal Names for Children & Toddlers285.png\n",
            "/content/drive/MyDrive/DataUnchanges/NonElephantImages/annot/ANIMAL NAMES AND SOUNDS for Kids Video Compilation - Learn Animal Names for Children & Toddlers285.txt\n",
            "ANIMAL NAMES AND SOUNDS for Kids Video Compilation - Learn Animal Names for Children & Toddlers286.png\n",
            "/content/drive/MyDrive/DataUnchanges/NonElephantImages/ANIMAL NAMES AND SOUNDS for Kids Video Compilation - Learn Animal Names for Children & Toddlers286.png\n",
            "/content/drive/MyDrive/DataUnchanges/NonElephantImages/annot/ANIMAL NAMES AND SOUNDS for Kids Video Compilation - Learn Animal Names for Children & Toddlers286.txt\n",
            "ANIMAL NAMES AND SOUNDS for Kids Video Compilation - Learn Animal Names for Children & Toddlers287.png\n",
            "/content/drive/MyDrive/DataUnchanges/NonElephantImages/ANIMAL NAMES AND SOUNDS for Kids Video Compilation - Learn Animal Names for Children & Toddlers287.png\n",
            "/content/drive/MyDrive/DataUnchanges/NonElephantImages/annot/ANIMAL NAMES AND SOUNDS for Kids Video Compilation - Learn Animal Names for Children & Toddlers287.txt\n",
            "ANIMAL NAMES AND SOUNDS for Kids Video Compilation - Learn Animal Names for Children & Toddlers284.png\n",
            "/content/drive/MyDrive/DataUnchanges/NonElephantImages/ANIMAL NAMES AND SOUNDS for Kids Video Compilation - Learn Animal Names for Children & Toddlers284.png\n",
            "/content/drive/MyDrive/DataUnchanges/NonElephantImages/annot/ANIMAL NAMES AND SOUNDS for Kids Video Compilation - Learn Animal Names for Children & Toddlers284.txt\n",
            "ANIMAL NAMES AND SOUNDS for Kids Video Compilation - Learn Animal Names for Children & Toddlers291.png\n",
            "/content/drive/MyDrive/DataUnchanges/NonElephantImages/ANIMAL NAMES AND SOUNDS for Kids Video Compilation - Learn Animal Names for Children & Toddlers291.png\n",
            "/content/drive/MyDrive/DataUnchanges/NonElephantImages/annot/ANIMAL NAMES AND SOUNDS for Kids Video Compilation - Learn Animal Names for Children & Toddlers291.txt\n",
            "ANIMAL NAMES AND SOUNDS for Kids Video Compilation - Learn Animal Names for Children & Toddlers290.png\n",
            "/content/drive/MyDrive/DataUnchanges/NonElephantImages/ANIMAL NAMES AND SOUNDS for Kids Video Compilation - Learn Animal Names for Children & Toddlers290.png\n",
            "/content/drive/MyDrive/DataUnchanges/NonElephantImages/annot/ANIMAL NAMES AND SOUNDS for Kids Video Compilation - Learn Animal Names for Children & Toddlers290.txt\n",
            "ANIMAL NAMES AND SOUNDS for Kids Video Compilation - Learn Animal Names for Children & Toddlers292.png\n",
            "/content/drive/MyDrive/DataUnchanges/NonElephantImages/ANIMAL NAMES AND SOUNDS for Kids Video Compilation - Learn Animal Names for Children & Toddlers292.png\n",
            "/content/drive/MyDrive/DataUnchanges/NonElephantImages/annot/ANIMAL NAMES AND SOUNDS for Kids Video Compilation - Learn Animal Names for Children & Toddlers292.txt\n",
            "ANIMAL NAMES AND SOUNDS for Kids Video Compilation - Learn Animal Names for Children & Toddlers288.png\n",
            "/content/drive/MyDrive/DataUnchanges/NonElephantImages/ANIMAL NAMES AND SOUNDS for Kids Video Compilation - Learn Animal Names for Children & Toddlers288.png\n",
            "/content/drive/MyDrive/DataUnchanges/NonElephantImages/annot/ANIMAL NAMES AND SOUNDS for Kids Video Compilation - Learn Animal Names for Children & Toddlers288.txt\n",
            "ANIMAL NAMES AND SOUNDS for Kids Video Compilation - Learn Animal Names for Children & Toddlers293.png\n",
            "/content/drive/MyDrive/DataUnchanges/NonElephantImages/ANIMAL NAMES AND SOUNDS for Kids Video Compilation - Learn Animal Names for Children & Toddlers293.png\n",
            "/content/drive/MyDrive/DataUnchanges/NonElephantImages/annot/ANIMAL NAMES AND SOUNDS for Kids Video Compilation - Learn Animal Names for Children & Toddlers293.txt\n",
            "ANIMAL NAMES AND SOUNDS for Kids Video Compilation - Learn Animal Names for Children & Toddlers289.png\n",
            "/content/drive/MyDrive/DataUnchanges/NonElephantImages/ANIMAL NAMES AND SOUNDS for Kids Video Compilation - Learn Animal Names for Children & Toddlers289.png\n",
            "/content/drive/MyDrive/DataUnchanges/NonElephantImages/annot/ANIMAL NAMES AND SOUNDS for Kids Video Compilation - Learn Animal Names for Children & Toddlers289.txt\n",
            "ANIMAL NAMES AND SOUNDS for Kids Video Compilation - Learn Animal Names for Children & Toddlers297.png\n",
            "/content/drive/MyDrive/DataUnchanges/NonElephantImages/ANIMAL NAMES AND SOUNDS for Kids Video Compilation - Learn Animal Names for Children & Toddlers297.png\n",
            "/content/drive/MyDrive/DataUnchanges/NonElephantImages/annot/ANIMAL NAMES AND SOUNDS for Kids Video Compilation - Learn Animal Names for Children & Toddlers297.txt\n",
            "ANIMAL NAMES AND SOUNDS for Kids Video Compilation - Learn Animal Names for Children & Toddlers295.png\n",
            "/content/drive/MyDrive/DataUnchanges/NonElephantImages/ANIMAL NAMES AND SOUNDS for Kids Video Compilation - Learn Animal Names for Children & Toddlers295.png\n",
            "/content/drive/MyDrive/DataUnchanges/NonElephantImages/annot/ANIMAL NAMES AND SOUNDS for Kids Video Compilation - Learn Animal Names for Children & Toddlers295.txt\n",
            "ANIMAL NAMES AND SOUNDS for Kids Video Compilation - Learn Animal Names for Children & Toddlers294.png\n",
            "/content/drive/MyDrive/DataUnchanges/NonElephantImages/ANIMAL NAMES AND SOUNDS for Kids Video Compilation - Learn Animal Names for Children & Toddlers294.png\n",
            "/content/drive/MyDrive/DataUnchanges/NonElephantImages/annot/ANIMAL NAMES AND SOUNDS for Kids Video Compilation - Learn Animal Names for Children & Toddlers294.txt\n",
            "ANIMAL NAMES AND SOUNDS for Kids Video Compilation - Learn Animal Names for Children & Toddlers296.png\n",
            "/content/drive/MyDrive/DataUnchanges/NonElephantImages/ANIMAL NAMES AND SOUNDS for Kids Video Compilation - Learn Animal Names for Children & Toddlers296.png\n",
            "/content/drive/MyDrive/DataUnchanges/NonElephantImages/annot/ANIMAL NAMES AND SOUNDS for Kids Video Compilation - Learn Animal Names for Children & Toddlers296.txt\n",
            "ANIMAL NAMES AND SOUNDS for Kids Video Compilation - Learn Animal Names for Children & Toddlers300.png\n",
            "/content/drive/MyDrive/DataUnchanges/NonElephantImages/ANIMAL NAMES AND SOUNDS for Kids Video Compilation - Learn Animal Names for Children & Toddlers300.png\n",
            "/content/drive/MyDrive/DataUnchanges/NonElephantImages/annot/ANIMAL NAMES AND SOUNDS for Kids Video Compilation - Learn Animal Names for Children & Toddlers300.txt\n",
            "ANIMAL NAMES AND SOUNDS for Kids Video Compilation - Learn Animal Names for Children & Toddlers301.png\n",
            "/content/drive/MyDrive/DataUnchanges/NonElephantImages/ANIMAL NAMES AND SOUNDS for Kids Video Compilation - Learn Animal Names for Children & Toddlers301.png\n",
            "/content/drive/MyDrive/DataUnchanges/NonElephantImages/annot/ANIMAL NAMES AND SOUNDS for Kids Video Compilation - Learn Animal Names for Children & Toddlers301.txt\n",
            "ANIMAL NAMES AND SOUNDS for Kids Video Compilation - Learn Animal Names for Children & Toddlers302.png\n",
            "/content/drive/MyDrive/DataUnchanges/NonElephantImages/ANIMAL NAMES AND SOUNDS for Kids Video Compilation - Learn Animal Names for Children & Toddlers302.png\n",
            "/content/drive/MyDrive/DataUnchanges/NonElephantImages/annot/ANIMAL NAMES AND SOUNDS for Kids Video Compilation - Learn Animal Names for Children & Toddlers302.txt\n",
            "ANIMAL NAMES AND SOUNDS for Kids Video Compilation - Learn Animal Names for Children & Toddlers298.png\n",
            "/content/drive/MyDrive/DataUnchanges/NonElephantImages/ANIMAL NAMES AND SOUNDS for Kids Video Compilation - Learn Animal Names for Children & Toddlers298.png\n",
            "/content/drive/MyDrive/DataUnchanges/NonElephantImages/annot/ANIMAL NAMES AND SOUNDS for Kids Video Compilation - Learn Animal Names for Children & Toddlers298.txt\n",
            "ANIMAL NAMES AND SOUNDS for Kids Video Compilation - Learn Animal Names for Children & Toddlers299.png\n",
            "/content/drive/MyDrive/DataUnchanges/NonElephantImages/ANIMAL NAMES AND SOUNDS for Kids Video Compilation - Learn Animal Names for Children & Toddlers299.png\n",
            "/content/drive/MyDrive/DataUnchanges/NonElephantImages/annot/ANIMAL NAMES AND SOUNDS for Kids Video Compilation - Learn Animal Names for Children & Toddlers299.txt\n",
            "ANIMAL NAMES AND SOUNDS for Kids Video Compilation - Learn Animal Names for Children & Toddlers306.png\n",
            "/content/drive/MyDrive/DataUnchanges/NonElephantImages/ANIMAL NAMES AND SOUNDS for Kids Video Compilation - Learn Animal Names for Children & Toddlers306.png\n",
            "/content/drive/MyDrive/DataUnchanges/NonElephantImages/annot/ANIMAL NAMES AND SOUNDS for Kids Video Compilation - Learn Animal Names for Children & Toddlers306.txt\n",
            "ANIMAL NAMES AND SOUNDS for Kids Video Compilation - Learn Animal Names for Children & Toddlers307.png\n",
            "/content/drive/MyDrive/DataUnchanges/NonElephantImages/ANIMAL NAMES AND SOUNDS for Kids Video Compilation - Learn Animal Names for Children & Toddlers307.png\n",
            "/content/drive/MyDrive/DataUnchanges/NonElephantImages/annot/ANIMAL NAMES AND SOUNDS for Kids Video Compilation - Learn Animal Names for Children & Toddlers307.txt\n",
            "ANIMAL NAMES AND SOUNDS for Kids Video Compilation - Learn Animal Names for Children & Toddlers305.png\n",
            "/content/drive/MyDrive/DataUnchanges/NonElephantImages/ANIMAL NAMES AND SOUNDS for Kids Video Compilation - Learn Animal Names for Children & Toddlers305.png\n",
            "/content/drive/MyDrive/DataUnchanges/NonElephantImages/annot/ANIMAL NAMES AND SOUNDS for Kids Video Compilation - Learn Animal Names for Children & Toddlers305.txt\n",
            "ANIMAL NAMES AND SOUNDS for Kids Video Compilation - Learn Animal Names for Children & Toddlers308.png\n",
            "/content/drive/MyDrive/DataUnchanges/NonElephantImages/ANIMAL NAMES AND SOUNDS for Kids Video Compilation - Learn Animal Names for Children & Toddlers308.png\n",
            "/content/drive/MyDrive/DataUnchanges/NonElephantImages/annot/ANIMAL NAMES AND SOUNDS for Kids Video Compilation - Learn Animal Names for Children & Toddlers308.txt\n",
            "ANIMAL NAMES AND SOUNDS for Kids Video Compilation - Learn Animal Names for Children & Toddlers304.png\n",
            "/content/drive/MyDrive/DataUnchanges/NonElephantImages/ANIMAL NAMES AND SOUNDS for Kids Video Compilation - Learn Animal Names for Children & Toddlers304.png\n",
            "/content/drive/MyDrive/DataUnchanges/NonElephantImages/annot/ANIMAL NAMES AND SOUNDS for Kids Video Compilation - Learn Animal Names for Children & Toddlers304.txt\n",
            "ANIMAL NAMES AND SOUNDS for Kids Video Compilation - Learn Animal Names for Children & Toddlers303.png\n",
            "/content/drive/MyDrive/DataUnchanges/NonElephantImages/ANIMAL NAMES AND SOUNDS for Kids Video Compilation - Learn Animal Names for Children & Toddlers303.png\n",
            "/content/drive/MyDrive/DataUnchanges/NonElephantImages/annot/ANIMAL NAMES AND SOUNDS for Kids Video Compilation - Learn Animal Names for Children & Toddlers303.txt\n",
            "ANIMAL NAMES AND SOUNDS for Kids Video Compilation - Learn Animal Names for Children & Toddlers315.png\n",
            "/content/drive/MyDrive/DataUnchanges/NonElephantImages/ANIMAL NAMES AND SOUNDS for Kids Video Compilation - Learn Animal Names for Children & Toddlers315.png\n",
            "/content/drive/MyDrive/DataUnchanges/NonElephantImages/annot/ANIMAL NAMES AND SOUNDS for Kids Video Compilation - Learn Animal Names for Children & Toddlers315.txt\n",
            "ANIMAL NAMES AND SOUNDS for Kids Video Compilation - Learn Animal Names for Children & Toddlers314.png\n",
            "/content/drive/MyDrive/DataUnchanges/NonElephantImages/ANIMAL NAMES AND SOUNDS for Kids Video Compilation - Learn Animal Names for Children & Toddlers314.png\n",
            "/content/drive/MyDrive/DataUnchanges/NonElephantImages/annot/ANIMAL NAMES AND SOUNDS for Kids Video Compilation - Learn Animal Names for Children & Toddlers314.txt\n",
            "ANIMAL NAMES AND SOUNDS for Kids Video Compilation - Learn Animal Names for Children & Toddlers311.png\n",
            "/content/drive/MyDrive/DataUnchanges/NonElephantImages/ANIMAL NAMES AND SOUNDS for Kids Video Compilation - Learn Animal Names for Children & Toddlers311.png\n",
            "/content/drive/MyDrive/DataUnchanges/NonElephantImages/annot/ANIMAL NAMES AND SOUNDS for Kids Video Compilation - Learn Animal Names for Children & Toddlers311.txt\n",
            "ANIMAL NAMES AND SOUNDS for Kids Video Compilation - Learn Animal Names for Children & Toddlers309.png\n",
            "/content/drive/MyDrive/DataUnchanges/NonElephantImages/ANIMAL NAMES AND SOUNDS for Kids Video Compilation - Learn Animal Names for Children & Toddlers309.png\n",
            "/content/drive/MyDrive/DataUnchanges/NonElephantImages/annot/ANIMAL NAMES AND SOUNDS for Kids Video Compilation - Learn Animal Names for Children & Toddlers309.txt\n",
            "ANIMAL NAMES AND SOUNDS for Kids Video Compilation - Learn Animal Names for Children & Toddlers310.png\n",
            "/content/drive/MyDrive/DataUnchanges/NonElephantImages/ANIMAL NAMES AND SOUNDS for Kids Video Compilation - Learn Animal Names for Children & Toddlers310.png\n",
            "/content/drive/MyDrive/DataUnchanges/NonElephantImages/annot/ANIMAL NAMES AND SOUNDS for Kids Video Compilation - Learn Animal Names for Children & Toddlers310.txt\n",
            "ANIMAL NAMES AND SOUNDS for Kids Video Compilation - Learn Animal Names for Children & Toddlers313.png\n",
            "/content/drive/MyDrive/DataUnchanges/NonElephantImages/ANIMAL NAMES AND SOUNDS for Kids Video Compilation - Learn Animal Names for Children & Toddlers313.png\n",
            "/content/drive/MyDrive/DataUnchanges/NonElephantImages/annot/ANIMAL NAMES AND SOUNDS for Kids Video Compilation - Learn Animal Names for Children & Toddlers313.txt\n",
            "ANIMAL NAMES AND SOUNDS for Kids Video Compilation - Learn Animal Names for Children & Toddlers312.png\n",
            "/content/drive/MyDrive/DataUnchanges/NonElephantImages/ANIMAL NAMES AND SOUNDS for Kids Video Compilation - Learn Animal Names for Children & Toddlers312.png\n",
            "/content/drive/MyDrive/DataUnchanges/NonElephantImages/annot/ANIMAL NAMES AND SOUNDS for Kids Video Compilation - Learn Animal Names for Children & Toddlers312.txt\n",
            "ANIMAL NAMES AND SOUNDS for Kids Video Compilation - Learn Animal Names for Children & Toddlers317.png\n",
            "/content/drive/MyDrive/DataUnchanges/NonElephantImages/ANIMAL NAMES AND SOUNDS for Kids Video Compilation - Learn Animal Names for Children & Toddlers317.png\n",
            "/content/drive/MyDrive/DataUnchanges/NonElephantImages/annot/ANIMAL NAMES AND SOUNDS for Kids Video Compilation - Learn Animal Names for Children & Toddlers317.txt\n",
            "ANIMAL NAMES AND SOUNDS for Kids Video Compilation - Learn Animal Names for Children & Toddlers321.png\n",
            "/content/drive/MyDrive/DataUnchanges/NonElephantImages/ANIMAL NAMES AND SOUNDS for Kids Video Compilation - Learn Animal Names for Children & Toddlers321.png\n",
            "/content/drive/MyDrive/DataUnchanges/NonElephantImages/annot/ANIMAL NAMES AND SOUNDS for Kids Video Compilation - Learn Animal Names for Children & Toddlers321.txt\n",
            "ANIMAL NAMES AND SOUNDS for Kids Video Compilation - Learn Animal Names for Children & Toddlers316.png\n",
            "/content/drive/MyDrive/DataUnchanges/NonElephantImages/ANIMAL NAMES AND SOUNDS for Kids Video Compilation - Learn Animal Names for Children & Toddlers316.png\n",
            "/content/drive/MyDrive/DataUnchanges/NonElephantImages/annot/ANIMAL NAMES AND SOUNDS for Kids Video Compilation - Learn Animal Names for Children & Toddlers316.txt\n",
            "ANIMAL NAMES AND SOUNDS for Kids Video Compilation - Learn Animal Names for Children & Toddlers319.png\n",
            "/content/drive/MyDrive/DataUnchanges/NonElephantImages/ANIMAL NAMES AND SOUNDS for Kids Video Compilation - Learn Animal Names for Children & Toddlers319.png\n",
            "/content/drive/MyDrive/DataUnchanges/NonElephantImages/annot/ANIMAL NAMES AND SOUNDS for Kids Video Compilation - Learn Animal Names for Children & Toddlers319.txt\n",
            "ANIMAL NAMES AND SOUNDS for Kids Video Compilation - Learn Animal Names for Children & Toddlers318.png\n",
            "/content/drive/MyDrive/DataUnchanges/NonElephantImages/ANIMAL NAMES AND SOUNDS for Kids Video Compilation - Learn Animal Names for Children & Toddlers318.png\n",
            "/content/drive/MyDrive/DataUnchanges/NonElephantImages/annot/ANIMAL NAMES AND SOUNDS for Kids Video Compilation - Learn Animal Names for Children & Toddlers318.txt\n",
            "ANIMAL NAMES AND SOUNDS for Kids Video Compilation - Learn Animal Names for Children & Toddlers320.png\n",
            "/content/drive/MyDrive/DataUnchanges/NonElephantImages/ANIMAL NAMES AND SOUNDS for Kids Video Compilation - Learn Animal Names for Children & Toddlers320.png\n",
            "/content/drive/MyDrive/DataUnchanges/NonElephantImages/annot/ANIMAL NAMES AND SOUNDS for Kids Video Compilation - Learn Animal Names for Children & Toddlers320.txt\n",
            "ANIMAL NAMES AND SOUNDS for Kids Video Compilation - Learn Animal Names for Children & Toddlers322.png\n",
            "/content/drive/MyDrive/DataUnchanges/NonElephantImages/ANIMAL NAMES AND SOUNDS for Kids Video Compilation - Learn Animal Names for Children & Toddlers322.png\n",
            "/content/drive/MyDrive/DataUnchanges/NonElephantImages/annot/ANIMAL NAMES AND SOUNDS for Kids Video Compilation - Learn Animal Names for Children & Toddlers322.txt\n",
            "Guess the Animal Sound Game  30 Animal Sounds Quiz  Wildlife Trivia0.png\n",
            "/content/drive/MyDrive/DataUnchanges/NonElephantImages/Guess the Animal Sound Game  30 Animal Sounds Quiz  Wildlife Trivia0.png\n",
            "/content/drive/MyDrive/DataUnchanges/NonElephantImages/annot/Guess the Animal Sound Game  30 Animal Sounds Quiz  Wildlife Trivia0.txt\n",
            "Guess the Animal Sound Game  30 Animal Sounds Quiz  Wildlife Trivia1.png\n",
            "/content/drive/MyDrive/DataUnchanges/NonElephantImages/Guess the Animal Sound Game  30 Animal Sounds Quiz  Wildlife Trivia1.png\n",
            "/content/drive/MyDrive/DataUnchanges/NonElephantImages/annot/Guess the Animal Sound Game  30 Animal Sounds Quiz  Wildlife Trivia1.txt\n",
            "ANIMAL NAMES AND SOUNDS for Kids Video Compilation - Learn Animal Names for Children & Toddlers323.png\n",
            "/content/drive/MyDrive/DataUnchanges/NonElephantImages/ANIMAL NAMES AND SOUNDS for Kids Video Compilation - Learn Animal Names for Children & Toddlers323.png\n",
            "/content/drive/MyDrive/DataUnchanges/NonElephantImages/annot/ANIMAL NAMES AND SOUNDS for Kids Video Compilation - Learn Animal Names for Children & Toddlers323.txt\n",
            "ANIMAL NAMES AND SOUNDS for Kids Video Compilation - Learn Animal Names for Children & Toddlers325.png\n",
            "/content/drive/MyDrive/DataUnchanges/NonElephantImages/ANIMAL NAMES AND SOUNDS for Kids Video Compilation - Learn Animal Names for Children & Toddlers325.png\n",
            "/content/drive/MyDrive/DataUnchanges/NonElephantImages/annot/ANIMAL NAMES AND SOUNDS for Kids Video Compilation - Learn Animal Names for Children & Toddlers325.txt\n",
            "ANIMAL NAMES AND SOUNDS for Kids Video Compilation - Learn Animal Names for Children & Toddlers324.png\n",
            "/content/drive/MyDrive/DataUnchanges/NonElephantImages/ANIMAL NAMES AND SOUNDS for Kids Video Compilation - Learn Animal Names for Children & Toddlers324.png\n",
            "/content/drive/MyDrive/DataUnchanges/NonElephantImages/annot/ANIMAL NAMES AND SOUNDS for Kids Video Compilation - Learn Animal Names for Children & Toddlers324.txt\n",
            "ANIMAL NAMES AND SOUNDS for Kids Video Compilation - Learn Animal Names for Children & Toddlers326.png\n",
            "/content/drive/MyDrive/DataUnchanges/NonElephantImages/ANIMAL NAMES AND SOUNDS for Kids Video Compilation - Learn Animal Names for Children & Toddlers326.png\n",
            "/content/drive/MyDrive/DataUnchanges/NonElephantImages/annot/ANIMAL NAMES AND SOUNDS for Kids Video Compilation - Learn Animal Names for Children & Toddlers326.txt\n",
            "ANIMAL NAMES AND SOUNDS for Kids Video Compilation - Learn Animal Names for Children & Toddlers327.png\n",
            "/content/drive/MyDrive/DataUnchanges/NonElephantImages/ANIMAL NAMES AND SOUNDS for Kids Video Compilation - Learn Animal Names for Children & Toddlers327.png\n",
            "/content/drive/MyDrive/DataUnchanges/NonElephantImages/annot/ANIMAL NAMES AND SOUNDS for Kids Video Compilation - Learn Animal Names for Children & Toddlers327.txt\n",
            "Guess the Animal Sound Game  30 Animal Sounds Quiz  Wildlife Trivia7.png\n",
            "/content/drive/MyDrive/DataUnchanges/NonElephantImages/Guess the Animal Sound Game  30 Animal Sounds Quiz  Wildlife Trivia7.png\n",
            "/content/drive/MyDrive/DataUnchanges/NonElephantImages/annot/Guess the Animal Sound Game  30 Animal Sounds Quiz  Wildlife Trivia7.txt\n",
            "Guess the Animal Sound Game  30 Animal Sounds Quiz  Wildlife Trivia8.png\n",
            "/content/drive/MyDrive/DataUnchanges/NonElephantImages/Guess the Animal Sound Game  30 Animal Sounds Quiz  Wildlife Trivia8.png\n",
            "/content/drive/MyDrive/DataUnchanges/NonElephantImages/annot/Guess the Animal Sound Game  30 Animal Sounds Quiz  Wildlife Trivia8.txt\n",
            "Guess the Animal Sound Game  30 Animal Sounds Quiz  Wildlife Trivia10.png\n",
            "/content/drive/MyDrive/DataUnchanges/NonElephantImages/Guess the Animal Sound Game  30 Animal Sounds Quiz  Wildlife Trivia10.png\n",
            "/content/drive/MyDrive/DataUnchanges/NonElephantImages/annot/Guess the Animal Sound Game  30 Animal Sounds Quiz  Wildlife Trivia10.txt\n",
            "Guess the Animal Sound Game  30 Animal Sounds Quiz  Wildlife Trivia2.png\n",
            "/content/drive/MyDrive/DataUnchanges/NonElephantImages/Guess the Animal Sound Game  30 Animal Sounds Quiz  Wildlife Trivia2.png\n",
            "/content/drive/MyDrive/DataUnchanges/NonElephantImages/annot/Guess the Animal Sound Game  30 Animal Sounds Quiz  Wildlife Trivia2.txt\n",
            "Guess the Animal Sound Game  30 Animal Sounds Quiz  Wildlife Trivia3.png\n",
            "/content/drive/MyDrive/DataUnchanges/NonElephantImages/Guess the Animal Sound Game  30 Animal Sounds Quiz  Wildlife Trivia3.png\n",
            "/content/drive/MyDrive/DataUnchanges/NonElephantImages/annot/Guess the Animal Sound Game  30 Animal Sounds Quiz  Wildlife Trivia3.txt\n",
            "Guess the Animal Sound Game  30 Animal Sounds Quiz  Wildlife Trivia6.png\n",
            "/content/drive/MyDrive/DataUnchanges/NonElephantImages/Guess the Animal Sound Game  30 Animal Sounds Quiz  Wildlife Trivia6.png\n",
            "/content/drive/MyDrive/DataUnchanges/NonElephantImages/annot/Guess the Animal Sound Game  30 Animal Sounds Quiz  Wildlife Trivia6.txt\n",
            "Guess the Animal Sound Game  30 Animal Sounds Quiz  Wildlife Trivia9.png\n",
            "/content/drive/MyDrive/DataUnchanges/NonElephantImages/Guess the Animal Sound Game  30 Animal Sounds Quiz  Wildlife Trivia9.png\n",
            "/content/drive/MyDrive/DataUnchanges/NonElephantImages/annot/Guess the Animal Sound Game  30 Animal Sounds Quiz  Wildlife Trivia9.txt\n",
            "Guess the Animal Sound Game  30 Animal Sounds Quiz  Wildlife Trivia5.png\n",
            "/content/drive/MyDrive/DataUnchanges/NonElephantImages/Guess the Animal Sound Game  30 Animal Sounds Quiz  Wildlife Trivia5.png\n",
            "/content/drive/MyDrive/DataUnchanges/NonElephantImages/annot/Guess the Animal Sound Game  30 Animal Sounds Quiz  Wildlife Trivia5.txt\n",
            "Guess the Animal Sound Game  30 Animal Sounds Quiz  Wildlife Trivia4.png\n",
            "/content/drive/MyDrive/DataUnchanges/NonElephantImages/Guess the Animal Sound Game  30 Animal Sounds Quiz  Wildlife Trivia4.png\n",
            "/content/drive/MyDrive/DataUnchanges/NonElephantImages/annot/Guess the Animal Sound Game  30 Animal Sounds Quiz  Wildlife Trivia4.txt\n",
            "Guess the Animal Sound Game  30 Animal Sounds Quiz  Wildlife Trivia11.png\n",
            "/content/drive/MyDrive/DataUnchanges/NonElephantImages/Guess the Animal Sound Game  30 Animal Sounds Quiz  Wildlife Trivia11.png\n",
            "/content/drive/MyDrive/DataUnchanges/NonElephantImages/annot/Guess the Animal Sound Game  30 Animal Sounds Quiz  Wildlife Trivia11.txt\n",
            "Guess the Animal Sound Game  30 Animal Sounds Quiz  Wildlife Trivia15.png\n",
            "/content/drive/MyDrive/DataUnchanges/NonElephantImages/Guess the Animal Sound Game  30 Animal Sounds Quiz  Wildlife Trivia15.png\n",
            "/content/drive/MyDrive/DataUnchanges/NonElephantImages/annot/Guess the Animal Sound Game  30 Animal Sounds Quiz  Wildlife Trivia15.txt\n",
            "Guess the Animal Sound Game  30 Animal Sounds Quiz  Wildlife Trivia16.png\n",
            "/content/drive/MyDrive/DataUnchanges/NonElephantImages/Guess the Animal Sound Game  30 Animal Sounds Quiz  Wildlife Trivia16.png\n",
            "/content/drive/MyDrive/DataUnchanges/NonElephantImages/annot/Guess the Animal Sound Game  30 Animal Sounds Quiz  Wildlife Trivia16.txt\n",
            "Guess the Animal Sound Game  30 Animal Sounds Quiz  Wildlife Trivia14.png\n",
            "/content/drive/MyDrive/DataUnchanges/NonElephantImages/Guess the Animal Sound Game  30 Animal Sounds Quiz  Wildlife Trivia14.png\n",
            "/content/drive/MyDrive/DataUnchanges/NonElephantImages/annot/Guess the Animal Sound Game  30 Animal Sounds Quiz  Wildlife Trivia14.txt\n",
            "Guess the Animal Sound Game  30 Animal Sounds Quiz  Wildlife Trivia18.png\n",
            "/content/drive/MyDrive/DataUnchanges/NonElephantImages/Guess the Animal Sound Game  30 Animal Sounds Quiz  Wildlife Trivia18.png\n",
            "/content/drive/MyDrive/DataUnchanges/NonElephantImages/annot/Guess the Animal Sound Game  30 Animal Sounds Quiz  Wildlife Trivia18.txt\n",
            "Guess the Animal Sound Game  30 Animal Sounds Quiz  Wildlife Trivia13.png\n",
            "/content/drive/MyDrive/DataUnchanges/NonElephantImages/Guess the Animal Sound Game  30 Animal Sounds Quiz  Wildlife Trivia13.png\n",
            "/content/drive/MyDrive/DataUnchanges/NonElephantImages/annot/Guess the Animal Sound Game  30 Animal Sounds Quiz  Wildlife Trivia13.txt\n",
            "Guess the Animal Sound Game  30 Animal Sounds Quiz  Wildlife Trivia12.png\n",
            "/content/drive/MyDrive/DataUnchanges/NonElephantImages/Guess the Animal Sound Game  30 Animal Sounds Quiz  Wildlife Trivia12.png\n",
            "/content/drive/MyDrive/DataUnchanges/NonElephantImages/annot/Guess the Animal Sound Game  30 Animal Sounds Quiz  Wildlife Trivia12.txt\n",
            "Guess the Animal Sound Game  30 Animal Sounds Quiz  Wildlife Trivia17.png\n",
            "/content/drive/MyDrive/DataUnchanges/NonElephantImages/Guess the Animal Sound Game  30 Animal Sounds Quiz  Wildlife Trivia17.png\n",
            "/content/drive/MyDrive/DataUnchanges/NonElephantImages/annot/Guess the Animal Sound Game  30 Animal Sounds Quiz  Wildlife Trivia17.txt\n",
            "Guess the Animal Sound Game  30 Animal Sounds Quiz  Wildlife Trivia19.png\n",
            "/content/drive/MyDrive/DataUnchanges/NonElephantImages/Guess the Animal Sound Game  30 Animal Sounds Quiz  Wildlife Trivia19.png\n",
            "/content/drive/MyDrive/DataUnchanges/NonElephantImages/annot/Guess the Animal Sound Game  30 Animal Sounds Quiz  Wildlife Trivia19.txt\n",
            "Guess the Animal Sound Game  30 Animal Sounds Quiz  Wildlife Trivia21.png\n",
            "/content/drive/MyDrive/DataUnchanges/NonElephantImages/Guess the Animal Sound Game  30 Animal Sounds Quiz  Wildlife Trivia21.png\n",
            "/content/drive/MyDrive/DataUnchanges/NonElephantImages/annot/Guess the Animal Sound Game  30 Animal Sounds Quiz  Wildlife Trivia21.txt\n",
            "Guess the Animal Sound Game  30 Animal Sounds Quiz  Wildlife Trivia24.png\n",
            "/content/drive/MyDrive/DataUnchanges/NonElephantImages/Guess the Animal Sound Game  30 Animal Sounds Quiz  Wildlife Trivia24.png\n",
            "/content/drive/MyDrive/DataUnchanges/NonElephantImages/annot/Guess the Animal Sound Game  30 Animal Sounds Quiz  Wildlife Trivia24.txt\n",
            "Guess the Animal Sound Game  30 Animal Sounds Quiz  Wildlife Trivia22.png\n",
            "/content/drive/MyDrive/DataUnchanges/NonElephantImages/Guess the Animal Sound Game  30 Animal Sounds Quiz  Wildlife Trivia22.png\n",
            "/content/drive/MyDrive/DataUnchanges/NonElephantImages/annot/Guess the Animal Sound Game  30 Animal Sounds Quiz  Wildlife Trivia22.txt\n",
            "Guess the Animal Sound Game  30 Animal Sounds Quiz  Wildlife Trivia25.png\n",
            "/content/drive/MyDrive/DataUnchanges/NonElephantImages/Guess the Animal Sound Game  30 Animal Sounds Quiz  Wildlife Trivia25.png\n",
            "/content/drive/MyDrive/DataUnchanges/NonElephantImages/annot/Guess the Animal Sound Game  30 Animal Sounds Quiz  Wildlife Trivia25.txt\n",
            "Guess the Animal Sound Game  30 Animal Sounds Quiz  Wildlife Trivia28.png\n",
            "/content/drive/MyDrive/DataUnchanges/NonElephantImages/Guess the Animal Sound Game  30 Animal Sounds Quiz  Wildlife Trivia28.png\n",
            "/content/drive/MyDrive/DataUnchanges/NonElephantImages/annot/Guess the Animal Sound Game  30 Animal Sounds Quiz  Wildlife Trivia28.txt\n",
            "Guess the Animal Sound Game  30 Animal Sounds Quiz  Wildlife Trivia23.png\n",
            "/content/drive/MyDrive/DataUnchanges/NonElephantImages/Guess the Animal Sound Game  30 Animal Sounds Quiz  Wildlife Trivia23.png\n",
            "/content/drive/MyDrive/DataUnchanges/NonElephantImages/annot/Guess the Animal Sound Game  30 Animal Sounds Quiz  Wildlife Trivia23.txt\n",
            "Guess the Animal Sound Game  30 Animal Sounds Quiz  Wildlife Trivia20.png\n",
            "/content/drive/MyDrive/DataUnchanges/NonElephantImages/Guess the Animal Sound Game  30 Animal Sounds Quiz  Wildlife Trivia20.png\n",
            "/content/drive/MyDrive/DataUnchanges/NonElephantImages/annot/Guess the Animal Sound Game  30 Animal Sounds Quiz  Wildlife Trivia20.txt\n",
            "Guess the Animal Sound Game  30 Animal Sounds Quiz  Wildlife Trivia27.png\n",
            "/content/drive/MyDrive/DataUnchanges/NonElephantImages/Guess the Animal Sound Game  30 Animal Sounds Quiz  Wildlife Trivia27.png\n",
            "/content/drive/MyDrive/DataUnchanges/NonElephantImages/annot/Guess the Animal Sound Game  30 Animal Sounds Quiz  Wildlife Trivia27.txt\n",
            "Guess the Animal Sound Game  30 Animal Sounds Quiz  Wildlife Trivia26.png\n",
            "/content/drive/MyDrive/DataUnchanges/NonElephantImages/Guess the Animal Sound Game  30 Animal Sounds Quiz  Wildlife Trivia26.png\n",
            "/content/drive/MyDrive/DataUnchanges/NonElephantImages/annot/Guess the Animal Sound Game  30 Animal Sounds Quiz  Wildlife Trivia26.txt\n",
            "Guess the Animal Sound Game  30 Animal Sounds Quiz  Wildlife Trivia35.png\n",
            "/content/drive/MyDrive/DataUnchanges/NonElephantImages/Guess the Animal Sound Game  30 Animal Sounds Quiz  Wildlife Trivia35.png\n",
            "/content/drive/MyDrive/DataUnchanges/NonElephantImages/annot/Guess the Animal Sound Game  30 Animal Sounds Quiz  Wildlife Trivia35.txt\n",
            "Guess the Animal Sound Game  30 Animal Sounds Quiz  Wildlife Trivia30.png\n",
            "/content/drive/MyDrive/DataUnchanges/NonElephantImages/Guess the Animal Sound Game  30 Animal Sounds Quiz  Wildlife Trivia30.png\n",
            "/content/drive/MyDrive/DataUnchanges/NonElephantImages/annot/Guess the Animal Sound Game  30 Animal Sounds Quiz  Wildlife Trivia30.txt\n",
            "Guess the Animal Sound Game  30 Animal Sounds Quiz  Wildlife Trivia34.png\n",
            "/content/drive/MyDrive/DataUnchanges/NonElephantImages/Guess the Animal Sound Game  30 Animal Sounds Quiz  Wildlife Trivia34.png\n",
            "/content/drive/MyDrive/DataUnchanges/NonElephantImages/annot/Guess the Animal Sound Game  30 Animal Sounds Quiz  Wildlife Trivia34.txt\n",
            "Guess the Animal Sound Game  30 Animal Sounds Quiz  Wildlife Trivia32.png\n",
            "/content/drive/MyDrive/DataUnchanges/NonElephantImages/Guess the Animal Sound Game  30 Animal Sounds Quiz  Wildlife Trivia32.png\n",
            "/content/drive/MyDrive/DataUnchanges/NonElephantImages/annot/Guess the Animal Sound Game  30 Animal Sounds Quiz  Wildlife Trivia32.txt\n",
            "Guess the Animal Sound Game  30 Animal Sounds Quiz  Wildlife Trivia33.png\n",
            "/content/drive/MyDrive/DataUnchanges/NonElephantImages/Guess the Animal Sound Game  30 Animal Sounds Quiz  Wildlife Trivia33.png\n",
            "/content/drive/MyDrive/DataUnchanges/NonElephantImages/annot/Guess the Animal Sound Game  30 Animal Sounds Quiz  Wildlife Trivia33.txt\n",
            "Guess the Animal Sound Game  30 Animal Sounds Quiz  Wildlife Trivia29.png\n",
            "/content/drive/MyDrive/DataUnchanges/NonElephantImages/Guess the Animal Sound Game  30 Animal Sounds Quiz  Wildlife Trivia29.png\n",
            "/content/drive/MyDrive/DataUnchanges/NonElephantImages/annot/Guess the Animal Sound Game  30 Animal Sounds Quiz  Wildlife Trivia29.txt\n",
            "Guess the Animal Sound Game  30 Animal Sounds Quiz  Wildlife Trivia36.png\n",
            "/content/drive/MyDrive/DataUnchanges/NonElephantImages/Guess the Animal Sound Game  30 Animal Sounds Quiz  Wildlife Trivia36.png\n",
            "/content/drive/MyDrive/DataUnchanges/NonElephantImages/annot/Guess the Animal Sound Game  30 Animal Sounds Quiz  Wildlife Trivia36.txt\n",
            "Guess the Animal Sound Game  30 Animal Sounds Quiz  Wildlife Trivia37.png\n",
            "/content/drive/MyDrive/DataUnchanges/NonElephantImages/Guess the Animal Sound Game  30 Animal Sounds Quiz  Wildlife Trivia37.png\n",
            "/content/drive/MyDrive/DataUnchanges/NonElephantImages/annot/Guess the Animal Sound Game  30 Animal Sounds Quiz  Wildlife Trivia37.txt\n",
            "Guess the Animal Sound Game  30 Animal Sounds Quiz  Wildlife Trivia31.png\n",
            "/content/drive/MyDrive/DataUnchanges/NonElephantImages/Guess the Animal Sound Game  30 Animal Sounds Quiz  Wildlife Trivia31.png\n",
            "/content/drive/MyDrive/DataUnchanges/NonElephantImages/annot/Guess the Animal Sound Game  30 Animal Sounds Quiz  Wildlife Trivia31.txt\n",
            "Guess the Animal Sound Game  30 Animal Sounds Quiz  Wildlife Trivia38.png\n",
            "/content/drive/MyDrive/DataUnchanges/NonElephantImages/Guess the Animal Sound Game  30 Animal Sounds Quiz  Wildlife Trivia38.png\n",
            "/content/drive/MyDrive/DataUnchanges/NonElephantImages/annot/Guess the Animal Sound Game  30 Animal Sounds Quiz  Wildlife Trivia38.txt\n",
            "Guess the Animal Sound Game  30 Animal Sounds Quiz  Wildlife Trivia43.png\n",
            "/content/drive/MyDrive/DataUnchanges/NonElephantImages/Guess the Animal Sound Game  30 Animal Sounds Quiz  Wildlife Trivia43.png\n",
            "/content/drive/MyDrive/DataUnchanges/NonElephantImages/annot/Guess the Animal Sound Game  30 Animal Sounds Quiz  Wildlife Trivia43.txt\n",
            "Guess the Animal Sound Game  30 Animal Sounds Quiz  Wildlife Trivia40.png\n",
            "/content/drive/MyDrive/DataUnchanges/NonElephantImages/Guess the Animal Sound Game  30 Animal Sounds Quiz  Wildlife Trivia40.png\n",
            "/content/drive/MyDrive/DataUnchanges/NonElephantImages/annot/Guess the Animal Sound Game  30 Animal Sounds Quiz  Wildlife Trivia40.txt\n",
            "Guess the Animal Sound Game  30 Animal Sounds Quiz  Wildlife Trivia42.png\n",
            "/content/drive/MyDrive/DataUnchanges/NonElephantImages/Guess the Animal Sound Game  30 Animal Sounds Quiz  Wildlife Trivia42.png\n",
            "/content/drive/MyDrive/DataUnchanges/NonElephantImages/annot/Guess the Animal Sound Game  30 Animal Sounds Quiz  Wildlife Trivia42.txt\n",
            "Guess the Animal Sound Game  30 Animal Sounds Quiz  Wildlife Trivia41.png\n",
            "/content/drive/MyDrive/DataUnchanges/NonElephantImages/Guess the Animal Sound Game  30 Animal Sounds Quiz  Wildlife Trivia41.png\n",
            "/content/drive/MyDrive/DataUnchanges/NonElephantImages/annot/Guess the Animal Sound Game  30 Animal Sounds Quiz  Wildlife Trivia41.txt\n",
            "Guess the Animal Sound Game  30 Animal Sounds Quiz  Wildlife Trivia39.png\n",
            "/content/drive/MyDrive/DataUnchanges/NonElephantImages/Guess the Animal Sound Game  30 Animal Sounds Quiz  Wildlife Trivia39.png\n",
            "/content/drive/MyDrive/DataUnchanges/NonElephantImages/annot/Guess the Animal Sound Game  30 Animal Sounds Quiz  Wildlife Trivia39.txt\n",
            "Guess the Animal Sound Game  30 Animal Sounds Quiz  Wildlife Trivia45.png\n",
            "/content/drive/MyDrive/DataUnchanges/NonElephantImages/Guess the Animal Sound Game  30 Animal Sounds Quiz  Wildlife Trivia45.png\n",
            "/content/drive/MyDrive/DataUnchanges/NonElephantImages/annot/Guess the Animal Sound Game  30 Animal Sounds Quiz  Wildlife Trivia45.txt\n",
            "Guess the Animal Sound Game  30 Animal Sounds Quiz  Wildlife Trivia44.png\n",
            "/content/drive/MyDrive/DataUnchanges/NonElephantImages/Guess the Animal Sound Game  30 Animal Sounds Quiz  Wildlife Trivia44.png\n",
            "/content/drive/MyDrive/DataUnchanges/NonElephantImages/annot/Guess the Animal Sound Game  30 Animal Sounds Quiz  Wildlife Trivia44.txt\n",
            "Guess the Animal Sound Game  30 Animal Sounds Quiz  Wildlife Trivia54.png\n",
            "/content/drive/MyDrive/DataUnchanges/NonElephantImages/Guess the Animal Sound Game  30 Animal Sounds Quiz  Wildlife Trivia54.png\n",
            "/content/drive/MyDrive/DataUnchanges/NonElephantImages/annot/Guess the Animal Sound Game  30 Animal Sounds Quiz  Wildlife Trivia54.txt\n",
            "Guess the Animal Sound Game  30 Animal Sounds Quiz  Wildlife Trivia48.png\n",
            "/content/drive/MyDrive/DataUnchanges/NonElephantImages/Guess the Animal Sound Game  30 Animal Sounds Quiz  Wildlife Trivia48.png\n",
            "/content/drive/MyDrive/DataUnchanges/NonElephantImages/annot/Guess the Animal Sound Game  30 Animal Sounds Quiz  Wildlife Trivia48.txt\n",
            "Guess the Animal Sound Game  30 Animal Sounds Quiz  Wildlife Trivia50.png\n",
            "/content/drive/MyDrive/DataUnchanges/NonElephantImages/Guess the Animal Sound Game  30 Animal Sounds Quiz  Wildlife Trivia50.png\n",
            "/content/drive/MyDrive/DataUnchanges/NonElephantImages/annot/Guess the Animal Sound Game  30 Animal Sounds Quiz  Wildlife Trivia50.txt\n",
            "Guess the Animal Sound Game  30 Animal Sounds Quiz  Wildlife Trivia52.png\n",
            "/content/drive/MyDrive/DataUnchanges/NonElephantImages/Guess the Animal Sound Game  30 Animal Sounds Quiz  Wildlife Trivia52.png\n",
            "/content/drive/MyDrive/DataUnchanges/NonElephantImages/annot/Guess the Animal Sound Game  30 Animal Sounds Quiz  Wildlife Trivia52.txt\n",
            "Guess the Animal Sound Game  30 Animal Sounds Quiz  Wildlife Trivia46.png\n",
            "/content/drive/MyDrive/DataUnchanges/NonElephantImages/Guess the Animal Sound Game  30 Animal Sounds Quiz  Wildlife Trivia46.png\n",
            "/content/drive/MyDrive/DataUnchanges/NonElephantImages/annot/Guess the Animal Sound Game  30 Animal Sounds Quiz  Wildlife Trivia46.txt\n",
            "Guess the Animal Sound Game  30 Animal Sounds Quiz  Wildlife Trivia47.png\n",
            "/content/drive/MyDrive/DataUnchanges/NonElephantImages/Guess the Animal Sound Game  30 Animal Sounds Quiz  Wildlife Trivia47.png\n",
            "/content/drive/MyDrive/DataUnchanges/NonElephantImages/annot/Guess the Animal Sound Game  30 Animal Sounds Quiz  Wildlife Trivia47.txt\n",
            "Guess the Animal Sound Game  30 Animal Sounds Quiz  Wildlife Trivia51.png\n",
            "/content/drive/MyDrive/DataUnchanges/NonElephantImages/Guess the Animal Sound Game  30 Animal Sounds Quiz  Wildlife Trivia51.png\n",
            "/content/drive/MyDrive/DataUnchanges/NonElephantImages/annot/Guess the Animal Sound Game  30 Animal Sounds Quiz  Wildlife Trivia51.txt\n",
            "Guess the Animal Sound Game  30 Animal Sounds Quiz  Wildlife Trivia49.png\n",
            "/content/drive/MyDrive/DataUnchanges/NonElephantImages/Guess the Animal Sound Game  30 Animal Sounds Quiz  Wildlife Trivia49.png\n",
            "/content/drive/MyDrive/DataUnchanges/NonElephantImages/annot/Guess the Animal Sound Game  30 Animal Sounds Quiz  Wildlife Trivia49.txt\n",
            "Guess the Animal Sound Game  30 Animal Sounds Quiz  Wildlife Trivia53.png\n",
            "/content/drive/MyDrive/DataUnchanges/NonElephantImages/Guess the Animal Sound Game  30 Animal Sounds Quiz  Wildlife Trivia53.png\n",
            "/content/drive/MyDrive/DataUnchanges/NonElephantImages/annot/Guess the Animal Sound Game  30 Animal Sounds Quiz  Wildlife Trivia53.txt\n",
            "Guess the Animal Sound Game  30 Animal Sounds Quiz  Wildlife Trivia55.png\n",
            "/content/drive/MyDrive/DataUnchanges/NonElephantImages/Guess the Animal Sound Game  30 Animal Sounds Quiz  Wildlife Trivia55.png\n",
            "/content/drive/MyDrive/DataUnchanges/NonElephantImages/annot/Guess the Animal Sound Game  30 Animal Sounds Quiz  Wildlife Trivia55.txt\n",
            "Guess the Animal Sound Game  30 Animal Sounds Quiz  Wildlife Trivia57.png\n",
            "/content/drive/MyDrive/DataUnchanges/NonElephantImages/Guess the Animal Sound Game  30 Animal Sounds Quiz  Wildlife Trivia57.png\n",
            "/content/drive/MyDrive/DataUnchanges/NonElephantImages/annot/Guess the Animal Sound Game  30 Animal Sounds Quiz  Wildlife Trivia57.txt\n",
            "Guess the Animal Sound Game  30 Animal Sounds Quiz  Wildlife Trivia56.png\n",
            "/content/drive/MyDrive/DataUnchanges/NonElephantImages/Guess the Animal Sound Game  30 Animal Sounds Quiz  Wildlife Trivia56.png\n",
            "/content/drive/MyDrive/DataUnchanges/NonElephantImages/annot/Guess the Animal Sound Game  30 Animal Sounds Quiz  Wildlife Trivia56.txt\n",
            "Guess the Animal Sound Game  30 Animal Sounds Quiz  Wildlife Trivia59.png\n",
            "/content/drive/MyDrive/DataUnchanges/NonElephantImages/Guess the Animal Sound Game  30 Animal Sounds Quiz  Wildlife Trivia59.png\n",
            "/content/drive/MyDrive/DataUnchanges/NonElephantImages/annot/Guess the Animal Sound Game  30 Animal Sounds Quiz  Wildlife Trivia59.txt\n",
            "Guess the Animal Sound Game  30 Animal Sounds Quiz  Wildlife Trivia60.png\n",
            "/content/drive/MyDrive/DataUnchanges/NonElephantImages/Guess the Animal Sound Game  30 Animal Sounds Quiz  Wildlife Trivia60.png\n",
            "/content/drive/MyDrive/DataUnchanges/NonElephantImages/annot/Guess the Animal Sound Game  30 Animal Sounds Quiz  Wildlife Trivia60.txt\n",
            "Guess the Animal Sound Game  30 Animal Sounds Quiz  Wildlife Trivia62.png\n",
            "/content/drive/MyDrive/DataUnchanges/NonElephantImages/Guess the Animal Sound Game  30 Animal Sounds Quiz  Wildlife Trivia62.png\n",
            "/content/drive/MyDrive/DataUnchanges/NonElephantImages/annot/Guess the Animal Sound Game  30 Animal Sounds Quiz  Wildlife Trivia62.txt\n",
            "Guess the Animal Sound Game  30 Animal Sounds Quiz  Wildlife Trivia58.png\n",
            "/content/drive/MyDrive/DataUnchanges/NonElephantImages/Guess the Animal Sound Game  30 Animal Sounds Quiz  Wildlife Trivia58.png\n",
            "/content/drive/MyDrive/DataUnchanges/NonElephantImages/annot/Guess the Animal Sound Game  30 Animal Sounds Quiz  Wildlife Trivia58.txt\n",
            "Guess the Animal Sound Game  30 Animal Sounds Quiz  Wildlife Trivia61.png\n",
            "/content/drive/MyDrive/DataUnchanges/NonElephantImages/Guess the Animal Sound Game  30 Animal Sounds Quiz  Wildlife Trivia61.png\n",
            "/content/drive/MyDrive/DataUnchanges/NonElephantImages/annot/Guess the Animal Sound Game  30 Animal Sounds Quiz  Wildlife Trivia61.txt\n",
            "Guess the Animal Sound Game  30 Animal Sounds Quiz  Wildlife Trivia64.png\n",
            "/content/drive/MyDrive/DataUnchanges/NonElephantImages/Guess the Animal Sound Game  30 Animal Sounds Quiz  Wildlife Trivia64.png\n",
            "/content/drive/MyDrive/DataUnchanges/NonElephantImages/annot/Guess the Animal Sound Game  30 Animal Sounds Quiz  Wildlife Trivia64.txt\n",
            "Guess The Animal Sounds For Kids  4K0.png\n",
            "/content/drive/MyDrive/DataUnchanges/NonElephantImages/Guess The Animal Sounds For Kids  4K0.png\n",
            "/content/drive/MyDrive/DataUnchanges/NonElephantImages/annot/Guess The Animal Sounds For Kids  4K0.txt\n",
            "Guess the Animal Sound Game  30 Animal Sounds Quiz  Wildlife Trivia63.png\n",
            "/content/drive/MyDrive/DataUnchanges/NonElephantImages/Guess the Animal Sound Game  30 Animal Sounds Quiz  Wildlife Trivia63.png\n",
            "/content/drive/MyDrive/DataUnchanges/NonElephantImages/annot/Guess the Animal Sound Game  30 Animal Sounds Quiz  Wildlife Trivia63.txt\n",
            "Guess The Animal Sounds For Kids  4K2.png\n",
            "/content/drive/MyDrive/DataUnchanges/NonElephantImages/Guess The Animal Sounds For Kids  4K2.png\n",
            "/content/drive/MyDrive/DataUnchanges/NonElephantImages/annot/Guess The Animal Sounds For Kids  4K2.txt\n",
            "Guess the Animal Sound Game  30 Animal Sounds Quiz  Wildlife Trivia66.png\n",
            "/content/drive/MyDrive/DataUnchanges/NonElephantImages/Guess the Animal Sound Game  30 Animal Sounds Quiz  Wildlife Trivia66.png\n",
            "/content/drive/MyDrive/DataUnchanges/NonElephantImages/annot/Guess the Animal Sound Game  30 Animal Sounds Quiz  Wildlife Trivia66.txt\n",
            "Guess the Animal Sound Game  30 Animal Sounds Quiz  Wildlife Trivia65.png\n",
            "/content/drive/MyDrive/DataUnchanges/NonElephantImages/Guess the Animal Sound Game  30 Animal Sounds Quiz  Wildlife Trivia65.png\n",
            "/content/drive/MyDrive/DataUnchanges/NonElephantImages/annot/Guess the Animal Sound Game  30 Animal Sounds Quiz  Wildlife Trivia65.txt\n",
            "Guess The Animal Sounds For Kids  4K3.png\n",
            "/content/drive/MyDrive/DataUnchanges/NonElephantImages/Guess The Animal Sounds For Kids  4K3.png\n",
            "/content/drive/MyDrive/DataUnchanges/NonElephantImages/annot/Guess The Animal Sounds For Kids  4K3.txt\n",
            "Guess The Animal Sounds For Kids  4K1.png\n",
            "/content/drive/MyDrive/DataUnchanges/NonElephantImages/Guess The Animal Sounds For Kids  4K1.png\n",
            "/content/drive/MyDrive/DataUnchanges/NonElephantImages/annot/Guess The Animal Sounds For Kids  4K1.txt\n",
            "Guess The Animal Sounds For Kids  4K6.png\n",
            "/content/drive/MyDrive/DataUnchanges/NonElephantImages/Guess The Animal Sounds For Kids  4K6.png\n",
            "/content/drive/MyDrive/DataUnchanges/NonElephantImages/annot/Guess The Animal Sounds For Kids  4K6.txt\n",
            "Guess The Animal Sounds For Kids  4K8.png\n",
            "/content/drive/MyDrive/DataUnchanges/NonElephantImages/Guess The Animal Sounds For Kids  4K8.png\n",
            "/content/drive/MyDrive/DataUnchanges/NonElephantImages/annot/Guess The Animal Sounds For Kids  4K8.txt\n",
            "Guess The Animal Sounds For Kids  4K4.png\n",
            "/content/drive/MyDrive/DataUnchanges/NonElephantImages/Guess The Animal Sounds For Kids  4K4.png\n",
            "/content/drive/MyDrive/DataUnchanges/NonElephantImages/annot/Guess The Animal Sounds For Kids  4K4.txt\n",
            "Guess The Animal Sounds For Kids  4K5.png\n",
            "/content/drive/MyDrive/DataUnchanges/NonElephantImages/Guess The Animal Sounds For Kids  4K5.png\n",
            "/content/drive/MyDrive/DataUnchanges/NonElephantImages/annot/Guess The Animal Sounds For Kids  4K5.txt\n",
            "Guess The Animal Sounds For Kids  4K9.png\n",
            "/content/drive/MyDrive/DataUnchanges/NonElephantImages/Guess The Animal Sounds For Kids  4K9.png\n",
            "/content/drive/MyDrive/DataUnchanges/NonElephantImages/annot/Guess The Animal Sounds For Kids  4K9.txt\n",
            "Guess The Animal Sounds For Kids  4K7.png\n",
            "/content/drive/MyDrive/DataUnchanges/NonElephantImages/Guess The Animal Sounds For Kids  4K7.png\n",
            "/content/drive/MyDrive/DataUnchanges/NonElephantImages/annot/Guess The Animal Sounds For Kids  4K7.txt\n",
            "Guess The Animal Sounds For Kids  4K14.png\n",
            "/content/drive/MyDrive/DataUnchanges/NonElephantImages/Guess The Animal Sounds For Kids  4K14.png\n",
            "/content/drive/MyDrive/DataUnchanges/NonElephantImages/annot/Guess The Animal Sounds For Kids  4K14.txt\n",
            "Guess The Animal Sounds For Kids  4K10.png\n",
            "/content/drive/MyDrive/DataUnchanges/NonElephantImages/Guess The Animal Sounds For Kids  4K10.png\n",
            "/content/drive/MyDrive/DataUnchanges/NonElephantImages/annot/Guess The Animal Sounds For Kids  4K10.txt\n",
            "Guess The Animal Sounds For Kids  4K11.png\n",
            "/content/drive/MyDrive/DataUnchanges/NonElephantImages/Guess The Animal Sounds For Kids  4K11.png\n",
            "/content/drive/MyDrive/DataUnchanges/NonElephantImages/annot/Guess The Animal Sounds For Kids  4K11.txt\n",
            "Guess The Animal Sounds For Kids  4K13.png\n",
            "/content/drive/MyDrive/DataUnchanges/NonElephantImages/Guess The Animal Sounds For Kids  4K13.png\n",
            "/content/drive/MyDrive/DataUnchanges/NonElephantImages/annot/Guess The Animal Sounds For Kids  4K13.txt\n",
            "Guess The Animal Sounds For Kids  4K12.png\n",
            "/content/drive/MyDrive/DataUnchanges/NonElephantImages/Guess The Animal Sounds For Kids  4K12.png\n",
            "/content/drive/MyDrive/DataUnchanges/NonElephantImages/annot/Guess The Animal Sounds For Kids  4K12.txt\n",
            "Guess The Animal Sounds For Kids  4K15.png\n",
            "/content/drive/MyDrive/DataUnchanges/NonElephantImages/Guess The Animal Sounds For Kids  4K15.png\n",
            "/content/drive/MyDrive/DataUnchanges/NonElephantImages/annot/Guess The Animal Sounds For Kids  4K15.txt\n",
            "Guess The Animal Sounds For Kids  4K22.png\n",
            "/content/drive/MyDrive/DataUnchanges/NonElephantImages/Guess The Animal Sounds For Kids  4K22.png\n",
            "/content/drive/MyDrive/DataUnchanges/NonElephantImages/annot/Guess The Animal Sounds For Kids  4K22.txt\n",
            "Guess The Animal Sounds For Kids  4K19.png\n",
            "/content/drive/MyDrive/DataUnchanges/NonElephantImages/Guess The Animal Sounds For Kids  4K19.png\n",
            "/content/drive/MyDrive/DataUnchanges/NonElephantImages/annot/Guess The Animal Sounds For Kids  4K19.txt\n",
            "Guess The Animal Sounds For Kids  4K17.png\n",
            "/content/drive/MyDrive/DataUnchanges/NonElephantImages/Guess The Animal Sounds For Kids  4K17.png\n",
            "/content/drive/MyDrive/DataUnchanges/NonElephantImages/annot/Guess The Animal Sounds For Kids  4K17.txt\n",
            "Guess The Animal Sounds For Kids  4K18.png\n",
            "/content/drive/MyDrive/DataUnchanges/NonElephantImages/Guess The Animal Sounds For Kids  4K18.png\n",
            "/content/drive/MyDrive/DataUnchanges/NonElephantImages/annot/Guess The Animal Sounds For Kids  4K18.txt\n",
            "Guess The Animal Sounds For Kids  4K21.png\n",
            "/content/drive/MyDrive/DataUnchanges/NonElephantImages/Guess The Animal Sounds For Kids  4K21.png\n",
            "/content/drive/MyDrive/DataUnchanges/NonElephantImages/annot/Guess The Animal Sounds For Kids  4K21.txt\n",
            "Guess The Animal Sounds For Kids  4K16.png\n",
            "/content/drive/MyDrive/DataUnchanges/NonElephantImages/Guess The Animal Sounds For Kids  4K16.png\n",
            "/content/drive/MyDrive/DataUnchanges/NonElephantImages/annot/Guess The Animal Sounds For Kids  4K16.txt\n",
            "Guess The Animal Sounds For Kids  4K20.png\n",
            "/content/drive/MyDrive/DataUnchanges/NonElephantImages/Guess The Animal Sounds For Kids  4K20.png\n",
            "/content/drive/MyDrive/DataUnchanges/NonElephantImages/annot/Guess The Animal Sounds For Kids  4K20.txt\n",
            "Guess The Animal Sounds For Kids  4K27.png\n",
            "/content/drive/MyDrive/DataUnchanges/NonElephantImages/Guess The Animal Sounds For Kids  4K27.png\n",
            "/content/drive/MyDrive/DataUnchanges/NonElephantImages/annot/Guess The Animal Sounds For Kids  4K27.txt\n",
            "Guess The Animal Sounds For Kids  4K28.png\n",
            "/content/drive/MyDrive/DataUnchanges/NonElephantImages/Guess The Animal Sounds For Kids  4K28.png\n",
            "/content/drive/MyDrive/DataUnchanges/NonElephantImages/annot/Guess The Animal Sounds For Kids  4K28.txt\n",
            "Guess The Animal Sounds For Kids  4K25.png\n",
            "/content/drive/MyDrive/DataUnchanges/NonElephantImages/Guess The Animal Sounds For Kids  4K25.png\n",
            "/content/drive/MyDrive/DataUnchanges/NonElephantImages/annot/Guess The Animal Sounds For Kids  4K25.txt\n",
            "Guess The Animal Sounds For Kids  4K24.png\n",
            "/content/drive/MyDrive/DataUnchanges/NonElephantImages/Guess The Animal Sounds For Kids  4K24.png\n",
            "/content/drive/MyDrive/DataUnchanges/NonElephantImages/annot/Guess The Animal Sounds For Kids  4K24.txt\n",
            "Guess The Animal Sounds For Kids  4K23.png\n",
            "/content/drive/MyDrive/DataUnchanges/NonElephantImages/Guess The Animal Sounds For Kids  4K23.png\n",
            "/content/drive/MyDrive/DataUnchanges/NonElephantImages/annot/Guess The Animal Sounds For Kids  4K23.txt\n",
            "Guess The Animal Sounds For Kids  4K26.png\n",
            "/content/drive/MyDrive/DataUnchanges/NonElephantImages/Guess The Animal Sounds For Kids  4K26.png\n",
            "/content/drive/MyDrive/DataUnchanges/NonElephantImages/annot/Guess The Animal Sounds For Kids  4K26.txt\n",
            "Guess The Animal Sounds For Kids  4K29.png\n",
            "/content/drive/MyDrive/DataUnchanges/NonElephantImages/Guess The Animal Sounds For Kids  4K29.png\n",
            "/content/drive/MyDrive/DataUnchanges/NonElephantImages/annot/Guess The Animal Sounds For Kids  4K29.txt\n",
            "Guess The Animal Sounds For Kids  4K37.png\n",
            "/content/drive/MyDrive/DataUnchanges/NonElephantImages/Guess The Animal Sounds For Kids  4K37.png\n",
            "/content/drive/MyDrive/DataUnchanges/NonElephantImages/annot/Guess The Animal Sounds For Kids  4K37.txt\n",
            "Guess The Animal Sounds For Kids  4K35.png\n",
            "/content/drive/MyDrive/DataUnchanges/NonElephantImages/Guess The Animal Sounds For Kids  4K35.png\n",
            "/content/drive/MyDrive/DataUnchanges/NonElephantImages/annot/Guess The Animal Sounds For Kids  4K35.txt\n",
            "Guess The Animal Sounds For Kids  4K30.png\n",
            "/content/drive/MyDrive/DataUnchanges/NonElephantImages/Guess The Animal Sounds For Kids  4K30.png\n",
            "/content/drive/MyDrive/DataUnchanges/NonElephantImages/annot/Guess The Animal Sounds For Kids  4K30.txt\n",
            "Guess The Animal Sounds For Kids  4K31.png\n",
            "/content/drive/MyDrive/DataUnchanges/NonElephantImages/Guess The Animal Sounds For Kids  4K31.png\n",
            "/content/drive/MyDrive/DataUnchanges/NonElephantImages/annot/Guess The Animal Sounds For Kids  4K31.txt\n",
            "Guess The Animal Sounds For Kids  4K32.png\n",
            "/content/drive/MyDrive/DataUnchanges/NonElephantImages/Guess The Animal Sounds For Kids  4K32.png\n",
            "/content/drive/MyDrive/DataUnchanges/NonElephantImages/annot/Guess The Animal Sounds For Kids  4K32.txt\n",
            "Guess The Animal Sounds For Kids  4K34.png\n",
            "/content/drive/MyDrive/DataUnchanges/NonElephantImages/Guess The Animal Sounds For Kids  4K34.png\n",
            "/content/drive/MyDrive/DataUnchanges/NonElephantImages/annot/Guess The Animal Sounds For Kids  4K34.txt\n",
            "Guess The Animal Sounds For Kids  4K33.png\n",
            "/content/drive/MyDrive/DataUnchanges/NonElephantImages/Guess The Animal Sounds For Kids  4K33.png\n",
            "/content/drive/MyDrive/DataUnchanges/NonElephantImages/annot/Guess The Animal Sounds For Kids  4K33.txt\n",
            "Guess The Animal Sounds For Kids  4K36.png\n",
            "/content/drive/MyDrive/DataUnchanges/NonElephantImages/Guess The Animal Sounds For Kids  4K36.png\n",
            "/content/drive/MyDrive/DataUnchanges/NonElephantImages/annot/Guess The Animal Sounds For Kids  4K36.txt\n",
            "Guess The Animal Sounds For Kids  4K45.png\n",
            "/content/drive/MyDrive/DataUnchanges/NonElephantImages/Guess The Animal Sounds For Kids  4K45.png\n",
            "/content/drive/MyDrive/DataUnchanges/NonElephantImages/annot/Guess The Animal Sounds For Kids  4K45.txt\n",
            "Guess The Animal Sounds For Kids  4K44.png\n",
            "/content/drive/MyDrive/DataUnchanges/NonElephantImages/Guess The Animal Sounds For Kids  4K44.png\n",
            "/content/drive/MyDrive/DataUnchanges/NonElephantImages/annot/Guess The Animal Sounds For Kids  4K44.txt\n",
            "Guess The Animal Sounds For Kids  4K39.png\n",
            "/content/drive/MyDrive/DataUnchanges/NonElephantImages/Guess The Animal Sounds For Kids  4K39.png\n",
            "/content/drive/MyDrive/DataUnchanges/NonElephantImages/annot/Guess The Animal Sounds For Kids  4K39.txt\n",
            "Guess The Animal Sounds For Kids  4K43.png\n",
            "/content/drive/MyDrive/DataUnchanges/NonElephantImages/Guess The Animal Sounds For Kids  4K43.png\n",
            "/content/drive/MyDrive/DataUnchanges/NonElephantImages/annot/Guess The Animal Sounds For Kids  4K43.txt\n",
            "Guess The Animal Sounds For Kids  4K41.png\n",
            "/content/drive/MyDrive/DataUnchanges/NonElephantImages/Guess The Animal Sounds For Kids  4K41.png\n",
            "/content/drive/MyDrive/DataUnchanges/NonElephantImages/annot/Guess The Animal Sounds For Kids  4K41.txt\n",
            "Guess The Animal Sounds For Kids  4K40.png\n",
            "/content/drive/MyDrive/DataUnchanges/NonElephantImages/Guess The Animal Sounds For Kids  4K40.png\n",
            "/content/drive/MyDrive/DataUnchanges/NonElephantImages/annot/Guess The Animal Sounds For Kids  4K40.txt\n",
            "Guess The Animal Sounds For Kids  4K38.png\n",
            "/content/drive/MyDrive/DataUnchanges/NonElephantImages/Guess The Animal Sounds For Kids  4K38.png\n",
            "/content/drive/MyDrive/DataUnchanges/NonElephantImages/annot/Guess The Animal Sounds For Kids  4K38.txt\n",
            "Guess The Animal Sounds For Kids  4K42.png\n",
            "/content/drive/MyDrive/DataUnchanges/NonElephantImages/Guess The Animal Sounds For Kids  4K42.png\n",
            "/content/drive/MyDrive/DataUnchanges/NonElephantImages/annot/Guess The Animal Sounds For Kids  4K42.txt\n",
            "Guess The Animal Sounds For Kids  4K51.png\n",
            "/content/drive/MyDrive/DataUnchanges/NonElephantImages/Guess The Animal Sounds For Kids  4K51.png\n",
            "/content/drive/MyDrive/DataUnchanges/NonElephantImages/annot/Guess The Animal Sounds For Kids  4K51.txt\n",
            "Guess The Animal Sounds For Kids  4K49.png\n",
            "/content/drive/MyDrive/DataUnchanges/NonElephantImages/Guess The Animal Sounds For Kids  4K49.png\n",
            "/content/drive/MyDrive/DataUnchanges/NonElephantImages/annot/Guess The Animal Sounds For Kids  4K49.txt\n",
            "Guess The Animal Sounds For Kids  4K48.png\n",
            "/content/drive/MyDrive/DataUnchanges/NonElephantImages/Guess The Animal Sounds For Kids  4K48.png\n",
            "/content/drive/MyDrive/DataUnchanges/NonElephantImages/annot/Guess The Animal Sounds For Kids  4K48.txt\n",
            "Guess The Animal Sounds For Kids  4K47.png\n",
            "/content/drive/MyDrive/DataUnchanges/NonElephantImages/Guess The Animal Sounds For Kids  4K47.png\n",
            "/content/drive/MyDrive/DataUnchanges/NonElephantImages/annot/Guess The Animal Sounds For Kids  4K47.txt\n",
            "Guess The Animal Sounds For Kids  4K50.png\n",
            "/content/drive/MyDrive/DataUnchanges/NonElephantImages/Guess The Animal Sounds For Kids  4K50.png\n",
            "/content/drive/MyDrive/DataUnchanges/NonElephantImages/annot/Guess The Animal Sounds For Kids  4K50.txt\n",
            "Guess The Animal Sounds For Kids  4K52.png\n",
            "/content/drive/MyDrive/DataUnchanges/NonElephantImages/Guess The Animal Sounds For Kids  4K52.png\n",
            "/content/drive/MyDrive/DataUnchanges/NonElephantImages/annot/Guess The Animal Sounds For Kids  4K52.txt\n",
            "Guess The Animal Sounds For Kids  4K46.png\n",
            "/content/drive/MyDrive/DataUnchanges/NonElephantImages/Guess The Animal Sounds For Kids  4K46.png\n",
            "/content/drive/MyDrive/DataUnchanges/NonElephantImages/annot/Guess The Animal Sounds For Kids  4K46.txt\n"
          ]
        }
      ]
    },
    {
      "cell_type": "code",
      "source": [
        "import shutil\n",
        "\n",
        "# Source directory\n",
        "source_dir = \"/content/drive/MyDrive/ImageFinalDataNonElephant/CombinedDataNonElephant\"\n",
        "\n",
        "# Destination directory\n",
        "destination_dir = \"/content/drive/MyDrive/DataUnchanges/NonElephantImages\"\n",
        "if os.path.exists(destination_dir):\n",
        "    shutil.rmtree(destination_dir)\n",
        "\n",
        "# Copy the entire directory tree from source to destination\n",
        "shutil.copytree(source_dir, destination_dir)"
      ],
      "metadata": {
        "colab": {
          "base_uri": "https://localhost:8080/",
          "height": 36
        },
        "id": "T1-WgOsAMcYO",
        "outputId": "d8a2f1ea-0d5a-49ff-9f68-c69c220642c8"
      },
      "execution_count": null,
      "outputs": [
        {
          "output_type": "execute_result",
          "data": {
            "text/plain": [
              "'/content/drive/MyDrive/DataUnchanges/NonElephantImages'"
            ],
            "application/vnd.google.colaboratory.intrinsic+json": {
              "type": "string"
            }
          },
          "metadata": {},
          "execution_count": 9
        }
      ]
    },
    {
      "cell_type": "code",
      "source": [
        "abc = '/content/abc.txt'\n",
        "f = open(abc, 'x')\n",
        "f.close()"
      ],
      "metadata": {
        "id": "3NX0yYwTMlGB"
      },
      "execution_count": null,
      "outputs": []
    },
    {
      "cell_type": "code",
      "source": [
        "print(annotFile)"
      ],
      "metadata": {
        "colab": {
          "base_uri": "https://localhost:8080/",
          "height": 141
        },
        "id": "0loJldKNdnEi",
        "outputId": "34387c2c-43e5-45f6-ac95-c11954dcb9f9"
      },
      "execution_count": null,
      "outputs": [
        {
          "output_type": "error",
          "ename": "NameError",
          "evalue": "name 'annotFile' is not defined",
          "traceback": [
            "\u001b[0;31m---------------------------------------------------------------------------\u001b[0m",
            "\u001b[0;31mNameError\u001b[0m                                 Traceback (most recent call last)",
            "\u001b[0;32m<ipython-input-5-dcbbe6e59077>\u001b[0m in \u001b[0;36m<cell line: 1>\u001b[0;34m()\u001b[0m\n\u001b[0;32m----> 1\u001b[0;31m \u001b[0mprint\u001b[0m\u001b[0;34m(\u001b[0m\u001b[0mannotFile\u001b[0m\u001b[0;34m)\u001b[0m\u001b[0;34m\u001b[0m\u001b[0;34m\u001b[0m\u001b[0m\n\u001b[0m",
            "\u001b[0;31mNameError\u001b[0m: name 'annotFile' is not defined"
          ]
        }
      ]
    },
    {
      "cell_type": "code",
      "source": [
        "shutil.move('/content/drive/MyDrive/YOLOTrainingImages/train', '/content/drive/MyDrive/YoloTraining/train')\n"
      ],
      "metadata": {
        "colab": {
          "base_uri": "https://localhost:8080/",
          "height": 36
        },
        "id": "rogMtuN5ubbI",
        "outputId": "d9495e93-8d1d-46cb-f7df-05e6f51bf363"
      },
      "execution_count": null,
      "outputs": [
        {
          "output_type": "execute_result",
          "data": {
            "text/plain": [
              "'/content/drive/MyDrive/YoloTraining/train'"
            ],
            "application/vnd.google.colaboratory.intrinsic+json": {
              "type": "string"
            }
          },
          "metadata": {},
          "execution_count": 5
        }
      ]
    },
    {
      "cell_type": "code",
      "source": [
        "folder_path = '/content/drive/MyDrive/YoloTraining'\n",
        "dest_folder_images = '/content/drive/MyDrive/YOLOTrainingImages'\n",
        "dest_folder_spectogram = '/content/drive/MyDrive/YOLOTrainingSpectogram'\n",
        "\n",
        "for item in os.listdir(folder_path):\n",
        "    # Construct full file path\n",
        "    source_item_path = os.path.join(folder_path, item)\n",
        "    destination_item_path = os.path.join(dest_folder_images, item)\n",
        "    destination_item_path2 = os.path.join(dest_folder_spectogram, item)\n",
        "    if os.path.isdir(source_item_path):\n",
        "        # Use copytree for directories\n",
        "        shutil.copytree(source_item_path, destination_item_path, dirs_exist_ok=True)\n",
        "        shutil.copytree(source_item_path, destination_item_path2, dirs_exist_ok=True)\n",
        "\n",
        "    else:\n",
        "        pass\n",
        "\n",
        "\n"
      ],
      "metadata": {
        "id": "_v7VmjpbjZbe"
      },
      "execution_count": null,
      "outputs": []
    },
    {
      "cell_type": "code",
      "source": [
        "folder_path = '/content/drive/MyDrive/YOLOTrainingSpectogram/validate/labels'\n",
        "target_string = '0 0.5 0.75 1 0.5'\n",
        "for file_name in os.listdir(folder_path):\n",
        "  source_item_path = os.path.join(folder_path, file_name)\n",
        "  with open(source_item_path, 'r') as read_file, open(source_item_path + '.tmp', 'w') as write_file:\n",
        "    # Read and process each line\n",
        "    for line in read_file:\n",
        "        # If the target string is not in the current line, write it to the new file\n",
        "        if target_string in line:\n",
        "            write_file.write(line)\n",
        "  os.replace(source_item_path + '.tmp', source_item_path)"
      ],
      "metadata": {
        "id": "oyE13eCZyok2"
      },
      "execution_count": null,
      "outputs": []
    },
    {
      "cell_type": "code",
      "source": [],
      "metadata": {
        "id": "_B4n7amazRe3"
      },
      "execution_count": null,
      "outputs": []
    },
    {
      "cell_type": "code",
      "source": [
        "folder_path = '/content/drive/MyDrive/DataUnchanges/NonElephantImages'\n",
        "train_folder_images = '/content/drive/MyDrive/YoloTraining/train/images'\n",
        "test_folder_images = '/content/drive/MyDrive/YoloTraining/test/images'\n",
        "val_folder_images = '/content/drive/MyDrive/YoloTraining/validate/images'\n",
        "train_folder_labels = '/content/drive/MyDrive/YoloTraining/train/labels'\n",
        "test_folder_labels = '/content/drive/MyDrive/YoloTraining/test/labels'\n",
        "val_folder_labels = '/content/drive/MyDrive/YoloTraining/validate/labels'\n",
        "\n",
        "for file_name in os.listdir(folder_path):\n",
        "  if file_name.endswith('.png'):\n",
        "    random_number = random.randint(0, 100)\n",
        "    image_file = '/content/drive/MyDrive/DataUnchanges/NonElephantImages/' + file_name\n",
        "    annot_file = '/content/drive/MyDrive/DataUnchanges/NonElephantImages/annot/'+file_name[:-4]+'.txt'\n",
        "    if random_number >= 95:\n",
        "      shutil.move(image_file, test_folder_images)\n",
        "      shutil.move(annot_file, test_folder_labels)\n",
        "      print(\"Test    Test    Test   Test    Test    Test    Test    Test    Test    Test    Test    Test\")\n",
        "    elif random_number >=75:\n",
        "      shutil.move(image_file, val_folder_images)\n",
        "      shutil.move(annot_file, val_folder_labels)\n",
        "      print('Val    Val    Val    Val    Val    Val    Val    Val    Val    Val    Val    Val    Val    Val')\n",
        "    else:\n",
        "      shutil.move(image_file, train_folder_images)\n",
        "      shutil.move(annot_file, train_folder_labels)\n",
        "      print('Train    Train    Train    Train    Train    Train    Train    Train    Train    Train    Train')\n",
        "\n",
        "print('Done    Done    Done    Done    Done    Done   Done   Done    Done    Done    Done   Done    Done   Done')"
      ],
      "metadata": {
        "colab": {
          "base_uri": "https://localhost:8080/"
        },
        "id": "D1dw-7ZoeSA4",
        "outputId": "410dd876-3e59-41e7-d42a-4e07af29dc0a"
      },
      "execution_count": null,
      "outputs": [
        {
          "output_type": "stream",
          "name": "stdout",
          "text": [
            "Train    Train    Train    Train    Train    Train    Train    Train    Train    Train    Train\n",
            "Test    Test    Test   Test    Test    Test    Test    Test    Test    Test    Test    Test\n",
            "Train    Train    Train    Train    Train    Train    Train    Train    Train    Train    Train\n",
            "Train    Train    Train    Train    Train    Train    Train    Train    Train    Train    Train\n",
            "Train    Train    Train    Train    Train    Train    Train    Train    Train    Train    Train\n",
            "Train    Train    Train    Train    Train    Train    Train    Train    Train    Train    Train\n",
            "Train    Train    Train    Train    Train    Train    Train    Train    Train    Train    Train\n",
            "Train    Train    Train    Train    Train    Train    Train    Train    Train    Train    Train\n",
            "Test    Test    Test   Test    Test    Test    Test    Test    Test    Test    Test    Test\n",
            "Train    Train    Train    Train    Train    Train    Train    Train    Train    Train    Train\n",
            "Train    Train    Train    Train    Train    Train    Train    Train    Train    Train    Train\n",
            "Train    Train    Train    Train    Train    Train    Train    Train    Train    Train    Train\n",
            "Train    Train    Train    Train    Train    Train    Train    Train    Train    Train    Train\n",
            "Train    Train    Train    Train    Train    Train    Train    Train    Train    Train    Train\n",
            "Train    Train    Train    Train    Train    Train    Train    Train    Train    Train    Train\n",
            "Train    Train    Train    Train    Train    Train    Train    Train    Train    Train    Train\n",
            "Train    Train    Train    Train    Train    Train    Train    Train    Train    Train    Train\n",
            "Train    Train    Train    Train    Train    Train    Train    Train    Train    Train    Train\n",
            "Test    Test    Test   Test    Test    Test    Test    Test    Test    Test    Test    Test\n",
            "Train    Train    Train    Train    Train    Train    Train    Train    Train    Train    Train\n",
            "Val    Val    Val    Val    Val    Val    Val    Val    Val    Val    Val    Val    Val    Val\n",
            "Train    Train    Train    Train    Train    Train    Train    Train    Train    Train    Train\n",
            "Train    Train    Train    Train    Train    Train    Train    Train    Train    Train    Train\n",
            "Val    Val    Val    Val    Val    Val    Val    Val    Val    Val    Val    Val    Val    Val\n",
            "Val    Val    Val    Val    Val    Val    Val    Val    Val    Val    Val    Val    Val    Val\n",
            "Train    Train    Train    Train    Train    Train    Train    Train    Train    Train    Train\n",
            "Train    Train    Train    Train    Train    Train    Train    Train    Train    Train    Train\n",
            "Train    Train    Train    Train    Train    Train    Train    Train    Train    Train    Train\n",
            "Val    Val    Val    Val    Val    Val    Val    Val    Val    Val    Val    Val    Val    Val\n",
            "Train    Train    Train    Train    Train    Train    Train    Train    Train    Train    Train\n",
            "Val    Val    Val    Val    Val    Val    Val    Val    Val    Val    Val    Val    Val    Val\n",
            "Train    Train    Train    Train    Train    Train    Train    Train    Train    Train    Train\n",
            "Train    Train    Train    Train    Train    Train    Train    Train    Train    Train    Train\n",
            "Train    Train    Train    Train    Train    Train    Train    Train    Train    Train    Train\n",
            "Train    Train    Train    Train    Train    Train    Train    Train    Train    Train    Train\n",
            "Train    Train    Train    Train    Train    Train    Train    Train    Train    Train    Train\n",
            "Train    Train    Train    Train    Train    Train    Train    Train    Train    Train    Train\n",
            "Train    Train    Train    Train    Train    Train    Train    Train    Train    Train    Train\n",
            "Val    Val    Val    Val    Val    Val    Val    Val    Val    Val    Val    Val    Val    Val\n",
            "Val    Val    Val    Val    Val    Val    Val    Val    Val    Val    Val    Val    Val    Val\n",
            "Train    Train    Train    Train    Train    Train    Train    Train    Train    Train    Train\n",
            "Train    Train    Train    Train    Train    Train    Train    Train    Train    Train    Train\n",
            "Train    Train    Train    Train    Train    Train    Train    Train    Train    Train    Train\n",
            "Train    Train    Train    Train    Train    Train    Train    Train    Train    Train    Train\n",
            "Train    Train    Train    Train    Train    Train    Train    Train    Train    Train    Train\n",
            "Train    Train    Train    Train    Train    Train    Train    Train    Train    Train    Train\n",
            "Train    Train    Train    Train    Train    Train    Train    Train    Train    Train    Train\n",
            "Train    Train    Train    Train    Train    Train    Train    Train    Train    Train    Train\n",
            "Train    Train    Train    Train    Train    Train    Train    Train    Train    Train    Train\n",
            "Train    Train    Train    Train    Train    Train    Train    Train    Train    Train    Train\n",
            "Val    Val    Val    Val    Val    Val    Val    Val    Val    Val    Val    Val    Val    Val\n",
            "Train    Train    Train    Train    Train    Train    Train    Train    Train    Train    Train\n",
            "Val    Val    Val    Val    Val    Val    Val    Val    Val    Val    Val    Val    Val    Val\n",
            "Test    Test    Test   Test    Test    Test    Test    Test    Test    Test    Test    Test\n",
            "Val    Val    Val    Val    Val    Val    Val    Val    Val    Val    Val    Val    Val    Val\n",
            "Val    Val    Val    Val    Val    Val    Val    Val    Val    Val    Val    Val    Val    Val\n",
            "Train    Train    Train    Train    Train    Train    Train    Train    Train    Train    Train\n",
            "Val    Val    Val    Val    Val    Val    Val    Val    Val    Val    Val    Val    Val    Val\n",
            "Train    Train    Train    Train    Train    Train    Train    Train    Train    Train    Train\n",
            "Train    Train    Train    Train    Train    Train    Train    Train    Train    Train    Train\n",
            "Train    Train    Train    Train    Train    Train    Train    Train    Train    Train    Train\n",
            "Val    Val    Val    Val    Val    Val    Val    Val    Val    Val    Val    Val    Val    Val\n",
            "Train    Train    Train    Train    Train    Train    Train    Train    Train    Train    Train\n",
            "Val    Val    Val    Val    Val    Val    Val    Val    Val    Val    Val    Val    Val    Val\n",
            "Train    Train    Train    Train    Train    Train    Train    Train    Train    Train    Train\n",
            "Train    Train    Train    Train    Train    Train    Train    Train    Train    Train    Train\n",
            "Train    Train    Train    Train    Train    Train    Train    Train    Train    Train    Train\n",
            "Train    Train    Train    Train    Train    Train    Train    Train    Train    Train    Train\n",
            "Train    Train    Train    Train    Train    Train    Train    Train    Train    Train    Train\n",
            "Train    Train    Train    Train    Train    Train    Train    Train    Train    Train    Train\n",
            "Train    Train    Train    Train    Train    Train    Train    Train    Train    Train    Train\n",
            "Train    Train    Train    Train    Train    Train    Train    Train    Train    Train    Train\n",
            "Train    Train    Train    Train    Train    Train    Train    Train    Train    Train    Train\n",
            "Train    Train    Train    Train    Train    Train    Train    Train    Train    Train    Train\n",
            "Train    Train    Train    Train    Train    Train    Train    Train    Train    Train    Train\n",
            "Train    Train    Train    Train    Train    Train    Train    Train    Train    Train    Train\n",
            "Train    Train    Train    Train    Train    Train    Train    Train    Train    Train    Train\n",
            "Train    Train    Train    Train    Train    Train    Train    Train    Train    Train    Train\n",
            "Train    Train    Train    Train    Train    Train    Train    Train    Train    Train    Train\n",
            "Train    Train    Train    Train    Train    Train    Train    Train    Train    Train    Train\n",
            "Train    Train    Train    Train    Train    Train    Train    Train    Train    Train    Train\n",
            "Val    Val    Val    Val    Val    Val    Val    Val    Val    Val    Val    Val    Val    Val\n",
            "Train    Train    Train    Train    Train    Train    Train    Train    Train    Train    Train\n",
            "Train    Train    Train    Train    Train    Train    Train    Train    Train    Train    Train\n",
            "Train    Train    Train    Train    Train    Train    Train    Train    Train    Train    Train\n",
            "Train    Train    Train    Train    Train    Train    Train    Train    Train    Train    Train\n",
            "Train    Train    Train    Train    Train    Train    Train    Train    Train    Train    Train\n",
            "Val    Val    Val    Val    Val    Val    Val    Val    Val    Val    Val    Val    Val    Val\n",
            "Train    Train    Train    Train    Train    Train    Train    Train    Train    Train    Train\n",
            "Val    Val    Val    Val    Val    Val    Val    Val    Val    Val    Val    Val    Val    Val\n",
            "Train    Train    Train    Train    Train    Train    Train    Train    Train    Train    Train\n",
            "Train    Train    Train    Train    Train    Train    Train    Train    Train    Train    Train\n",
            "Train    Train    Train    Train    Train    Train    Train    Train    Train    Train    Train\n",
            "Val    Val    Val    Val    Val    Val    Val    Val    Val    Val    Val    Val    Val    Val\n",
            "Train    Train    Train    Train    Train    Train    Train    Train    Train    Train    Train\n",
            "Train    Train    Train    Train    Train    Train    Train    Train    Train    Train    Train\n",
            "Train    Train    Train    Train    Train    Train    Train    Train    Train    Train    Train\n",
            "Train    Train    Train    Train    Train    Train    Train    Train    Train    Train    Train\n",
            "Train    Train    Train    Train    Train    Train    Train    Train    Train    Train    Train\n",
            "Train    Train    Train    Train    Train    Train    Train    Train    Train    Train    Train\n",
            "Train    Train    Train    Train    Train    Train    Train    Train    Train    Train    Train\n",
            "Train    Train    Train    Train    Train    Train    Train    Train    Train    Train    Train\n",
            "Train    Train    Train    Train    Train    Train    Train    Train    Train    Train    Train\n",
            "Val    Val    Val    Val    Val    Val    Val    Val    Val    Val    Val    Val    Val    Val\n",
            "Val    Val    Val    Val    Val    Val    Val    Val    Val    Val    Val    Val    Val    Val\n",
            "Train    Train    Train    Train    Train    Train    Train    Train    Train    Train    Train\n",
            "Train    Train    Train    Train    Train    Train    Train    Train    Train    Train    Train\n",
            "Train    Train    Train    Train    Train    Train    Train    Train    Train    Train    Train\n",
            "Train    Train    Train    Train    Train    Train    Train    Train    Train    Train    Train\n",
            "Val    Val    Val    Val    Val    Val    Val    Val    Val    Val    Val    Val    Val    Val\n",
            "Test    Test    Test   Test    Test    Test    Test    Test    Test    Test    Test    Test\n",
            "Train    Train    Train    Train    Train    Train    Train    Train    Train    Train    Train\n",
            "Train    Train    Train    Train    Train    Train    Train    Train    Train    Train    Train\n",
            "Train    Train    Train    Train    Train    Train    Train    Train    Train    Train    Train\n",
            "Train    Train    Train    Train    Train    Train    Train    Train    Train    Train    Train\n",
            "Val    Val    Val    Val    Val    Val    Val    Val    Val    Val    Val    Val    Val    Val\n",
            "Train    Train    Train    Train    Train    Train    Train    Train    Train    Train    Train\n",
            "Val    Val    Val    Val    Val    Val    Val    Val    Val    Val    Val    Val    Val    Val\n",
            "Train    Train    Train    Train    Train    Train    Train    Train    Train    Train    Train\n",
            "Val    Val    Val    Val    Val    Val    Val    Val    Val    Val    Val    Val    Val    Val\n",
            "Train    Train    Train    Train    Train    Train    Train    Train    Train    Train    Train\n",
            "Train    Train    Train    Train    Train    Train    Train    Train    Train    Train    Train\n",
            "Train    Train    Train    Train    Train    Train    Train    Train    Train    Train    Train\n",
            "Train    Train    Train    Train    Train    Train    Train    Train    Train    Train    Train\n",
            "Train    Train    Train    Train    Train    Train    Train    Train    Train    Train    Train\n",
            "Val    Val    Val    Val    Val    Val    Val    Val    Val    Val    Val    Val    Val    Val\n",
            "Val    Val    Val    Val    Val    Val    Val    Val    Val    Val    Val    Val    Val    Val\n",
            "Train    Train    Train    Train    Train    Train    Train    Train    Train    Train    Train\n",
            "Train    Train    Train    Train    Train    Train    Train    Train    Train    Train    Train\n",
            "Train    Train    Train    Train    Train    Train    Train    Train    Train    Train    Train\n",
            "Train    Train    Train    Train    Train    Train    Train    Train    Train    Train    Train\n",
            "Train    Train    Train    Train    Train    Train    Train    Train    Train    Train    Train\n",
            "Val    Val    Val    Val    Val    Val    Val    Val    Val    Val    Val    Val    Val    Val\n",
            "Val    Val    Val    Val    Val    Val    Val    Val    Val    Val    Val    Val    Val    Val\n",
            "Val    Val    Val    Val    Val    Val    Val    Val    Val    Val    Val    Val    Val    Val\n",
            "Train    Train    Train    Train    Train    Train    Train    Train    Train    Train    Train\n",
            "Train    Train    Train    Train    Train    Train    Train    Train    Train    Train    Train\n",
            "Train    Train    Train    Train    Train    Train    Train    Train    Train    Train    Train\n",
            "Val    Val    Val    Val    Val    Val    Val    Val    Val    Val    Val    Val    Val    Val\n",
            "Train    Train    Train    Train    Train    Train    Train    Train    Train    Train    Train\n",
            "Train    Train    Train    Train    Train    Train    Train    Train    Train    Train    Train\n",
            "Val    Val    Val    Val    Val    Val    Val    Val    Val    Val    Val    Val    Val    Val\n",
            "Val    Val    Val    Val    Val    Val    Val    Val    Val    Val    Val    Val    Val    Val\n",
            "Train    Train    Train    Train    Train    Train    Train    Train    Train    Train    Train\n",
            "Train    Train    Train    Train    Train    Train    Train    Train    Train    Train    Train\n",
            "Train    Train    Train    Train    Train    Train    Train    Train    Train    Train    Train\n",
            "Train    Train    Train    Train    Train    Train    Train    Train    Train    Train    Train\n",
            "Val    Val    Val    Val    Val    Val    Val    Val    Val    Val    Val    Val    Val    Val\n",
            "Train    Train    Train    Train    Train    Train    Train    Train    Train    Train    Train\n",
            "Train    Train    Train    Train    Train    Train    Train    Train    Train    Train    Train\n",
            "Val    Val    Val    Val    Val    Val    Val    Val    Val    Val    Val    Val    Val    Val\n",
            "Train    Train    Train    Train    Train    Train    Train    Train    Train    Train    Train\n",
            "Train    Train    Train    Train    Train    Train    Train    Train    Train    Train    Train\n",
            "Train    Train    Train    Train    Train    Train    Train    Train    Train    Train    Train\n",
            "Train    Train    Train    Train    Train    Train    Train    Train    Train    Train    Train\n",
            "Train    Train    Train    Train    Train    Train    Train    Train    Train    Train    Train\n",
            "Train    Train    Train    Train    Train    Train    Train    Train    Train    Train    Train\n",
            "Train    Train    Train    Train    Train    Train    Train    Train    Train    Train    Train\n",
            "Test    Test    Test   Test    Test    Test    Test    Test    Test    Test    Test    Test\n",
            "Train    Train    Train    Train    Train    Train    Train    Train    Train    Train    Train\n",
            "Val    Val    Val    Val    Val    Val    Val    Val    Val    Val    Val    Val    Val    Val\n",
            "Train    Train    Train    Train    Train    Train    Train    Train    Train    Train    Train\n",
            "Train    Train    Train    Train    Train    Train    Train    Train    Train    Train    Train\n",
            "Train    Train    Train    Train    Train    Train    Train    Train    Train    Train    Train\n",
            "Val    Val    Val    Val    Val    Val    Val    Val    Val    Val    Val    Val    Val    Val\n",
            "Train    Train    Train    Train    Train    Train    Train    Train    Train    Train    Train\n",
            "Val    Val    Val    Val    Val    Val    Val    Val    Val    Val    Val    Val    Val    Val\n",
            "Val    Val    Val    Val    Val    Val    Val    Val    Val    Val    Val    Val    Val    Val\n",
            "Train    Train    Train    Train    Train    Train    Train    Train    Train    Train    Train\n",
            "Train    Train    Train    Train    Train    Train    Train    Train    Train    Train    Train\n",
            "Train    Train    Train    Train    Train    Train    Train    Train    Train    Train    Train\n",
            "Val    Val    Val    Val    Val    Val    Val    Val    Val    Val    Val    Val    Val    Val\n",
            "Train    Train    Train    Train    Train    Train    Train    Train    Train    Train    Train\n",
            "Val    Val    Val    Val    Val    Val    Val    Val    Val    Val    Val    Val    Val    Val\n",
            "Train    Train    Train    Train    Train    Train    Train    Train    Train    Train    Train\n",
            "Train    Train    Train    Train    Train    Train    Train    Train    Train    Train    Train\n",
            "Train    Train    Train    Train    Train    Train    Train    Train    Train    Train    Train\n",
            "Train    Train    Train    Train    Train    Train    Train    Train    Train    Train    Train\n",
            "Train    Train    Train    Train    Train    Train    Train    Train    Train    Train    Train\n",
            "Train    Train    Train    Train    Train    Train    Train    Train    Train    Train    Train\n",
            "Train    Train    Train    Train    Train    Train    Train    Train    Train    Train    Train\n",
            "Val    Val    Val    Val    Val    Val    Val    Val    Val    Val    Val    Val    Val    Val\n",
            "Train    Train    Train    Train    Train    Train    Train    Train    Train    Train    Train\n",
            "Train    Train    Train    Train    Train    Train    Train    Train    Train    Train    Train\n",
            "Train    Train    Train    Train    Train    Train    Train    Train    Train    Train    Train\n",
            "Val    Val    Val    Val    Val    Val    Val    Val    Val    Val    Val    Val    Val    Val\n",
            "Train    Train    Train    Train    Train    Train    Train    Train    Train    Train    Train\n",
            "Train    Train    Train    Train    Train    Train    Train    Train    Train    Train    Train\n",
            "Train    Train    Train    Train    Train    Train    Train    Train    Train    Train    Train\n",
            "Val    Val    Val    Val    Val    Val    Val    Val    Val    Val    Val    Val    Val    Val\n",
            "Train    Train    Train    Train    Train    Train    Train    Train    Train    Train    Train\n",
            "Val    Val    Val    Val    Val    Val    Val    Val    Val    Val    Val    Val    Val    Val\n",
            "Train    Train    Train    Train    Train    Train    Train    Train    Train    Train    Train\n",
            "Train    Train    Train    Train    Train    Train    Train    Train    Train    Train    Train\n",
            "Train    Train    Train    Train    Train    Train    Train    Train    Train    Train    Train\n",
            "Val    Val    Val    Val    Val    Val    Val    Val    Val    Val    Val    Val    Val    Val\n",
            "Train    Train    Train    Train    Train    Train    Train    Train    Train    Train    Train\n",
            "Train    Train    Train    Train    Train    Train    Train    Train    Train    Train    Train\n",
            "Train    Train    Train    Train    Train    Train    Train    Train    Train    Train    Train\n",
            "Train    Train    Train    Train    Train    Train    Train    Train    Train    Train    Train\n",
            "Train    Train    Train    Train    Train    Train    Train    Train    Train    Train    Train\n",
            "Val    Val    Val    Val    Val    Val    Val    Val    Val    Val    Val    Val    Val    Val\n",
            "Train    Train    Train    Train    Train    Train    Train    Train    Train    Train    Train\n",
            "Train    Train    Train    Train    Train    Train    Train    Train    Train    Train    Train\n",
            "Train    Train    Train    Train    Train    Train    Train    Train    Train    Train    Train\n",
            "Train    Train    Train    Train    Train    Train    Train    Train    Train    Train    Train\n",
            "Train    Train    Train    Train    Train    Train    Train    Train    Train    Train    Train\n",
            "Train    Train    Train    Train    Train    Train    Train    Train    Train    Train    Train\n",
            "Train    Train    Train    Train    Train    Train    Train    Train    Train    Train    Train\n",
            "Train    Train    Train    Train    Train    Train    Train    Train    Train    Train    Train\n",
            "Val    Val    Val    Val    Val    Val    Val    Val    Val    Val    Val    Val    Val    Val\n",
            "Train    Train    Train    Train    Train    Train    Train    Train    Train    Train    Train\n",
            "Val    Val    Val    Val    Val    Val    Val    Val    Val    Val    Val    Val    Val    Val\n",
            "Train    Train    Train    Train    Train    Train    Train    Train    Train    Train    Train\n",
            "Train    Train    Train    Train    Train    Train    Train    Train    Train    Train    Train\n",
            "Train    Train    Train    Train    Train    Train    Train    Train    Train    Train    Train\n",
            "Train    Train    Train    Train    Train    Train    Train    Train    Train    Train    Train\n",
            "Val    Val    Val    Val    Val    Val    Val    Val    Val    Val    Val    Val    Val    Val\n",
            "Train    Train    Train    Train    Train    Train    Train    Train    Train    Train    Train\n",
            "Train    Train    Train    Train    Train    Train    Train    Train    Train    Train    Train\n",
            "Train    Train    Train    Train    Train    Train    Train    Train    Train    Train    Train\n",
            "Val    Val    Val    Val    Val    Val    Val    Val    Val    Val    Val    Val    Val    Val\n",
            "Val    Val    Val    Val    Val    Val    Val    Val    Val    Val    Val    Val    Val    Val\n",
            "Train    Train    Train    Train    Train    Train    Train    Train    Train    Train    Train\n",
            "Test    Test    Test   Test    Test    Test    Test    Test    Test    Test    Test    Test\n",
            "Train    Train    Train    Train    Train    Train    Train    Train    Train    Train    Train\n",
            "Test    Test    Test   Test    Test    Test    Test    Test    Test    Test    Test    Test\n",
            "Val    Val    Val    Val    Val    Val    Val    Val    Val    Val    Val    Val    Val    Val\n",
            "Train    Train    Train    Train    Train    Train    Train    Train    Train    Train    Train\n",
            "Train    Train    Train    Train    Train    Train    Train    Train    Train    Train    Train\n",
            "Train    Train    Train    Train    Train    Train    Train    Train    Train    Train    Train\n",
            "Train    Train    Train    Train    Train    Train    Train    Train    Train    Train    Train\n",
            "Train    Train    Train    Train    Train    Train    Train    Train    Train    Train    Train\n",
            "Train    Train    Train    Train    Train    Train    Train    Train    Train    Train    Train\n",
            "Val    Val    Val    Val    Val    Val    Val    Val    Val    Val    Val    Val    Val    Val\n",
            "Train    Train    Train    Train    Train    Train    Train    Train    Train    Train    Train\n",
            "Val    Val    Val    Val    Val    Val    Val    Val    Val    Val    Val    Val    Val    Val\n",
            "Train    Train    Train    Train    Train    Train    Train    Train    Train    Train    Train\n",
            "Train    Train    Train    Train    Train    Train    Train    Train    Train    Train    Train\n",
            "Train    Train    Train    Train    Train    Train    Train    Train    Train    Train    Train\n",
            "Val    Val    Val    Val    Val    Val    Val    Val    Val    Val    Val    Val    Val    Val\n",
            "Train    Train    Train    Train    Train    Train    Train    Train    Train    Train    Train\n",
            "Train    Train    Train    Train    Train    Train    Train    Train    Train    Train    Train\n",
            "Train    Train    Train    Train    Train    Train    Train    Train    Train    Train    Train\n",
            "Train    Train    Train    Train    Train    Train    Train    Train    Train    Train    Train\n",
            "Val    Val    Val    Val    Val    Val    Val    Val    Val    Val    Val    Val    Val    Val\n",
            "Train    Train    Train    Train    Train    Train    Train    Train    Train    Train    Train\n",
            "Train    Train    Train    Train    Train    Train    Train    Train    Train    Train    Train\n",
            "Val    Val    Val    Val    Val    Val    Val    Val    Val    Val    Val    Val    Val    Val\n",
            "Train    Train    Train    Train    Train    Train    Train    Train    Train    Train    Train\n",
            "Train    Train    Train    Train    Train    Train    Train    Train    Train    Train    Train\n",
            "Train    Train    Train    Train    Train    Train    Train    Train    Train    Train    Train\n",
            "Val    Val    Val    Val    Val    Val    Val    Val    Val    Val    Val    Val    Val    Val\n",
            "Train    Train    Train    Train    Train    Train    Train    Train    Train    Train    Train\n",
            "Train    Train    Train    Train    Train    Train    Train    Train    Train    Train    Train\n",
            "Val    Val    Val    Val    Val    Val    Val    Val    Val    Val    Val    Val    Val    Val\n",
            "Train    Train    Train    Train    Train    Train    Train    Train    Train    Train    Train\n",
            "Train    Train    Train    Train    Train    Train    Train    Train    Train    Train    Train\n",
            "Val    Val    Val    Val    Val    Val    Val    Val    Val    Val    Val    Val    Val    Val\n",
            "Train    Train    Train    Train    Train    Train    Train    Train    Train    Train    Train\n",
            "Train    Train    Train    Train    Train    Train    Train    Train    Train    Train    Train\n",
            "Train    Train    Train    Train    Train    Train    Train    Train    Train    Train    Train\n",
            "Train    Train    Train    Train    Train    Train    Train    Train    Train    Train    Train\n",
            "Train    Train    Train    Train    Train    Train    Train    Train    Train    Train    Train\n",
            "Test    Test    Test   Test    Test    Test    Test    Test    Test    Test    Test    Test\n",
            "Train    Train    Train    Train    Train    Train    Train    Train    Train    Train    Train\n",
            "Train    Train    Train    Train    Train    Train    Train    Train    Train    Train    Train\n",
            "Val    Val    Val    Val    Val    Val    Val    Val    Val    Val    Val    Val    Val    Val\n",
            "Train    Train    Train    Train    Train    Train    Train    Train    Train    Train    Train\n",
            "Val    Val    Val    Val    Val    Val    Val    Val    Val    Val    Val    Val    Val    Val\n",
            "Train    Train    Train    Train    Train    Train    Train    Train    Train    Train    Train\n",
            "Val    Val    Val    Val    Val    Val    Val    Val    Val    Val    Val    Val    Val    Val\n",
            "Val    Val    Val    Val    Val    Val    Val    Val    Val    Val    Val    Val    Val    Val\n",
            "Val    Val    Val    Val    Val    Val    Val    Val    Val    Val    Val    Val    Val    Val\n",
            "Train    Train    Train    Train    Train    Train    Train    Train    Train    Train    Train\n",
            "Val    Val    Val    Val    Val    Val    Val    Val    Val    Val    Val    Val    Val    Val\n",
            "Train    Train    Train    Train    Train    Train    Train    Train    Train    Train    Train\n",
            "Train    Train    Train    Train    Train    Train    Train    Train    Train    Train    Train\n",
            "Test    Test    Test   Test    Test    Test    Test    Test    Test    Test    Test    Test\n",
            "Train    Train    Train    Train    Train    Train    Train    Train    Train    Train    Train\n",
            "Val    Val    Val    Val    Val    Val    Val    Val    Val    Val    Val    Val    Val    Val\n",
            "Train    Train    Train    Train    Train    Train    Train    Train    Train    Train    Train\n",
            "Train    Train    Train    Train    Train    Train    Train    Train    Train    Train    Train\n",
            "Val    Val    Val    Val    Val    Val    Val    Val    Val    Val    Val    Val    Val    Val\n",
            "Train    Train    Train    Train    Train    Train    Train    Train    Train    Train    Train\n",
            "Val    Val    Val    Val    Val    Val    Val    Val    Val    Val    Val    Val    Val    Val\n",
            "Train    Train    Train    Train    Train    Train    Train    Train    Train    Train    Train\n",
            "Train    Train    Train    Train    Train    Train    Train    Train    Train    Train    Train\n",
            "Train    Train    Train    Train    Train    Train    Train    Train    Train    Train    Train\n",
            "Train    Train    Train    Train    Train    Train    Train    Train    Train    Train    Train\n",
            "Val    Val    Val    Val    Val    Val    Val    Val    Val    Val    Val    Val    Val    Val\n",
            "Train    Train    Train    Train    Train    Train    Train    Train    Train    Train    Train\n",
            "Train    Train    Train    Train    Train    Train    Train    Train    Train    Train    Train\n",
            "Val    Val    Val    Val    Val    Val    Val    Val    Val    Val    Val    Val    Val    Val\n",
            "Val    Val    Val    Val    Val    Val    Val    Val    Val    Val    Val    Val    Val    Val\n",
            "Train    Train    Train    Train    Train    Train    Train    Train    Train    Train    Train\n",
            "Train    Train    Train    Train    Train    Train    Train    Train    Train    Train    Train\n",
            "Train    Train    Train    Train    Train    Train    Train    Train    Train    Train    Train\n",
            "Train    Train    Train    Train    Train    Train    Train    Train    Train    Train    Train\n",
            "Val    Val    Val    Val    Val    Val    Val    Val    Val    Val    Val    Val    Val    Val\n",
            "Train    Train    Train    Train    Train    Train    Train    Train    Train    Train    Train\n",
            "Train    Train    Train    Train    Train    Train    Train    Train    Train    Train    Train\n",
            "Test    Test    Test   Test    Test    Test    Test    Test    Test    Test    Test    Test\n",
            "Val    Val    Val    Val    Val    Val    Val    Val    Val    Val    Val    Val    Val    Val\n",
            "Val    Val    Val    Val    Val    Val    Val    Val    Val    Val    Val    Val    Val    Val\n",
            "Train    Train    Train    Train    Train    Train    Train    Train    Train    Train    Train\n",
            "Train    Train    Train    Train    Train    Train    Train    Train    Train    Train    Train\n",
            "Train    Train    Train    Train    Train    Train    Train    Train    Train    Train    Train\n",
            "Train    Train    Train    Train    Train    Train    Train    Train    Train    Train    Train\n",
            "Train    Train    Train    Train    Train    Train    Train    Train    Train    Train    Train\n",
            "Val    Val    Val    Val    Val    Val    Val    Val    Val    Val    Val    Val    Val    Val\n",
            "Train    Train    Train    Train    Train    Train    Train    Train    Train    Train    Train\n",
            "Train    Train    Train    Train    Train    Train    Train    Train    Train    Train    Train\n",
            "Train    Train    Train    Train    Train    Train    Train    Train    Train    Train    Train\n",
            "Train    Train    Train    Train    Train    Train    Train    Train    Train    Train    Train\n",
            "Train    Train    Train    Train    Train    Train    Train    Train    Train    Train    Train\n",
            "Val    Val    Val    Val    Val    Val    Val    Val    Val    Val    Val    Val    Val    Val\n",
            "Test    Test    Test   Test    Test    Test    Test    Test    Test    Test    Test    Test\n",
            "Train    Train    Train    Train    Train    Train    Train    Train    Train    Train    Train\n",
            "Train    Train    Train    Train    Train    Train    Train    Train    Train    Train    Train\n",
            "Train    Train    Train    Train    Train    Train    Train    Train    Train    Train    Train\n",
            "Train    Train    Train    Train    Train    Train    Train    Train    Train    Train    Train\n",
            "Train    Train    Train    Train    Train    Train    Train    Train    Train    Train    Train\n",
            "Train    Train    Train    Train    Train    Train    Train    Train    Train    Train    Train\n",
            "Train    Train    Train    Train    Train    Train    Train    Train    Train    Train    Train\n",
            "Train    Train    Train    Train    Train    Train    Train    Train    Train    Train    Train\n",
            "Train    Train    Train    Train    Train    Train    Train    Train    Train    Train    Train\n",
            "Train    Train    Train    Train    Train    Train    Train    Train    Train    Train    Train\n",
            "Val    Val    Val    Val    Val    Val    Val    Val    Val    Val    Val    Val    Val    Val\n",
            "Train    Train    Train    Train    Train    Train    Train    Train    Train    Train    Train\n",
            "Val    Val    Val    Val    Val    Val    Val    Val    Val    Val    Val    Val    Val    Val\n",
            "Train    Train    Train    Train    Train    Train    Train    Train    Train    Train    Train\n",
            "Train    Train    Train    Train    Train    Train    Train    Train    Train    Train    Train\n",
            "Train    Train    Train    Train    Train    Train    Train    Train    Train    Train    Train\n",
            "Val    Val    Val    Val    Val    Val    Val    Val    Val    Val    Val    Val    Val    Val\n",
            "Train    Train    Train    Train    Train    Train    Train    Train    Train    Train    Train\n",
            "Train    Train    Train    Train    Train    Train    Train    Train    Train    Train    Train\n",
            "Train    Train    Train    Train    Train    Train    Train    Train    Train    Train    Train\n",
            "Train    Train    Train    Train    Train    Train    Train    Train    Train    Train    Train\n",
            "Train    Train    Train    Train    Train    Train    Train    Train    Train    Train    Train\n",
            "Val    Val    Val    Val    Val    Val    Val    Val    Val    Val    Val    Val    Val    Val\n",
            "Test    Test    Test   Test    Test    Test    Test    Test    Test    Test    Test    Test\n",
            "Train    Train    Train    Train    Train    Train    Train    Train    Train    Train    Train\n",
            "Val    Val    Val    Val    Val    Val    Val    Val    Val    Val    Val    Val    Val    Val\n",
            "Train    Train    Train    Train    Train    Train    Train    Train    Train    Train    Train\n",
            "Val    Val    Val    Val    Val    Val    Val    Val    Val    Val    Val    Val    Val    Val\n",
            "Train    Train    Train    Train    Train    Train    Train    Train    Train    Train    Train\n",
            "Train    Train    Train    Train    Train    Train    Train    Train    Train    Train    Train\n",
            "Train    Train    Train    Train    Train    Train    Train    Train    Train    Train    Train\n",
            "Val    Val    Val    Val    Val    Val    Val    Val    Val    Val    Val    Val    Val    Val\n",
            "Val    Val    Val    Val    Val    Val    Val    Val    Val    Val    Val    Val    Val    Val\n",
            "Train    Train    Train    Train    Train    Train    Train    Train    Train    Train    Train\n",
            "Train    Train    Train    Train    Train    Train    Train    Train    Train    Train    Train\n",
            "Train    Train    Train    Train    Train    Train    Train    Train    Train    Train    Train\n",
            "Val    Val    Val    Val    Val    Val    Val    Val    Val    Val    Val    Val    Val    Val\n",
            "Train    Train    Train    Train    Train    Train    Train    Train    Train    Train    Train\n",
            "Train    Train    Train    Train    Train    Train    Train    Train    Train    Train    Train\n",
            "Train    Train    Train    Train    Train    Train    Train    Train    Train    Train    Train\n",
            "Train    Train    Train    Train    Train    Train    Train    Train    Train    Train    Train\n",
            "Val    Val    Val    Val    Val    Val    Val    Val    Val    Val    Val    Val    Val    Val\n",
            "Train    Train    Train    Train    Train    Train    Train    Train    Train    Train    Train\n",
            "Train    Train    Train    Train    Train    Train    Train    Train    Train    Train    Train\n",
            "Train    Train    Train    Train    Train    Train    Train    Train    Train    Train    Train\n",
            "Train    Train    Train    Train    Train    Train    Train    Train    Train    Train    Train\n",
            "Train    Train    Train    Train    Train    Train    Train    Train    Train    Train    Train\n",
            "Train    Train    Train    Train    Train    Train    Train    Train    Train    Train    Train\n",
            "Train    Train    Train    Train    Train    Train    Train    Train    Train    Train    Train\n",
            "Val    Val    Val    Val    Val    Val    Val    Val    Val    Val    Val    Val    Val    Val\n",
            "Train    Train    Train    Train    Train    Train    Train    Train    Train    Train    Train\n",
            "Val    Val    Val    Val    Val    Val    Val    Val    Val    Val    Val    Val    Val    Val\n",
            "Val    Val    Val    Val    Val    Val    Val    Val    Val    Val    Val    Val    Val    Val\n",
            "Train    Train    Train    Train    Train    Train    Train    Train    Train    Train    Train\n",
            "Train    Train    Train    Train    Train    Train    Train    Train    Train    Train    Train\n",
            "Train    Train    Train    Train    Train    Train    Train    Train    Train    Train    Train\n",
            "Train    Train    Train    Train    Train    Train    Train    Train    Train    Train    Train\n",
            "Train    Train    Train    Train    Train    Train    Train    Train    Train    Train    Train\n",
            "Train    Train    Train    Train    Train    Train    Train    Train    Train    Train    Train\n",
            "Train    Train    Train    Train    Train    Train    Train    Train    Train    Train    Train\n",
            "Train    Train    Train    Train    Train    Train    Train    Train    Train    Train    Train\n",
            "Val    Val    Val    Val    Val    Val    Val    Val    Val    Val    Val    Val    Val    Val\n",
            "Train    Train    Train    Train    Train    Train    Train    Train    Train    Train    Train\n",
            "Train    Train    Train    Train    Train    Train    Train    Train    Train    Train    Train\n",
            "Train    Train    Train    Train    Train    Train    Train    Train    Train    Train    Train\n",
            "Train    Train    Train    Train    Train    Train    Train    Train    Train    Train    Train\n",
            "Train    Train    Train    Train    Train    Train    Train    Train    Train    Train    Train\n",
            "Train    Train    Train    Train    Train    Train    Train    Train    Train    Train    Train\n",
            "Test    Test    Test   Test    Test    Test    Test    Test    Test    Test    Test    Test\n",
            "Val    Val    Val    Val    Val    Val    Val    Val    Val    Val    Val    Val    Val    Val\n",
            "Val    Val    Val    Val    Val    Val    Val    Val    Val    Val    Val    Val    Val    Val\n",
            "Val    Val    Val    Val    Val    Val    Val    Val    Val    Val    Val    Val    Val    Val\n",
            "Train    Train    Train    Train    Train    Train    Train    Train    Train    Train    Train\n",
            "Val    Val    Val    Val    Val    Val    Val    Val    Val    Val    Val    Val    Val    Val\n",
            "Val    Val    Val    Val    Val    Val    Val    Val    Val    Val    Val    Val    Val    Val\n",
            "Train    Train    Train    Train    Train    Train    Train    Train    Train    Train    Train\n",
            "Val    Val    Val    Val    Val    Val    Val    Val    Val    Val    Val    Val    Val    Val\n",
            "Train    Train    Train    Train    Train    Train    Train    Train    Train    Train    Train\n",
            "Train    Train    Train    Train    Train    Train    Train    Train    Train    Train    Train\n",
            "Train    Train    Train    Train    Train    Train    Train    Train    Train    Train    Train\n",
            "Train    Train    Train    Train    Train    Train    Train    Train    Train    Train    Train\n",
            "Train    Train    Train    Train    Train    Train    Train    Train    Train    Train    Train\n",
            "Train    Train    Train    Train    Train    Train    Train    Train    Train    Train    Train\n",
            "Val    Val    Val    Val    Val    Val    Val    Val    Val    Val    Val    Val    Val    Val\n",
            "Train    Train    Train    Train    Train    Train    Train    Train    Train    Train    Train\n",
            "Train    Train    Train    Train    Train    Train    Train    Train    Train    Train    Train\n",
            "Train    Train    Train    Train    Train    Train    Train    Train    Train    Train    Train\n",
            "Train    Train    Train    Train    Train    Train    Train    Train    Train    Train    Train\n",
            "Train    Train    Train    Train    Train    Train    Train    Train    Train    Train    Train\n",
            "Train    Train    Train    Train    Train    Train    Train    Train    Train    Train    Train\n",
            "Train    Train    Train    Train    Train    Train    Train    Train    Train    Train    Train\n",
            "Train    Train    Train    Train    Train    Train    Train    Train    Train    Train    Train\n",
            "Val    Val    Val    Val    Val    Val    Val    Val    Val    Val    Val    Val    Val    Val\n",
            "Train    Train    Train    Train    Train    Train    Train    Train    Train    Train    Train\n",
            "Train    Train    Train    Train    Train    Train    Train    Train    Train    Train    Train\n",
            "Test    Test    Test   Test    Test    Test    Test    Test    Test    Test    Test    Test\n",
            "Val    Val    Val    Val    Val    Val    Val    Val    Val    Val    Val    Val    Val    Val\n",
            "Train    Train    Train    Train    Train    Train    Train    Train    Train    Train    Train\n",
            "Train    Train    Train    Train    Train    Train    Train    Train    Train    Train    Train\n",
            "Train    Train    Train    Train    Train    Train    Train    Train    Train    Train    Train\n",
            "Train    Train    Train    Train    Train    Train    Train    Train    Train    Train    Train\n",
            "Train    Train    Train    Train    Train    Train    Train    Train    Train    Train    Train\n",
            "Train    Train    Train    Train    Train    Train    Train    Train    Train    Train    Train\n",
            "Train    Train    Train    Train    Train    Train    Train    Train    Train    Train    Train\n",
            "Train    Train    Train    Train    Train    Train    Train    Train    Train    Train    Train\n",
            "Train    Train    Train    Train    Train    Train    Train    Train    Train    Train    Train\n",
            "Train    Train    Train    Train    Train    Train    Train    Train    Train    Train    Train\n",
            "Train    Train    Train    Train    Train    Train    Train    Train    Train    Train    Train\n",
            "Train    Train    Train    Train    Train    Train    Train    Train    Train    Train    Train\n",
            "Train    Train    Train    Train    Train    Train    Train    Train    Train    Train    Train\n",
            "Train    Train    Train    Train    Train    Train    Train    Train    Train    Train    Train\n",
            "Val    Val    Val    Val    Val    Val    Val    Val    Val    Val    Val    Val    Val    Val\n",
            "Train    Train    Train    Train    Train    Train    Train    Train    Train    Train    Train\n",
            "Train    Train    Train    Train    Train    Train    Train    Train    Train    Train    Train\n",
            "Train    Train    Train    Train    Train    Train    Train    Train    Train    Train    Train\n",
            "Train    Train    Train    Train    Train    Train    Train    Train    Train    Train    Train\n",
            "Train    Train    Train    Train    Train    Train    Train    Train    Train    Train    Train\n",
            "Val    Val    Val    Val    Val    Val    Val    Val    Val    Val    Val    Val    Val    Val\n",
            "Train    Train    Train    Train    Train    Train    Train    Train    Train    Train    Train\n",
            "Train    Train    Train    Train    Train    Train    Train    Train    Train    Train    Train\n",
            "Train    Train    Train    Train    Train    Train    Train    Train    Train    Train    Train\n",
            "Train    Train    Train    Train    Train    Train    Train    Train    Train    Train    Train\n",
            "Train    Train    Train    Train    Train    Train    Train    Train    Train    Train    Train\n",
            "Train    Train    Train    Train    Train    Train    Train    Train    Train    Train    Train\n",
            "Train    Train    Train    Train    Train    Train    Train    Train    Train    Train    Train\n",
            "Train    Train    Train    Train    Train    Train    Train    Train    Train    Train    Train\n",
            "Train    Train    Train    Train    Train    Train    Train    Train    Train    Train    Train\n",
            "Train    Train    Train    Train    Train    Train    Train    Train    Train    Train    Train\n",
            "Train    Train    Train    Train    Train    Train    Train    Train    Train    Train    Train\n",
            "Train    Train    Train    Train    Train    Train    Train    Train    Train    Train    Train\n",
            "Train    Train    Train    Train    Train    Train    Train    Train    Train    Train    Train\n",
            "Train    Train    Train    Train    Train    Train    Train    Train    Train    Train    Train\n",
            "Train    Train    Train    Train    Train    Train    Train    Train    Train    Train    Train\n",
            "Train    Train    Train    Train    Train    Train    Train    Train    Train    Train    Train\n",
            "Val    Val    Val    Val    Val    Val    Val    Val    Val    Val    Val    Val    Val    Val\n",
            "Train    Train    Train    Train    Train    Train    Train    Train    Train    Train    Train\n",
            "Train    Train    Train    Train    Train    Train    Train    Train    Train    Train    Train\n",
            "Train    Train    Train    Train    Train    Train    Train    Train    Train    Train    Train\n",
            "Train    Train    Train    Train    Train    Train    Train    Train    Train    Train    Train\n",
            "Train    Train    Train    Train    Train    Train    Train    Train    Train    Train    Train\n",
            "Val    Val    Val    Val    Val    Val    Val    Val    Val    Val    Val    Val    Val    Val\n",
            "Val    Val    Val    Val    Val    Val    Val    Val    Val    Val    Val    Val    Val    Val\n",
            "Train    Train    Train    Train    Train    Train    Train    Train    Train    Train    Train\n",
            "Train    Train    Train    Train    Train    Train    Train    Train    Train    Train    Train\n",
            "Val    Val    Val    Val    Val    Val    Val    Val    Val    Val    Val    Val    Val    Val\n",
            "Train    Train    Train    Train    Train    Train    Train    Train    Train    Train    Train\n",
            "Train    Train    Train    Train    Train    Train    Train    Train    Train    Train    Train\n",
            "Val    Val    Val    Val    Val    Val    Val    Val    Val    Val    Val    Val    Val    Val\n",
            "Train    Train    Train    Train    Train    Train    Train    Train    Train    Train    Train\n",
            "Train    Train    Train    Train    Train    Train    Train    Train    Train    Train    Train\n",
            "Train    Train    Train    Train    Train    Train    Train    Train    Train    Train    Train\n",
            "Train    Train    Train    Train    Train    Train    Train    Train    Train    Train    Train\n",
            "Test    Test    Test   Test    Test    Test    Test    Test    Test    Test    Test    Test\n",
            "Train    Train    Train    Train    Train    Train    Train    Train    Train    Train    Train\n",
            "Train    Train    Train    Train    Train    Train    Train    Train    Train    Train    Train\n",
            "Train    Train    Train    Train    Train    Train    Train    Train    Train    Train    Train\n",
            "Train    Train    Train    Train    Train    Train    Train    Train    Train    Train    Train\n",
            "Train    Train    Train    Train    Train    Train    Train    Train    Train    Train    Train\n",
            "Train    Train    Train    Train    Train    Train    Train    Train    Train    Train    Train\n",
            "Train    Train    Train    Train    Train    Train    Train    Train    Train    Train    Train\n",
            "Train    Train    Train    Train    Train    Train    Train    Train    Train    Train    Train\n",
            "Train    Train    Train    Train    Train    Train    Train    Train    Train    Train    Train\n",
            "Train    Train    Train    Train    Train    Train    Train    Train    Train    Train    Train\n",
            "Train    Train    Train    Train    Train    Train    Train    Train    Train    Train    Train\n",
            "Test    Test    Test   Test    Test    Test    Test    Test    Test    Test    Test    Test\n",
            "Train    Train    Train    Train    Train    Train    Train    Train    Train    Train    Train\n",
            "Val    Val    Val    Val    Val    Val    Val    Val    Val    Val    Val    Val    Val    Val\n",
            "Val    Val    Val    Val    Val    Val    Val    Val    Val    Val    Val    Val    Val    Val\n",
            "Train    Train    Train    Train    Train    Train    Train    Train    Train    Train    Train\n",
            "Train    Train    Train    Train    Train    Train    Train    Train    Train    Train    Train\n",
            "Train    Train    Train    Train    Train    Train    Train    Train    Train    Train    Train\n",
            "Train    Train    Train    Train    Train    Train    Train    Train    Train    Train    Train\n",
            "Train    Train    Train    Train    Train    Train    Train    Train    Train    Train    Train\n",
            "Train    Train    Train    Train    Train    Train    Train    Train    Train    Train    Train\n",
            "Train    Train    Train    Train    Train    Train    Train    Train    Train    Train    Train\n",
            "Test    Test    Test   Test    Test    Test    Test    Test    Test    Test    Test    Test\n",
            "Train    Train    Train    Train    Train    Train    Train    Train    Train    Train    Train\n",
            "Train    Train    Train    Train    Train    Train    Train    Train    Train    Train    Train\n",
            "Train    Train    Train    Train    Train    Train    Train    Train    Train    Train    Train\n",
            "Train    Train    Train    Train    Train    Train    Train    Train    Train    Train    Train\n",
            "Train    Train    Train    Train    Train    Train    Train    Train    Train    Train    Train\n",
            "Train    Train    Train    Train    Train    Train    Train    Train    Train    Train    Train\n",
            "Val    Val    Val    Val    Val    Val    Val    Val    Val    Val    Val    Val    Val    Val\n",
            "Train    Train    Train    Train    Train    Train    Train    Train    Train    Train    Train\n",
            "Train    Train    Train    Train    Train    Train    Train    Train    Train    Train    Train\n",
            "Train    Train    Train    Train    Train    Train    Train    Train    Train    Train    Train\n",
            "Test    Test    Test   Test    Test    Test    Test    Test    Test    Test    Test    Test\n",
            "Val    Val    Val    Val    Val    Val    Val    Val    Val    Val    Val    Val    Val    Val\n",
            "Train    Train    Train    Train    Train    Train    Train    Train    Train    Train    Train\n",
            "Train    Train    Train    Train    Train    Train    Train    Train    Train    Train    Train\n",
            "Train    Train    Train    Train    Train    Train    Train    Train    Train    Train    Train\n",
            "Train    Train    Train    Train    Train    Train    Train    Train    Train    Train    Train\n",
            "Train    Train    Train    Train    Train    Train    Train    Train    Train    Train    Train\n",
            "Train    Train    Train    Train    Train    Train    Train    Train    Train    Train    Train\n",
            "Val    Val    Val    Val    Val    Val    Val    Val    Val    Val    Val    Val    Val    Val\n",
            "Train    Train    Train    Train    Train    Train    Train    Train    Train    Train    Train\n",
            "Train    Train    Train    Train    Train    Train    Train    Train    Train    Train    Train\n",
            "Val    Val    Val    Val    Val    Val    Val    Val    Val    Val    Val    Val    Val    Val\n",
            "Train    Train    Train    Train    Train    Train    Train    Train    Train    Train    Train\n",
            "Train    Train    Train    Train    Train    Train    Train    Train    Train    Train    Train\n",
            "Train    Train    Train    Train    Train    Train    Train    Train    Train    Train    Train\n",
            "Train    Train    Train    Train    Train    Train    Train    Train    Train    Train    Train\n",
            "Train    Train    Train    Train    Train    Train    Train    Train    Train    Train    Train\n",
            "Train    Train    Train    Train    Train    Train    Train    Train    Train    Train    Train\n",
            "Train    Train    Train    Train    Train    Train    Train    Train    Train    Train    Train\n",
            "Train    Train    Train    Train    Train    Train    Train    Train    Train    Train    Train\n",
            "Train    Train    Train    Train    Train    Train    Train    Train    Train    Train    Train\n",
            "Val    Val    Val    Val    Val    Val    Val    Val    Val    Val    Val    Val    Val    Val\n",
            "Train    Train    Train    Train    Train    Train    Train    Train    Train    Train    Train\n",
            "Train    Train    Train    Train    Train    Train    Train    Train    Train    Train    Train\n",
            "Train    Train    Train    Train    Train    Train    Train    Train    Train    Train    Train\n",
            "Train    Train    Train    Train    Train    Train    Train    Train    Train    Train    Train\n",
            "Val    Val    Val    Val    Val    Val    Val    Val    Val    Val    Val    Val    Val    Val\n",
            "Val    Val    Val    Val    Val    Val    Val    Val    Val    Val    Val    Val    Val    Val\n",
            "Train    Train    Train    Train    Train    Train    Train    Train    Train    Train    Train\n",
            "Train    Train    Train    Train    Train    Train    Train    Train    Train    Train    Train\n",
            "Train    Train    Train    Train    Train    Train    Train    Train    Train    Train    Train\n",
            "Val    Val    Val    Val    Val    Val    Val    Val    Val    Val    Val    Val    Val    Val\n",
            "Train    Train    Train    Train    Train    Train    Train    Train    Train    Train    Train\n",
            "Train    Train    Train    Train    Train    Train    Train    Train    Train    Train    Train\n",
            "Train    Train    Train    Train    Train    Train    Train    Train    Train    Train    Train\n",
            "Val    Val    Val    Val    Val    Val    Val    Val    Val    Val    Val    Val    Val    Val\n",
            "Val    Val    Val    Val    Val    Val    Val    Val    Val    Val    Val    Val    Val    Val\n",
            "Train    Train    Train    Train    Train    Train    Train    Train    Train    Train    Train\n",
            "Train    Train    Train    Train    Train    Train    Train    Train    Train    Train    Train\n",
            "Val    Val    Val    Val    Val    Val    Val    Val    Val    Val    Val    Val    Val    Val\n",
            "Train    Train    Train    Train    Train    Train    Train    Train    Train    Train    Train\n",
            "Train    Train    Train    Train    Train    Train    Train    Train    Train    Train    Train\n",
            "Train    Train    Train    Train    Train    Train    Train    Train    Train    Train    Train\n",
            "Val    Val    Val    Val    Val    Val    Val    Val    Val    Val    Val    Val    Val    Val\n",
            "Test    Test    Test   Test    Test    Test    Test    Test    Test    Test    Test    Test\n",
            "Train    Train    Train    Train    Train    Train    Train    Train    Train    Train    Train\n",
            "Train    Train    Train    Train    Train    Train    Train    Train    Train    Train    Train\n",
            "Train    Train    Train    Train    Train    Train    Train    Train    Train    Train    Train\n",
            "Train    Train    Train    Train    Train    Train    Train    Train    Train    Train    Train\n",
            "Train    Train    Train    Train    Train    Train    Train    Train    Train    Train    Train\n",
            "Train    Train    Train    Train    Train    Train    Train    Train    Train    Train    Train\n",
            "Val    Val    Val    Val    Val    Val    Val    Val    Val    Val    Val    Val    Val    Val\n",
            "Test    Test    Test   Test    Test    Test    Test    Test    Test    Test    Test    Test\n",
            "Train    Train    Train    Train    Train    Train    Train    Train    Train    Train    Train\n",
            "Train    Train    Train    Train    Train    Train    Train    Train    Train    Train    Train\n",
            "Train    Train    Train    Train    Train    Train    Train    Train    Train    Train    Train\n",
            "Train    Train    Train    Train    Train    Train    Train    Train    Train    Train    Train\n",
            "Val    Val    Val    Val    Val    Val    Val    Val    Val    Val    Val    Val    Val    Val\n",
            "Val    Val    Val    Val    Val    Val    Val    Val    Val    Val    Val    Val    Val    Val\n",
            "Train    Train    Train    Train    Train    Train    Train    Train    Train    Train    Train\n",
            "Train    Train    Train    Train    Train    Train    Train    Train    Train    Train    Train\n",
            "Train    Train    Train    Train    Train    Train    Train    Train    Train    Train    Train\n",
            "Train    Train    Train    Train    Train    Train    Train    Train    Train    Train    Train\n",
            "Train    Train    Train    Train    Train    Train    Train    Train    Train    Train    Train\n",
            "Train    Train    Train    Train    Train    Train    Train    Train    Train    Train    Train\n",
            "Train    Train    Train    Train    Train    Train    Train    Train    Train    Train    Train\n",
            "Train    Train    Train    Train    Train    Train    Train    Train    Train    Train    Train\n",
            "Train    Train    Train    Train    Train    Train    Train    Train    Train    Train    Train\n",
            "Train    Train    Train    Train    Train    Train    Train    Train    Train    Train    Train\n",
            "Train    Train    Train    Train    Train    Train    Train    Train    Train    Train    Train\n",
            "Test    Test    Test   Test    Test    Test    Test    Test    Test    Test    Test    Test\n",
            "Train    Train    Train    Train    Train    Train    Train    Train    Train    Train    Train\n",
            "Train    Train    Train    Train    Train    Train    Train    Train    Train    Train    Train\n",
            "Train    Train    Train    Train    Train    Train    Train    Train    Train    Train    Train\n",
            "Train    Train    Train    Train    Train    Train    Train    Train    Train    Train    Train\n",
            "Val    Val    Val    Val    Val    Val    Val    Val    Val    Val    Val    Val    Val    Val\n",
            "Train    Train    Train    Train    Train    Train    Train    Train    Train    Train    Train\n",
            "Train    Train    Train    Train    Train    Train    Train    Train    Train    Train    Train\n",
            "Train    Train    Train    Train    Train    Train    Train    Train    Train    Train    Train\n",
            "Train    Train    Train    Train    Train    Train    Train    Train    Train    Train    Train\n",
            "Train    Train    Train    Train    Train    Train    Train    Train    Train    Train    Train\n",
            "Train    Train    Train    Train    Train    Train    Train    Train    Train    Train    Train\n",
            "Train    Train    Train    Train    Train    Train    Train    Train    Train    Train    Train\n",
            "Train    Train    Train    Train    Train    Train    Train    Train    Train    Train    Train\n",
            "Train    Train    Train    Train    Train    Train    Train    Train    Train    Train    Train\n",
            "Val    Val    Val    Val    Val    Val    Val    Val    Val    Val    Val    Val    Val    Val\n",
            "Train    Train    Train    Train    Train    Train    Train    Train    Train    Train    Train\n",
            "Test    Test    Test   Test    Test    Test    Test    Test    Test    Test    Test    Test\n",
            "Val    Val    Val    Val    Val    Val    Val    Val    Val    Val    Val    Val    Val    Val\n",
            "Train    Train    Train    Train    Train    Train    Train    Train    Train    Train    Train\n",
            "Test    Test    Test   Test    Test    Test    Test    Test    Test    Test    Test    Test\n",
            "Train    Train    Train    Train    Train    Train    Train    Train    Train    Train    Train\n",
            "Test    Test    Test   Test    Test    Test    Test    Test    Test    Test    Test    Test\n",
            "Train    Train    Train    Train    Train    Train    Train    Train    Train    Train    Train\n",
            "Train    Train    Train    Train    Train    Train    Train    Train    Train    Train    Train\n",
            "Train    Train    Train    Train    Train    Train    Train    Train    Train    Train    Train\n",
            "Val    Val    Val    Val    Val    Val    Val    Val    Val    Val    Val    Val    Val    Val\n",
            "Train    Train    Train    Train    Train    Train    Train    Train    Train    Train    Train\n",
            "Train    Train    Train    Train    Train    Train    Train    Train    Train    Train    Train\n",
            "Train    Train    Train    Train    Train    Train    Train    Train    Train    Train    Train\n",
            "Val    Val    Val    Val    Val    Val    Val    Val    Val    Val    Val    Val    Val    Val\n",
            "Val    Val    Val    Val    Val    Val    Val    Val    Val    Val    Val    Val    Val    Val\n",
            "Train    Train    Train    Train    Train    Train    Train    Train    Train    Train    Train\n",
            "Train    Train    Train    Train    Train    Train    Train    Train    Train    Train    Train\n",
            "Val    Val    Val    Val    Val    Val    Val    Val    Val    Val    Val    Val    Val    Val\n",
            "Train    Train    Train    Train    Train    Train    Train    Train    Train    Train    Train\n",
            "Val    Val    Val    Val    Val    Val    Val    Val    Val    Val    Val    Val    Val    Val\n",
            "Train    Train    Train    Train    Train    Train    Train    Train    Train    Train    Train\n",
            "Train    Train    Train    Train    Train    Train    Train    Train    Train    Train    Train\n",
            "Train    Train    Train    Train    Train    Train    Train    Train    Train    Train    Train\n",
            "Train    Train    Train    Train    Train    Train    Train    Train    Train    Train    Train\n",
            "Train    Train    Train    Train    Train    Train    Train    Train    Train    Train    Train\n",
            "Train    Train    Train    Train    Train    Train    Train    Train    Train    Train    Train\n",
            "Train    Train    Train    Train    Train    Train    Train    Train    Train    Train    Train\n",
            "Train    Train    Train    Train    Train    Train    Train    Train    Train    Train    Train\n",
            "Train    Train    Train    Train    Train    Train    Train    Train    Train    Train    Train\n",
            "Train    Train    Train    Train    Train    Train    Train    Train    Train    Train    Train\n",
            "Test    Test    Test   Test    Test    Test    Test    Test    Test    Test    Test    Test\n",
            "Train    Train    Train    Train    Train    Train    Train    Train    Train    Train    Train\n",
            "Train    Train    Train    Train    Train    Train    Train    Train    Train    Train    Train\n",
            "Train    Train    Train    Train    Train    Train    Train    Train    Train    Train    Train\n",
            "Train    Train    Train    Train    Train    Train    Train    Train    Train    Train    Train\n",
            "Train    Train    Train    Train    Train    Train    Train    Train    Train    Train    Train\n",
            "Val    Val    Val    Val    Val    Val    Val    Val    Val    Val    Val    Val    Val    Val\n",
            "Train    Train    Train    Train    Train    Train    Train    Train    Train    Train    Train\n",
            "Train    Train    Train    Train    Train    Train    Train    Train    Train    Train    Train\n",
            "Train    Train    Train    Train    Train    Train    Train    Train    Train    Train    Train\n",
            "Val    Val    Val    Val    Val    Val    Val    Val    Val    Val    Val    Val    Val    Val\n",
            "Train    Train    Train    Train    Train    Train    Train    Train    Train    Train    Train\n",
            "Train    Train    Train    Train    Train    Train    Train    Train    Train    Train    Train\n",
            "Train    Train    Train    Train    Train    Train    Train    Train    Train    Train    Train\n",
            "Train    Train    Train    Train    Train    Train    Train    Train    Train    Train    Train\n",
            "Train    Train    Train    Train    Train    Train    Train    Train    Train    Train    Train\n",
            "Train    Train    Train    Train    Train    Train    Train    Train    Train    Train    Train\n",
            "Train    Train    Train    Train    Train    Train    Train    Train    Train    Train    Train\n",
            "Val    Val    Val    Val    Val    Val    Val    Val    Val    Val    Val    Val    Val    Val\n",
            "Val    Val    Val    Val    Val    Val    Val    Val    Val    Val    Val    Val    Val    Val\n",
            "Train    Train    Train    Train    Train    Train    Train    Train    Train    Train    Train\n",
            "Val    Val    Val    Val    Val    Val    Val    Val    Val    Val    Val    Val    Val    Val\n",
            "Val    Val    Val    Val    Val    Val    Val    Val    Val    Val    Val    Val    Val    Val\n",
            "Train    Train    Train    Train    Train    Train    Train    Train    Train    Train    Train\n",
            "Train    Train    Train    Train    Train    Train    Train    Train    Train    Train    Train\n",
            "Train    Train    Train    Train    Train    Train    Train    Train    Train    Train    Train\n",
            "Train    Train    Train    Train    Train    Train    Train    Train    Train    Train    Train\n",
            "Val    Val    Val    Val    Val    Val    Val    Val    Val    Val    Val    Val    Val    Val\n",
            "Train    Train    Train    Train    Train    Train    Train    Train    Train    Train    Train\n",
            "Train    Train    Train    Train    Train    Train    Train    Train    Train    Train    Train\n",
            "Train    Train    Train    Train    Train    Train    Train    Train    Train    Train    Train\n",
            "Train    Train    Train    Train    Train    Train    Train    Train    Train    Train    Train\n",
            "Train    Train    Train    Train    Train    Train    Train    Train    Train    Train    Train\n",
            "Train    Train    Train    Train    Train    Train    Train    Train    Train    Train    Train\n",
            "Test    Test    Test   Test    Test    Test    Test    Test    Test    Test    Test    Test\n",
            "Train    Train    Train    Train    Train    Train    Train    Train    Train    Train    Train\n",
            "Train    Train    Train    Train    Train    Train    Train    Train    Train    Train    Train\n",
            "Train    Train    Train    Train    Train    Train    Train    Train    Train    Train    Train\n",
            "Val    Val    Val    Val    Val    Val    Val    Val    Val    Val    Val    Val    Val    Val\n",
            "Val    Val    Val    Val    Val    Val    Val    Val    Val    Val    Val    Val    Val    Val\n",
            "Train    Train    Train    Train    Train    Train    Train    Train    Train    Train    Train\n",
            "Val    Val    Val    Val    Val    Val    Val    Val    Val    Val    Val    Val    Val    Val\n",
            "Train    Train    Train    Train    Train    Train    Train    Train    Train    Train    Train\n",
            "Train    Train    Train    Train    Train    Train    Train    Train    Train    Train    Train\n",
            "Val    Val    Val    Val    Val    Val    Val    Val    Val    Val    Val    Val    Val    Val\n",
            "Train    Train    Train    Train    Train    Train    Train    Train    Train    Train    Train\n",
            "Val    Val    Val    Val    Val    Val    Val    Val    Val    Val    Val    Val    Val    Val\n",
            "Train    Train    Train    Train    Train    Train    Train    Train    Train    Train    Train\n",
            "Train    Train    Train    Train    Train    Train    Train    Train    Train    Train    Train\n",
            "Train    Train    Train    Train    Train    Train    Train    Train    Train    Train    Train\n",
            "Test    Test    Test   Test    Test    Test    Test    Test    Test    Test    Test    Test\n",
            "Test    Test    Test   Test    Test    Test    Test    Test    Test    Test    Test    Test\n",
            "Test    Test    Test   Test    Test    Test    Test    Test    Test    Test    Test    Test\n",
            "Train    Train    Train    Train    Train    Train    Train    Train    Train    Train    Train\n",
            "Train    Train    Train    Train    Train    Train    Train    Train    Train    Train    Train\n",
            "Train    Train    Train    Train    Train    Train    Train    Train    Train    Train    Train\n",
            "Val    Val    Val    Val    Val    Val    Val    Val    Val    Val    Val    Val    Val    Val\n",
            "Val    Val    Val    Val    Val    Val    Val    Val    Val    Val    Val    Val    Val    Val\n",
            "Train    Train    Train    Train    Train    Train    Train    Train    Train    Train    Train\n",
            "Val    Val    Val    Val    Val    Val    Val    Val    Val    Val    Val    Val    Val    Val\n",
            "Val    Val    Val    Val    Val    Val    Val    Val    Val    Val    Val    Val    Val    Val\n",
            "Train    Train    Train    Train    Train    Train    Train    Train    Train    Train    Train\n",
            "Val    Val    Val    Val    Val    Val    Val    Val    Val    Val    Val    Val    Val    Val\n",
            "Train    Train    Train    Train    Train    Train    Train    Train    Train    Train    Train\n",
            "Val    Val    Val    Val    Val    Val    Val    Val    Val    Val    Val    Val    Val    Val\n",
            "Val    Val    Val    Val    Val    Val    Val    Val    Val    Val    Val    Val    Val    Val\n",
            "Val    Val    Val    Val    Val    Val    Val    Val    Val    Val    Val    Val    Val    Val\n",
            "Train    Train    Train    Train    Train    Train    Train    Train    Train    Train    Train\n",
            "Test    Test    Test   Test    Test    Test    Test    Test    Test    Test    Test    Test\n",
            "Train    Train    Train    Train    Train    Train    Train    Train    Train    Train    Train\n",
            "Train    Train    Train    Train    Train    Train    Train    Train    Train    Train    Train\n",
            "Train    Train    Train    Train    Train    Train    Train    Train    Train    Train    Train\n",
            "Test    Test    Test   Test    Test    Test    Test    Test    Test    Test    Test    Test\n",
            "Val    Val    Val    Val    Val    Val    Val    Val    Val    Val    Val    Val    Val    Val\n",
            "Train    Train    Train    Train    Train    Train    Train    Train    Train    Train    Train\n",
            "Train    Train    Train    Train    Train    Train    Train    Train    Train    Train    Train\n",
            "Test    Test    Test   Test    Test    Test    Test    Test    Test    Test    Test    Test\n",
            "Train    Train    Train    Train    Train    Train    Train    Train    Train    Train    Train\n",
            "Train    Train    Train    Train    Train    Train    Train    Train    Train    Train    Train\n",
            "Test    Test    Test   Test    Test    Test    Test    Test    Test    Test    Test    Test\n",
            "Train    Train    Train    Train    Train    Train    Train    Train    Train    Train    Train\n",
            "Train    Train    Train    Train    Train    Train    Train    Train    Train    Train    Train\n",
            "Train    Train    Train    Train    Train    Train    Train    Train    Train    Train    Train\n",
            "Test    Test    Test   Test    Test    Test    Test    Test    Test    Test    Test    Test\n",
            "Train    Train    Train    Train    Train    Train    Train    Train    Train    Train    Train\n",
            "Train    Train    Train    Train    Train    Train    Train    Train    Train    Train    Train\n",
            "Train    Train    Train    Train    Train    Train    Train    Train    Train    Train    Train\n",
            "Val    Val    Val    Val    Val    Val    Val    Val    Val    Val    Val    Val    Val    Val\n",
            "Train    Train    Train    Train    Train    Train    Train    Train    Train    Train    Train\n",
            "Train    Train    Train    Train    Train    Train    Train    Train    Train    Train    Train\n",
            "Train    Train    Train    Train    Train    Train    Train    Train    Train    Train    Train\n",
            "Train    Train    Train    Train    Train    Train    Train    Train    Train    Train    Train\n",
            "Train    Train    Train    Train    Train    Train    Train    Train    Train    Train    Train\n",
            "Train    Train    Train    Train    Train    Train    Train    Train    Train    Train    Train\n",
            "Train    Train    Train    Train    Train    Train    Train    Train    Train    Train    Train\n",
            "Val    Val    Val    Val    Val    Val    Val    Val    Val    Val    Val    Val    Val    Val\n",
            "Train    Train    Train    Train    Train    Train    Train    Train    Train    Train    Train\n",
            "Train    Train    Train    Train    Train    Train    Train    Train    Train    Train    Train\n",
            "Train    Train    Train    Train    Train    Train    Train    Train    Train    Train    Train\n",
            "Train    Train    Train    Train    Train    Train    Train    Train    Train    Train    Train\n",
            "Train    Train    Train    Train    Train    Train    Train    Train    Train    Train    Train\n",
            "Test    Test    Test   Test    Test    Test    Test    Test    Test    Test    Test    Test\n",
            "Val    Val    Val    Val    Val    Val    Val    Val    Val    Val    Val    Val    Val    Val\n",
            "Test    Test    Test   Test    Test    Test    Test    Test    Test    Test    Test    Test\n",
            "Train    Train    Train    Train    Train    Train    Train    Train    Train    Train    Train\n",
            "Val    Val    Val    Val    Val    Val    Val    Val    Val    Val    Val    Val    Val    Val\n",
            "Train    Train    Train    Train    Train    Train    Train    Train    Train    Train    Train\n",
            "Train    Train    Train    Train    Train    Train    Train    Train    Train    Train    Train\n",
            "Train    Train    Train    Train    Train    Train    Train    Train    Train    Train    Train\n",
            "Train    Train    Train    Train    Train    Train    Train    Train    Train    Train    Train\n",
            "Train    Train    Train    Train    Train    Train    Train    Train    Train    Train    Train\n",
            "Train    Train    Train    Train    Train    Train    Train    Train    Train    Train    Train\n",
            "Train    Train    Train    Train    Train    Train    Train    Train    Train    Train    Train\n",
            "Train    Train    Train    Train    Train    Train    Train    Train    Train    Train    Train\n",
            "Train    Train    Train    Train    Train    Train    Train    Train    Train    Train    Train\n",
            "Train    Train    Train    Train    Train    Train    Train    Train    Train    Train    Train\n",
            "Train    Train    Train    Train    Train    Train    Train    Train    Train    Train    Train\n",
            "Train    Train    Train    Train    Train    Train    Train    Train    Train    Train    Train\n",
            "Train    Train    Train    Train    Train    Train    Train    Train    Train    Train    Train\n",
            "Train    Train    Train    Train    Train    Train    Train    Train    Train    Train    Train\n",
            "Train    Train    Train    Train    Train    Train    Train    Train    Train    Train    Train\n",
            "Test    Test    Test   Test    Test    Test    Test    Test    Test    Test    Test    Test\n",
            "Train    Train    Train    Train    Train    Train    Train    Train    Train    Train    Train\n",
            "Val    Val    Val    Val    Val    Val    Val    Val    Val    Val    Val    Val    Val    Val\n",
            "Train    Train    Train    Train    Train    Train    Train    Train    Train    Train    Train\n",
            "Train    Train    Train    Train    Train    Train    Train    Train    Train    Train    Train\n",
            "Train    Train    Train    Train    Train    Train    Train    Train    Train    Train    Train\n",
            "Val    Val    Val    Val    Val    Val    Val    Val    Val    Val    Val    Val    Val    Val\n",
            "Train    Train    Train    Train    Train    Train    Train    Train    Train    Train    Train\n",
            "Train    Train    Train    Train    Train    Train    Train    Train    Train    Train    Train\n",
            "Train    Train    Train    Train    Train    Train    Train    Train    Train    Train    Train\n",
            "Train    Train    Train    Train    Train    Train    Train    Train    Train    Train    Train\n",
            "Val    Val    Val    Val    Val    Val    Val    Val    Val    Val    Val    Val    Val    Val\n",
            "Train    Train    Train    Train    Train    Train    Train    Train    Train    Train    Train\n",
            "Train    Train    Train    Train    Train    Train    Train    Train    Train    Train    Train\n",
            "Train    Train    Train    Train    Train    Train    Train    Train    Train    Train    Train\n",
            "Train    Train    Train    Train    Train    Train    Train    Train    Train    Train    Train\n",
            "Train    Train    Train    Train    Train    Train    Train    Train    Train    Train    Train\n",
            "Train    Train    Train    Train    Train    Train    Train    Train    Train    Train    Train\n",
            "Done    Done    Done    Done    Done    Done   Done   Done    Done    Done    Done   Done    Done   Done\n"
          ]
        }
      ]
    },
    {
      "cell_type": "code",
      "source": [
        "custom_model_combine = YOLO('yolov8x.yaml')\n",
        "custom_model_images = YOLO('yolov8x.yaml')\n",
        "custom_model_spectogram = YOLO('yolov8x.yaml')"
      ],
      "metadata": {
        "id": "FSsGSN-tkx_l"
      },
      "execution_count": null,
      "outputs": []
    },
    {
      "cell_type": "code",
      "source": [
        "custom_model_combine = YOLO('yolov8x.yaml')\n",
        "results_combined = custom_model_combine.train(data='/content/drive/MyDrive/YoloCustonTraining/data.yaml', epochs=100, imgsz=640)"
      ],
      "metadata": {
        "colab": {
          "base_uri": "https://localhost:8080/"
        },
        "id": "6gSKVnvolWSx",
        "outputId": "8f8e2717-fa64-4b79-9844-c009572533e8"
      },
      "execution_count": null,
      "outputs": [
        {
          "metadata": {
            "tags": null
          },
          "name": "stdout",
          "output_type": "stream",
          "text": [
            "Ultralytics YOLOv8.1.34 🚀 Python-3.10.12 torch-2.2.1+cu121 CUDA:0 (Tesla T4, 15102MiB)\n",
            "\u001b[34m\u001b[1mengine/trainer: \u001b[0mtask=detect, mode=train, model=yolov8x.yaml, data=/content/drive/MyDrive/YoloCustonTraining/data.yaml, epochs=100, time=None, patience=100, batch=16, imgsz=640, save=True, save_period=-1, cache=False, device=None, workers=8, project=None, name=train, exist_ok=False, pretrained=True, optimizer=auto, verbose=True, seed=0, deterministic=True, single_cls=False, rect=False, cos_lr=False, close_mosaic=10, resume=False, amp=True, fraction=1.0, profile=False, freeze=None, multi_scale=False, overlap_mask=True, mask_ratio=4, dropout=0.0, val=True, split=val, save_json=False, save_hybrid=False, conf=None, iou=0.7, max_det=300, half=False, dnn=False, plots=True, source=None, vid_stride=1, stream_buffer=False, visualize=False, augment=False, agnostic_nms=False, classes=None, retina_masks=False, embed=None, show=False, save_frames=False, save_txt=False, save_conf=False, save_crop=False, show_labels=True, show_conf=True, show_boxes=True, line_width=None, format=torchscript, keras=False, optimize=False, int8=False, dynamic=False, simplify=False, opset=None, workspace=4, nms=False, lr0=0.01, lrf=0.01, momentum=0.937, weight_decay=0.0005, warmup_epochs=3.0, warmup_momentum=0.8, warmup_bias_lr=0.1, box=7.5, cls=0.5, dfl=1.5, pose=12.0, kobj=1.0, label_smoothing=0.0, nbs=64, hsv_h=0.015, hsv_s=0.7, hsv_v=0.4, degrees=0.0, translate=0.1, scale=0.5, shear=0.0, perspective=0.0, flipud=0.0, fliplr=0.5, bgr=0.0, mosaic=1.0, mixup=0.0, copy_paste=0.0, auto_augment=randaugment, erasing=0.4, crop_fraction=1.0, cfg=None, tracker=botsort.yaml, save_dir=runs/detect/train\n",
            "Downloading https://ultralytics.com/assets/Arial.ttf to '/root/.config/Ultralytics/Arial.ttf'...\n"
          ]
        },
        {
          "metadata": {
            "tags": null
          },
          "name": "stderr",
          "output_type": "stream",
          "text": [
            "100%|██████████| 755k/755k [00:00<00:00, 22.8MB/s]\n"
          ]
        },
        {
          "metadata": {
            "tags": null
          },
          "name": "stdout",
          "output_type": "stream",
          "text": [
            "Overriding model.yaml nc=80 with nc=1\n",
            "\n",
            "                   from  n    params  module                                       arguments                     \n",
            "  0                  -1  1      2320  ultralytics.nn.modules.conv.Conv             [3, 80, 3, 2]                 \n",
            "  1                  -1  1    115520  ultralytics.nn.modules.conv.Conv             [80, 160, 3, 2]               \n",
            "  2                  -1  3    436800  ultralytics.nn.modules.block.C2f             [160, 160, 3, True]           \n",
            "  3                  -1  1    461440  ultralytics.nn.modules.conv.Conv             [160, 320, 3, 2]              \n",
            "  4                  -1  6   3281920  ultralytics.nn.modules.block.C2f             [320, 320, 6, True]           \n",
            "  5                  -1  1   1844480  ultralytics.nn.modules.conv.Conv             [320, 640, 3, 2]              \n",
            "  6                  -1  6  13117440  ultralytics.nn.modules.block.C2f             [640, 640, 6, True]           \n",
            "  7                  -1  1   3687680  ultralytics.nn.modules.conv.Conv             [640, 640, 3, 2]              \n",
            "  8                  -1  3   6969600  ultralytics.nn.modules.block.C2f             [640, 640, 3, True]           \n",
            "  9                  -1  1   1025920  ultralytics.nn.modules.block.SPPF            [640, 640, 5]                 \n",
            " 10                  -1  1         0  torch.nn.modules.upsampling.Upsample         [None, 2, 'nearest']          \n",
            " 11             [-1, 6]  1         0  ultralytics.nn.modules.conv.Concat           [1]                           \n",
            " 12                  -1  3   7379200  ultralytics.nn.modules.block.C2f             [1280, 640, 3]                \n",
            " 13                  -1  1         0  torch.nn.modules.upsampling.Upsample         [None, 2, 'nearest']          \n",
            " 14             [-1, 4]  1         0  ultralytics.nn.modules.conv.Concat           [1]                           \n",
            " 15                  -1  3   1948800  ultralytics.nn.modules.block.C2f             [960, 320, 3]                 \n",
            " 16                  -1  1    922240  ultralytics.nn.modules.conv.Conv             [320, 320, 3, 2]              \n",
            " 17            [-1, 12]  1         0  ultralytics.nn.modules.conv.Concat           [1]                           \n",
            " 18                  -1  3   7174400  ultralytics.nn.modules.block.C2f             [960, 640, 3]                 \n",
            " 19                  -1  1   3687680  ultralytics.nn.modules.conv.Conv             [640, 640, 3, 2]              \n",
            " 20             [-1, 9]  1         0  ultralytics.nn.modules.conv.Concat           [1]                           \n",
            " 21                  -1  3   7379200  ultralytics.nn.modules.block.C2f             [1280, 640, 3]                \n",
            " 22        [15, 18, 21]  1   8718931  ultralytics.nn.modules.head.Detect           [1, [320, 640, 640]]          \n",
            "YOLOv8x summary: 365 layers, 68153571 parameters, 68153555 gradients, 258.1 GFLOPs\n",
            "\n",
            "\u001b[34m\u001b[1mTensorBoard: \u001b[0mStart with 'tensorboard --logdir runs/detect/train', view at http://localhost:6006/\n",
            "Freezing layer 'model.22.dfl.conv.weight'\n",
            "\u001b[34m\u001b[1mAMP: \u001b[0mrunning Automatic Mixed Precision (AMP) checks with YOLOv8n...\n",
            "Downloading https://github.com/ultralytics/assets/releases/download/v8.1.0/yolov8n.pt to 'yolov8n.pt'...\n"
          ]
        },
        {
          "metadata": {
            "tags": null
          },
          "name": "stderr",
          "output_type": "stream",
          "text": [
            "100%|██████████| 6.23M/6.23M [00:00<00:00, 296MB/s]\n"
          ]
        },
        {
          "metadata": {
            "tags": null
          },
          "name": "stdout",
          "output_type": "stream",
          "text": [
            "\u001b[34m\u001b[1mAMP: \u001b[0mchecks passed ✅\n"
          ]
        },
        {
          "metadata": {
            "tags": null
          },
          "name": "stderr",
          "output_type": "stream",
          "text": [
            "\u001b[34m\u001b[1mtrain: \u001b[0mScanning /content/drive/MyDrive/YoloCustonTraining/train/labels... 1316 images, 646 backgrounds, 0 corrupt: 100%|██████████| 1316/1316 [00:15<00:00, 82.46it/s] \n"
          ]
        },
        {
          "metadata": {
            "tags": null
          },
          "name": "stdout",
          "output_type": "stream",
          "text": [
            "\u001b[34m\u001b[1mtrain: \u001b[0mNew cache created: /content/drive/MyDrive/YoloCustonTraining/train/labels.cache\n",
            "\u001b[34m\u001b[1malbumentations: \u001b[0mBlur(p=0.01, blur_limit=(3, 7)), MedianBlur(p=0.01, blur_limit=(3, 7)), ToGray(p=0.01), CLAHE(p=0.01, clip_limit=(1, 4.0), tile_grid_size=(8, 8))\n"
          ]
        },
        {
          "metadata": {
            "tags": null
          },
          "name": "stderr",
          "output_type": "stream",
          "text": [
            "\u001b[34m\u001b[1mval: \u001b[0mScanning /content/drive/MyDrive/YoloCustonTraining/validate/labels... 165 images, 81 backgrounds, 0 corrupt: 100%|██████████| 165/165 [00:01<00:00, 89.77it/s]\n"
          ]
        },
        {
          "metadata": {
            "tags": null
          },
          "name": "stdout",
          "output_type": "stream",
          "text": [
            "\u001b[34m\u001b[1mval: \u001b[0mNew cache created: /content/drive/MyDrive/YoloCustonTraining/validate/labels.cache\n",
            "Plotting labels to runs/detect/train/labels.jpg... \n",
            "\u001b[34m\u001b[1moptimizer:\u001b[0m 'optimizer=auto' found, ignoring 'lr0=0.01' and 'momentum=0.937' and determining best 'optimizer', 'lr0' and 'momentum' automatically... \n",
            "\u001b[34m\u001b[1moptimizer:\u001b[0m AdamW(lr=0.002, momentum=0.9) with parameter groups 97 weight(decay=0.0), 104 weight(decay=0.0005), 103 bias(decay=0.0)\n",
            "\u001b[34m\u001b[1mTensorBoard: \u001b[0mmodel graph visualization added ✅\n",
            "Image sizes 640 train, 640 val\n",
            "Using 8 dataloader workers\n",
            "Logging results to \u001b[1mruns/detect/train\u001b[0m\n",
            "Starting training for 100 epochs...\n",
            "\n",
            "      Epoch    GPU_mem   box_loss   cls_loss   dfl_loss  Instances       Size\n"
          ]
        },
        {
          "metadata": {
            "tags": null
          },
          "name": "stderr",
          "output_type": "stream",
          "text": [
            "      1/100      14.6G      2.924      3.203      3.638          9        640: 100%|██████████| 83/83 [01:38<00:00,  1.19s/it]\n",
            "                 Class     Images  Instances      Box(P          R      mAP50  mAP50-95): 100%|██████████| 6/6 [00:03<00:00,  1.59it/s]"
          ]
        },
        {
          "metadata": {
            "tags": null
          },
          "name": "stdout",
          "output_type": "stream",
          "text": [
            "                   all        165        259      0.042      0.506     0.0289     0.0193\n"
          ]
        },
        {
          "metadata": {
            "tags": null
          },
          "name": "stderr",
          "output_type": "stream",
          "text": [
            "\n"
          ]
        },
        {
          "metadata": {
            "tags": null
          },
          "name": "stdout",
          "output_type": "stream",
          "text": [
            "\n",
            "      Epoch    GPU_mem   box_loss   cls_loss   dfl_loss  Instances       Size\n"
          ]
        },
        {
          "metadata": {
            "tags": null
          },
          "name": "stderr",
          "output_type": "stream",
          "text": [
            "      2/100      15.2G      2.047      2.259      2.591          8        640: 100%|██████████| 83/83 [01:39<00:00,  1.19s/it]\n",
            "                 Class     Images  Instances      Box(P          R      mAP50  mAP50-95): 100%|██████████| 6/6 [00:02<00:00,  2.17it/s]"
          ]
        },
        {
          "metadata": {
            "tags": null
          },
          "name": "stdout",
          "output_type": "stream",
          "text": [
            "                   all        165        259      0.128      0.486      0.102     0.0428\n"
          ]
        },
        {
          "metadata": {
            "tags": null
          },
          "name": "stderr",
          "output_type": "stream",
          "text": [
            "\n"
          ]
        },
        {
          "metadata": {
            "tags": null
          },
          "name": "stdout",
          "output_type": "stream",
          "text": [
            "\n",
            "      Epoch    GPU_mem   box_loss   cls_loss   dfl_loss  Instances       Size\n"
          ]
        },
        {
          "metadata": {
            "tags": null
          },
          "name": "stderr",
          "output_type": "stream",
          "text": [
            "      3/100      15.2G      1.596      1.908      2.112          8        640: 100%|██████████| 83/83 [01:40<00:00,  1.21s/it]\n",
            "                 Class     Images  Instances      Box(P          R      mAP50  mAP50-95): 100%|██████████| 6/6 [00:02<00:00,  2.18it/s]"
          ]
        },
        {
          "metadata": {
            "tags": null
          },
          "name": "stdout",
          "output_type": "stream",
          "text": [
            "                   all        165        259      0.406      0.587      0.374      0.186\n"
          ]
        },
        {
          "metadata": {
            "tags": null
          },
          "name": "stderr",
          "output_type": "stream",
          "text": [
            "\n"
          ]
        },
        {
          "metadata": {
            "tags": null
          },
          "name": "stdout",
          "output_type": "stream",
          "text": [
            "\n",
            "      Epoch    GPU_mem   box_loss   cls_loss   dfl_loss  Instances       Size\n"
          ]
        },
        {
          "metadata": {
            "tags": null
          },
          "name": "stderr",
          "output_type": "stream",
          "text": [
            "      4/100      15.2G      1.382      1.679      1.853         24        640: 100%|██████████| 83/83 [01:40<00:00,  1.21s/it]\n",
            "                 Class     Images  Instances      Box(P          R      mAP50  mAP50-95): 100%|██████████| 6/6 [00:02<00:00,  2.20it/s]"
          ]
        },
        {
          "metadata": {
            "tags": null
          },
          "name": "stdout",
          "output_type": "stream",
          "text": [
            "                   all        165        259      0.309      0.587       0.32      0.179\n"
          ]
        },
        {
          "metadata": {
            "tags": null
          },
          "name": "stderr",
          "output_type": "stream",
          "text": [
            "\n"
          ]
        },
        {
          "metadata": {
            "tags": null
          },
          "name": "stdout",
          "output_type": "stream",
          "text": [
            "\n",
            "      Epoch    GPU_mem   box_loss   cls_loss   dfl_loss  Instances       Size\n"
          ]
        },
        {
          "metadata": {
            "tags": null
          },
          "name": "stderr",
          "output_type": "stream",
          "text": [
            "      5/100      15.2G      1.325      1.612       1.76         16        640: 100%|██████████| 83/83 [01:40<00:00,  1.21s/it]\n",
            "                 Class     Images  Instances      Box(P          R      mAP50  mAP50-95): 100%|██████████| 6/6 [00:02<00:00,  2.19it/s]"
          ]
        },
        {
          "metadata": {
            "tags": null
          },
          "name": "stdout",
          "output_type": "stream",
          "text": [
            "                   all        165        259      0.402      0.649      0.421      0.262\n"
          ]
        },
        {
          "metadata": {
            "tags": null
          },
          "name": "stderr",
          "output_type": "stream",
          "text": [
            "\n"
          ]
        },
        {
          "metadata": {
            "tags": null
          },
          "name": "stdout",
          "output_type": "stream",
          "text": [
            "\n",
            "      Epoch    GPU_mem   box_loss   cls_loss   dfl_loss  Instances       Size\n"
          ]
        },
        {
          "metadata": {
            "tags": null
          },
          "name": "stderr",
          "output_type": "stream",
          "text": [
            "      6/100      15.2G      1.216      1.524      1.652          6        640: 100%|██████████| 83/83 [01:39<00:00,  1.20s/it]\n",
            "                 Class     Images  Instances      Box(P          R      mAP50  mAP50-95): 100%|██████████| 6/6 [00:02<00:00,  2.17it/s]"
          ]
        },
        {
          "metadata": {
            "tags": null
          },
          "name": "stdout",
          "output_type": "stream",
          "text": [
            "                   all        165        259      0.497      0.579      0.506      0.375\n"
          ]
        },
        {
          "metadata": {
            "tags": null
          },
          "name": "stderr",
          "output_type": "stream",
          "text": [
            "\n"
          ]
        },
        {
          "metadata": {
            "tags": null
          },
          "name": "stdout",
          "output_type": "stream",
          "text": [
            "\n",
            "      Epoch    GPU_mem   box_loss   cls_loss   dfl_loss  Instances       Size\n"
          ]
        },
        {
          "metadata": {
            "tags": null
          },
          "name": "stderr",
          "output_type": "stream",
          "text": [
            "      7/100      15.2G      1.148      1.445      1.582         14        640: 100%|██████████| 83/83 [01:39<00:00,  1.20s/it]\n",
            "                 Class     Images  Instances      Box(P          R      mAP50  mAP50-95): 100%|██████████| 6/6 [00:02<00:00,  2.19it/s]"
          ]
        },
        {
          "metadata": {
            "tags": null
          },
          "name": "stdout",
          "output_type": "stream",
          "text": [
            "                   all        165        259      0.509      0.602      0.495       0.36\n"
          ]
        },
        {
          "metadata": {
            "tags": null
          },
          "name": "stderr",
          "output_type": "stream",
          "text": [
            "\n"
          ]
        },
        {
          "metadata": {
            "tags": null
          },
          "name": "stdout",
          "output_type": "stream",
          "text": [
            "\n",
            "      Epoch    GPU_mem   box_loss   cls_loss   dfl_loss  Instances       Size\n"
          ]
        },
        {
          "metadata": {
            "tags": null
          },
          "name": "stderr",
          "output_type": "stream",
          "text": [
            "      8/100      15.2G      1.092       1.42      1.529          3        640: 100%|██████████| 83/83 [01:40<00:00,  1.21s/it]\n",
            "                 Class     Images  Instances      Box(P          R      mAP50  mAP50-95): 100%|██████████| 6/6 [00:02<00:00,  2.19it/s]"
          ]
        },
        {
          "metadata": {
            "tags": null
          },
          "name": "stdout",
          "output_type": "stream",
          "text": [
            "                   all        165        259      0.588      0.562       0.54      0.352\n"
          ]
        },
        {
          "metadata": {
            "tags": null
          },
          "name": "stderr",
          "output_type": "stream",
          "text": [
            "\n"
          ]
        },
        {
          "metadata": {
            "tags": null
          },
          "name": "stdout",
          "output_type": "stream",
          "text": [
            "\n",
            "      Epoch    GPU_mem   box_loss   cls_loss   dfl_loss  Instances       Size\n"
          ]
        },
        {
          "metadata": {
            "tags": null
          },
          "name": "stderr",
          "output_type": "stream",
          "text": [
            "      9/100      15.2G      1.081      1.348      1.506         27        640: 100%|██████████| 83/83 [01:40<00:00,  1.21s/it]\n",
            "                 Class     Images  Instances      Box(P          R      mAP50  mAP50-95): 100%|██████████| 6/6 [00:02<00:00,  2.17it/s]"
          ]
        },
        {
          "metadata": {
            "tags": null
          },
          "name": "stdout",
          "output_type": "stream",
          "text": [
            "                   all        165        259      0.569      0.602      0.557      0.348\n"
          ]
        },
        {
          "metadata": {
            "tags": null
          },
          "name": "stderr",
          "output_type": "stream",
          "text": [
            "\n"
          ]
        },
        {
          "metadata": {
            "tags": null
          },
          "name": "stdout",
          "output_type": "stream",
          "text": [
            "\n",
            "      Epoch    GPU_mem   box_loss   cls_loss   dfl_loss  Instances       Size\n"
          ]
        },
        {
          "metadata": {
            "tags": null
          },
          "name": "stderr",
          "output_type": "stream",
          "text": [
            "     10/100      15.2G      1.025      1.345      1.479          7        640: 100%|██████████| 83/83 [01:40<00:00,  1.21s/it]\n",
            "                 Class     Images  Instances      Box(P          R      mAP50  mAP50-95): 100%|██████████| 6/6 [00:02<00:00,  2.20it/s]"
          ]
        },
        {
          "metadata": {
            "tags": null
          },
          "name": "stdout",
          "output_type": "stream",
          "text": [
            "                   all        165        259      0.583      0.653      0.628      0.473\n"
          ]
        },
        {
          "metadata": {
            "tags": null
          },
          "name": "stderr",
          "output_type": "stream",
          "text": [
            "\n"
          ]
        },
        {
          "metadata": {
            "tags": null
          },
          "name": "stdout",
          "output_type": "stream",
          "text": [
            "\n",
            "      Epoch    GPU_mem   box_loss   cls_loss   dfl_loss  Instances       Size\n"
          ]
        },
        {
          "metadata": {
            "tags": null
          },
          "name": "stderr",
          "output_type": "stream",
          "text": [
            "     11/100      15.2G     0.9975      1.246      1.448         15        640: 100%|██████████| 83/83 [01:40<00:00,  1.21s/it]\n",
            "                 Class     Images  Instances      Box(P          R      mAP50  mAP50-95): 100%|██████████| 6/6 [00:02<00:00,  2.21it/s]"
          ]
        },
        {
          "metadata": {
            "tags": null
          },
          "name": "stdout",
          "output_type": "stream",
          "text": [
            "                   all        165        259      0.584      0.649      0.634      0.495\n"
          ]
        },
        {
          "metadata": {
            "tags": null
          },
          "name": "stderr",
          "output_type": "stream",
          "text": [
            "\n"
          ]
        },
        {
          "metadata": {
            "tags": null
          },
          "name": "stdout",
          "output_type": "stream",
          "text": [
            "\n",
            "      Epoch    GPU_mem   box_loss   cls_loss   dfl_loss  Instances       Size\n"
          ]
        },
        {
          "metadata": {
            "tags": null
          },
          "name": "stderr",
          "output_type": "stream",
          "text": [
            "     12/100      15.2G     0.9813      1.244      1.429          7        640: 100%|██████████| 83/83 [01:41<00:00,  1.23s/it]\n",
            "                 Class     Images  Instances      Box(P          R      mAP50  mAP50-95): 100%|██████████| 6/6 [00:02<00:00,  2.17it/s]"
          ]
        },
        {
          "metadata": {
            "tags": null
          },
          "name": "stdout",
          "output_type": "stream",
          "text": [
            "                   all        165        259      0.738      0.625      0.701      0.524\n"
          ]
        },
        {
          "metadata": {
            "tags": null
          },
          "name": "stderr",
          "output_type": "stream",
          "text": [
            "\n"
          ]
        },
        {
          "metadata": {
            "tags": null
          },
          "name": "stdout",
          "output_type": "stream",
          "text": [
            "\n",
            "      Epoch    GPU_mem   box_loss   cls_loss   dfl_loss  Instances       Size\n"
          ]
        },
        {
          "metadata": {
            "tags": null
          },
          "name": "stderr",
          "output_type": "stream",
          "text": [
            "     13/100      15.2G     0.9632      1.186      1.406         15        640: 100%|██████████| 83/83 [01:42<00:00,  1.23s/it]\n",
            "                 Class     Images  Instances      Box(P          R      mAP50  mAP50-95): 100%|██████████| 6/6 [00:02<00:00,  2.15it/s]"
          ]
        },
        {
          "metadata": {
            "tags": null
          },
          "name": "stdout",
          "output_type": "stream",
          "text": [
            "                   all        165        259      0.766      0.537      0.664      0.531\n"
          ]
        },
        {
          "metadata": {
            "tags": null
          },
          "name": "stderr",
          "output_type": "stream",
          "text": [
            "\n"
          ]
        },
        {
          "metadata": {
            "tags": null
          },
          "name": "stdout",
          "output_type": "stream",
          "text": [
            "\n",
            "      Epoch    GPU_mem   box_loss   cls_loss   dfl_loss  Instances       Size\n"
          ]
        },
        {
          "metadata": {
            "tags": null
          },
          "name": "stderr",
          "output_type": "stream",
          "text": [
            "     14/100      15.2G     0.9535      1.193      1.403         27        640: 100%|██████████| 83/83 [01:42<00:00,  1.23s/it]\n",
            "                 Class     Images  Instances      Box(P          R      mAP50  mAP50-95): 100%|██████████| 6/6 [00:02<00:00,  2.17it/s]"
          ]
        },
        {
          "metadata": {
            "tags": null
          },
          "name": "stdout",
          "output_type": "stream",
          "text": [
            "                   all        165        259       0.72      0.664      0.712      0.554\n"
          ]
        },
        {
          "metadata": {
            "tags": null
          },
          "name": "stderr",
          "output_type": "stream",
          "text": [
            "\n"
          ]
        },
        {
          "metadata": {
            "tags": null
          },
          "name": "stdout",
          "output_type": "stream",
          "text": [
            "\n",
            "      Epoch    GPU_mem   box_loss   cls_loss   dfl_loss  Instances       Size\n"
          ]
        },
        {
          "metadata": {
            "tags": null
          },
          "name": "stderr",
          "output_type": "stream",
          "text": [
            "     15/100      15.2G     0.9277      1.158      1.372         19        640: 100%|██████████| 83/83 [01:41<00:00,  1.22s/it]\n",
            "                 Class     Images  Instances      Box(P          R      mAP50  mAP50-95): 100%|██████████| 6/6 [00:02<00:00,  2.19it/s]"
          ]
        },
        {
          "metadata": {
            "tags": null
          },
          "name": "stdout",
          "output_type": "stream",
          "text": [
            "                   all        165        259      0.681       0.66       0.68      0.564\n"
          ]
        },
        {
          "metadata": {
            "tags": null
          },
          "name": "stderr",
          "output_type": "stream",
          "text": [
            "\n"
          ]
        },
        {
          "metadata": {
            "tags": null
          },
          "name": "stdout",
          "output_type": "stream",
          "text": [
            "\n",
            "      Epoch    GPU_mem   box_loss   cls_loss   dfl_loss  Instances       Size\n"
          ]
        },
        {
          "metadata": {
            "tags": null
          },
          "name": "stderr",
          "output_type": "stream",
          "text": [
            "     16/100      15.2G     0.8904      1.138      1.362         12        640: 100%|██████████| 83/83 [01:40<00:00,  1.21s/it]\n",
            "                 Class     Images  Instances      Box(P          R      mAP50  mAP50-95): 100%|██████████| 6/6 [00:02<00:00,  2.20it/s]"
          ]
        },
        {
          "metadata": {
            "tags": null
          },
          "name": "stdout",
          "output_type": "stream",
          "text": [
            "                   all        165        259      0.635      0.686      0.676      0.557\n"
          ]
        },
        {
          "metadata": {
            "tags": null
          },
          "name": "stderr",
          "output_type": "stream",
          "text": [
            "\n"
          ]
        },
        {
          "metadata": {
            "tags": null
          },
          "name": "stdout",
          "output_type": "stream",
          "text": [
            "\n",
            "      Epoch    GPU_mem   box_loss   cls_loss   dfl_loss  Instances       Size\n"
          ]
        },
        {
          "metadata": {
            "tags": null
          },
          "name": "stderr",
          "output_type": "stream",
          "text": [
            "     17/100      15.2G     0.8866      1.127      1.343          9        640: 100%|██████████| 83/83 [01:40<00:00,  1.21s/it]\n",
            "                 Class     Images  Instances      Box(P          R      mAP50  mAP50-95): 100%|██████████| 6/6 [00:02<00:00,  2.20it/s]"
          ]
        },
        {
          "metadata": {
            "tags": null
          },
          "name": "stdout",
          "output_type": "stream",
          "text": [
            "                   all        165        259      0.679      0.653      0.681      0.536\n"
          ]
        },
        {
          "metadata": {
            "tags": null
          },
          "name": "stderr",
          "output_type": "stream",
          "text": [
            "\n"
          ]
        },
        {
          "metadata": {
            "tags": null
          },
          "name": "stdout",
          "output_type": "stream",
          "text": [
            "\n",
            "      Epoch    GPU_mem   box_loss   cls_loss   dfl_loss  Instances       Size\n"
          ]
        },
        {
          "metadata": {
            "tags": null
          },
          "name": "stderr",
          "output_type": "stream",
          "text": [
            "     18/100      15.2G     0.8309      1.077        1.3         10        640: 100%|██████████| 83/83 [01:40<00:00,  1.21s/it]\n",
            "                 Class     Images  Instances      Box(P          R      mAP50  mAP50-95): 100%|██████████| 6/6 [00:02<00:00,  2.16it/s]"
          ]
        },
        {
          "metadata": {
            "tags": null
          },
          "name": "stdout",
          "output_type": "stream",
          "text": [
            "                   all        165        259      0.727      0.683      0.748      0.568\n"
          ]
        },
        {
          "metadata": {
            "tags": null
          },
          "name": "stderr",
          "output_type": "stream",
          "text": [
            "\n"
          ]
        },
        {
          "metadata": {
            "tags": null
          },
          "name": "stdout",
          "output_type": "stream",
          "text": [
            "\n",
            "      Epoch    GPU_mem   box_loss   cls_loss   dfl_loss  Instances       Size\n"
          ]
        },
        {
          "metadata": {
            "tags": null
          },
          "name": "stderr",
          "output_type": "stream",
          "text": [
            "     19/100      15.2G      0.829      1.066        1.3         12        640: 100%|██████████| 83/83 [01:40<00:00,  1.21s/it]\n",
            "                 Class     Images  Instances      Box(P          R      mAP50  mAP50-95): 100%|██████████| 6/6 [00:02<00:00,  2.18it/s]"
          ]
        },
        {
          "metadata": {
            "tags": null
          },
          "name": "stdout",
          "output_type": "stream",
          "text": [
            "                   all        165        259        0.6        0.7      0.692      0.552\n"
          ]
        },
        {
          "metadata": {
            "tags": null
          },
          "name": "stderr",
          "output_type": "stream",
          "text": [
            "\n"
          ]
        },
        {
          "metadata": {
            "tags": null
          },
          "name": "stdout",
          "output_type": "stream",
          "text": [
            "\n",
            "      Epoch    GPU_mem   box_loss   cls_loss   dfl_loss  Instances       Size\n"
          ]
        },
        {
          "metadata": {
            "tags": null
          },
          "name": "stderr",
          "output_type": "stream",
          "text": [
            "     20/100      15.2G     0.8692      1.059      1.323         26        640: 100%|██████████| 83/83 [01:40<00:00,  1.21s/it]\n",
            "                 Class     Images  Instances      Box(P          R      mAP50  mAP50-95): 100%|██████████| 6/6 [00:02<00:00,  2.18it/s]"
          ]
        },
        {
          "metadata": {
            "tags": null
          },
          "name": "stdout",
          "output_type": "stream",
          "text": [
            "                   all        165        259      0.748      0.676      0.739      0.558\n"
          ]
        },
        {
          "metadata": {
            "tags": null
          },
          "name": "stderr",
          "output_type": "stream",
          "text": [
            "\n"
          ]
        },
        {
          "metadata": {
            "tags": null
          },
          "name": "stdout",
          "output_type": "stream",
          "text": [
            "\n",
            "      Epoch    GPU_mem   box_loss   cls_loss   dfl_loss  Instances       Size\n"
          ]
        },
        {
          "metadata": {
            "tags": null
          },
          "name": "stderr",
          "output_type": "stream",
          "text": [
            "     21/100      15.2G     0.8119     0.9992      1.274         17        640: 100%|██████████| 83/83 [01:40<00:00,  1.21s/it]\n",
            "                 Class     Images  Instances      Box(P          R      mAP50  mAP50-95): 100%|██████████| 6/6 [00:02<00:00,  2.18it/s]"
          ]
        },
        {
          "metadata": {
            "tags": null
          },
          "name": "stdout",
          "output_type": "stream",
          "text": [
            "                   all        165        259      0.743      0.656      0.743      0.611\n"
          ]
        },
        {
          "metadata": {
            "tags": null
          },
          "name": "stderr",
          "output_type": "stream",
          "text": [
            "\n"
          ]
        },
        {
          "metadata": {
            "tags": null
          },
          "name": "stdout",
          "output_type": "stream",
          "text": [
            "\n",
            "      Epoch    GPU_mem   box_loss   cls_loss   dfl_loss  Instances       Size\n"
          ]
        },
        {
          "metadata": {
            "tags": null
          },
          "name": "stderr",
          "output_type": "stream",
          "text": [
            "     22/100      15.2G     0.8343     0.9882      1.271         20        640: 100%|██████████| 83/83 [01:40<00:00,  1.21s/it]\n",
            "                 Class     Images  Instances      Box(P          R      mAP50  mAP50-95): 100%|██████████| 6/6 [00:02<00:00,  2.17it/s]"
          ]
        },
        {
          "metadata": {
            "tags": null
          },
          "name": "stdout",
          "output_type": "stream",
          "text": [
            "                   all        165        259      0.688      0.703      0.748      0.611\n"
          ]
        },
        {
          "metadata": {
            "tags": null
          },
          "name": "stderr",
          "output_type": "stream",
          "text": [
            "\n"
          ]
        },
        {
          "metadata": {
            "tags": null
          },
          "name": "stdout",
          "output_type": "stream",
          "text": [
            "\n",
            "      Epoch    GPU_mem   box_loss   cls_loss   dfl_loss  Instances       Size\n"
          ]
        },
        {
          "metadata": {
            "tags": null
          },
          "name": "stderr",
          "output_type": "stream",
          "text": [
            "     23/100      15.2G     0.8056      1.002      1.273         23        640: 100%|██████████| 83/83 [01:40<00:00,  1.21s/it]\n",
            "                 Class     Images  Instances      Box(P          R      mAP50  mAP50-95): 100%|██████████| 6/6 [00:02<00:00,  2.19it/s]"
          ]
        },
        {
          "metadata": {
            "tags": null
          },
          "name": "stdout",
          "output_type": "stream",
          "text": [
            "                   all        165        259      0.642      0.657      0.701      0.506\n"
          ]
        },
        {
          "metadata": {
            "tags": null
          },
          "name": "stderr",
          "output_type": "stream",
          "text": [
            "\n"
          ]
        },
        {
          "metadata": {
            "tags": null
          },
          "name": "stdout",
          "output_type": "stream",
          "text": [
            "\n",
            "      Epoch    GPU_mem   box_loss   cls_loss   dfl_loss  Instances       Size\n"
          ]
        },
        {
          "metadata": {
            "tags": null
          },
          "name": "stderr",
          "output_type": "stream",
          "text": [
            "     24/100      15.2G     0.7654     0.9647       1.24         11        640: 100%|██████████| 83/83 [01:40<00:00,  1.21s/it]\n",
            "                 Class     Images  Instances      Box(P          R      mAP50  mAP50-95): 100%|██████████| 6/6 [00:02<00:00,  2.18it/s]"
          ]
        },
        {
          "metadata": {
            "tags": null
          },
          "name": "stdout",
          "output_type": "stream",
          "text": [
            "                   all        165        259      0.747      0.726      0.758      0.629\n"
          ]
        },
        {
          "metadata": {
            "tags": null
          },
          "name": "stderr",
          "output_type": "stream",
          "text": [
            "\n"
          ]
        },
        {
          "metadata": {
            "tags": null
          },
          "name": "stdout",
          "output_type": "stream",
          "text": [
            "\n",
            "      Epoch    GPU_mem   box_loss   cls_loss   dfl_loss  Instances       Size\n"
          ]
        },
        {
          "metadata": {
            "tags": null
          },
          "name": "stderr",
          "output_type": "stream",
          "text": [
            "     25/100      15.2G     0.7666     0.9253      1.244         10        640: 100%|██████████| 83/83 [01:40<00:00,  1.21s/it]\n",
            "                 Class     Images  Instances      Box(P          R      mAP50  mAP50-95): 100%|██████████| 6/6 [00:02<00:00,  2.18it/s]"
          ]
        },
        {
          "metadata": {
            "tags": null
          },
          "name": "stdout",
          "output_type": "stream",
          "text": [
            "                   all        165        259      0.799      0.707      0.782      0.645\n"
          ]
        },
        {
          "metadata": {
            "tags": null
          },
          "name": "stderr",
          "output_type": "stream",
          "text": [
            "\n"
          ]
        },
        {
          "metadata": {
            "tags": null
          },
          "name": "stdout",
          "output_type": "stream",
          "text": [
            "\n",
            "      Epoch    GPU_mem   box_loss   cls_loss   dfl_loss  Instances       Size\n"
          ]
        },
        {
          "metadata": {
            "tags": null
          },
          "name": "stderr",
          "output_type": "stream",
          "text": [
            "     26/100      15.2G     0.7509     0.8982      1.223          8        640: 100%|██████████| 83/83 [01:40<00:00,  1.21s/it]\n",
            "                 Class     Images  Instances      Box(P          R      mAP50  mAP50-95): 100%|██████████| 6/6 [00:02<00:00,  2.19it/s]"
          ]
        },
        {
          "metadata": {
            "tags": null
          },
          "name": "stdout",
          "output_type": "stream",
          "text": [
            "                   all        165        259      0.851      0.661      0.807      0.656\n"
          ]
        },
        {
          "metadata": {
            "tags": null
          },
          "name": "stderr",
          "output_type": "stream",
          "text": [
            "\n"
          ]
        },
        {
          "metadata": {
            "tags": null
          },
          "name": "stdout",
          "output_type": "stream",
          "text": [
            "\n",
            "      Epoch    GPU_mem   box_loss   cls_loss   dfl_loss  Instances       Size\n"
          ]
        },
        {
          "metadata": {
            "tags": null
          },
          "name": "stderr",
          "output_type": "stream",
          "text": [
            "     27/100      15.2G     0.7378     0.9008      1.218         10        640: 100%|██████████| 83/83 [01:40<00:00,  1.21s/it]\n",
            "                 Class     Images  Instances      Box(P          R      mAP50  mAP50-95): 100%|██████████| 6/6 [00:02<00:00,  2.18it/s]"
          ]
        },
        {
          "metadata": {
            "tags": null
          },
          "name": "stdout",
          "output_type": "stream",
          "text": [
            "                   all        165        259      0.746      0.741      0.772      0.653\n"
          ]
        },
        {
          "metadata": {
            "tags": null
          },
          "name": "stderr",
          "output_type": "stream",
          "text": [
            "\n"
          ]
        },
        {
          "metadata": {
            "tags": null
          },
          "name": "stdout",
          "output_type": "stream",
          "text": [
            "\n",
            "      Epoch    GPU_mem   box_loss   cls_loss   dfl_loss  Instances       Size\n"
          ]
        },
        {
          "metadata": {
            "tags": null
          },
          "name": "stderr",
          "output_type": "stream",
          "text": [
            "     28/100      15.2G     0.7197     0.8614        1.2         13        640: 100%|██████████| 83/83 [01:40<00:00,  1.21s/it]\n",
            "                 Class     Images  Instances      Box(P          R      mAP50  mAP50-95): 100%|██████████| 6/6 [00:02<00:00,  2.19it/s]"
          ]
        },
        {
          "metadata": {
            "tags": null
          },
          "name": "stdout",
          "output_type": "stream",
          "text": [
            "                   all        165        259      0.799      0.677      0.768      0.592\n"
          ]
        },
        {
          "metadata": {
            "tags": null
          },
          "name": "stderr",
          "output_type": "stream",
          "text": [
            "\n"
          ]
        },
        {
          "metadata": {
            "tags": null
          },
          "name": "stdout",
          "output_type": "stream",
          "text": [
            "\n",
            "      Epoch    GPU_mem   box_loss   cls_loss   dfl_loss  Instances       Size\n"
          ]
        },
        {
          "metadata": {
            "tags": null
          },
          "name": "stderr",
          "output_type": "stream",
          "text": [
            "     29/100      15.2G     0.7003     0.8471      1.183         12        640: 100%|██████████| 83/83 [01:40<00:00,  1.21s/it]\n",
            "                 Class     Images  Instances      Box(P          R      mAP50  mAP50-95): 100%|██████████| 6/6 [00:02<00:00,  2.18it/s]"
          ]
        },
        {
          "metadata": {
            "tags": null
          },
          "name": "stdout",
          "output_type": "stream",
          "text": [
            "                   all        165        259      0.778      0.722      0.776      0.654\n"
          ]
        },
        {
          "metadata": {
            "tags": null
          },
          "name": "stderr",
          "output_type": "stream",
          "text": [
            "\n"
          ]
        },
        {
          "metadata": {
            "tags": null
          },
          "name": "stdout",
          "output_type": "stream",
          "text": [
            "\n",
            "      Epoch    GPU_mem   box_loss   cls_loss   dfl_loss  Instances       Size\n"
          ]
        },
        {
          "metadata": {
            "tags": null
          },
          "name": "stderr",
          "output_type": "stream",
          "text": [
            "     30/100      15.2G     0.7184     0.8671        1.2         16        640: 100%|██████████| 83/83 [01:40<00:00,  1.21s/it]\n",
            "                 Class     Images  Instances      Box(P          R      mAP50  mAP50-95): 100%|██████████| 6/6 [00:02<00:00,  2.19it/s]"
          ]
        },
        {
          "metadata": {
            "tags": null
          },
          "name": "stdout",
          "output_type": "stream",
          "text": [
            "                   all        165        259       0.77      0.737      0.799      0.659\n"
          ]
        },
        {
          "metadata": {
            "tags": null
          },
          "name": "stderr",
          "output_type": "stream",
          "text": [
            "\n"
          ]
        },
        {
          "metadata": {
            "tags": null
          },
          "name": "stdout",
          "output_type": "stream",
          "text": [
            "\n",
            "      Epoch    GPU_mem   box_loss   cls_loss   dfl_loss  Instances       Size\n"
          ]
        },
        {
          "metadata": {
            "tags": null
          },
          "name": "stderr",
          "output_type": "stream",
          "text": [
            "     31/100      15.2G     0.7091     0.8604      1.191         21        640: 100%|██████████| 83/83 [01:40<00:00,  1.21s/it]\n",
            "                 Class     Images  Instances      Box(P          R      mAP50  mAP50-95): 100%|██████████| 6/6 [00:02<00:00,  2.20it/s]"
          ]
        },
        {
          "metadata": {
            "tags": null
          },
          "name": "stdout",
          "output_type": "stream",
          "text": [
            "                   all        165        259      0.855       0.68      0.814      0.666\n"
          ]
        },
        {
          "metadata": {
            "tags": null
          },
          "name": "stderr",
          "output_type": "stream",
          "text": [
            "\n"
          ]
        },
        {
          "metadata": {
            "tags": null
          },
          "name": "stdout",
          "output_type": "stream",
          "text": [
            "\n",
            "      Epoch    GPU_mem   box_loss   cls_loss   dfl_loss  Instances       Size\n"
          ]
        },
        {
          "metadata": {
            "tags": null
          },
          "name": "stderr",
          "output_type": "stream",
          "text": [
            "     32/100      15.2G      0.713       0.83      1.193         18        640: 100%|██████████| 83/83 [01:40<00:00,  1.21s/it]\n",
            "                 Class     Images  Instances      Box(P          R      mAP50  mAP50-95): 100%|██████████| 6/6 [00:02<00:00,  2.17it/s]"
          ]
        },
        {
          "metadata": {
            "tags": null
          },
          "name": "stdout",
          "output_type": "stream",
          "text": [
            "                   all        165        259      0.772       0.73      0.805      0.648\n"
          ]
        },
        {
          "metadata": {
            "tags": null
          },
          "name": "stderr",
          "output_type": "stream",
          "text": [
            "\n"
          ]
        },
        {
          "metadata": {
            "tags": null
          },
          "name": "stdout",
          "output_type": "stream",
          "text": [
            "\n",
            "      Epoch    GPU_mem   box_loss   cls_loss   dfl_loss  Instances       Size\n"
          ]
        },
        {
          "metadata": {
            "tags": null
          },
          "name": "stderr",
          "output_type": "stream",
          "text": [
            "     33/100      15.2G     0.6718     0.8047      1.163         13        640: 100%|██████████| 83/83 [01:40<00:00,  1.21s/it]\n",
            "                 Class     Images  Instances      Box(P          R      mAP50  mAP50-95): 100%|██████████| 6/6 [00:02<00:00,  2.17it/s]"
          ]
        },
        {
          "metadata": {
            "tags": null
          },
          "name": "stdout",
          "output_type": "stream",
          "text": [
            "                   all        165        259      0.818      0.741      0.836      0.715\n"
          ]
        },
        {
          "metadata": {
            "tags": null
          },
          "name": "stderr",
          "output_type": "stream",
          "text": [
            "\n"
          ]
        },
        {
          "metadata": {
            "tags": null
          },
          "name": "stdout",
          "output_type": "stream",
          "text": [
            "\n",
            "      Epoch    GPU_mem   box_loss   cls_loss   dfl_loss  Instances       Size\n"
          ]
        },
        {
          "metadata": {
            "tags": null
          },
          "name": "stderr",
          "output_type": "stream",
          "text": [
            "     34/100      15.2G     0.7038     0.8577      1.189         16        640: 100%|██████████| 83/83 [01:40<00:00,  1.21s/it]\n",
            "                 Class     Images  Instances      Box(P          R      mAP50  mAP50-95): 100%|██████████| 6/6 [00:02<00:00,  2.19it/s]"
          ]
        },
        {
          "metadata": {
            "tags": null
          },
          "name": "stdout",
          "output_type": "stream",
          "text": [
            "                   all        165        259       0.86      0.738       0.85      0.709\n"
          ]
        },
        {
          "metadata": {
            "tags": null
          },
          "name": "stderr",
          "output_type": "stream",
          "text": [
            "\n"
          ]
        },
        {
          "metadata": {
            "tags": null
          },
          "name": "stdout",
          "output_type": "stream",
          "text": [
            "\n",
            "      Epoch    GPU_mem   box_loss   cls_loss   dfl_loss  Instances       Size\n"
          ]
        },
        {
          "metadata": {
            "tags": null
          },
          "name": "stderr",
          "output_type": "stream",
          "text": [
            "     35/100      15.2G      0.675     0.7912       1.17         14        640: 100%|██████████| 83/83 [01:40<00:00,  1.21s/it]\n",
            "                 Class     Images  Instances      Box(P          R      mAP50  mAP50-95): 100%|██████████| 6/6 [00:02<00:00,  2.20it/s]"
          ]
        },
        {
          "metadata": {
            "tags": null
          },
          "name": "stdout",
          "output_type": "stream",
          "text": [
            "                   all        165        259      0.816      0.753      0.838      0.713\n"
          ]
        },
        {
          "metadata": {
            "tags": null
          },
          "name": "stderr",
          "output_type": "stream",
          "text": [
            "\n"
          ]
        },
        {
          "metadata": {
            "tags": null
          },
          "name": "stdout",
          "output_type": "stream",
          "text": [
            "\n",
            "      Epoch    GPU_mem   box_loss   cls_loss   dfl_loss  Instances       Size\n"
          ]
        },
        {
          "metadata": {
            "tags": null
          },
          "name": "stderr",
          "output_type": "stream",
          "text": [
            "     36/100      15.2G     0.6589     0.7681      1.154         10        640: 100%|██████████| 83/83 [01:40<00:00,  1.21s/it]\n",
            "                 Class     Images  Instances      Box(P          R      mAP50  mAP50-95): 100%|██████████| 6/6 [00:02<00:00,  2.19it/s]"
          ]
        },
        {
          "metadata": {
            "tags": null
          },
          "name": "stdout",
          "output_type": "stream",
          "text": [
            "                   all        165        259      0.853      0.764      0.842      0.714\n"
          ]
        },
        {
          "metadata": {
            "tags": null
          },
          "name": "stderr",
          "output_type": "stream",
          "text": [
            "\n"
          ]
        },
        {
          "metadata": {
            "tags": null
          },
          "name": "stdout",
          "output_type": "stream",
          "text": [
            "\n",
            "      Epoch    GPU_mem   box_loss   cls_loss   dfl_loss  Instances       Size\n"
          ]
        },
        {
          "metadata": {
            "tags": null
          },
          "name": "stderr",
          "output_type": "stream",
          "text": [
            "     37/100      15.2G     0.6707     0.7688      1.162         14        640: 100%|██████████| 83/83 [01:40<00:00,  1.21s/it]\n",
            "                 Class     Images  Instances      Box(P          R      mAP50  mAP50-95): 100%|██████████| 6/6 [00:02<00:00,  2.15it/s]"
          ]
        },
        {
          "metadata": {
            "tags": null
          },
          "name": "stdout",
          "output_type": "stream",
          "text": [
            "                   all        165        259      0.812      0.751      0.839      0.692\n"
          ]
        },
        {
          "metadata": {
            "tags": null
          },
          "name": "stderr",
          "output_type": "stream",
          "text": [
            "\n"
          ]
        },
        {
          "metadata": {
            "tags": null
          },
          "name": "stdout",
          "output_type": "stream",
          "text": [
            "\n",
            "      Epoch    GPU_mem   box_loss   cls_loss   dfl_loss  Instances       Size\n"
          ]
        },
        {
          "metadata": {
            "tags": null
          },
          "name": "stderr",
          "output_type": "stream",
          "text": [
            "     38/100      15.2G     0.6216     0.7492      1.141          9        640: 100%|██████████| 83/83 [01:42<00:00,  1.23s/it]\n",
            "                 Class     Images  Instances      Box(P          R      mAP50  mAP50-95): 100%|██████████| 6/6 [00:02<00:00,  2.15it/s]"
          ]
        },
        {
          "metadata": {
            "tags": null
          },
          "name": "stdout",
          "output_type": "stream",
          "text": [
            "                   all        165        259      0.795       0.78      0.834      0.721\n"
          ]
        },
        {
          "metadata": {
            "tags": null
          },
          "name": "stderr",
          "output_type": "stream",
          "text": [
            "\n"
          ]
        },
        {
          "metadata": {
            "tags": null
          },
          "name": "stdout",
          "output_type": "stream",
          "text": [
            "\n",
            "      Epoch    GPU_mem   box_loss   cls_loss   dfl_loss  Instances       Size\n"
          ]
        },
        {
          "metadata": {
            "tags": null
          },
          "name": "stderr",
          "output_type": "stream",
          "text": [
            "     39/100      15.2G     0.6635     0.7745      1.159         24        640: 100%|██████████| 83/83 [01:42<00:00,  1.23s/it]\n",
            "                 Class     Images  Instances      Box(P          R      mAP50  mAP50-95): 100%|██████████| 6/6 [00:02<00:00,  2.14it/s]"
          ]
        },
        {
          "metadata": {
            "tags": null
          },
          "name": "stdout",
          "output_type": "stream",
          "text": [
            "                   all        165        259      0.828      0.761       0.85      0.726\n"
          ]
        },
        {
          "metadata": {
            "tags": null
          },
          "name": "stderr",
          "output_type": "stream",
          "text": [
            "\n"
          ]
        },
        {
          "metadata": {
            "tags": null
          },
          "name": "stdout",
          "output_type": "stream",
          "text": [
            "\n",
            "      Epoch    GPU_mem   box_loss   cls_loss   dfl_loss  Instances       Size\n"
          ]
        },
        {
          "output_type": "stream",
          "name": "stderr",
          "text": [
            "     40/100      15.2G     0.6649     0.7157      1.153         62        640:  53%|█████▎    | 44/83 [00:54<00:48,  1.24s/it]"
          ]
        }
      ]
    },
    {
      "cell_type": "code",
      "source": [
        "results_images = custom_model_images.train(data='/content/drive/MyDrive/YOLOTrainingImages/data.yaml', epochs=100, imgsz=640)"
      ],
      "metadata": {
        "id": "r62p2FUC3kOg"
      },
      "execution_count": null,
      "outputs": []
    },
    {
      "cell_type": "code",
      "source": [
        "results_spectogram = custom_model_spectogram.train(data='/content/drive/MyDrive/YOLOTrainingSpectogram/data.yaml', epochs=100, imgsz=640)"
      ],
      "metadata": {
        "id": "qj0p5jqZ3reW"
      },
      "execution_count": null,
      "outputs": []
    },
    {
      "cell_type": "code",
      "source": [
        "import locale\n",
        "locale.getpreferredencoding = lambda: \"UTF-8\"\n"
      ],
      "metadata": {
        "id": "w55QCOUpyrC0"
      },
      "execution_count": null,
      "outputs": []
    },
    {
      "cell_type": "code",
      "source": [
        "!zip -r combineNewImg.zip /content/runs/detect/train"
      ],
      "metadata": {
        "colab": {
          "base_uri": "https://localhost:8080/"
        },
        "id": "cxJpLKOumSuL",
        "outputId": "3c6cc617-51d0-413b-8908-b73ba96afd92"
      },
      "execution_count": null,
      "outputs": [
        {
          "output_type": "stream",
          "name": "stdout",
          "text": [
            "  adding: content/runs/detect/train/ (stored 0%)\n",
            "  adding: content/runs/detect/train/train_batch2.jpg (deflated 7%)\n",
            "  adding: content/runs/detect/train/labels_correlogram.jpg (deflated 51%)\n",
            "  adding: content/runs/detect/train/P_curve.png (deflated 18%)\n",
            "  adding: content/runs/detect/train/F1_curve.png (deflated 17%)\n",
            "  adding: content/runs/detect/train/val_batch2_pred.jpg (deflated 9%)\n",
            "  adding: content/runs/detect/train/PR_curve.png (deflated 22%)\n",
            "  adding: content/runs/detect/train/confusion_matrix.png (deflated 38%)\n",
            "  adding: content/runs/detect/train/events.out.tfevents.1711435649.2ced83946735.1325.0 (deflated 89%)\n",
            "  adding: content/runs/detect/train/train_batch7470.jpg (deflated 15%)\n",
            "  adding: content/runs/detect/train/train_batch0.jpg (deflated 8%)\n",
            "  adding: content/runs/detect/train/R_curve.png (deflated 17%)\n",
            "  adding: content/runs/detect/train/results.png (deflated 9%)\n",
            "  adding: content/runs/detect/train/weights/ (stored 0%)\n",
            "  adding: content/runs/detect/train/weights/last.pt (deflated 8%)\n",
            "  adding: content/runs/detect/train/weights/best.pt (deflated 8%)\n",
            "  adding: content/runs/detect/train/train_batch7471.jpg (deflated 15%)\n",
            "  adding: content/runs/detect/train/val_batch0_pred.jpg (deflated 10%)\n",
            "  adding: content/runs/detect/train/confusion_matrix_normalized.png (deflated 38%)\n",
            "  adding: content/runs/detect/train/labels.jpg (deflated 34%)\n",
            "  adding: content/runs/detect/train/train_batch7472.jpg (deflated 15%)\n",
            "  adding: content/runs/detect/train/val_batch1_pred.jpg (deflated 11%)\n",
            "  adding: content/runs/detect/train/args.yaml (deflated 52%)\n",
            "  adding: content/runs/detect/train/train_batch1.jpg (deflated 10%)\n",
            "  adding: content/runs/detect/train/val_batch0_labels.jpg (deflated 10%)\n",
            "  adding: content/runs/detect/train/results.csv (deflated 85%)\n",
            "  adding: content/runs/detect/train/val_batch2_labels.jpg (deflated 10%)\n",
            "  adding: content/runs/detect/train/val_batch1_labels.jpg (deflated 11%)\n"
          ]
        }
      ]
    },
    {
      "cell_type": "code",
      "source": [
        "# Specify the source and destination directories\n",
        "source_dir = '/content/drive/MyDrive/cleaned dataset/balanced dataset/testT/nonelephant'\n",
        "destination_dir_images = '/content/drive/MyDrive/YoloCustonTraining/test/images'\n",
        "destination_dir_labels_combine = '/content/drive/MyDrive/YoloCustonTraining/test/labels'\n",
        "destination_dir_labels_imageOnly = '/content/drive/MyDrive/LabelsImageOnly/test'\n",
        "destination_dir_labels_spectOnly = '/content/drive/MyDrive/LabelsSpectoOnly/test'\n",
        "\n",
        "# Copy each item in the source directory to the destination directory\n",
        "for item in os.listdir(source_dir):\n",
        "    source_item_path = os.path.join(source_dir, item)\n",
        "    destination_item_image = os.path.join(destination_dir_images, item)\n",
        "    new_name = item[:-4] + '.txt'\n",
        "    destination_item_label_combine = os.path.join(destination_dir_labels_combine, new_name)\n",
        "    destination_item_label_imageOnly = os.path.join(destination_dir_labels_imageOnly, new_name)\n",
        "    destination_item_label_spectOnly = os.path.join(destination_dir_labels_spectOnly, new_name)\n",
        "\n",
        "\n",
        "    # Check if it's a file (not copying directories here)\n",
        "    if os.path.isfile(source_item_path):\n",
        "        shutil.copy(source_item_path, destination_item_image)\n",
        "        f = open(destination_item_label_combine, \"x\")\n",
        "        g = open(destination_item_label_imageOnly, \"x\")\n",
        "        h = open(destination_item_label_spectOnly, \"x\")\n",
        "        f.close()\n",
        "        g.close()\n",
        "        h.close()\n",
        "\n",
        "    else:\n",
        "      pass"
      ],
      "metadata": {
        "id": "1nidXR7Q18fk"
      },
      "execution_count": null,
      "outputs": []
    },
    {
      "cell_type": "code",
      "source": [
        "folder_path = '/content/CombinedData/val'\n",
        "\n",
        "# Iterate through files in the folder\n",
        "for file_name in os.listdir(folder_path):\n",
        "    # Check if it's a file (not a directory)\n",
        "  if file_name.endswith('.png'):\n",
        "    new_name = file_name[:-4] + '.txt'\n",
        "    print(file_name)\n",
        "    url = \"/content/CombinedData/val/\"+file_name\n",
        "    print(url)\n",
        "    img = cv2.imread(url)\n",
        "    annotFile = \"/content/CombinedData/val/annot/\"+new_name\n",
        "    print(annotFile)\n",
        "    f = open(annotFile, \"x\")\n",
        "    try:\n",
        "      results = model_extra.predict(img, classes = [20], device = 0, verbose = False)\n",
        "      for result in results:\n",
        "        boxes = result.boxes\n",
        "    except Exception as e:\n",
        "        print(f\"An error occurred for result: {e}\")\n",
        "    try:\n",
        "      for i in boxes:\n",
        "        p1 = (int(i[0].xyxy[0][0]), int(i[0].xyxy[0][1]))\n",
        "        p2 = (int(i[0].xyxy[0][2]), int(i[0].xyxy[0][3]))\n",
        "        centre = ((p1[0]+p2[0])/2, (p1[1]+p2[1])/2)\n",
        "        x = ((p1[0]+p2[0])/2)/img.shape[1]\n",
        "        y = ((p1[1]+p2[1])/2)/img.shape[0]\n",
        "        width = (p2[0]-p1[0])/img.shape[1]\n",
        "        height = (p2[1]-p1[1])/img.shape[0]\n",
        "        f.write(f\"0 {x} {y} {width} {height}\\n\")\n",
        "    except Exception as e:\n",
        "      print(f\"An error occurred for box: {e}\")\n",
        "\n",
        "    f.write(f\"0 0.5 0.75 1 0.5\")\n",
        "    f.close()\n",
        "  else:\n",
        "    pass"
      ],
      "metadata": {
        "id": "eK2aje5uyidw"
      },
      "execution_count": null,
      "outputs": []
    }
  ]
}