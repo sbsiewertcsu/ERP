{
  "cells": [
    {
      "cell_type": "code",
      "source": [
        "!pip install tensorflow-io"
      ],
      "metadata": {
        "id": "XH7a2em1C7c6",
        "outputId": "67663ca2-f8b7-4b60-9305-f0bb2fc75e89",
        "colab": {
          "base_uri": "https://localhost:8080/"
        }
      },
      "id": "XH7a2em1C7c6",
      "execution_count": 2,
      "outputs": [
        {
          "output_type": "stream",
          "name": "stdout",
          "text": [
            "Collecting tensorflow-io\n",
            "  Downloading tensorflow_io-0.37.1-cp310-cp310-manylinux_2_17_x86_64.manylinux2014_x86_64.whl.metadata (14 kB)\n",
            "Requirement already satisfied: tensorflow-io-gcs-filesystem==0.37.1 in /usr/local/lib/python3.10/dist-packages (from tensorflow-io) (0.37.1)\n",
            "Downloading tensorflow_io-0.37.1-cp310-cp310-manylinux_2_17_x86_64.manylinux2014_x86_64.whl (49.6 MB)\n",
            "\u001b[2K   \u001b[90m━━━━━━━━━━━━━━━━━━━━━━━━━━━━━━━━━━━━━━━━\u001b[0m \u001b[32m49.6/49.6 MB\u001b[0m \u001b[31m18.9 MB/s\u001b[0m eta \u001b[36m0:00:00\u001b[0m\n",
            "\u001b[?25hInstalling collected packages: tensorflow-io\n",
            "Successfully installed tensorflow-io-0.37.1\n"
          ]
        }
      ]
    },
    {
      "cell_type": "code",
      "execution_count": 3,
      "id": "cddbf242",
      "metadata": {
        "id": "cddbf242"
      },
      "outputs": [],
      "source": [
        "import os\n",
        "from matplotlib import pyplot as plt\n",
        "import tensorflow as tf\n",
        "import tensorflow_io as tfio\n",
        "from keras.models import Sequential\n",
        "from tensorflow.keras.layers import Conv2D\n",
        "from keras.layers import Dense, Activation, Flatten\n"
      ]
    },
    {
      "cell_type": "code",
      "source": [
        "cwd = os.getcwd()\n",
        "print(cwd)"
      ],
      "metadata": {
        "id": "Bd3LCvBtNRET",
        "outputId": "3c1c8e4d-2589-491a-f60b-27d010e5b9c6",
        "colab": {
          "base_uri": "https://localhost:8080/"
        }
      },
      "id": "Bd3LCvBtNRET",
      "execution_count": 4,
      "outputs": [
        {
          "output_type": "stream",
          "name": "stdout",
          "text": [
            "/content\n"
          ]
        }
      ]
    },
    {
      "cell_type": "code",
      "source": [
        "!wget https://www.ecst.csuchico.edu/~sbsiewert/csci581/data/elephants.zip\n",
        "!wget https://www.ecst.csuchico.edu/~sbsiewert/csci581/data/not-elephants.zip"
      ],
      "metadata": {
        "id": "5WSId0-7Jaan",
        "outputId": "f46877d9-5958-4e58-9d12-b8ad3651b5a9",
        "colab": {
          "base_uri": "https://localhost:8080/"
        }
      },
      "id": "5WSId0-7Jaan",
      "execution_count": 6,
      "outputs": [
        {
          "output_type": "stream",
          "name": "stdout",
          "text": [
            "--2024-10-24 01:04:45--  https://www.ecst.csuchico.edu/~sbsiewert/csci581/data/elephants.zip\n",
            "Resolving www.ecst.csuchico.edu (www.ecst.csuchico.edu)... 132.241.1.13\n",
            "Connecting to www.ecst.csuchico.edu (www.ecst.csuchico.edu)|132.241.1.13|:443... connected.\n",
            "HTTP request sent, awaiting response... 200 OK\n",
            "Length: 6994677 (6.7M) [application/zip]\n",
            "Saving to: ‘elephants.zip.1’\n",
            "\n",
            "elephants.zip.1     100%[===================>]   6.67M  28.5MB/s    in 0.2s    \n",
            "\n",
            "2024-10-24 01:04:46 (28.5 MB/s) - ‘elephants.zip.1’ saved [6994677/6994677]\n",
            "\n",
            "--2024-10-24 01:04:46--  https://www.ecst.csuchico.edu/~sbsiewert/csci581/data/not-elephants.zip\n",
            "Resolving www.ecst.csuchico.edu (www.ecst.csuchico.edu)... 132.241.1.13\n",
            "Connecting to www.ecst.csuchico.edu (www.ecst.csuchico.edu)|132.241.1.13|:443... connected.\n",
            "HTTP request sent, awaiting response... 200 OK\n",
            "Length: 94474869 (90M) [application/zip]\n",
            "Saving to: ‘not-elephants.zip.1’\n",
            "\n",
            "not-elephants.zip.1 100%[===================>]  90.10M  90.4MB/s    in 1.0s    \n",
            "\n",
            "2024-10-24 01:04:47 (90.4 MB/s) - ‘not-elephants.zip.1’ saved [94474869/94474869]\n",
            "\n"
          ]
        }
      ]
    },
    {
      "cell_type": "code",
      "source": [
        "!unzip elephants.zip\n",
        "!unzip not-elephants.zip\n"
      ],
      "metadata": {
        "id": "4G2CudRMN8AG",
        "outputId": "76eddac2-cf47-4ed3-c243-e01d9862d285",
        "colab": {
          "base_uri": "https://localhost:8080/"
        }
      },
      "id": "4G2CudRMN8AG",
      "execution_count": 7,
      "outputs": [
        {
          "output_type": "stream",
          "name": "stdout",
          "text": [
            "Archive:  elephants.zip\n",
            "   creating: elephants/\n",
            "  inflating: elephants/ELEPHANT-9.wav  \n",
            "  inflating: elephants/elephan6-1.wav  \n",
            "  inflating: elephants/elephant-13.wav  \n",
            "  inflating: elephants/elephant-18.wav  \n",
            "  inflating: elephants/elephant-20.wav  \n",
            "  inflating: elephants/trumpet31-1.wav  \n",
            "  inflating: elephants/8d82b5_Elephant_Trumpet_Sound_Effect.wav  \n",
            "  inflating: elephants/new-1.wav     \n",
            "  inflating: elephants/ELEPHAN.wav   \n",
            "  inflating: elephants/elephant-7.wav  \n",
            "  inflating: elephants/elephantcub-1.wav  \n",
            "  inflating: elephants/elephant-trumpets-growls-6047-1.wav  \n",
            "  inflating: elephants/elephnt1-2.wav  \n",
            "  inflating: elephants/marc_tstA_eleph-1.wav  \n",
            "  inflating: elephants/elephant8-1.wav  \n",
            "  inflating: elephants/elephant1-1.wav  \n",
            "  inflating: elephants/elefant-1.wav  \n",
            "  inflating: elephants/elephant3-1.wav  \n",
            "  inflating: elephants/ELPHNTTR-1.wav  \n",
            "  inflating: elephants/elephant_mkyvgtvo-1.wav  \n",
            "  inflating: elephants/elephant2-1.wav  \n",
            "  inflating: elephants/elephant-17.wav  \n",
            "  inflating: elephants/elephant9-1.wav  \n",
            "  inflating: elephants/28_26.wav     \n",
            "  inflating: elephants/elephant-14.wav  \n",
            "  inflating: elephants/elephant1_001-1.wav  \n",
            "  inflating: elephants/free-sound-effects-AC4F19A6-1.wav  \n",
            "  inflating: elephants/elephant-21.wav  \n",
            "  inflating: elephants/elephant02-1.wav  \n",
            "  inflating: elephants/trumpet41-1.wav  \n",
            "  inflating: elephants/elephant-8.wav  \n",
            "  inflating: elephants/ELEPHANT-10.wav  \n",
            "  inflating: elephants/elephant-19.wav  \n",
            "  inflating: elephants/free-sound-effects-ELEPHANT-1.wav  \n",
            "  inflating: elephants/elephant-16.wav  \n",
            "  inflating: elephants/elephant-15.wav  \n",
            "  inflating: elephants/Elephant-trumpeting-animals129-1.wav  \n",
            "  inflating: elephants/trumpet21-1.wav  \n",
            "  inflating: elephants/angry-elephant-40916-1.wav  \n",
            "  inflating: elephants/elephnt-1.wav  \n",
            "  inflating: elephants/trumpet12-1.wav  \n",
            "  inflating: elephants/elephant4-1.wav  \n",
            "Archive:  not-elephants.zip\n",
            "   creating: not-elephants/\n",
            "  inflating: not-elephants/XC339453-African-Hoopoe-Upupa-africana-1.wav  \n",
            "  inflating: not-elephants/Leopard-Snarls-with-Snorting-Inhales-QuickSounds.com-1.wav  \n",
            "  inflating: not-elephants/Hyena-Whoop-QuickSounds.com-1.wav  \n",
            "  inflating: not-elephants/XC475082-African-Rail-Rallus-caerulescens-3.wav  \n",
            "  inflating: not-elephants/XC126331-Spotted-Thick-knee-Burhinus-capensis-1.wav  \n",
            "  inflating: not-elephants/Leopard-Snarling-with-Throaty-Purr-QuickSounds.com-1.wav  \n",
            "  inflating: not-elephants/MHV-513-P.walhbergi-Nico-Malan-Pass-2-1.wav  \n",
            "  inflating: not-elephants/XC337224-Spotted-Thick-knee-Burhinus-capensis-1.wav  \n",
            "  inflating: not-elephants/hippos-2-75671-1.wav  \n",
            "  inflating: not-elephants/hippos-33576-1.wav  \n",
            "  inflating: not-elephants/roar-1.wav  \n",
            "  inflating: not-elephants/recording-1.wav  \n",
            "  inflating: not-elephants/XC348915-African-Cuckoo-Cuculus-gularis-1.wav  \n",
            "  inflating: not-elephants/1604545742_ostrich-sound-effec-1.wav  \n",
            "  inflating: not-elephants/XC126332-Spotted-Thick-knee-Burhinus-capensis-1.wav  \n",
            "  inflating: not-elephants/XC269284-Hamerkop-Scopus-umbretta-1.wav  \n",
            "  inflating: not-elephants/XC126333-Spotted-Thick-knee-Burhinus-capensis-1.wav  \n",
            "  inflating: not-elephants/1604545591_63b9667d5bec96d-1.wav  \n",
            "  inflating: not-elephants/2-guinea-fowl-24469-1.wav  \n",
            "  inflating: not-elephants/MHV-313-P.sp10-Die-Koo-8b-3.wav  \n",
            "  inflating: not-elephants/XC280810-African-Hoopoe-Upupa-africana-1.wav  \n",
            "  inflating: not-elephants/XC475082-African-Rail-Rallus-caerulescens-2.wav  \n",
            "  inflating: not-elephants/Hyena-High-Cackle-QuickSounds.com-1.wav  \n",
            "  inflating: not-elephants/XC339454-African-Hoopoe-Upupa-africana-1.wav  \n",
            "  inflating: not-elephants/Hyena Excited-QuickSounds.com-1.wav  \n",
            "  inflating: not-elephants/MHV-321-P.plumosa-Ghwarriepoort-River-3-1.wav  \n",
            "  inflating: not-elephants/MHV-313-P.sp10-Die-Koo-4b-1.wav  \n",
            "  inflating: not-elephants/XC304645-Spotted-Thick-knee-Burhinus-capensis-1.wav  \n",
            "  inflating: not-elephants/Crane-Blue-Call-QuickSounds.com-1.wav  \n",
            "  inflating: not-elephants/XC490796-Grey-Crowned-Crane-Balearica-regulorum-1.wav  \n",
            "  inflating: not-elephants/MHV-313-P.sp10-Die-Koo-6b-1.wav  \n",
            "  inflating: not-elephants/MHV-313-P.sp10-Die-Koo-7b-1.wav  \n",
            "  inflating: not-elephants/XC431931-Spotted-Thick-knee-Burhinus-capensis-1.wav  \n",
            "  inflating: not-elephants/begemot-z_uk-1.wav  \n",
            "  inflating: not-elephants/birds-and-a-hippopotamus-in-a-zoo-66053-1.wav  \n",
            "  inflating: not-elephants/MHV-514-P.duesta-Nico-Malan-Pass-3-1.wav  \n",
            "  inflating: not-elephants/XC280641-African-Rail-Rallus-caerulescens-1.wav  \n",
            "  inflating: not-elephants/XC369756-African-Rail-Rallus-caerulescens-1.wav  \n",
            "  inflating: not-elephants/Hyena-Lowing-Hard-QuickSounds.com-1.wav  \n",
            "  inflating: not-elephants/XC344232-Spotted-Thick-knee-Burhinus-capensis-capensis-1.wav  \n",
            "  inflating: not-elephants/Hyena-Lowing-Laugh-QuickSounds.com-1.wav  \n",
            "  inflating: not-elephants/MHV-313-P.sp10-Die-Koo-8b-2.wav  \n",
            "  inflating: not-elephants/MHV-514-P.duesta-Nico-Malan-Pass-2-1.wav  \n",
            "  inflating: not-elephants/Hyena-Laugh-QuickSounds.com-1.wav  \n",
            "  inflating: not-elephants/test-1.mp3  \n",
            "  inflating: not-elephants/XC347035-African-Rail-Rallus-caerulescens-1.wav  \n",
            "  inflating: not-elephants/Leopard-Snarl-with-Throaty-Purr-QuickSounds.com-1.wav  \n",
            "  inflating: not-elephants/XC425242-African-Cuckoo-Cuculus-gularis-1.wav  \n",
            "  inflating: not-elephants/Hyena Howl-QuickSounds.com-1.wav  \n",
            "  inflating: not-elephants/XC292591-Spotted-Thick-knee-Burhinus-capensis-1.wav  \n"
          ]
        }
      ]
    },
    {
      "cell_type": "code",
      "execution_count": 11,
      "id": "22630711",
      "metadata": {
        "id": "22630711"
      },
      "outputs": [],
      "source": [
        "elefile = os.path.join('elephants', 'elephant9-1.wav')\n",
        "notelefile = os.path.join('not-elephants', '2-guinea-fowl-24469-1.wav')\n"
      ]
    },
    {
      "cell_type": "code",
      "execution_count": 12,
      "id": "fe8b1f11",
      "metadata": {
        "id": "fe8b1f11"
      },
      "outputs": [],
      "source": [
        "def load_wav_16k_mono(filename):\n",
        "    # Load encoded wav file\n",
        "    file_contents = tf.io.read_file(filename)\n",
        "    # Decode wav (tensors by channels)\n",
        "    wav, sample_rate = tf.audio.decode_wav(file_contents, desired_channels=1)\n",
        "    # Removes trailing axis\n",
        "    wav = tf.squeeze(wav, axis=-1)\n",
        "    sample_rate = tf.cast(sample_rate, dtype=tf.int64)\n",
        "    # Goes from 44100Hz to 16000hz - amplitude of the audio signal\n",
        "    wav = tfio.audio.resample(wav, rate_in=sample_rate, rate_out=16000)\n",
        "    return wav"
      ]
    },
    {
      "cell_type": "code",
      "execution_count": 13,
      "id": "4e2602e8",
      "metadata": {
        "id": "4e2602e8"
      },
      "outputs": [],
      "source": [
        "wave = load_wav_16k_mono(elefile)\n",
        "nwave =load_wav_16k_mono(notelefile)"
      ]
    },
    {
      "cell_type": "code",
      "execution_count": 24,
      "id": "9b388986",
      "metadata": {
        "id": "9b388986",
        "outputId": "a806c6d9-d714-453f-9fe6-3133e29d6624",
        "colab": {
          "base_uri": "https://localhost:8080/",
          "height": 430
        }
      },
      "outputs": [
        {
          "output_type": "display_data",
          "data": {
            "text/plain": [
              "<Figure size 640x480 with 1 Axes>"
            ],
            "image/png": "[encoded data removed]"
          },
          "metadata": {}
        }
      ],
      "source": [
        "plt.plot(wave)\n",
        "# plt.plot(nwave)\n",
        "plt.show()"
      ]
    },
    {
      "cell_type": "code",
      "execution_count": 15,
      "id": "1307eb64",
      "metadata": {
        "id": "1307eb64"
      },
      "outputs": [],
      "source": [
        "POS = os.path.join('elephants')\n",
        "NEG = os.path.join('not-elephants')"
      ]
    },
    {
      "cell_type": "code",
      "execution_count": 16,
      "id": "8a3664f5",
      "metadata": {
        "id": "8a3664f5"
      },
      "outputs": [],
      "source": [
        "pos = tf.data.Dataset.list_files(POS+'/*.wav')\n",
        "neg = tf.data.Dataset.list_files(NEG+'/*.wav')"
      ]
    },
    {
      "cell_type": "code",
      "execution_count": 17,
      "id": "289e8a71",
      "metadata": {
        "id": "289e8a71",
        "outputId": "203c5308-5d78-429c-a014-5333f14261bd",
        "colab": {
          "base_uri": "https://localhost:8080/"
        }
      },
      "outputs": [
        {
          "output_type": "execute_result",
          "data": {
            "text/plain": [
              "(b'elephants/trumpet31-1.wav', 1.0)"
            ]
          },
          "metadata": {},
          "execution_count": 17
        }
      ],
      "source": [
        "positives = tf.data.Dataset.zip((pos, tf.data.Dataset.from_tensor_slices(tf.ones(len(pos)))))\n",
        "negatives = tf.data.Dataset.zip((neg, tf.data.Dataset.from_tensor_slices(tf.zeros(len(neg)))))\n",
        "data = positives.concatenate(negatives)\n",
        "data.as_numpy_iterator().next()"
      ]
    },
    {
      "cell_type": "code",
      "execution_count": 19,
      "id": "ea468761",
      "metadata": {
        "id": "ea468761",
        "outputId": "1d837d49-519a-41f6-c46b-beff7ef3670b",
        "colab": {
          "base_uri": "https://localhost:8080/"
        }
      },
      "outputs": [
        {
          "output_type": "stream",
          "name": "stderr",
          "text": [
            "WARNING:tensorflow:5 out of the last 5 calls to <function pfor.<locals>.f at 0x7f0e4c360430> triggered tf.function retracing. Tracing is expensive and the excessive number of tracings could be due to (1) creating @tf.function repeatedly in a loop, (2) passing tensors with different shapes, (3) passing Python objects instead of tensors. For (1), please define your @tf.function outside of the loop. For (2), @tf.function has reduce_retracing=True option that can avoid unnecessary retracing. For (3), please refer to https://www.tensorflow.org/guide/function#controlling_retracing and https://www.tensorflow.org/api_docs/python/tf/function for  more details.\n",
            "WARNING:tensorflow:6 out of the last 6 calls to <function pfor.<locals>.f at 0x7f0e4c4afb50> triggered tf.function retracing. Tracing is expensive and the excessive number of tracings could be due to (1) creating @tf.function repeatedly in a loop, (2) passing tensors with different shapes, (3) passing Python objects instead of tensors. For (1), please define your @tf.function outside of the loop. For (2), @tf.function has reduce_retracing=True option that can avoid unnecessary retracing. For (3), please refer to https://www.tensorflow.org/guide/function#controlling_retracing and https://www.tensorflow.org/api_docs/python/tf/function for  more details.\n"
          ]
        }
      ],
      "source": [
        "lengths = []\n",
        "for file in os.listdir(os.path.join('elephants')):\n",
        "    tensor_wave = load_wav_16k_mono(os.path.join('elephants', file))\n",
        "    lengths.append(len(tensor_wave))"
      ]
    },
    {
      "cell_type": "code",
      "execution_count": 20,
      "id": "4c6d637b",
      "metadata": {
        "id": "4c6d637b",
        "outputId": "a03dd6b4-4d36-4073-f9ed-9cf5b315df65",
        "colab": {
          "base_uri": "https://localhost:8080/"
        }
      },
      "outputs": [
        {
          "output_type": "execute_result",
          "data": {
            "text/plain": [
              "<tf.Tensor: shape=(), dtype=int32, numpy=41066>"
            ]
          },
          "metadata": {},
          "execution_count": 20
        }
      ],
      "source": [
        "tf.math.reduce_mean(lengths)\n"
      ]
    },
    {
      "cell_type": "code",
      "execution_count": 21,
      "id": "b7ee18e5",
      "metadata": {
        "id": "b7ee18e5"
      },
      "outputs": [],
      "source": [
        "def preprocess(file_path, label):\n",
        "    wav = load_wav_16k_mono(file_path)\n",
        "    wav = wav[:80000]\n",
        "    zero_padding = tf.zeros([80000] - tf.shape(wav), dtype=tf.float32)\n",
        "    wav = tf.concat([zero_padding, wav],0)\n",
        "    spectrogram = tf.signal.stft(wav, frame_length=920, frame_step=43)\n",
        "    spectrogram = tf.abs(spectrogram)\n",
        "    spectrogram = tf.expand_dims(spectrogram, axis=2)\n",
        "    return spectrogram, label"
      ]
    },
    {
      "cell_type": "code",
      "execution_count": 22,
      "id": "9ea8ab68",
      "metadata": {
        "id": "9ea8ab68"
      },
      "outputs": [],
      "source": [
        "filepath, label = positives.shuffle(buffer_size=10000).as_numpy_iterator().next()"
      ]
    },
    {
      "cell_type": "code",
      "execution_count": 23,
      "id": "37d643eb",
      "metadata": {
        "id": "37d643eb"
      },
      "outputs": [],
      "source": [
        "spectrogram, label = preprocess(filepath, label)\n"
      ]
    },
    {
      "cell_type": "code",
      "execution_count": 25,
      "id": "3654e116",
      "metadata": {
        "id": "3654e116",
        "outputId": "56a0d186-2d8d-4fb2-98a2-e3b353071985",
        "colab": {
          "base_uri": "https://localhost:8080/",
          "height": 282
        }
      },
      "outputs": [
        {
          "output_type": "display_data",
          "data": {
            "text/plain": [
              "<Figure size 3000x2000 with 1 Axes>"
            ],
            "image/png": "[encoded data removed]"
          },
          "metadata": {}
        }
      ],
      "source": [
        "plt.figure(figsize=(30,20))\n",
        "plt.imshow(tf.transpose(spectrogram)[0])\n",
        "plt.show()"
      ]
    },
    {
      "cell_type": "code",
      "execution_count": 26,
      "id": "24820ce3",
      "metadata": {
        "id": "24820ce3",
        "outputId": "57b9582e-6d38-4e62-d781-f8ad08860476",
        "colab": {
          "base_uri": "https://localhost:8080/"
        }
      },
      "outputs": [
        {
          "output_type": "stream",
          "name": "stderr",
          "text": [
            "WARNING:tensorflow:Using a while_loop for converting IO>AudioResample cause there is no registered converter for this op.\n"
          ]
        },
        {
          "output_type": "execute_result",
          "data": {
            "text/plain": [
              "<_PrefetchDataset element_spec=(TensorSpec(shape=<unknown>, dtype=tf.float32, name=None), TensorSpec(shape=(None,), dtype=tf.float32, name=None))>"
            ]
          },
          "metadata": {},
          "execution_count": 26
        }
      ],
      "source": [
        "data = data.map(preprocess)\n",
        "data = data.cache()\n",
        "data = data.shuffle(buffer_size=800)\n",
        "data = data.batch(3)\n",
        "data = data.prefetch(8)\n",
        "data"
      ]
    },
    {
      "cell_type": "code",
      "execution_count": 27,
      "id": "6a387c03",
      "metadata": {
        "id": "6a387c03",
        "outputId": "58c298c0-0412-4457-86dc-55c5b27dedaf",
        "colab": {
          "base_uri": "https://localhost:8080/"
        }
      },
      "outputs": [
        {
          "output_type": "execute_result",
          "data": {
            "text/plain": [
              "<tf.Tensor: shape=(1840, 513, 1), dtype=float32, numpy=\n",
              "array([[[0.0000000e+00],\n",
              "        [0.0000000e+00],\n",
              "        [0.0000000e+00],\n",
              "        ...,\n",
              "        [0.0000000e+00],\n",
              "        [0.0000000e+00],\n",
              "        [0.0000000e+00]],\n",
              "\n",
              "       [[0.0000000e+00],\n",
              "        [0.0000000e+00],\n",
              "        [0.0000000e+00],\n",
              "        ...,\n",
              "        [0.0000000e+00],\n",
              "        [0.0000000e+00],\n",
              "        [0.0000000e+00]],\n",
              "\n",
              "       [[0.0000000e+00],\n",
              "        [0.0000000e+00],\n",
              "        [0.0000000e+00],\n",
              "        ...,\n",
              "        [0.0000000e+00],\n",
              "        [0.0000000e+00],\n",
              "        [0.0000000e+00]],\n",
              "\n",
              "       ...,\n",
              "\n",
              "       [[1.4009127e-01],\n",
              "        [5.5374049e-02],\n",
              "        [3.4410734e-02],\n",
              "        ...,\n",
              "        [4.8865601e-08],\n",
              "        [3.7859866e-08],\n",
              "        [5.2154064e-08]],\n",
              "\n",
              "       [[1.4879347e-01],\n",
              "        [7.0237465e-02],\n",
              "        [4.1596230e-02],\n",
              "        ...,\n",
              "        [4.7130811e-08],\n",
              "        [3.3436944e-08],\n",
              "        [4.4703484e-08]],\n",
              "\n",
              "       [[1.6025013e-01],\n",
              "        [9.0056024e-02],\n",
              "        [5.0102081e-02],\n",
              "        ...,\n",
              "        [5.5736077e-08],\n",
              "        [8.7860794e-09],\n",
              "        [5.2154064e-08]]], dtype=float32)>"
            ]
          },
          "metadata": {},
          "execution_count": 27
        }
      ],
      "source": [
        "spectrogram"
      ]
    },
    {
      "cell_type": "code",
      "execution_count": 28,
      "id": "4a00ee30",
      "metadata": {
        "id": "4a00ee30",
        "outputId": "8b0a4caf-7da6-4b94-8bf9-7e782354c86f",
        "colab": {
          "base_uri": "https://localhost:8080/"
        }
      },
      "outputs": [
        {
          "output_type": "execute_result",
          "data": {
            "text/plain": [
              "21.7"
            ]
          },
          "metadata": {},
          "execution_count": 28
        }
      ],
      "source": [
        "len(data)*.7"
      ]
    },
    {
      "cell_type": "code",
      "execution_count": 61,
      "id": "575ccdd9",
      "metadata": {
        "id": "575ccdd9"
      },
      "outputs": [],
      "source": [
        "# why 59 and 26?\n",
        "#train = data.take(60)\n",
        "#test = data.skip(60).take(20)\n",
        "from sklearn.model_selection import train_test_split\n",
        "train_samples, test_samples, train_labels, test_labels = train_test_split(\n",
        "    samples, labels, test_size=0.2, random_state=42\n",
        ")  # Adjust test_size as needed"
      ]
    },
    {
      "cell_type": "code",
      "execution_count": 62,
      "id": "32346ebd",
      "metadata": {
        "id": "32346ebd"
      },
      "outputs": [],
      "source": [
        "samples, labels = train.as_numpy_iterator().next()"
      ]
    },
    {
      "cell_type": "markdown",
      "id": "fe5f6f16",
      "metadata": {
        "id": "fe5f6f16"
      },
      "source": [
        "model = Sequential()\n",
        "model.add(Conv2D(3, (3,3), activation='relu', input_shape=(1840,513,1)))\n",
        "model.add(Conv2D(3, (3,3), activation='relu'))\n",
        "model.add(Flatten())\n",
        "model.add(Dense(27, activation='relu'))\n",
        "model.add(Dense(1, activation='sigmoid'))"
      ]
    },
    {
      "cell_type": "code",
      "execution_count": 63,
      "id": "e2042393",
      "metadata": {
        "id": "e2042393",
        "outputId": "8901f46d-84d5-47d6-82cf-c2bcf0e53f4f",
        "colab": {
          "base_uri": "https://localhost:8080/"
        }
      },
      "outputs": [
        {
          "output_type": "stream",
          "name": "stderr",
          "text": [
            "/usr/local/lib/python3.10/dist-packages/keras/src/layers/convolutional/base_conv.py:107: UserWarning: Do not pass an `input_shape`/`input_dim` argument to a layer. When using Sequential models, prefer using an `Input(shape)` object as the first layer in the model instead.\n",
            "  super().__init__(activity_regularizer=activity_regularizer, **kwargs)\n"
          ]
        }
      ],
      "source": [
        "model = Sequential()\n",
        "model.add(Conv2D(3, (3,3), activation='relu', input_shape=(1840,513,1)))\n",
        "model.add(Conv2D(3, (3,3), activation='relu'))\n",
        "model.add(Flatten())\n",
        "model.add(Dense(27, activation='relu'))\n",
        "model.add(Dense(1, activation='sigmoid'))"
      ]
    },
    {
      "cell_type": "code",
      "execution_count": 72,
      "id": "e9ec8313",
      "metadata": {
        "scrolled": true,
        "id": "e9ec8313",
        "outputId": "c0b2eb6b-71be-4736-9722-cf9dd657c0c0",
        "colab": {
          "base_uri": "https://localhost:8080/",
          "height": 306
        }
      },
      "outputs": [
        {
          "output_type": "display_data",
          "data": {
            "text/plain": [
              "\u001b[1mModel: \"sequential_4\"\u001b[0m\n"
            ],
            "text/html": [
              "<pre style=\"white-space:pre;overflow-x:auto;line-height:normal;font-family:Menlo,'DejaVu Sans Mono',consolas,'Courier New',monospace\"><span style=\"font-weight: bold\">Model: \"sequential_4\"</span>\n",
              "</pre>\n"
            ]
          },
          "metadata": {}
        },
        {
          "output_type": "display_data",
          "data": {
            "text/plain": [
              "┏━━━━━━━━━━━━━━━━━━━━━━━━━━━━━━━━━━━━━━┳━━━━━━━━━━━━━━━━━━━━━━━━━━━━━┳━━━━━━━━━━━━━━━━━┓\n",
              "┃\u001b[1m \u001b[0m\u001b[1mLayer (type)                        \u001b[0m\u001b[1m \u001b[0m┃\u001b[1m \u001b[0m\u001b[1mOutput Shape               \u001b[0m\u001b[1m \u001b[0m┃\u001b[1m \u001b[0m\u001b[1m        Param #\u001b[0m\u001b[1m \u001b[0m┃\n",
              "┡━━━━━━━━━━━━━━━━━━━━━━━━━━━━━━━━━━━━━━╇━━━━━━━━━━━━━━━━━━━━━━━━━━━━━╇━━━━━━━━━━━━━━━━━┩\n",
              "│ conv2d_7 (\u001b[38;5;33mConv2D\u001b[0m)                    │ (\u001b[38;5;45mNone\u001b[0m, \u001b[38;5;34m1838\u001b[0m, \u001b[38;5;34m511\u001b[0m, \u001b[38;5;34m3\u001b[0m)        │              \u001b[38;5;34m30\u001b[0m │\n",
              "├──────────────────────────────────────┼─────────────────────────────┼─────────────────┤\n",
              "│ conv2d_8 (\u001b[38;5;33mConv2D\u001b[0m)                    │ (\u001b[38;5;45mNone\u001b[0m, \u001b[38;5;34m1836\u001b[0m, \u001b[38;5;34m509\u001b[0m, \u001b[38;5;34m3\u001b[0m)        │              \u001b[38;5;34m84\u001b[0m │\n",
              "├──────────────────────────────────────┼─────────────────────────────┼─────────────────┤\n",
              "│ flatten_3 (\u001b[38;5;33mFlatten\u001b[0m)                  │ (\u001b[38;5;45mNone\u001b[0m, \u001b[38;5;34m2803572\u001b[0m)             │               \u001b[38;5;34m0\u001b[0m │\n",
              "├──────────────────────────────────────┼─────────────────────────────┼─────────────────┤\n",
              "│ dense_6 (\u001b[38;5;33mDense\u001b[0m)                      │ (\u001b[38;5;45mNone\u001b[0m, \u001b[38;5;34m27\u001b[0m)                  │      \u001b[38;5;34m75,696,471\u001b[0m │\n",
              "├──────────────────────────────────────┼─────────────────────────────┼─────────────────┤\n",
              "│ dense_7 (\u001b[38;5;33mDense\u001b[0m)                      │ (\u001b[38;5;45mNone\u001b[0m, \u001b[38;5;34m1\u001b[0m)                   │              \u001b[38;5;34m28\u001b[0m │\n",
              "└──────────────────────────────────────┴─────────────────────────────┴─────────────────┘\n"
            ],
            "text/html": [
              "<pre style=\"white-space:pre;overflow-x:auto;line-height:normal;font-family:Menlo,'DejaVu Sans Mono',consolas,'Courier New',monospace\">┏━━━━━━━━━━━━━━━━━━━━━━━━━━━━━━━━━━━━━━┳━━━━━━━━━━━━━━━━━━━━━━━━━━━━━┳━━━━━━━━━━━━━━━━━┓\n",
              "┃<span style=\"font-weight: bold\"> Layer (type)                         </span>┃<span style=\"font-weight: bold\"> Output Shape                </span>┃<span style=\"font-weight: bold\">         Param # </span>┃\n",
              "┡━━━━━━━━━━━━━━━━━━━━━━━━━━━━━━━━━━━━━━╇━━━━━━━━━━━━━━━━━━━━━━━━━━━━━╇━━━━━━━━━━━━━━━━━┩\n",
              "│ conv2d_7 (<span style=\"color: #0087ff; text-decoration-color: #0087ff\">Conv2D</span>)                    │ (<span style=\"color: #00d7ff; text-decoration-color: #00d7ff\">None</span>, <span style=\"color: #00af00; text-decoration-color: #00af00\">1838</span>, <span style=\"color: #00af00; text-decoration-color: #00af00\">511</span>, <span style=\"color: #00af00; text-decoration-color: #00af00\">3</span>)        │              <span style=\"color: #00af00; text-decoration-color: #00af00\">30</span> │\n",
              "├──────────────────────────────────────┼─────────────────────────────┼─────────────────┤\n",
              "│ conv2d_8 (<span style=\"color: #0087ff; text-decoration-color: #0087ff\">Conv2D</span>)                    │ (<span style=\"color: #00d7ff; text-decoration-color: #00d7ff\">None</span>, <span style=\"color: #00af00; text-decoration-color: #00af00\">1836</span>, <span style=\"color: #00af00; text-decoration-color: #00af00\">509</span>, <span style=\"color: #00af00; text-decoration-color: #00af00\">3</span>)        │              <span style=\"color: #00af00; text-decoration-color: #00af00\">84</span> │\n",
              "├──────────────────────────────────────┼─────────────────────────────┼─────────────────┤\n",
              "│ flatten_3 (<span style=\"color: #0087ff; text-decoration-color: #0087ff\">Flatten</span>)                  │ (<span style=\"color: #00d7ff; text-decoration-color: #00d7ff\">None</span>, <span style=\"color: #00af00; text-decoration-color: #00af00\">2803572</span>)             │               <span style=\"color: #00af00; text-decoration-color: #00af00\">0</span> │\n",
              "├──────────────────────────────────────┼─────────────────────────────┼─────────────────┤\n",
              "│ dense_6 (<span style=\"color: #0087ff; text-decoration-color: #0087ff\">Dense</span>)                      │ (<span style=\"color: #00d7ff; text-decoration-color: #00d7ff\">None</span>, <span style=\"color: #00af00; text-decoration-color: #00af00\">27</span>)                  │      <span style=\"color: #00af00; text-decoration-color: #00af00\">75,696,471</span> │\n",
              "├──────────────────────────────────────┼─────────────────────────────┼─────────────────┤\n",
              "│ dense_7 (<span style=\"color: #0087ff; text-decoration-color: #0087ff\">Dense</span>)                      │ (<span style=\"color: #00d7ff; text-decoration-color: #00d7ff\">None</span>, <span style=\"color: #00af00; text-decoration-color: #00af00\">1</span>)                   │              <span style=\"color: #00af00; text-decoration-color: #00af00\">28</span> │\n",
              "└──────────────────────────────────────┴─────────────────────────────┴─────────────────┘\n",
              "</pre>\n"
            ]
          },
          "metadata": {}
        },
        {
          "output_type": "display_data",
          "data": {
            "text/plain": [
              "\u001b[1m Total params: \u001b[0m\u001b[38;5;34m75,696,613\u001b[0m (288.76 MB)\n"
            ],
            "text/html": [
              "<pre style=\"white-space:pre;overflow-x:auto;line-height:normal;font-family:Menlo,'DejaVu Sans Mono',consolas,'Courier New',monospace\"><span style=\"font-weight: bold\"> Total params: </span><span style=\"color: #00af00; text-decoration-color: #00af00\">75,696,613</span> (288.76 MB)\n",
              "</pre>\n"
            ]
          },
          "metadata": {}
        },
        {
          "output_type": "display_data",
          "data": {
            "text/plain": [
              "\u001b[1m Trainable params: \u001b[0m\u001b[38;5;34m75,696,613\u001b[0m (288.76 MB)\n"
            ],
            "text/html": [
              "<pre style=\"white-space:pre;overflow-x:auto;line-height:normal;font-family:Menlo,'DejaVu Sans Mono',consolas,'Courier New',monospace\"><span style=\"font-weight: bold\"> Trainable params: </span><span style=\"color: #00af00; text-decoration-color: #00af00\">75,696,613</span> (288.76 MB)\n",
              "</pre>\n"
            ]
          },
          "metadata": {}
        },
        {
          "output_type": "display_data",
          "data": {
            "text/plain": [
              "\u001b[1m Non-trainable params: \u001b[0m\u001b[38;5;34m0\u001b[0m (0.00 B)\n"
            ],
            "text/html": [
              "<pre style=\"white-space:pre;overflow-x:auto;line-height:normal;font-family:Menlo,'DejaVu Sans Mono',consolas,'Courier New',monospace\"><span style=\"font-weight: bold\"> Non-trainable params: </span><span style=\"color: #00af00; text-decoration-color: #00af00\">0</span> (0.00 B)\n",
              "</pre>\n"
            ]
          },
          "metadata": {}
        }
      ],
      "source": [
        "model.compile('Adam', loss='BinaryCrossentropy', metrics=[tf.keras.metrics.Recall(name='recall'),tf.keras.metrics.Precision(name='precision')])\n",
        "model.summary()\n"
      ]
    },
    {
      "cell_type": "code",
      "source": [
        "print(type(test))\n",
        "print(test.element_spec)"
      ],
      "metadata": {
        "id": "W2ZmbD4lHGBs",
        "outputId": "5b99ceec-72e6-4e04-bd6c-25f205d7e08a",
        "colab": {
          "base_uri": "https://localhost:8080/"
        }
      },
      "id": "W2ZmbD4lHGBs",
      "execution_count": 73,
      "outputs": [
        {
          "output_type": "stream",
          "name": "stdout",
          "text": [
            "<class 'tensorflow.python.data.ops.batch_op._BatchDataset'>\n",
            "(TensorSpec(shape=(None, 1840, 513, 1), dtype=tf.float32, name=None), TensorSpec(shape=(None,), dtype=tf.float32, name=None))\n"
          ]
        }
      ]
    },
    {
      "cell_type": "code",
      "source": [
        "#samples = samples.reshape(-1, 1840, 513, 1)\n",
        "train = tf.data.Dataset.from_tensor_slices((samples, labels))\n",
        "train = train.batch(32)\n",
        "test = tf.data.Dataset.from_tensor_slices((samples, labels))\n",
        "test = test.batch(32, drop_remainder=False)\n",
        "#test = test.prefetch(tf.data.AUTOTUNE)"
      ],
      "metadata": {
        "id": "xHpx1xjuIHsE"
      },
      "id": "xHpx1xjuIHsE",
      "execution_count": 74,
      "outputs": []
    },
    {
      "cell_type": "code",
      "execution_count": 75,
      "id": "73c6a31c",
      "metadata": {
        "id": "73c6a31c",
        "outputId": "4dec1810-6f80-48db-97d5-3ea2e4a7bde6",
        "colab": {
          "base_uri": "https://localhost:8080/"
        }
      },
      "outputs": [
        {
          "output_type": "stream",
          "name": "stdout",
          "text": [
            "Epoch 1/4\n",
            "\u001b[1m1/1\u001b[0m \u001b[32m━━━━━━━━━━━━━━━━━━━━\u001b[0m\u001b[37m\u001b[0m \u001b[1m6s\u001b[0m 6s/step - loss: 0.0000e+00 - precision: 1.0000 - recall: 1.0000 - val_loss: 0.0000e+00 - val_precision: 1.0000 - val_recall: 1.0000\n",
            "Epoch 2/4\n",
            "\u001b[1m1/1\u001b[0m \u001b[32m━━━━━━━━━━━━━━━━━━━━\u001b[0m\u001b[37m\u001b[0m \u001b[1m5s\u001b[0m 5s/step - loss: 0.0000e+00 - precision: 1.0000 - recall: 1.0000 - val_loss: 0.0000e+00 - val_precision: 1.0000 - val_recall: 1.0000\n",
            "Epoch 3/4\n",
            "\u001b[1m1/1\u001b[0m \u001b[32m━━━━━━━━━━━━━━━━━━━━\u001b[0m\u001b[37m\u001b[0m \u001b[1m4s\u001b[0m 4s/step - loss: 0.0000e+00 - precision: 1.0000 - recall: 1.0000 - val_loss: 0.0000e+00 - val_precision: 1.0000 - val_recall: 1.0000\n",
            "Epoch 4/4\n",
            "\u001b[1m1/1\u001b[0m \u001b[32m━━━━━━━━━━━━━━━━━━━━\u001b[0m\u001b[37m\u001b[0m \u001b[1m3s\u001b[0m 3s/step - loss: 0.0000e+00 - precision: 1.0000 - recall: 1.0000 - val_loss: 0.0000e+00 - val_precision: 1.0000 - val_recall: 1.0000\n"
          ]
        }
      ],
      "source": [
        "hist = model.fit(train, epochs=4, validation_data=test)\n",
        "#hist = model.fit(train,epochs=4, validation_data=test)"
      ]
    },
    {
      "cell_type": "code",
      "execution_count": 76,
      "id": "65f227d9",
      "metadata": {
        "id": "65f227d9",
        "outputId": "8a10a266-4bee-4f43-ae24-3a9bcd972266",
        "colab": {
          "base_uri": "https://localhost:8080/",
          "height": 452
        }
      },
      "outputs": [
        {
          "output_type": "display_data",
          "data": {
            "text/plain": [
              "<Figure size 640x480 with 1 Axes>"
            ],
            "image/png": "[encoded data removed]"
          },
          "metadata": {}
        }
      ],
      "source": [
        "plt.title('recall')\n",
        "plt.plot(hist.history['recall'], 'r')\n",
        "plt.plot(hist.history['val_recall'], 'b')\n",
        "plt.show()"
      ]
    },
    {
      "cell_type": "code",
      "execution_count": 77,
      "id": "5a7abb8e",
      "metadata": {
        "id": "5a7abb8e",
        "outputId": "3b83e1c8-6652-4d52-e8f9-686db6f050cb",
        "colab": {
          "base_uri": "https://localhost:8080/",
          "height": 452
        }
      },
      "outputs": [
        {
          "output_type": "display_data",
          "data": {
            "text/plain": [
              "<Figure size 640x480 with 1 Axes>"
            ],
            "image/png": "[encoded data removed]"
          },
          "metadata": {}
        }
      ],
      "source": [
        "plt.title('Precision')\n",
        "plt.plot(hist.history['precision'], 'r')\n",
        "plt.plot(hist.history['val_precision'], 'b')\n",
        "plt.show()"
      ]
    },
    {
      "cell_type": "code",
      "execution_count": 78,
      "id": "0856fce7",
      "metadata": {
        "id": "0856fce7",
        "outputId": "024fe4fb-daf6-4fd0-ff44-2ec8df98e62b",
        "colab": {
          "base_uri": "https://localhost:8080/",
          "height": 452
        }
      },
      "outputs": [
        {
          "output_type": "display_data",
          "data": {
            "text/plain": [
              "<Figure size 640x480 with 1 Axes>"
            ],
            "image/png": "[encoded data removed]"
          },
          "metadata": {}
        }
      ],
      "source": [
        "plt.title('Loss')\n",
        "plt.plot(hist.history['loss'], 'r')\n",
        "plt.plot(hist.history['val_loss'], 'b')\n",
        "plt.show()"
      ]
    },
    {
      "cell_type": "code",
      "execution_count": 79,
      "id": "3a7d54bf",
      "metadata": {
        "id": "3a7d54bf",
        "outputId": "5a8fc86f-5ee9-4a21-f25e-b70be4d3da88",
        "colab": {
          "base_uri": "https://localhost:8080/"
        }
      },
      "outputs": [
        {
          "output_type": "execute_result",
          "data": {
            "text/plain": [
              "array([1., 1., 1.], dtype=float32)"
            ]
          },
          "metadata": {},
          "execution_count": 79
        }
      ],
      "source": [
        "x_test,y_test = test.as_numpy_iterator().next()\n",
        "y_test\n"
      ]
    },
    {
      "cell_type": "code",
      "execution_count": 80,
      "id": "e0508acd",
      "metadata": {
        "id": "e0508acd",
        "outputId": "377a642d-03e7-4cb5-b440-78499f0b4ae2",
        "colab": {
          "base_uri": "https://localhost:8080/"
        }
      },
      "outputs": [
        {
          "output_type": "execute_result",
          "data": {
            "text/plain": [
              "(3,)"
            ]
          },
          "metadata": {},
          "execution_count": 80
        }
      ],
      "source": [
        "y_test.shape"
      ]
    },
    {
      "cell_type": "code",
      "execution_count": 81,
      "id": "1cc96788",
      "metadata": {
        "id": "1cc96788",
        "outputId": "50d75d37-0dd0-4037-d36b-9475d5ce41af",
        "colab": {
          "base_uri": "https://localhost:8080/"
        }
      },
      "outputs": [
        {
          "output_type": "stream",
          "name": "stdout",
          "text": [
            "\u001b[1m1/1\u001b[0m \u001b[32m━━━━━━━━━━━━━━━━━━━━\u001b[0m\u001b[37m\u001b[0m \u001b[1m1s\u001b[0m 577ms/step\n"
          ]
        }
      ],
      "source": [
        "yhat = model.predict(x_test)"
      ]
    },
    {
      "cell_type": "code",
      "execution_count": 82,
      "id": "f07098d2",
      "metadata": {
        "id": "f07098d2"
      },
      "outputs": [],
      "source": [
        "# convert logits to classes\n",
        "yhat = [1 if prediction > 0.5 else 0 for prediction in yhat]#forloop"
      ]
    },
    {
      "cell_type": "code",
      "execution_count": 83,
      "id": "ceaf3976",
      "metadata": {
        "id": "ceaf3976",
        "outputId": "cd75395d-a51c-4ca3-e8fc-a1ad9a902b2e",
        "colab": {
          "base_uri": "https://localhost:8080/"
        }
      },
      "outputs": [
        {
          "output_type": "execute_result",
          "data": {
            "text/plain": [
              "[1, 1, 1]"
            ]
          },
          "metadata": {},
          "execution_count": 83
        }
      ],
      "source": [
        "yhat"
      ]
    },
    {
      "cell_type": "code",
      "execution_count": 84,
      "id": "70f73e50",
      "metadata": {
        "id": "70f73e50",
        "outputId": "6327c1e8-6d39-4882-bfc7-8ae5d300b9f0",
        "colab": {
          "base_uri": "https://localhost:8080/"
        }
      },
      "outputs": [
        {
          "output_type": "execute_result",
          "data": {
            "text/plain": [
              "array([1, 1, 1])"
            ]
          },
          "metadata": {},
          "execution_count": 84
        }
      ],
      "source": [
        "y_test.astype(int)"
      ]
    },
    {
      "cell_type": "code",
      "execution_count": 85,
      "id": "83d03b6f",
      "metadata": {
        "id": "83d03b6f"
      },
      "outputs": [],
      "source": [
        "#a. load up mp3s\n",
        "\n",
        "def load_mp3_16k_mono(filename):\n",
        "    \"\"\" Load a WAV file, convert it to a float tensor, resample to 16 kHz single-channel audio. \"\"\"\n",
        "    res = tfio.audio.AudioIOTensor(filename)\n",
        "    # Convert to tensor and combine channels\n",
        "    tensor = res.to_tensor()\n",
        "    tensor = tf.math.reduce_sum(tensor, axis=1) / 2\n",
        "    # Extract sample rate and cast\n",
        "    sample_rate = res.rate\n",
        "    sample_rate = tf.cast(sample_rate, dtype=tf.int64)\n",
        "    # Resample to 16 kHz\n",
        "    wav = tfio.audio.resample(tensor, rate_in=sample_rate, rate_out=16000)\n",
        "    return wav"
      ]
    },
    {
      "cell_type": "code",
      "execution_count": 88,
      "id": "931ad385",
      "metadata": {
        "id": "931ad385",
        "outputId": "d0006aa5-e639-4ffe-f3ef-15b881668c09",
        "colab": {
          "base_uri": "https://localhost:8080/"
        }
      },
      "outputs": [
        {
          "output_type": "stream",
          "name": "stdout",
          "text": [
            "--2024-10-24 01:49:52--  https://www.ecst.csuchico.edu/~sbsiewert/csci581/data/test-1.mp3\n",
            "Resolving www.ecst.csuchico.edu (www.ecst.csuchico.edu)... 132.241.1.13\n",
            "Connecting to www.ecst.csuchico.edu (www.ecst.csuchico.edu)|132.241.1.13|:443... connected.\n",
            "HTTP request sent, awaiting response... 200 OK\n",
            "Length: 856557 (836K) [audio/mpeg]\n",
            "Saving to: ‘test-1.mp3’\n",
            "\n",
            "test-1.mp3          100%[===================>] 836.48K  5.32MB/s    in 0.2s    \n",
            "\n",
            "2024-10-24 01:49:53 (5.32 MB/s) - ‘test-1.mp3’ saved [856557/856557]\n",
            "\n"
          ]
        }
      ],
      "source": [
        "!wget https://www.ecst.csuchico.edu/~sbsiewert/csci581/data/test-1.mp3\n",
        "mp3=os.path.join('test-1.mp3')"
      ]
    },
    {
      "cell_type": "code",
      "execution_count": 89,
      "id": "27c5762d",
      "metadata": {
        "id": "27c5762d"
      },
      "outputs": [],
      "source": [
        "wav = load_mp3_16k_mono(mp3)"
      ]
    },
    {
      "cell_type": "code",
      "execution_count": 90,
      "id": "e47a22e8",
      "metadata": {
        "id": "e47a22e8"
      },
      "outputs": [],
      "source": [
        "# slice audio into the same size slices model was trained on\n",
        "audio_slices = tf.keras.utils.timeseries_dataset_from_array(wav, wav, sequence_length=80000, sequence_stride=80000, batch_size=1)\n"
      ]
    },
    {
      "cell_type": "code",
      "execution_count": 91,
      "id": "fe7ae0ee",
      "metadata": {
        "id": "fe7ae0ee"
      },
      "outputs": [],
      "source": [
        "samples, index = audio_slices.as_numpy_iterator().next()\n"
      ]
    },
    {
      "cell_type": "code",
      "execution_count": 92,
      "id": "4359fe4c",
      "metadata": {
        "id": "4359fe4c",
        "outputId": "df9de16b-dd5c-4b6b-a627-de907fdda1e0",
        "colab": {
          "base_uri": "https://localhost:8080/"
        }
      },
      "outputs": [
        {
          "output_type": "execute_result",
          "data": {
            "text/plain": [
              "(1, 80000)"
            ]
          },
          "metadata": {},
          "execution_count": 92
        }
      ],
      "source": [
        "samples.shape"
      ]
    },
    {
      "cell_type": "code",
      "execution_count": 93,
      "id": "f6f99c10",
      "metadata": {
        "id": "f6f99c10"
      },
      "outputs": [],
      "source": [
        "# b. Build Function to Convert Clips into Windowed Spectrograms\n",
        "def preprocess_mp3(sample, index):\n",
        "    sample = sample[0]\n",
        "    zero_padding = tf.zeros([80000] - tf.shape(sample), dtype=tf.float32)\n",
        "    wav = tf.concat([zero_padding, sample],0)\n",
        "    spectrogram = tf.signal.stft(wav, frame_length=920, frame_step=43)\n",
        "    spectrogram = tf.abs(spectrogram)\n",
        "    spectrogram = tf.expand_dims(spectrogram, axis=2)\n",
        "    return spectrogram\n"
      ]
    },
    {
      "cell_type": "code",
      "execution_count": 94,
      "id": "87408f6d",
      "metadata": {
        "id": "87408f6d"
      },
      "outputs": [],
      "source": [
        "# convert longer clips into windows and make predictions\n",
        "audio_slices = tf.keras.utils.timeseries_dataset_from_array(wav, wav, sequence_length=80000, sequence_stride=80000, batch_size=1)\n",
        "audio_slices = audio_slices.map(preprocess_mp3)\n",
        "audio_slices = audio_slices.batch(64)\n"
      ]
    },
    {
      "cell_type": "code",
      "execution_count": 95,
      "id": "b3b13aed",
      "metadata": {
        "id": "b3b13aed",
        "outputId": "35b0932c-1566-4e10-c1c8-41fc63c0728d",
        "colab": {
          "base_uri": "https://localhost:8080/"
        }
      },
      "outputs": [
        {
          "output_type": "stream",
          "name": "stdout",
          "text": [
            "\u001b[1m1/1\u001b[0m \u001b[32m━━━━━━━━━━━━━━━━━━━━\u001b[0m\u001b[37m\u001b[0m \u001b[1m2s\u001b[0m 2s/step\n"
          ]
        }
      ],
      "source": [
        "yhat = model.predict(audio_slices)\n"
      ]
    },
    {
      "cell_type": "code",
      "execution_count": 96,
      "id": "b362f23f",
      "metadata": {
        "id": "b362f23f"
      },
      "outputs": [],
      "source": [
        "yhat = [1 if prediction > 0.5 else 0 for prediction in yhat]#forloop"
      ]
    },
    {
      "cell_type": "code",
      "execution_count": 97,
      "id": "68cae977",
      "metadata": {
        "id": "68cae977",
        "outputId": "0c0f43cb-f3b9-463c-b409-987fe692e6e7",
        "colab": {
          "base_uri": "https://localhost:8080/"
        }
      },
      "outputs": [
        {
          "output_type": "execute_result",
          "data": {
            "text/plain": [
              "[1, 1, 1, 1, 1, 1, 1]"
            ]
          },
          "metadata": {},
          "execution_count": 97
        }
      ],
      "source": [
        "yhat"
      ]
    },
    {
      "cell_type": "code",
      "execution_count": 98,
      "id": "f5a3acaf",
      "metadata": {
        "id": "f5a3acaf",
        "outputId": "b3fcfb67-188c-4cf5-d829-229882345567",
        "colab": {
          "base_uri": "https://localhost:8080/"
        }
      },
      "outputs": [
        {
          "output_type": "execute_result",
          "data": {
            "text/plain": [
              "7"
            ]
          },
          "metadata": {},
          "execution_count": 98
        }
      ],
      "source": [
        "len(yhat)"
      ]
    },
    {
      "cell_type": "code",
      "execution_count": 100,
      "id": "fc26da2a",
      "metadata": {
        "id": "fc26da2a"
      },
      "outputs": [],
      "source": [
        "model.save('newdetection.keras')"
      ]
    },
    {
      "cell_type": "code",
      "execution_count": 100,
      "id": "8a9a53c8",
      "metadata": {
        "id": "8a9a53c8"
      },
      "outputs": [],
      "source": []
    }
  ],
  "metadata": {
    "kernelspec": {
      "display_name": "Python 3 (ipykernel)",
      "language": "python",
      "name": "python3"
    },
    "language_info": {
      "codemirror_mode": {
        "name": "ipython",
        "version": 3
      },
      "file_extension": ".py",
      "mimetype": "text/x-python",
      "name": "python",
      "nbconvert_exporter": "python",
      "pygments_lexer": "ipython3",
      "version": "3.10.9"
    },
    "colab": {
      "provenance": []
    }
  },
  "nbformat": 4,
  "nbformat_minor": 5
}